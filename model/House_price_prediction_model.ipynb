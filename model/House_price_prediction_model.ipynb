{
  "nbformat": 4,
  "nbformat_minor": 0,
  "metadata": {
    "colab": {
      "name": "House_price_prediction_model.ipynb",
      "provenance": [],
      "collapsed_sections": []
    },
    "kernelspec": {
      "name": "python3",
      "display_name": "Python 3"
    },
    "language_info": {
      "name": "python"
    }
  },
  "cells": [
    {
      "cell_type": "code",
      "execution_count": 542,
      "metadata": {
        "id": "rKFRQ9pR4mWR"
      },
      "outputs": [],
      "source": [
        "import pandas as pd\n",
        "import numpy as np\n",
        "import matplotlib.pyplot as plt\n",
        "from sklearn.linear_model import LinearRegression\n",
        "from sklearn.tree import DecisionTreeRegressor\n",
        "from sklearn.ensemble import RandomForestRegressor\n",
        "from sklearn.svm import SVR\n",
        "from sklearn.preprocessing import StandardScaler,LabelEncoder,MinMaxScaler\n",
        "from sklearn.model_selection import train_test_split\n",
        "from sklearn.metrics import r2_score,mean_squared_error as mse\n",
        "from sklearn.model_selection import cross_val_score\n",
        "import pickle"
      ]
    },
    {
      "cell_type": "code",
      "source": [
        "df = pd.read_csv(\"/content/house_details.csv\")\n",
        "df"
      ],
      "metadata": {
        "colab": {
          "base_uri": "https://localhost:8080/",
          "height": 424
        },
        "id": "EH0U53gL400S",
        "outputId": "12b52a93-cb57-4688-d080-76b4afbaa5bf"
      },
      "execution_count": 543,
      "outputs": [
        {
          "output_type": "execute_result",
          "data": {
            "text/plain": [
              "        Price  Area  Bedrooms    Bathrooms      Location  \\\n",
              "0        25 L   728       2.0  2 Bathrooms         Avadi   \n",
              "1        26 L   739       2.0  1 Bathrooms         Avadi   \n",
              "2        60 L  1150       3.0  3 Bathrooms         Avadi   \n",
              "3        48 L   931       2.0  2 Bathrooms         Avadi   \n",
              "4        20 L   317       1.0  1 Bathrooms         Avadi   \n",
              "...       ...   ...       ...          ...           ...   \n",
              "5124  52.67 L   878       2.0  2 Bathrooms  Mugalivakkam   \n",
              "5125  51.64 L   906       2.0          NaN  Mugalivakkam   \n",
              "5126   75.7 L  1037       2.0  2 Bathrooms  Mugalivakkam   \n",
              "5127  70.24 L  1171       3.0          NaN  Mugalivakkam   \n",
              "5128  70.24 L  1171       3.0          NaN  Mugalivakkam   \n",
              "\n",
              "                    Builder              Status  \n",
              "0                       NaN       Ready to move  \n",
              "1                       NaN       Ready to move  \n",
              "2                       NaN       Ready to move  \n",
              "3                       NaN       Ready to move  \n",
              "4                       NaN       Ready to move  \n",
              "...                     ...                 ...  \n",
              "5124  Lifestyle Le Paradise  Under Construction  \n",
              "5125      Stellar Blue Tide  Under Construction  \n",
              "5126                    NaN  Under Construction  \n",
              "5127  Lifestyle Le Paradise  Under Construction  \n",
              "5128  Lifestyle Le Paradise  Under Construction  \n",
              "\n",
              "[5129 rows x 7 columns]"
            ],
            "text/html": [
              "\n",
              "  <div id=\"df-c534c983-7599-4529-88ff-0688f395c314\">\n",
              "    <div class=\"colab-df-container\">\n",
              "      <div>\n",
              "<style scoped>\n",
              "    .dataframe tbody tr th:only-of-type {\n",
              "        vertical-align: middle;\n",
              "    }\n",
              "\n",
              "    .dataframe tbody tr th {\n",
              "        vertical-align: top;\n",
              "    }\n",
              "\n",
              "    .dataframe thead th {\n",
              "        text-align: right;\n",
              "    }\n",
              "</style>\n",
              "<table border=\"1\" class=\"dataframe\">\n",
              "  <thead>\n",
              "    <tr style=\"text-align: right;\">\n",
              "      <th></th>\n",
              "      <th>Price</th>\n",
              "      <th>Area</th>\n",
              "      <th>Bedrooms</th>\n",
              "      <th>Bathrooms</th>\n",
              "      <th>Location</th>\n",
              "      <th>Builder</th>\n",
              "      <th>Status</th>\n",
              "    </tr>\n",
              "  </thead>\n",
              "  <tbody>\n",
              "    <tr>\n",
              "      <th>0</th>\n",
              "      <td>25 L</td>\n",
              "      <td>728</td>\n",
              "      <td>2.0</td>\n",
              "      <td>2 Bathrooms</td>\n",
              "      <td>Avadi</td>\n",
              "      <td>NaN</td>\n",
              "      <td>Ready to move</td>\n",
              "    </tr>\n",
              "    <tr>\n",
              "      <th>1</th>\n",
              "      <td>26 L</td>\n",
              "      <td>739</td>\n",
              "      <td>2.0</td>\n",
              "      <td>1 Bathrooms</td>\n",
              "      <td>Avadi</td>\n",
              "      <td>NaN</td>\n",
              "      <td>Ready to move</td>\n",
              "    </tr>\n",
              "    <tr>\n",
              "      <th>2</th>\n",
              "      <td>60 L</td>\n",
              "      <td>1150</td>\n",
              "      <td>3.0</td>\n",
              "      <td>3 Bathrooms</td>\n",
              "      <td>Avadi</td>\n",
              "      <td>NaN</td>\n",
              "      <td>Ready to move</td>\n",
              "    </tr>\n",
              "    <tr>\n",
              "      <th>3</th>\n",
              "      <td>48 L</td>\n",
              "      <td>931</td>\n",
              "      <td>2.0</td>\n",
              "      <td>2 Bathrooms</td>\n",
              "      <td>Avadi</td>\n",
              "      <td>NaN</td>\n",
              "      <td>Ready to move</td>\n",
              "    </tr>\n",
              "    <tr>\n",
              "      <th>4</th>\n",
              "      <td>20 L</td>\n",
              "      <td>317</td>\n",
              "      <td>1.0</td>\n",
              "      <td>1 Bathrooms</td>\n",
              "      <td>Avadi</td>\n",
              "      <td>NaN</td>\n",
              "      <td>Ready to move</td>\n",
              "    </tr>\n",
              "    <tr>\n",
              "      <th>...</th>\n",
              "      <td>...</td>\n",
              "      <td>...</td>\n",
              "      <td>...</td>\n",
              "      <td>...</td>\n",
              "      <td>...</td>\n",
              "      <td>...</td>\n",
              "      <td>...</td>\n",
              "    </tr>\n",
              "    <tr>\n",
              "      <th>5124</th>\n",
              "      <td>52.67 L</td>\n",
              "      <td>878</td>\n",
              "      <td>2.0</td>\n",
              "      <td>2 Bathrooms</td>\n",
              "      <td>Mugalivakkam</td>\n",
              "      <td>Lifestyle Le Paradise</td>\n",
              "      <td>Under Construction</td>\n",
              "    </tr>\n",
              "    <tr>\n",
              "      <th>5125</th>\n",
              "      <td>51.64 L</td>\n",
              "      <td>906</td>\n",
              "      <td>2.0</td>\n",
              "      <td>NaN</td>\n",
              "      <td>Mugalivakkam</td>\n",
              "      <td>Stellar Blue Tide</td>\n",
              "      <td>Under Construction</td>\n",
              "    </tr>\n",
              "    <tr>\n",
              "      <th>5126</th>\n",
              "      <td>75.7 L</td>\n",
              "      <td>1037</td>\n",
              "      <td>2.0</td>\n",
              "      <td>2 Bathrooms</td>\n",
              "      <td>Mugalivakkam</td>\n",
              "      <td>NaN</td>\n",
              "      <td>Under Construction</td>\n",
              "    </tr>\n",
              "    <tr>\n",
              "      <th>5127</th>\n",
              "      <td>70.24 L</td>\n",
              "      <td>1171</td>\n",
              "      <td>3.0</td>\n",
              "      <td>NaN</td>\n",
              "      <td>Mugalivakkam</td>\n",
              "      <td>Lifestyle Le Paradise</td>\n",
              "      <td>Under Construction</td>\n",
              "    </tr>\n",
              "    <tr>\n",
              "      <th>5128</th>\n",
              "      <td>70.24 L</td>\n",
              "      <td>1171</td>\n",
              "      <td>3.0</td>\n",
              "      <td>NaN</td>\n",
              "      <td>Mugalivakkam</td>\n",
              "      <td>Lifestyle Le Paradise</td>\n",
              "      <td>Under Construction</td>\n",
              "    </tr>\n",
              "  </tbody>\n",
              "</table>\n",
              "<p>5129 rows × 7 columns</p>\n",
              "</div>\n",
              "      <button class=\"colab-df-convert\" onclick=\"convertToInteractive('df-c534c983-7599-4529-88ff-0688f395c314')\"\n",
              "              title=\"Convert this dataframe to an interactive table.\"\n",
              "              style=\"display:none;\">\n",
              "        \n",
              "  <svg xmlns=\"http://www.w3.org/2000/svg\" height=\"24px\"viewBox=\"0 0 24 24\"\n",
              "       width=\"24px\">\n",
              "    <path d=\"M0 0h24v24H0V0z\" fill=\"none\"/>\n",
              "    <path d=\"M18.56 5.44l.94 2.06.94-2.06 2.06-.94-2.06-.94-.94-2.06-.94 2.06-2.06.94zm-11 1L8.5 8.5l.94-2.06 2.06-.94-2.06-.94L8.5 2.5l-.94 2.06-2.06.94zm10 10l.94 2.06.94-2.06 2.06-.94-2.06-.94-.94-2.06-.94 2.06-2.06.94z\"/><path d=\"M17.41 7.96l-1.37-1.37c-.4-.4-.92-.59-1.43-.59-.52 0-1.04.2-1.43.59L10.3 9.45l-7.72 7.72c-.78.78-.78 2.05 0 2.83L4 21.41c.39.39.9.59 1.41.59.51 0 1.02-.2 1.41-.59l7.78-7.78 2.81-2.81c.8-.78.8-2.07 0-2.86zM5.41 20L4 18.59l7.72-7.72 1.47 1.35L5.41 20z\"/>\n",
              "  </svg>\n",
              "      </button>\n",
              "      \n",
              "  <style>\n",
              "    .colab-df-container {\n",
              "      display:flex;\n",
              "      flex-wrap:wrap;\n",
              "      gap: 12px;\n",
              "    }\n",
              "\n",
              "    .colab-df-convert {\n",
              "      background-color: #E8F0FE;\n",
              "      border: none;\n",
              "      border-radius: 50%;\n",
              "      cursor: pointer;\n",
              "      display: none;\n",
              "      fill: #1967D2;\n",
              "      height: 32px;\n",
              "      padding: 0 0 0 0;\n",
              "      width: 32px;\n",
              "    }\n",
              "\n",
              "    .colab-df-convert:hover {\n",
              "      background-color: #E2EBFA;\n",
              "      box-shadow: 0px 1px 2px rgba(60, 64, 67, 0.3), 0px 1px 3px 1px rgba(60, 64, 67, 0.15);\n",
              "      fill: #174EA6;\n",
              "    }\n",
              "\n",
              "    [theme=dark] .colab-df-convert {\n",
              "      background-color: #3B4455;\n",
              "      fill: #D2E3FC;\n",
              "    }\n",
              "\n",
              "    [theme=dark] .colab-df-convert:hover {\n",
              "      background-color: #434B5C;\n",
              "      box-shadow: 0px 1px 3px 1px rgba(0, 0, 0, 0.15);\n",
              "      filter: drop-shadow(0px 1px 2px rgba(0, 0, 0, 0.3));\n",
              "      fill: #FFFFFF;\n",
              "    }\n",
              "  </style>\n",
              "\n",
              "      <script>\n",
              "        const buttonEl =\n",
              "          document.querySelector('#df-c534c983-7599-4529-88ff-0688f395c314 button.colab-df-convert');\n",
              "        buttonEl.style.display =\n",
              "          google.colab.kernel.accessAllowed ? 'block' : 'none';\n",
              "\n",
              "        async function convertToInteractive(key) {\n",
              "          const element = document.querySelector('#df-c534c983-7599-4529-88ff-0688f395c314');\n",
              "          const dataTable =\n",
              "            await google.colab.kernel.invokeFunction('convertToInteractive',\n",
              "                                                     [key], {});\n",
              "          if (!dataTable) return;\n",
              "\n",
              "          const docLinkHtml = 'Like what you see? Visit the ' +\n",
              "            '<a target=\"_blank\" href=https://colab.research.google.com/notebooks/data_table.ipynb>data table notebook</a>'\n",
              "            + ' to learn more about interactive tables.';\n",
              "          element.innerHTML = '';\n",
              "          dataTable['output_type'] = 'display_data';\n",
              "          await google.colab.output.renderOutput(dataTable, element);\n",
              "          const docLink = document.createElement('div');\n",
              "          docLink.innerHTML = docLinkHtml;\n",
              "          element.appendChild(docLink);\n",
              "        }\n",
              "      </script>\n",
              "    </div>\n",
              "  </div>\n",
              "  "
            ]
          },
          "metadata": {},
          "execution_count": 543
        }
      ]
    },
    {
      "cell_type": "code",
      "source": [
        "df.head(5)"
      ],
      "metadata": {
        "colab": {
          "base_uri": "https://localhost:8080/",
          "height": 206
        },
        "id": "VzPFFUAjJ0NT",
        "outputId": "d5598252-37b5-4946-a6da-140e58614d8e"
      },
      "execution_count": 544,
      "outputs": [
        {
          "output_type": "execute_result",
          "data": {
            "text/plain": [
              "  Price  Area  Bedrooms    Bathrooms Location Builder         Status\n",
              "0  25 L   728       2.0  2 Bathrooms    Avadi     NaN  Ready to move\n",
              "1  26 L   739       2.0  1 Bathrooms    Avadi     NaN  Ready to move\n",
              "2  60 L  1150       3.0  3 Bathrooms    Avadi     NaN  Ready to move\n",
              "3  48 L   931       2.0  2 Bathrooms    Avadi     NaN  Ready to move\n",
              "4  20 L   317       1.0  1 Bathrooms    Avadi     NaN  Ready to move"
            ],
            "text/html": [
              "\n",
              "  <div id=\"df-d569d7df-08e1-46d6-b0ce-2453e885b07a\">\n",
              "    <div class=\"colab-df-container\">\n",
              "      <div>\n",
              "<style scoped>\n",
              "    .dataframe tbody tr th:only-of-type {\n",
              "        vertical-align: middle;\n",
              "    }\n",
              "\n",
              "    .dataframe tbody tr th {\n",
              "        vertical-align: top;\n",
              "    }\n",
              "\n",
              "    .dataframe thead th {\n",
              "        text-align: right;\n",
              "    }\n",
              "</style>\n",
              "<table border=\"1\" class=\"dataframe\">\n",
              "  <thead>\n",
              "    <tr style=\"text-align: right;\">\n",
              "      <th></th>\n",
              "      <th>Price</th>\n",
              "      <th>Area</th>\n",
              "      <th>Bedrooms</th>\n",
              "      <th>Bathrooms</th>\n",
              "      <th>Location</th>\n",
              "      <th>Builder</th>\n",
              "      <th>Status</th>\n",
              "    </tr>\n",
              "  </thead>\n",
              "  <tbody>\n",
              "    <tr>\n",
              "      <th>0</th>\n",
              "      <td>25 L</td>\n",
              "      <td>728</td>\n",
              "      <td>2.0</td>\n",
              "      <td>2 Bathrooms</td>\n",
              "      <td>Avadi</td>\n",
              "      <td>NaN</td>\n",
              "      <td>Ready to move</td>\n",
              "    </tr>\n",
              "    <tr>\n",
              "      <th>1</th>\n",
              "      <td>26 L</td>\n",
              "      <td>739</td>\n",
              "      <td>2.0</td>\n",
              "      <td>1 Bathrooms</td>\n",
              "      <td>Avadi</td>\n",
              "      <td>NaN</td>\n",
              "      <td>Ready to move</td>\n",
              "    </tr>\n",
              "    <tr>\n",
              "      <th>2</th>\n",
              "      <td>60 L</td>\n",
              "      <td>1150</td>\n",
              "      <td>3.0</td>\n",
              "      <td>3 Bathrooms</td>\n",
              "      <td>Avadi</td>\n",
              "      <td>NaN</td>\n",
              "      <td>Ready to move</td>\n",
              "    </tr>\n",
              "    <tr>\n",
              "      <th>3</th>\n",
              "      <td>48 L</td>\n",
              "      <td>931</td>\n",
              "      <td>2.0</td>\n",
              "      <td>2 Bathrooms</td>\n",
              "      <td>Avadi</td>\n",
              "      <td>NaN</td>\n",
              "      <td>Ready to move</td>\n",
              "    </tr>\n",
              "    <tr>\n",
              "      <th>4</th>\n",
              "      <td>20 L</td>\n",
              "      <td>317</td>\n",
              "      <td>1.0</td>\n",
              "      <td>1 Bathrooms</td>\n",
              "      <td>Avadi</td>\n",
              "      <td>NaN</td>\n",
              "      <td>Ready to move</td>\n",
              "    </tr>\n",
              "  </tbody>\n",
              "</table>\n",
              "</div>\n",
              "      <button class=\"colab-df-convert\" onclick=\"convertToInteractive('df-d569d7df-08e1-46d6-b0ce-2453e885b07a')\"\n",
              "              title=\"Convert this dataframe to an interactive table.\"\n",
              "              style=\"display:none;\">\n",
              "        \n",
              "  <svg xmlns=\"http://www.w3.org/2000/svg\" height=\"24px\"viewBox=\"0 0 24 24\"\n",
              "       width=\"24px\">\n",
              "    <path d=\"M0 0h24v24H0V0z\" fill=\"none\"/>\n",
              "    <path d=\"M18.56 5.44l.94 2.06.94-2.06 2.06-.94-2.06-.94-.94-2.06-.94 2.06-2.06.94zm-11 1L8.5 8.5l.94-2.06 2.06-.94-2.06-.94L8.5 2.5l-.94 2.06-2.06.94zm10 10l.94 2.06.94-2.06 2.06-.94-2.06-.94-.94-2.06-.94 2.06-2.06.94z\"/><path d=\"M17.41 7.96l-1.37-1.37c-.4-.4-.92-.59-1.43-.59-.52 0-1.04.2-1.43.59L10.3 9.45l-7.72 7.72c-.78.78-.78 2.05 0 2.83L4 21.41c.39.39.9.59 1.41.59.51 0 1.02-.2 1.41-.59l7.78-7.78 2.81-2.81c.8-.78.8-2.07 0-2.86zM5.41 20L4 18.59l7.72-7.72 1.47 1.35L5.41 20z\"/>\n",
              "  </svg>\n",
              "      </button>\n",
              "      \n",
              "  <style>\n",
              "    .colab-df-container {\n",
              "      display:flex;\n",
              "      flex-wrap:wrap;\n",
              "      gap: 12px;\n",
              "    }\n",
              "\n",
              "    .colab-df-convert {\n",
              "      background-color: #E8F0FE;\n",
              "      border: none;\n",
              "      border-radius: 50%;\n",
              "      cursor: pointer;\n",
              "      display: none;\n",
              "      fill: #1967D2;\n",
              "      height: 32px;\n",
              "      padding: 0 0 0 0;\n",
              "      width: 32px;\n",
              "    }\n",
              "\n",
              "    .colab-df-convert:hover {\n",
              "      background-color: #E2EBFA;\n",
              "      box-shadow: 0px 1px 2px rgba(60, 64, 67, 0.3), 0px 1px 3px 1px rgba(60, 64, 67, 0.15);\n",
              "      fill: #174EA6;\n",
              "    }\n",
              "\n",
              "    [theme=dark] .colab-df-convert {\n",
              "      background-color: #3B4455;\n",
              "      fill: #D2E3FC;\n",
              "    }\n",
              "\n",
              "    [theme=dark] .colab-df-convert:hover {\n",
              "      background-color: #434B5C;\n",
              "      box-shadow: 0px 1px 3px 1px rgba(0, 0, 0, 0.15);\n",
              "      filter: drop-shadow(0px 1px 2px rgba(0, 0, 0, 0.3));\n",
              "      fill: #FFFFFF;\n",
              "    }\n",
              "  </style>\n",
              "\n",
              "      <script>\n",
              "        const buttonEl =\n",
              "          document.querySelector('#df-d569d7df-08e1-46d6-b0ce-2453e885b07a button.colab-df-convert');\n",
              "        buttonEl.style.display =\n",
              "          google.colab.kernel.accessAllowed ? 'block' : 'none';\n",
              "\n",
              "        async function convertToInteractive(key) {\n",
              "          const element = document.querySelector('#df-d569d7df-08e1-46d6-b0ce-2453e885b07a');\n",
              "          const dataTable =\n",
              "            await google.colab.kernel.invokeFunction('convertToInteractive',\n",
              "                                                     [key], {});\n",
              "          if (!dataTable) return;\n",
              "\n",
              "          const docLinkHtml = 'Like what you see? Visit the ' +\n",
              "            '<a target=\"_blank\" href=https://colab.research.google.com/notebooks/data_table.ipynb>data table notebook</a>'\n",
              "            + ' to learn more about interactive tables.';\n",
              "          element.innerHTML = '';\n",
              "          dataTable['output_type'] = 'display_data';\n",
              "          await google.colab.output.renderOutput(dataTable, element);\n",
              "          const docLink = document.createElement('div');\n",
              "          docLink.innerHTML = docLinkHtml;\n",
              "          element.appendChild(docLink);\n",
              "        }\n",
              "      </script>\n",
              "    </div>\n",
              "  </div>\n",
              "  "
            ]
          },
          "metadata": {},
          "execution_count": 544
        }
      ]
    },
    {
      "cell_type": "code",
      "source": [
        "df.isnull().sum()"
      ],
      "metadata": {
        "colab": {
          "base_uri": "https://localhost:8080/"
        },
        "id": "pxfFNJtm5VZt",
        "outputId": "3dac7516-160c-4972-84d4-ebe363cd9c61"
      },
      "execution_count": 545,
      "outputs": [
        {
          "output_type": "execute_result",
          "data": {
            "text/plain": [
              "Price           0\n",
              "Area            0\n",
              "Bedrooms      204\n",
              "Bathrooms    1377\n",
              "Location        0\n",
              "Builder      2032\n",
              "Status          0\n",
              "dtype: int64"
            ]
          },
          "metadata": {},
          "execution_count": 545
        }
      ]
    },
    {
      "cell_type": "code",
      "source": [
        "df.info()"
      ],
      "metadata": {
        "colab": {
          "base_uri": "https://localhost:8080/"
        },
        "id": "rnH0za295uI2",
        "outputId": "44a2ba70-7971-4117-aaf5-efe95bfa5c44"
      },
      "execution_count": 546,
      "outputs": [
        {
          "output_type": "stream",
          "name": "stdout",
          "text": [
            "<class 'pandas.core.frame.DataFrame'>\n",
            "RangeIndex: 5129 entries, 0 to 5128\n",
            "Data columns (total 7 columns):\n",
            " #   Column     Non-Null Count  Dtype  \n",
            "---  ------     --------------  -----  \n",
            " 0   Price      5129 non-null   object \n",
            " 1   Area       5129 non-null   int64  \n",
            " 2   Bedrooms   4925 non-null   float64\n",
            " 3   Bathrooms  3752 non-null   object \n",
            " 4   Location   5129 non-null   object \n",
            " 5   Builder    3097 non-null   object \n",
            " 6   Status     5129 non-null   object \n",
            "dtypes: float64(1), int64(1), object(5)\n",
            "memory usage: 280.6+ KB\n"
          ]
        }
      ]
    },
    {
      "cell_type": "markdown",
      "source": [
        ""
      ],
      "metadata": {
        "id": "ViElLb92_8K_"
      }
    },
    {
      "cell_type": "markdown",
      "source": [
        "#Preprocessing"
      ],
      "metadata": {
        "id": "MPPW0ctB4CT5"
      }
    },
    {
      "cell_type": "code",
      "source": [
        ""
      ],
      "metadata": {
        "id": "ZQC4k-vcCfy4"
      },
      "execution_count": 546,
      "outputs": []
    },
    {
      "cell_type": "code",
      "source": [
        "df.isnull().sum()"
      ],
      "metadata": {
        "colab": {
          "base_uri": "https://localhost:8080/"
        },
        "id": "v36jWvgFDGXn",
        "outputId": "38097e2c-9eb0-4a81-aec9-5498727970fa"
      },
      "execution_count": 547,
      "outputs": [
        {
          "output_type": "execute_result",
          "data": {
            "text/plain": [
              "Price           0\n",
              "Area            0\n",
              "Bedrooms      204\n",
              "Bathrooms    1377\n",
              "Location        0\n",
              "Builder      2032\n",
              "Status          0\n",
              "dtype: int64"
            ]
          },
          "metadata": {},
          "execution_count": 547
        }
      ]
    },
    {
      "cell_type": "code",
      "source": [
        ""
      ],
      "metadata": {
        "id": "c84WcWYhGJXI"
      },
      "execution_count": 547,
      "outputs": []
    },
    {
      "cell_type": "code",
      "source": [
        "df1 = df.dropna(subset = [\"Bedrooms\"])\n",
        "df1 = df1.reset_index(drop = True)\n",
        "df1.info()"
      ],
      "metadata": {
        "colab": {
          "base_uri": "https://localhost:8080/"
        },
        "id": "ELvfwVvyGXOw",
        "outputId": "c929ef8f-f977-4660-8820-a3749881f54a"
      },
      "execution_count": 548,
      "outputs": [
        {
          "output_type": "stream",
          "name": "stdout",
          "text": [
            "<class 'pandas.core.frame.DataFrame'>\n",
            "RangeIndex: 4925 entries, 0 to 4924\n",
            "Data columns (total 7 columns):\n",
            " #   Column     Non-Null Count  Dtype  \n",
            "---  ------     --------------  -----  \n",
            " 0   Price      4925 non-null   object \n",
            " 1   Area       4925 non-null   int64  \n",
            " 2   Bedrooms   4925 non-null   float64\n",
            " 3   Bathrooms  3752 non-null   object \n",
            " 4   Location   4925 non-null   object \n",
            " 5   Builder    3057 non-null   object \n",
            " 6   Status     4925 non-null   object \n",
            "dtypes: float64(1), int64(1), object(5)\n",
            "memory usage: 269.5+ KB\n"
          ]
        }
      ]
    },
    {
      "cell_type": "code",
      "source": [
        "df1[\"Price\"]"
      ],
      "metadata": {
        "colab": {
          "base_uri": "https://localhost:8080/"
        },
        "id": "BhUFC5qAIt5h",
        "outputId": "fed53b66-f99e-430e-bec3-dc9fd13c2791"
      },
      "execution_count": 549,
      "outputs": [
        {
          "output_type": "execute_result",
          "data": {
            "text/plain": [
              "0          25 L\n",
              "1          26 L\n",
              "2          60 L\n",
              "3          48 L\n",
              "4          20 L\n",
              "         ...   \n",
              "4920    52.67 L\n",
              "4921    51.64 L\n",
              "4922     75.7 L\n",
              "4923    70.24 L\n",
              "4924    70.24 L\n",
              "Name: Price, Length: 4925, dtype: object"
            ]
          },
          "metadata": {},
          "execution_count": 549
        }
      ]
    },
    {
      "cell_type": "code",
      "source": [
        "# converting the price to float and converting Crore to Lakh\n",
        "\n",
        "for i in range(len(df1[\"Price\"])):\n",
        "  \n",
        "    a = df1[\"Price\"][i].split(\" \")\n",
        "    if a[1] == \"Cr\":\n",
        "      \n",
        "      b = float(a[0])*100\n",
        "      df1[\"Price\"][i] = b\n",
        "    else:\n",
        "      df1[\"Price\"][i] = float(a[0])\n",
        "\n",
        "df1[\"Price\"]\n"
      ],
      "metadata": {
        "colab": {
          "base_uri": "https://localhost:8080/"
        },
        "id": "yiIxnyE1BcHn",
        "outputId": "0739baaf-887f-4850-de2b-230d888a0b16"
      },
      "execution_count": 550,
      "outputs": [
        {
          "output_type": "stream",
          "name": "stderr",
          "text": [
            "/usr/local/lib/python3.7/dist-packages/ipykernel_launcher.py:11: SettingWithCopyWarning: \n",
            "A value is trying to be set on a copy of a slice from a DataFrame\n",
            "\n",
            "See the caveats in the documentation: https://pandas.pydata.org/pandas-docs/stable/user_guide/indexing.html#returning-a-view-versus-a-copy\n",
            "  # This is added back by InteractiveShellApp.init_path()\n",
            "/usr/local/lib/python3.7/dist-packages/ipykernel_launcher.py:9: SettingWithCopyWarning: \n",
            "A value is trying to be set on a copy of a slice from a DataFrame\n",
            "\n",
            "See the caveats in the documentation: https://pandas.pydata.org/pandas-docs/stable/user_guide/indexing.html#returning-a-view-versus-a-copy\n",
            "  if __name__ == '__main__':\n"
          ]
        },
        {
          "output_type": "execute_result",
          "data": {
            "text/plain": [
              "0        25.0\n",
              "1        26.0\n",
              "2        60.0\n",
              "3        48.0\n",
              "4        20.0\n",
              "        ...  \n",
              "4920    52.67\n",
              "4921    51.64\n",
              "4922     75.7\n",
              "4923    70.24\n",
              "4924    70.24\n",
              "Name: Price, Length: 4925, dtype: object"
            ]
          },
          "metadata": {},
          "execution_count": 550
        }
      ]
    },
    {
      "cell_type": "code",
      "source": [
        "df1[\"Price\"] = df1[\"Price\"].astype(\"float64\")"
      ],
      "metadata": {
        "id": "QMv2AHIaHJql"
      },
      "execution_count": 551,
      "outputs": []
    },
    {
      "cell_type": "code",
      "source": [
        "df1.info()"
      ],
      "metadata": {
        "colab": {
          "base_uri": "https://localhost:8080/"
        },
        "id": "KLm7XLjDIKOj",
        "outputId": "c13ecb59-32ee-4eb5-da15-ce503bc16141"
      },
      "execution_count": 552,
      "outputs": [
        {
          "output_type": "stream",
          "name": "stdout",
          "text": [
            "<class 'pandas.core.frame.DataFrame'>\n",
            "RangeIndex: 4925 entries, 0 to 4924\n",
            "Data columns (total 7 columns):\n",
            " #   Column     Non-Null Count  Dtype  \n",
            "---  ------     --------------  -----  \n",
            " 0   Price      4925 non-null   float64\n",
            " 1   Area       4925 non-null   int64  \n",
            " 2   Bedrooms   4925 non-null   float64\n",
            " 3   Bathrooms  3752 non-null   object \n",
            " 4   Location   4925 non-null   object \n",
            " 5   Builder    3057 non-null   object \n",
            " 6   Status     4925 non-null   object \n",
            "dtypes: float64(2), int64(1), object(4)\n",
            "memory usage: 269.5+ KB\n"
          ]
        }
      ]
    },
    {
      "cell_type": "code",
      "source": [
        ""
      ],
      "metadata": {
        "id": "dlUinDK8Gwb3"
      },
      "execution_count": 467,
      "outputs": []
    },
    {
      "cell_type": "code",
      "source": [
        "#df.dropna(axis = 0)"
      ],
      "metadata": {
        "id": "VZOFjDVwNhDJ"
      },
      "execution_count": 468,
      "outputs": []
    },
    {
      "cell_type": "code",
      "source": [
        "df1.info()"
      ],
      "metadata": {
        "colab": {
          "base_uri": "https://localhost:8080/"
        },
        "id": "dDVKux2GNjaw",
        "outputId": "da609f4b-db35-42e0-c713-35e2e9748451"
      },
      "execution_count": 553,
      "outputs": [
        {
          "output_type": "stream",
          "name": "stdout",
          "text": [
            "<class 'pandas.core.frame.DataFrame'>\n",
            "RangeIndex: 4925 entries, 0 to 4924\n",
            "Data columns (total 7 columns):\n",
            " #   Column     Non-Null Count  Dtype  \n",
            "---  ------     --------------  -----  \n",
            " 0   Price      4925 non-null   float64\n",
            " 1   Area       4925 non-null   int64  \n",
            " 2   Bedrooms   4925 non-null   float64\n",
            " 3   Bathrooms  3752 non-null   object \n",
            " 4   Location   4925 non-null   object \n",
            " 5   Builder    3057 non-null   object \n",
            " 6   Status     4925 non-null   object \n",
            "dtypes: float64(2), int64(1), object(4)\n",
            "memory usage: 269.5+ KB\n"
          ]
        }
      ]
    },
    {
      "cell_type": "code",
      "source": [
        "df1[\"Bathrooms\"].fillna(0,inplace = True)"
      ],
      "metadata": {
        "id": "cPqsDI6LHUHT"
      },
      "execution_count": 554,
      "outputs": []
    },
    {
      "cell_type": "code",
      "source": [
        "df1[\"Bathrooms\"] = df1[\"Bathrooms\"].apply(lambda x:x.strip(\"Bathrooms\") if x == str(x) else x)\n",
        "df1[\"Bathrooms\"] = df1[\"Bathrooms\"].astype(\"int64\")"
      ],
      "metadata": {
        "id": "VzUI-xkkIRAb"
      },
      "execution_count": 555,
      "outputs": []
    },
    {
      "cell_type": "code",
      "source": [
        "#df[\"Bathrooms\"].replace(to_replace = 0,value = round(df.Bathrooms.mean()))"
      ],
      "metadata": {
        "id": "Lu-QcT8PI9cD"
      },
      "execution_count": 472,
      "outputs": []
    },
    {
      "cell_type": "code",
      "source": [
        ""
      ],
      "metadata": {
        "id": "P8Ub0s95JkdU"
      },
      "execution_count": 472,
      "outputs": []
    },
    {
      "cell_type": "code",
      "source": [
        "def scatter_plot(df):\n",
        "  bath2 = df[ (df.Bathrooms == 2)]\n",
        "  bath3 = df[ (df.Bathrooms == 3)]\n",
        "  bath4 = df[ (df.Bathrooms == 4)]\n",
        "  bath5 = df[ (df.Bathrooms == 5)]\n",
        "  bath6 = df[ (df.Bathrooms == 6)]\n",
        "\n",
        "\n",
        "  plt.scatter(bath2.Price,bath2.Area,label = \"2 bath\")\n",
        "  plt.scatter(bath3.Price,bath3.Area,label = \"3 bath\")\n",
        "  plt.scatter(bath4.Price,bath4.Area,label = \"4 bath\")\n",
        "  plt.scatter(bath5.Price,bath5.Area,label = \"5 bath\")\n",
        "  plt.scatter(bath6.Price,bath6.Area,label = \"6 bath\")\n",
        "\n",
        "  plt.legend()\n",
        "\n",
        "scatter_plot(df1)"
      ],
      "metadata": {
        "colab": {
          "base_uri": "https://localhost:8080/",
          "height": 265
        },
        "id": "jP6oLo9R_9UI",
        "outputId": "a45ab927-6668-4328-e319-d354ecf01898"
      },
      "execution_count": 556,
      "outputs": [
        {
          "output_type": "display_data",
          "data": {
            "text/plain": [
              "<Figure size 432x288 with 1 Axes>"
            ],
            "image/png": "[encoded data removed]"
          },
          "metadata": {
            "needs_background": "light"
          }
        }
      ]
    },
    {
      "cell_type": "code",
      "source": [
        "def scatter_plot(df):\n",
        "  bed2 = df[ (df.Bedrooms == 2)]\n",
        "  bed3 = df[ (df.Bedrooms == 3)]\n",
        "  bed4 = df[ (df.Bedrooms == 4)]\n",
        "  bed5 = df[ (df.Bedrooms == 5)]\n",
        "  bed6 = df[ (df.Bedrooms == 6)]\n",
        "\n",
        "\n",
        "  plt.scatter(bed2.Price,bed2.Area,label = \"2 bhk\")\n",
        "  plt.scatter(bed3.Price,bed3.Area,label = \"3 bhk\")\n",
        "  plt.scatter(bed4.Price,bed4.Area,label = \"4 bhk\")\n",
        "  plt.scatter(bed5.Price,bed5.Area,label = \"5 bhk\")\n",
        "  plt.scatter(bed6.Price,bed6.Area,label = \"6 bhk\")\n",
        "\n",
        "  plt.legend()\n",
        "\n",
        "scatter_plot(df1)"
      ],
      "metadata": {
        "colab": {
          "base_uri": "https://localhost:8080/",
          "height": 265
        },
        "id": "wMUGnFpOEORf",
        "outputId": "b16d62ff-fc27-4616-d6f4-b56614bf02b0"
      },
      "execution_count": 557,
      "outputs": [
        {
          "output_type": "display_data",
          "data": {
            "text/plain": [
              "<Figure size 432x288 with 1 Axes>"
            ],
            "image/png": "[encoded data removed]"
          },
          "metadata": {
            "needs_background": "light"
          }
        }
      ]
    },
    {
      "cell_type": "code",
      "source": [
        "df1[\"Bathrooms\"].replace(to_replace = 0,value = np.nan)"
      ],
      "metadata": {
        "colab": {
          "base_uri": "https://localhost:8080/"
        },
        "id": "h8iQEi3iHADP",
        "outputId": "5e310c9e-095f-411f-ee67-141181c223a5"
      },
      "execution_count": 558,
      "outputs": [
        {
          "output_type": "execute_result",
          "data": {
            "text/plain": [
              "0       2.0\n",
              "1       1.0\n",
              "2       3.0\n",
              "3       2.0\n",
              "4       1.0\n",
              "       ... \n",
              "4920    2.0\n",
              "4921    NaN\n",
              "4922    2.0\n",
              "4923    NaN\n",
              "4924    NaN\n",
              "Name: Bathrooms, Length: 4925, dtype: float64"
            ]
          },
          "metadata": {},
          "execution_count": 558
        }
      ]
    },
    {
      "cell_type": "code",
      "source": [
        "df1[\"Bathrooms\"][4923]"
      ],
      "metadata": {
        "colab": {
          "base_uri": "https://localhost:8080/"
        },
        "id": "iRrHsQ53MQtw",
        "outputId": "d296807f-a4b3-44c7-a8dd-235d3905bbf3"
      },
      "execution_count": 559,
      "outputs": [
        {
          "output_type": "execute_result",
          "data": {
            "text/plain": [
              "0"
            ]
          },
          "metadata": {},
          "execution_count": 559
        }
      ]
    },
    {
      "cell_type": "code",
      "source": [
        "for i in range(len(df1[\"Bathrooms\"])):\n",
        "  \n",
        "    if df1[\"Bathrooms\"][i] == 0:\n",
        "      if df1[\"Area\"][i] < 600 and df1[\"Bedrooms\"][i] <= 2:\n",
        "        df1[\"Bathrooms\"][i] = 2\n",
        "      elif (df1[\"Area\"][i] >= 600 and df1[\"Area\"][i] <= 2000) and df1[\"Bedrooms\"][i] <= 3:\n",
        "        df1[\"Bathrooms\"][i] = 3\n",
        "      elif (df1[\"Area\"][i] >= 2000 and df1[\"Area\"][i] <= 2500) and df1[\"Bedrooms\"][i] <= 4:\n",
        "        df1[\"Bathrooms\"][i] = 4\n",
        "      else:\n",
        "        df1[\"Bathrooms\"][i] = df1[\"Bedrooms\"][i]"
      ],
      "metadata": {
        "id": "Ag1j0HHk4J1b",
        "colab": {
          "base_uri": "https://localhost:8080/"
        },
        "outputId": "ae3777b9-ad9e-4a07-e7cc-9fa28bad8c8c"
      },
      "execution_count": 560,
      "outputs": [
        {
          "output_type": "stream",
          "name": "stderr",
          "text": [
            "/usr/local/lib/python3.7/dist-packages/ipykernel_launcher.py:7: SettingWithCopyWarning: \n",
            "A value is trying to be set on a copy of a slice from a DataFrame\n",
            "\n",
            "See the caveats in the documentation: https://pandas.pydata.org/pandas-docs/stable/user_guide/indexing.html#returning-a-view-versus-a-copy\n",
            "  import sys\n",
            "/usr/local/lib/python3.7/dist-packages/ipykernel_launcher.py:5: SettingWithCopyWarning: \n",
            "A value is trying to be set on a copy of a slice from a DataFrame\n",
            "\n",
            "See the caveats in the documentation: https://pandas.pydata.org/pandas-docs/stable/user_guide/indexing.html#returning-a-view-versus-a-copy\n",
            "  \"\"\"\n",
            "/usr/local/lib/python3.7/dist-packages/ipykernel_launcher.py:9: SettingWithCopyWarning: \n",
            "A value is trying to be set on a copy of a slice from a DataFrame\n",
            "\n",
            "See the caveats in the documentation: https://pandas.pydata.org/pandas-docs/stable/user_guide/indexing.html#returning-a-view-versus-a-copy\n",
            "  if __name__ == '__main__':\n",
            "/usr/local/lib/python3.7/dist-packages/ipykernel_launcher.py:11: SettingWithCopyWarning: \n",
            "A value is trying to be set on a copy of a slice from a DataFrame\n",
            "\n",
            "See the caveats in the documentation: https://pandas.pydata.org/pandas-docs/stable/user_guide/indexing.html#returning-a-view-versus-a-copy\n",
            "  # This is added back by InteractiveShellApp.init_path()\n"
          ]
        }
      ]
    },
    {
      "cell_type": "code",
      "source": [
        "df1.info()"
      ],
      "metadata": {
        "colab": {
          "base_uri": "https://localhost:8080/"
        },
        "id": "IZT79bijRS14",
        "outputId": "731700f6-810f-4b62-ddf0-6dd9d4c4bced"
      },
      "execution_count": 561,
      "outputs": [
        {
          "output_type": "stream",
          "name": "stdout",
          "text": [
            "<class 'pandas.core.frame.DataFrame'>\n",
            "RangeIndex: 4925 entries, 0 to 4924\n",
            "Data columns (total 7 columns):\n",
            " #   Column     Non-Null Count  Dtype  \n",
            "---  ------     --------------  -----  \n",
            " 0   Price      4925 non-null   float64\n",
            " 1   Area       4925 non-null   int64  \n",
            " 2   Bedrooms   4925 non-null   float64\n",
            " 3   Bathrooms  4925 non-null   int64  \n",
            " 4   Location   4925 non-null   object \n",
            " 5   Builder    3057 non-null   object \n",
            " 6   Status     4925 non-null   object \n",
            "dtypes: float64(2), int64(2), object(3)\n",
            "memory usage: 269.5+ KB\n"
          ]
        }
      ]
    },
    {
      "cell_type": "code",
      "source": [
        "df1[\"Builder\"].fillna(\"Independent house\",inplace = True)"
      ],
      "metadata": {
        "id": "pO2Ef84jaKr8"
      },
      "execution_count": 562,
      "outputs": []
    },
    {
      "cell_type": "code",
      "source": [
        "type((df1[\"Bathrooms\"][5]))"
      ],
      "metadata": {
        "colab": {
          "base_uri": "https://localhost:8080/"
        },
        "id": "L_xkS02cdA1h",
        "outputId": "f14e044c-8e30-4a73-f49e-9b043ddcb85a"
      },
      "execution_count": 563,
      "outputs": [
        {
          "output_type": "execute_result",
          "data": {
            "text/plain": [
              "numpy.int64"
            ]
          },
          "metadata": {},
          "execution_count": 563
        }
      ]
    },
    {
      "cell_type": "code",
      "source": [
        ""
      ],
      "metadata": {
        "id": "PpWdRw2Zfh4S"
      },
      "execution_count": 480,
      "outputs": []
    },
    {
      "cell_type": "code",
      "source": [
        ""
      ],
      "metadata": {
        "id": "zPd4Sh6_afbD"
      },
      "execution_count": 480,
      "outputs": []
    },
    {
      "cell_type": "code",
      "source": [
        "df1.info()"
      ],
      "metadata": {
        "id": "Yo8yYUpYbCEb",
        "colab": {
          "base_uri": "https://localhost:8080/"
        },
        "outputId": "bb04d06e-d32d-4eda-b38b-9d7607232021"
      },
      "execution_count": 564,
      "outputs": [
        {
          "output_type": "stream",
          "name": "stdout",
          "text": [
            "<class 'pandas.core.frame.DataFrame'>\n",
            "RangeIndex: 4925 entries, 0 to 4924\n",
            "Data columns (total 7 columns):\n",
            " #   Column     Non-Null Count  Dtype  \n",
            "---  ------     --------------  -----  \n",
            " 0   Price      4925 non-null   float64\n",
            " 1   Area       4925 non-null   int64  \n",
            " 2   Bedrooms   4925 non-null   float64\n",
            " 3   Bathrooms  4925 non-null   int64  \n",
            " 4   Location   4925 non-null   object \n",
            " 5   Builder    4925 non-null   object \n",
            " 6   Status     4925 non-null   object \n",
            "dtypes: float64(2), int64(2), object(3)\n",
            "memory usage: 269.5+ KB\n"
          ]
        }
      ]
    },
    {
      "cell_type": "code",
      "source": [
        ""
      ],
      "metadata": {
        "id": "fKB4xvqdFKkG"
      },
      "execution_count": 481,
      "outputs": []
    },
    {
      "cell_type": "code",
      "source": [
        "cols = [\"Bedrooms\",\"Bathrooms\",\"Location\",\"Builder\",\"Status\"]\n",
        "\n",
        "for i in cols:\n",
        "  print(\"{} : {}\".format(i,len(df1[i].unique())))\n",
        "  print(\"{}\".format(df1[i].value_counts()))\n",
        "  print()"
      ],
      "metadata": {
        "colab": {
          "base_uri": "https://localhost:8080/"
        },
        "id": "BfGfzTQFbhpd",
        "outputId": "11fe2071-5b50-452e-ac0b-8e35d52415d9"
      },
      "execution_count": 565,
      "outputs": [
        {
          "output_type": "stream",
          "name": "stdout",
          "text": [
            "Bedrooms : 6\n",
            "2.0     2635\n",
            "3.0     1693\n",
            "1.0      399\n",
            "4.0      189\n",
            "5.0        7\n",
            "10.0       2\n",
            "Name: Bedrooms, dtype: int64\n",
            "\n",
            "Bathrooms : 8\n",
            "2    2280\n",
            "3    2034\n",
            "1     413\n",
            "4     178\n",
            "5      16\n",
            "9       2\n",
            "7       1\n",
            "6       1\n",
            "Name: Bathrooms, dtype: int64\n",
            "\n",
            "Location : 62\n",
            "Avadi              100\n",
            "Siruseri           100\n",
            "Chromepet          100\n",
            "Navallur           100\n",
            "Pallikaranai       100\n",
            "                  ... \n",
            "Ayapakkam           12\n",
            "Neelankarai         11\n",
            "Nemilicheri          7\n",
            "Rathinamangalam      5\n",
            "Kandhan Kollai       1\n",
            "Name: Location, Length: 62, dtype: int64\n",
            "\n",
            "Builder : 626\n",
            "Independent house                                  1868\n",
            "Akshaya Today                                        74\n",
            "Akshaya Republic                                     72\n",
            "Adroit Prosper                                       52\n",
            "Tata Tata New Value Homes New Haven Ribbon Walk      51\n",
            "                                                   ... \n",
            " Ajuba Nakshatra                                      1\n",
            "VG Madambakkam Flats                                  1\n",
            "Rajus Nivas                                           1\n",
            " Haritha Garden                                       1\n",
            "JKB Sri Vishnu Plot No 12B                            1\n",
            "Name: Builder, Length: 626, dtype: int64\n",
            "\n",
            "Status : 2\n",
            "Ready to move         2756\n",
            "Under Construction    2169\n",
            "Name: Status, dtype: int64\n",
            "\n"
          ]
        }
      ]
    },
    {
      "cell_type": "code",
      "source": [
        "builder_stat = df1.groupby('Builder')[\"Builder\"].agg(\"count\").sort_values(ascending = False)\n",
        "builder_stat"
      ],
      "metadata": {
        "colab": {
          "base_uri": "https://localhost:8080/"
        },
        "id": "5W5kfO3Eekoi",
        "outputId": "cf6b6a5b-5203-44c6-c3d4-44e3fce5c418"
      },
      "execution_count": 566,
      "outputs": [
        {
          "output_type": "execute_result",
          "data": {
            "text/plain": [
              "Builder\n",
              "Independent house                                  1868\n",
              "Akshaya Today                                        74\n",
              "Akshaya Republic                                     72\n",
              "Adroit Prosper                                       52\n",
              "Tata Tata New Value Homes New Haven Ribbon Walk      51\n",
              "                                                   ... \n",
              "Luxe Sreshta Aibea Nagar                              1\n",
              "Lucky Builders Olives Garden                          1\n",
              "Logesh Sivaposanam Castle                             1\n",
              "Land Sapphire                                         1\n",
              "Yadhav Sri Pooja Nivas                                1\n",
              "Name: Builder, Length: 626, dtype: int64"
            ]
          },
          "metadata": {},
          "execution_count": 566
        }
      ]
    },
    {
      "cell_type": "code",
      "source": [
        "builder_less_20 = builder_stat[builder_stat < 20]\n",
        "builder_less_20"
      ],
      "metadata": {
        "colab": {
          "base_uri": "https://localhost:8080/"
        },
        "id": "GrmY_HQxirQP",
        "outputId": "d590b084-9a5f-43ef-f316-4250e63ab644"
      },
      "execution_count": 567,
      "outputs": [
        {
          "output_type": "execute_result",
          "data": {
            "text/plain": [
              "Builder\n",
              "Urbanrise Jubliee Residences         19\n",
              "Golden Opulence                      19\n",
              "TVS Emerald Atrium At Green Acres    19\n",
              "Puravankara Windermere               19\n",
              "Arun Excello Sindhuraa               19\n",
              "                                     ..\n",
              "Luxe Sreshta Aibea Nagar              1\n",
              "Lucky Builders Olives Garden          1\n",
              "Logesh Sivaposanam Castle             1\n",
              "Land Sapphire                         1\n",
              "Yadhav Sri Pooja Nivas                1\n",
              "Name: Builder, Length: 593, dtype: int64"
            ]
          },
          "metadata": {},
          "execution_count": 567
        }
      ]
    },
    {
      "cell_type": "code",
      "source": [
        "builder_less_20.shape"
      ],
      "metadata": {
        "colab": {
          "base_uri": "https://localhost:8080/"
        },
        "id": "ObFZZTlneNuZ",
        "outputId": "25abe163-2a09-44a5-cda7-4fb1bb87e731"
      },
      "execution_count": 568,
      "outputs": [
        {
          "output_type": "execute_result",
          "data": {
            "text/plain": [
              "(593,)"
            ]
          },
          "metadata": {},
          "execution_count": 568
        }
      ]
    },
    {
      "cell_type": "code",
      "source": [
        "df1[\"Builder\"] = df1[\"Builder\"].apply(lambda x: \"other\" if  x in  builder_less_20 else x)\n",
        "df1[\"Builder\"]"
      ],
      "metadata": {
        "colab": {
          "base_uri": "https://localhost:8080/"
        },
        "id": "Ppb9LWyfnFTI",
        "outputId": "97b8a28a-09ed-4a8e-8bcd-150dcd70bae4"
      },
      "execution_count": 569,
      "outputs": [
        {
          "output_type": "execute_result",
          "data": {
            "text/plain": [
              "0           Independent house\n",
              "1           Independent house\n",
              "2           Independent house\n",
              "3           Independent house\n",
              "4           Independent house\n",
              "                ...          \n",
              "4920    Lifestyle Le Paradise\n",
              "4921                    other\n",
              "4922        Independent house\n",
              "4923    Lifestyle Le Paradise\n",
              "4924    Lifestyle Le Paradise\n",
              "Name: Builder, Length: 4925, dtype: object"
            ]
          },
          "metadata": {},
          "execution_count": 569
        }
      ]
    },
    {
      "cell_type": "code",
      "source": [
        "len(df1[\"Builder\"].unique())"
      ],
      "metadata": {
        "colab": {
          "base_uri": "https://localhost:8080/"
        },
        "id": "ljiYDGz-eg5K",
        "outputId": "a00ceb72-1635-4505-84fd-23f873236516"
      },
      "execution_count": 570,
      "outputs": [
        {
          "output_type": "execute_result",
          "data": {
            "text/plain": [
              "34"
            ]
          },
          "metadata": {},
          "execution_count": 570
        }
      ]
    },
    {
      "cell_type": "code",
      "source": [
        "df1[\"Builder\"].unique()"
      ],
      "metadata": {
        "colab": {
          "base_uri": "https://localhost:8080/"
        },
        "id": "drCmiLl2ouqU",
        "outputId": "d2ecf1c9-ddd9-48a3-84f5-3deb03f4b84e"
      },
      "execution_count": 571,
      "outputs": [
        {
          "output_type": "execute_result",
          "data": {
            "text/plain": [
              "array(['Independent house', 'other', 'Mahindra Happinest',\n",
              "       'Shriram Park 63', 'Urban Amaze', 'Akshaya Orlando A1 To A6',\n",
              "       'LML Prakriti Phase II', 'Risland The Ace',\n",
              "       'Alliance Galleria Residences', 'Casa Grand Casagrand First City',\n",
              "       'DRA Centralia', 'Arun Excello Urmika', 'Mahindra Aqualily ',\n",
              "       'Urbanrise Code Name Independence Day',\n",
              "       'TVS Magnific At TVS Emerald Peninsula', 'Casa Grand Utopia',\n",
              "       'Akshaya Today', 'Radiance Suprema', 'Lifestyle The Podium',\n",
              "       'Tata Tata New Value Homes New Haven Ribbon Walk', 'DAC Agaram',\n",
              "       'Urbanrise Code Name New Porur', 'Vijay Raja VRX 360',\n",
              "       'Akshaya Tango', 'Reputed Builder Apartment', 'Samprathy Aura',\n",
              "       'Shriram Code Name Mangalam', 'Altis Ashraya', 'DAC Centum',\n",
              "       'Akshaya Republic', 'GKS Tulive Bellevue',\n",
              "       'Hiranandani Parks Apartment', 'Adroit Prosper',\n",
              "       'Lifestyle Le Paradise'], dtype=object)"
            ]
          },
          "metadata": {},
          "execution_count": 571
        }
      ]
    },
    {
      "cell_type": "code",
      "source": [
        "df1[\"Location\"].replace(to_replace = \"tambaram west\",value = \"West Tambaram\",inplace = True)"
      ],
      "metadata": {
        "id": "Uy4a3i0pT5ij"
      },
      "execution_count": 572,
      "outputs": []
    },
    {
      "cell_type": "code",
      "source": [
        "location_stat = df1.groupby('Location')[\"Location\"].agg(\"count\").sort_values(ascending = False)\n",
        "location_stat"
      ],
      "metadata": {
        "colab": {
          "base_uri": "https://localhost:8080/"
        },
        "id": "nv0eM0_VQ7TK",
        "outputId": "d3778d9b-263c-4b8b-e4bb-ca0afcec5529"
      },
      "execution_count": 573,
      "outputs": [
        {
          "output_type": "execute_result",
          "data": {
            "text/plain": [
              "Location\n",
              "West Tambaram      200\n",
              "Mugalivakkam       100\n",
              "Padur              100\n",
              "Pallavaram         100\n",
              "Pallikaranai       100\n",
              "                  ... \n",
              "Ayapakkam           12\n",
              "Neelankarai         11\n",
              "Nemilicheri          7\n",
              "Rathinamangalam      5\n",
              "Kandhan Kollai       1\n",
              "Name: Location, Length: 61, dtype: int64"
            ]
          },
          "metadata": {},
          "execution_count": 573
        }
      ]
    },
    {
      "cell_type": "code",
      "source": [
        "location_less_70  = location_stat[location_stat  < 70]\n",
        "len(location_less_70)"
      ],
      "metadata": {
        "colab": {
          "base_uri": "https://localhost:8080/"
        },
        "id": "95FLUls1SGeB",
        "outputId": "7f45aee2-93d5-40f0-c827-180dea1519b8"
      },
      "execution_count": 574,
      "outputs": [
        {
          "output_type": "execute_result",
          "data": {
            "text/plain": [
              "15"
            ]
          },
          "metadata": {},
          "execution_count": 574
        }
      ]
    },
    {
      "cell_type": "code",
      "source": [
        "location_less_70"
      ],
      "metadata": {
        "colab": {
          "base_uri": "https://localhost:8080/"
        },
        "id": "Zo8XIwKlS4FJ",
        "outputId": "6367cbd1-33de-4652-a95d-313891bb8702"
      },
      "execution_count": 575,
      "outputs": [
        {
          "output_type": "execute_result",
          "data": {
            "text/plain": [
              "Location\n",
              "Veppampattu         59\n",
              "Kundrathur          53\n",
              "Maraimalai Nagar    39\n",
              "Agaramthen          38\n",
              "Chengalpattu        27\n",
              "Thirunindravur      22\n",
              "Kandigai            17\n",
              "Sriperumbudur       14\n",
              "Vandalur            14\n",
              "Tiruvallur          13\n",
              "Ayapakkam           12\n",
              "Neelankarai         11\n",
              "Nemilicheri          7\n",
              "Rathinamangalam      5\n",
              "Kandhan Kollai       1\n",
              "Name: Location, dtype: int64"
            ]
          },
          "metadata": {},
          "execution_count": 575
        }
      ]
    },
    {
      "cell_type": "code",
      "source": [
        "df1[\"Location\"] = df1[\"Location\"].apply(lambda x:\"other\" if x in location_less_70 else x)\n",
        "len(df1[\"Location\"].unique())"
      ],
      "metadata": {
        "colab": {
          "base_uri": "https://localhost:8080/"
        },
        "id": "ze3W6GXiR7Ih",
        "outputId": "f3e4edee-8455-44c4-ba05-1bb5b795bef2"
      },
      "execution_count": 576,
      "outputs": [
        {
          "output_type": "execute_result",
          "data": {
            "text/plain": [
              "47"
            ]
          },
          "metadata": {},
          "execution_count": 576
        }
      ]
    },
    {
      "cell_type": "code",
      "source": [
        "df1[\"Location\"].value_counts()"
      ],
      "metadata": {
        "colab": {
          "base_uri": "https://localhost:8080/"
        },
        "id": "_A0GyM3OQ7X4",
        "outputId": "937b3f57-eca9-4c23-d00c-678a542a2af8"
      },
      "execution_count": 577,
      "outputs": [
        {
          "output_type": "execute_result",
          "data": {
            "text/plain": [
              "other                332\n",
              "West Tambaram        200\n",
              "Avadi                100\n",
              "Thiruvanmiyur        100\n",
              "Padur                100\n",
              "Madambakkam          100\n",
              "Manapakkam           100\n",
              "Thaiyur              100\n",
              "Pammal               100\n",
              "Kovilambakkam        100\n",
              "Madhavaram           100\n",
              "T Nagar              100\n",
              "Thirumazhisai        100\n",
              "Sholinganallur       100\n",
              "Thoraipakkam OMR     100\n",
              "Choolaimedu          100\n",
              "Mangadu              100\n",
              "Kovur                100\n",
              "Adyar                100\n",
              "Valasaravakkam       100\n",
              "Thalambur            100\n",
              "Singaperumal Koil    100\n",
              "Pallikaranai         100\n",
              "Navallur             100\n",
              "Selaiyur             100\n",
              "Guduvancheri         100\n",
              "Perungalathur        100\n",
              "Medavakkam           100\n",
              "Poonamallee          100\n",
              "Mogappair            100\n",
              "Kelambakkam          100\n",
              "Chromepet            100\n",
              "Urapakkam            100\n",
              "Madipakkam           100\n",
              "Kolathur             100\n",
              "Ambattur             100\n",
              "Perungudi            100\n",
              "Pallavaram           100\n",
              "Velachery            100\n",
              "Siruseri             100\n",
              "Perumbakkam          100\n",
              "Mugalivakkam         100\n",
              "Porur                 94\n",
              "East Tambaram         78\n",
              "Oragadam              76\n",
              "Thirumullaivoyal      74\n",
              "Moolacheri            71\n",
              "Name: Location, dtype: int64"
            ]
          },
          "metadata": {},
          "execution_count": 577
        }
      ]
    },
    {
      "cell_type": "code",
      "source": [
        "df1[\"Location\"].unique()"
      ],
      "metadata": {
        "colab": {
          "base_uri": "https://localhost:8080/"
        },
        "id": "cEwgWdvhQ7cB",
        "outputId": "32c67117-7bca-4bb4-a86e-716519677a5d"
      },
      "execution_count": 578,
      "outputs": [
        {
          "output_type": "execute_result",
          "data": {
            "text/plain": [
              "array(['Avadi', 'Sholinganallur', 'Guduvancheri', 'West Tambaram',\n",
              "       'Perungalathur', 'Medavakkam', 'Porur', 'other', 'Poonamallee',\n",
              "       'Mogappair', 'Kelambakkam', 'Urapakkam', 'Selaiyur', 'Madipakkam',\n",
              "       'Kolathur', 'Ambattur', 'Perungudi', 'Pallavaram', 'Velachery',\n",
              "       'Siruseri', 'Perumbakkam', 'Chromepet', 'Navallur', 'Pallikaranai',\n",
              "       'Singaperumal Koil', 'Padur', 'Madambakkam', 'Manapakkam',\n",
              "       'Thaiyur', 'Pammal', 'Kovilambakkam', 'Madhavaram', 'T Nagar',\n",
              "       'Thiruvanmiyur', 'Moolacheri', 'Thirumazhisai', 'Thoraipakkam OMR',\n",
              "       'Choolaimedu', 'Thirumullaivoyal', 'Mangadu', 'East Tambaram',\n",
              "       'Kovur', 'Adyar', 'Valasaravakkam', 'Oragadam', 'Thalambur',\n",
              "       'Mugalivakkam'], dtype=object)"
            ]
          },
          "metadata": {},
          "execution_count": 578
        }
      ]
    },
    {
      "cell_type": "code",
      "source": [
        ""
      ],
      "metadata": {
        "id": "9nhBt_M1Q7ft"
      },
      "execution_count": 495,
      "outputs": []
    },
    {
      "cell_type": "code",
      "source": [
        "le = LabelEncoder()\n",
        "df1[\"Status\"] = le.fit_transform(df1[\"Status\"])\n",
        "df1[\"Status\"]"
      ],
      "metadata": {
        "colab": {
          "base_uri": "https://localhost:8080/"
        },
        "id": "RQ63pLwQpsbM",
        "outputId": "7809ec3d-645f-4214-d777-5bcd15b37cf3"
      },
      "execution_count": 579,
      "outputs": [
        {
          "output_type": "execute_result",
          "data": {
            "text/plain": [
              "0       0\n",
              "1       0\n",
              "2       0\n",
              "3       0\n",
              "4       0\n",
              "       ..\n",
              "4920    1\n",
              "4921    1\n",
              "4922    1\n",
              "4923    1\n",
              "4924    1\n",
              "Name: Status, Length: 4925, dtype: int64"
            ]
          },
          "metadata": {},
          "execution_count": 579
        }
      ]
    },
    {
      "cell_type": "code",
      "source": [
        "dummies1 = pd.get_dummies(df1.Builder)\n",
        "dummies1"
      ],
      "metadata": {
        "colab": {
          "base_uri": "https://localhost:8080/",
          "height": 627
        },
        "id": "1NGTJv0Fr6fc",
        "outputId": "e2b7e157-11fd-4b3d-85bd-46c505e2323b"
      },
      "execution_count": 580,
      "outputs": [
        {
          "output_type": "execute_result",
          "data": {
            "text/plain": [
              "      Adroit Prosper  Akshaya Orlando A1 To A6  Akshaya Republic  \\\n",
              "0                  0                         0                 0   \n",
              "1                  0                         0                 0   \n",
              "2                  0                         0                 0   \n",
              "3                  0                         0                 0   \n",
              "4                  0                         0                 0   \n",
              "...              ...                       ...               ...   \n",
              "4920               0                         0                 0   \n",
              "4921               0                         0                 0   \n",
              "4922               0                         0                 0   \n",
              "4923               0                         0                 0   \n",
              "4924               0                         0                 0   \n",
              "\n",
              "      Akshaya Tango  Akshaya Today  Alliance Galleria Residences  \\\n",
              "0                 0              0                             0   \n",
              "1                 0              0                             0   \n",
              "2                 0              0                             0   \n",
              "3                 0              0                             0   \n",
              "4                 0              0                             0   \n",
              "...             ...            ...                           ...   \n",
              "4920              0              0                             0   \n",
              "4921              0              0                             0   \n",
              "4922              0              0                             0   \n",
              "4923              0              0                             0   \n",
              "4924              0              0                             0   \n",
              "\n",
              "      Altis Ashraya  Arun Excello Urmika  Casa Grand Casagrand First City  \\\n",
              "0                 0                    0                                0   \n",
              "1                 0                    0                                0   \n",
              "2                 0                    0                                0   \n",
              "3                 0                    0                                0   \n",
              "4                 0                    0                                0   \n",
              "...             ...                  ...                              ...   \n",
              "4920              0                    0                                0   \n",
              "4921              0                    0                                0   \n",
              "4922              0                    0                                0   \n",
              "4923              0                    0                                0   \n",
              "4924              0                    0                                0   \n",
              "\n",
              "      Casa Grand Utopia  ...  Samprathy Aura  Shriram Code Name Mangalam  \\\n",
              "0                     0  ...               0                           0   \n",
              "1                     0  ...               0                           0   \n",
              "2                     0  ...               0                           0   \n",
              "3                     0  ...               0                           0   \n",
              "4                     0  ...               0                           0   \n",
              "...                 ...  ...             ...                         ...   \n",
              "4920                  0  ...               0                           0   \n",
              "4921                  0  ...               0                           0   \n",
              "4922                  0  ...               0                           0   \n",
              "4923                  0  ...               0                           0   \n",
              "4924                  0  ...               0                           0   \n",
              "\n",
              "      Shriram Park 63  TVS Magnific At TVS Emerald Peninsula  \\\n",
              "0                   0                                      0   \n",
              "1                   0                                      0   \n",
              "2                   0                                      0   \n",
              "3                   0                                      0   \n",
              "4                   0                                      0   \n",
              "...               ...                                    ...   \n",
              "4920                0                                      0   \n",
              "4921                0                                      0   \n",
              "4922                0                                      0   \n",
              "4923                0                                      0   \n",
              "4924                0                                      0   \n",
              "\n",
              "      Tata Tata New Value Homes New Haven Ribbon Walk  Urban Amaze  \\\n",
              "0                                                   0            0   \n",
              "1                                                   0            0   \n",
              "2                                                   0            0   \n",
              "3                                                   0            0   \n",
              "4                                                   0            0   \n",
              "...                                               ...          ...   \n",
              "4920                                                0            0   \n",
              "4921                                                0            0   \n",
              "4922                                                0            0   \n",
              "4923                                                0            0   \n",
              "4924                                                0            0   \n",
              "\n",
              "      Urbanrise Code Name Independence Day  Urbanrise Code Name New Porur  \\\n",
              "0                                        0                              0   \n",
              "1                                        0                              0   \n",
              "2                                        0                              0   \n",
              "3                                        0                              0   \n",
              "4                                        0                              0   \n",
              "...                                    ...                            ...   \n",
              "4920                                     0                              0   \n",
              "4921                                     0                              0   \n",
              "4922                                     0                              0   \n",
              "4923                                     0                              0   \n",
              "4924                                     0                              0   \n",
              "\n",
              "      Vijay Raja VRX 360  other  \n",
              "0                      0      0  \n",
              "1                      0      0  \n",
              "2                      0      0  \n",
              "3                      0      0  \n",
              "4                      0      0  \n",
              "...                  ...    ...  \n",
              "4920                   0      0  \n",
              "4921                   0      1  \n",
              "4922                   0      0  \n",
              "4923                   0      0  \n",
              "4924                   0      0  \n",
              "\n",
              "[4925 rows x 34 columns]"
            ],
            "text/html": [
              "\n",
              "  <div id=\"df-64d8ca2f-32ea-47d2-aa09-cb66cc21ae47\">\n",
              "    <div class=\"colab-df-container\">\n",
              "      <div>\n",
              "<style scoped>\n",
              "    .dataframe tbody tr th:only-of-type {\n",
              "        vertical-align: middle;\n",
              "    }\n",
              "\n",
              "    .dataframe tbody tr th {\n",
              "        vertical-align: top;\n",
              "    }\n",
              "\n",
              "    .dataframe thead th {\n",
              "        text-align: right;\n",
              "    }\n",
              "</style>\n",
              "<table border=\"1\" class=\"dataframe\">\n",
              "  <thead>\n",
              "    <tr style=\"text-align: right;\">\n",
              "      <th></th>\n",
              "      <th>Adroit Prosper</th>\n",
              "      <th>Akshaya Orlando A1 To A6</th>\n",
              "      <th>Akshaya Republic</th>\n",
              "      <th>Akshaya Tango</th>\n",
              "      <th>Akshaya Today</th>\n",
              "      <th>Alliance Galleria Residences</th>\n",
              "      <th>Altis Ashraya</th>\n",
              "      <th>Arun Excello Urmika</th>\n",
              "      <th>Casa Grand Casagrand First City</th>\n",
              "      <th>Casa Grand Utopia</th>\n",
              "      <th>...</th>\n",
              "      <th>Samprathy Aura</th>\n",
              "      <th>Shriram Code Name Mangalam</th>\n",
              "      <th>Shriram Park 63</th>\n",
              "      <th>TVS Magnific At TVS Emerald Peninsula</th>\n",
              "      <th>Tata Tata New Value Homes New Haven Ribbon Walk</th>\n",
              "      <th>Urban Amaze</th>\n",
              "      <th>Urbanrise Code Name Independence Day</th>\n",
              "      <th>Urbanrise Code Name New Porur</th>\n",
              "      <th>Vijay Raja VRX 360</th>\n",
              "      <th>other</th>\n",
              "    </tr>\n",
              "  </thead>\n",
              "  <tbody>\n",
              "    <tr>\n",
              "      <th>0</th>\n",
              "      <td>0</td>\n",
              "      <td>0</td>\n",
              "      <td>0</td>\n",
              "      <td>0</td>\n",
              "      <td>0</td>\n",
              "      <td>0</td>\n",
              "      <td>0</td>\n",
              "      <td>0</td>\n",
              "      <td>0</td>\n",
              "      <td>0</td>\n",
              "      <td>...</td>\n",
              "      <td>0</td>\n",
              "      <td>0</td>\n",
              "      <td>0</td>\n",
              "      <td>0</td>\n",
              "      <td>0</td>\n",
              "      <td>0</td>\n",
              "      <td>0</td>\n",
              "      <td>0</td>\n",
              "      <td>0</td>\n",
              "      <td>0</td>\n",
              "    </tr>\n",
              "    <tr>\n",
              "      <th>1</th>\n",
              "      <td>0</td>\n",
              "      <td>0</td>\n",
              "      <td>0</td>\n",
              "      <td>0</td>\n",
              "      <td>0</td>\n",
              "      <td>0</td>\n",
              "      <td>0</td>\n",
              "      <td>0</td>\n",
              "      <td>0</td>\n",
              "      <td>0</td>\n",
              "      <td>...</td>\n",
              "      <td>0</td>\n",
              "      <td>0</td>\n",
              "      <td>0</td>\n",
              "      <td>0</td>\n",
              "      <td>0</td>\n",
              "      <td>0</td>\n",
              "      <td>0</td>\n",
              "      <td>0</td>\n",
              "      <td>0</td>\n",
              "      <td>0</td>\n",
              "    </tr>\n",
              "    <tr>\n",
              "      <th>2</th>\n",
              "      <td>0</td>\n",
              "      <td>0</td>\n",
              "      <td>0</td>\n",
              "      <td>0</td>\n",
              "      <td>0</td>\n",
              "      <td>0</td>\n",
              "      <td>0</td>\n",
              "      <td>0</td>\n",
              "      <td>0</td>\n",
              "      <td>0</td>\n",
              "      <td>...</td>\n",
              "      <td>0</td>\n",
              "      <td>0</td>\n",
              "      <td>0</td>\n",
              "      <td>0</td>\n",
              "      <td>0</td>\n",
              "      <td>0</td>\n",
              "      <td>0</td>\n",
              "      <td>0</td>\n",
              "      <td>0</td>\n",
              "      <td>0</td>\n",
              "    </tr>\n",
              "    <tr>\n",
              "      <th>3</th>\n",
              "      <td>0</td>\n",
              "      <td>0</td>\n",
              "      <td>0</td>\n",
              "      <td>0</td>\n",
              "      <td>0</td>\n",
              "      <td>0</td>\n",
              "      <td>0</td>\n",
              "      <td>0</td>\n",
              "      <td>0</td>\n",
              "      <td>0</td>\n",
              "      <td>...</td>\n",
              "      <td>0</td>\n",
              "      <td>0</td>\n",
              "      <td>0</td>\n",
              "      <td>0</td>\n",
              "      <td>0</td>\n",
              "      <td>0</td>\n",
              "      <td>0</td>\n",
              "      <td>0</td>\n",
              "      <td>0</td>\n",
              "      <td>0</td>\n",
              "    </tr>\n",
              "    <tr>\n",
              "      <th>4</th>\n",
              "      <td>0</td>\n",
              "      <td>0</td>\n",
              "      <td>0</td>\n",
              "      <td>0</td>\n",
              "      <td>0</td>\n",
              "      <td>0</td>\n",
              "      <td>0</td>\n",
              "      <td>0</td>\n",
              "      <td>0</td>\n",
              "      <td>0</td>\n",
              "      <td>...</td>\n",
              "      <td>0</td>\n",
              "      <td>0</td>\n",
              "      <td>0</td>\n",
              "      <td>0</td>\n",
              "      <td>0</td>\n",
              "      <td>0</td>\n",
              "      <td>0</td>\n",
              "      <td>0</td>\n",
              "      <td>0</td>\n",
              "      <td>0</td>\n",
              "    </tr>\n",
              "    <tr>\n",
              "      <th>...</th>\n",
              "      <td>...</td>\n",
              "      <td>...</td>\n",
              "      <td>...</td>\n",
              "      <td>...</td>\n",
              "      <td>...</td>\n",
              "      <td>...</td>\n",
              "      <td>...</td>\n",
              "      <td>...</td>\n",
              "      <td>...</td>\n",
              "      <td>...</td>\n",
              "      <td>...</td>\n",
              "      <td>...</td>\n",
              "      <td>...</td>\n",
              "      <td>...</td>\n",
              "      <td>...</td>\n",
              "      <td>...</td>\n",
              "      <td>...</td>\n",
              "      <td>...</td>\n",
              "      <td>...</td>\n",
              "      <td>...</td>\n",
              "      <td>...</td>\n",
              "    </tr>\n",
              "    <tr>\n",
              "      <th>4920</th>\n",
              "      <td>0</td>\n",
              "      <td>0</td>\n",
              "      <td>0</td>\n",
              "      <td>0</td>\n",
              "      <td>0</td>\n",
              "      <td>0</td>\n",
              "      <td>0</td>\n",
              "      <td>0</td>\n",
              "      <td>0</td>\n",
              "      <td>0</td>\n",
              "      <td>...</td>\n",
              "      <td>0</td>\n",
              "      <td>0</td>\n",
              "      <td>0</td>\n",
              "      <td>0</td>\n",
              "      <td>0</td>\n",
              "      <td>0</td>\n",
              "      <td>0</td>\n",
              "      <td>0</td>\n",
              "      <td>0</td>\n",
              "      <td>0</td>\n",
              "    </tr>\n",
              "    <tr>\n",
              "      <th>4921</th>\n",
              "      <td>0</td>\n",
              "      <td>0</td>\n",
              "      <td>0</td>\n",
              "      <td>0</td>\n",
              "      <td>0</td>\n",
              "      <td>0</td>\n",
              "      <td>0</td>\n",
              "      <td>0</td>\n",
              "      <td>0</td>\n",
              "      <td>0</td>\n",
              "      <td>...</td>\n",
              "      <td>0</td>\n",
              "      <td>0</td>\n",
              "      <td>0</td>\n",
              "      <td>0</td>\n",
              "      <td>0</td>\n",
              "      <td>0</td>\n",
              "      <td>0</td>\n",
              "      <td>0</td>\n",
              "      <td>0</td>\n",
              "      <td>1</td>\n",
              "    </tr>\n",
              "    <tr>\n",
              "      <th>4922</th>\n",
              "      <td>0</td>\n",
              "      <td>0</td>\n",
              "      <td>0</td>\n",
              "      <td>0</td>\n",
              "      <td>0</td>\n",
              "      <td>0</td>\n",
              "      <td>0</td>\n",
              "      <td>0</td>\n",
              "      <td>0</td>\n",
              "      <td>0</td>\n",
              "      <td>...</td>\n",
              "      <td>0</td>\n",
              "      <td>0</td>\n",
              "      <td>0</td>\n",
              "      <td>0</td>\n",
              "      <td>0</td>\n",
              "      <td>0</td>\n",
              "      <td>0</td>\n",
              "      <td>0</td>\n",
              "      <td>0</td>\n",
              "      <td>0</td>\n",
              "    </tr>\n",
              "    <tr>\n",
              "      <th>4923</th>\n",
              "      <td>0</td>\n",
              "      <td>0</td>\n",
              "      <td>0</td>\n",
              "      <td>0</td>\n",
              "      <td>0</td>\n",
              "      <td>0</td>\n",
              "      <td>0</td>\n",
              "      <td>0</td>\n",
              "      <td>0</td>\n",
              "      <td>0</td>\n",
              "      <td>...</td>\n",
              "      <td>0</td>\n",
              "      <td>0</td>\n",
              "      <td>0</td>\n",
              "      <td>0</td>\n",
              "      <td>0</td>\n",
              "      <td>0</td>\n",
              "      <td>0</td>\n",
              "      <td>0</td>\n",
              "      <td>0</td>\n",
              "      <td>0</td>\n",
              "    </tr>\n",
              "    <tr>\n",
              "      <th>4924</th>\n",
              "      <td>0</td>\n",
              "      <td>0</td>\n",
              "      <td>0</td>\n",
              "      <td>0</td>\n",
              "      <td>0</td>\n",
              "      <td>0</td>\n",
              "      <td>0</td>\n",
              "      <td>0</td>\n",
              "      <td>0</td>\n",
              "      <td>0</td>\n",
              "      <td>...</td>\n",
              "      <td>0</td>\n",
              "      <td>0</td>\n",
              "      <td>0</td>\n",
              "      <td>0</td>\n",
              "      <td>0</td>\n",
              "      <td>0</td>\n",
              "      <td>0</td>\n",
              "      <td>0</td>\n",
              "      <td>0</td>\n",
              "      <td>0</td>\n",
              "    </tr>\n",
              "  </tbody>\n",
              "</table>\n",
              "<p>4925 rows × 34 columns</p>\n",
              "</div>\n",
              "      <button class=\"colab-df-convert\" onclick=\"convertToInteractive('df-64d8ca2f-32ea-47d2-aa09-cb66cc21ae47')\"\n",
              "              title=\"Convert this dataframe to an interactive table.\"\n",
              "              style=\"display:none;\">\n",
              "        \n",
              "  <svg xmlns=\"http://www.w3.org/2000/svg\" height=\"24px\"viewBox=\"0 0 24 24\"\n",
              "       width=\"24px\">\n",
              "    <path d=\"M0 0h24v24H0V0z\" fill=\"none\"/>\n",
              "    <path d=\"M18.56 5.44l.94 2.06.94-2.06 2.06-.94-2.06-.94-.94-2.06-.94 2.06-2.06.94zm-11 1L8.5 8.5l.94-2.06 2.06-.94-2.06-.94L8.5 2.5l-.94 2.06-2.06.94zm10 10l.94 2.06.94-2.06 2.06-.94-2.06-.94-.94-2.06-.94 2.06-2.06.94z\"/><path d=\"M17.41 7.96l-1.37-1.37c-.4-.4-.92-.59-1.43-.59-.52 0-1.04.2-1.43.59L10.3 9.45l-7.72 7.72c-.78.78-.78 2.05 0 2.83L4 21.41c.39.39.9.59 1.41.59.51 0 1.02-.2 1.41-.59l7.78-7.78 2.81-2.81c.8-.78.8-2.07 0-2.86zM5.41 20L4 18.59l7.72-7.72 1.47 1.35L5.41 20z\"/>\n",
              "  </svg>\n",
              "      </button>\n",
              "      \n",
              "  <style>\n",
              "    .colab-df-container {\n",
              "      display:flex;\n",
              "      flex-wrap:wrap;\n",
              "      gap: 12px;\n",
              "    }\n",
              "\n",
              "    .colab-df-convert {\n",
              "      background-color: #E8F0FE;\n",
              "      border: none;\n",
              "      border-radius: 50%;\n",
              "      cursor: pointer;\n",
              "      display: none;\n",
              "      fill: #1967D2;\n",
              "      height: 32px;\n",
              "      padding: 0 0 0 0;\n",
              "      width: 32px;\n",
              "    }\n",
              "\n",
              "    .colab-df-convert:hover {\n",
              "      background-color: #E2EBFA;\n",
              "      box-shadow: 0px 1px 2px rgba(60, 64, 67, 0.3), 0px 1px 3px 1px rgba(60, 64, 67, 0.15);\n",
              "      fill: #174EA6;\n",
              "    }\n",
              "\n",
              "    [theme=dark] .colab-df-convert {\n",
              "      background-color: #3B4455;\n",
              "      fill: #D2E3FC;\n",
              "    }\n",
              "\n",
              "    [theme=dark] .colab-df-convert:hover {\n",
              "      background-color: #434B5C;\n",
              "      box-shadow: 0px 1px 3px 1px rgba(0, 0, 0, 0.15);\n",
              "      filter: drop-shadow(0px 1px 2px rgba(0, 0, 0, 0.3));\n",
              "      fill: #FFFFFF;\n",
              "    }\n",
              "  </style>\n",
              "\n",
              "      <script>\n",
              "        const buttonEl =\n",
              "          document.querySelector('#df-64d8ca2f-32ea-47d2-aa09-cb66cc21ae47 button.colab-df-convert');\n",
              "        buttonEl.style.display =\n",
              "          google.colab.kernel.accessAllowed ? 'block' : 'none';\n",
              "\n",
              "        async function convertToInteractive(key) {\n",
              "          const element = document.querySelector('#df-64d8ca2f-32ea-47d2-aa09-cb66cc21ae47');\n",
              "          const dataTable =\n",
              "            await google.colab.kernel.invokeFunction('convertToInteractive',\n",
              "                                                     [key], {});\n",
              "          if (!dataTable) return;\n",
              "\n",
              "          const docLinkHtml = 'Like what you see? Visit the ' +\n",
              "            '<a target=\"_blank\" href=https://colab.research.google.com/notebooks/data_table.ipynb>data table notebook</a>'\n",
              "            + ' to learn more about interactive tables.';\n",
              "          element.innerHTML = '';\n",
              "          dataTable['output_type'] = 'display_data';\n",
              "          await google.colab.output.renderOutput(dataTable, element);\n",
              "          const docLink = document.createElement('div');\n",
              "          docLink.innerHTML = docLinkHtml;\n",
              "          element.appendChild(docLink);\n",
              "        }\n",
              "      </script>\n",
              "    </div>\n",
              "  </div>\n",
              "  "
            ]
          },
          "metadata": {},
          "execution_count": 580
        }
      ]
    },
    {
      "cell_type": "code",
      "source": [
        "df2 = pd.concat([df1,dummies1.drop('other',axis = \"columns\")],axis = \"columns\")\n",
        "df2"
      ],
      "metadata": {
        "colab": {
          "base_uri": "https://localhost:8080/",
          "height": 783
        },
        "id": "vVHzgrb6shAC",
        "outputId": "86a80033-97eb-4625-d31f-86babae8ed3d"
      },
      "execution_count": 581,
      "outputs": [
        {
          "output_type": "execute_result",
          "data": {
            "text/plain": [
              "      Price  Area  Bedrooms  Bathrooms      Location                Builder  \\\n",
              "0     25.00   728       2.0          2         Avadi      Independent house   \n",
              "1     26.00   739       2.0          1         Avadi      Independent house   \n",
              "2     60.00  1150       3.0          3         Avadi      Independent house   \n",
              "3     48.00   931       2.0          2         Avadi      Independent house   \n",
              "4     20.00   317       1.0          1         Avadi      Independent house   \n",
              "...     ...   ...       ...        ...           ...                    ...   \n",
              "4920  52.67   878       2.0          2  Mugalivakkam  Lifestyle Le Paradise   \n",
              "4921  51.64   906       2.0          3  Mugalivakkam                  other   \n",
              "4922  75.70  1037       2.0          2  Mugalivakkam      Independent house   \n",
              "4923  70.24  1171       3.0          3  Mugalivakkam  Lifestyle Le Paradise   \n",
              "4924  70.24  1171       3.0          3  Mugalivakkam  Lifestyle Le Paradise   \n",
              "\n",
              "      Status  Adroit Prosper  Akshaya Orlando A1 To A6  Akshaya Republic  ...  \\\n",
              "0          0               0                         0                 0  ...   \n",
              "1          0               0                         0                 0  ...   \n",
              "2          0               0                         0                 0  ...   \n",
              "3          0               0                         0                 0  ...   \n",
              "4          0               0                         0                 0  ...   \n",
              "...      ...             ...                       ...               ...  ...   \n",
              "4920       1               0                         0                 0  ...   \n",
              "4921       1               0                         0                 0  ...   \n",
              "4922       1               0                         0                 0  ...   \n",
              "4923       1               0                         0                 0  ...   \n",
              "4924       1               0                         0                 0  ...   \n",
              "\n",
              "      Risland The Ace  Samprathy Aura  Shriram Code Name Mangalam  \\\n",
              "0                   0               0                           0   \n",
              "1                   0               0                           0   \n",
              "2                   0               0                           0   \n",
              "3                   0               0                           0   \n",
              "4                   0               0                           0   \n",
              "...               ...             ...                         ...   \n",
              "4920                0               0                           0   \n",
              "4921                0               0                           0   \n",
              "4922                0               0                           0   \n",
              "4923                0               0                           0   \n",
              "4924                0               0                           0   \n",
              "\n",
              "      Shriram Park 63  TVS Magnific At TVS Emerald Peninsula  \\\n",
              "0                   0                                      0   \n",
              "1                   0                                      0   \n",
              "2                   0                                      0   \n",
              "3                   0                                      0   \n",
              "4                   0                                      0   \n",
              "...               ...                                    ...   \n",
              "4920                0                                      0   \n",
              "4921                0                                      0   \n",
              "4922                0                                      0   \n",
              "4923                0                                      0   \n",
              "4924                0                                      0   \n",
              "\n",
              "      Tata Tata New Value Homes New Haven Ribbon Walk  Urban Amaze  \\\n",
              "0                                                   0            0   \n",
              "1                                                   0            0   \n",
              "2                                                   0            0   \n",
              "3                                                   0            0   \n",
              "4                                                   0            0   \n",
              "...                                               ...          ...   \n",
              "4920                                                0            0   \n",
              "4921                                                0            0   \n",
              "4922                                                0            0   \n",
              "4923                                                0            0   \n",
              "4924                                                0            0   \n",
              "\n",
              "      Urbanrise Code Name Independence Day  Urbanrise Code Name New Porur  \\\n",
              "0                                        0                              0   \n",
              "1                                        0                              0   \n",
              "2                                        0                              0   \n",
              "3                                        0                              0   \n",
              "4                                        0                              0   \n",
              "...                                    ...                            ...   \n",
              "4920                                     0                              0   \n",
              "4921                                     0                              0   \n",
              "4922                                     0                              0   \n",
              "4923                                     0                              0   \n",
              "4924                                     0                              0   \n",
              "\n",
              "      Vijay Raja VRX 360  \n",
              "0                      0  \n",
              "1                      0  \n",
              "2                      0  \n",
              "3                      0  \n",
              "4                      0  \n",
              "...                  ...  \n",
              "4920                   0  \n",
              "4921                   0  \n",
              "4922                   0  \n",
              "4923                   0  \n",
              "4924                   0  \n",
              "\n",
              "[4925 rows x 40 columns]"
            ],
            "text/html": [
              "\n",
              "  <div id=\"df-ec803f5f-f49f-45ee-8f36-800b82d4e3b9\">\n",
              "    <div class=\"colab-df-container\">\n",
              "      <div>\n",
              "<style scoped>\n",
              "    .dataframe tbody tr th:only-of-type {\n",
              "        vertical-align: middle;\n",
              "    }\n",
              "\n",
              "    .dataframe tbody tr th {\n",
              "        vertical-align: top;\n",
              "    }\n",
              "\n",
              "    .dataframe thead th {\n",
              "        text-align: right;\n",
              "    }\n",
              "</style>\n",
              "<table border=\"1\" class=\"dataframe\">\n",
              "  <thead>\n",
              "    <tr style=\"text-align: right;\">\n",
              "      <th></th>\n",
              "      <th>Price</th>\n",
              "      <th>Area</th>\n",
              "      <th>Bedrooms</th>\n",
              "      <th>Bathrooms</th>\n",
              "      <th>Location</th>\n",
              "      <th>Builder</th>\n",
              "      <th>Status</th>\n",
              "      <th>Adroit Prosper</th>\n",
              "      <th>Akshaya Orlando A1 To A6</th>\n",
              "      <th>Akshaya Republic</th>\n",
              "      <th>...</th>\n",
              "      <th>Risland The Ace</th>\n",
              "      <th>Samprathy Aura</th>\n",
              "      <th>Shriram Code Name Mangalam</th>\n",
              "      <th>Shriram Park 63</th>\n",
              "      <th>TVS Magnific At TVS Emerald Peninsula</th>\n",
              "      <th>Tata Tata New Value Homes New Haven Ribbon Walk</th>\n",
              "      <th>Urban Amaze</th>\n",
              "      <th>Urbanrise Code Name Independence Day</th>\n",
              "      <th>Urbanrise Code Name New Porur</th>\n",
              "      <th>Vijay Raja VRX 360</th>\n",
              "    </tr>\n",
              "  </thead>\n",
              "  <tbody>\n",
              "    <tr>\n",
              "      <th>0</th>\n",
              "      <td>25.00</td>\n",
              "      <td>728</td>\n",
              "      <td>2.0</td>\n",
              "      <td>2</td>\n",
              "      <td>Avadi</td>\n",
              "      <td>Independent house</td>\n",
              "      <td>0</td>\n",
              "      <td>0</td>\n",
              "      <td>0</td>\n",
              "      <td>0</td>\n",
              "      <td>...</td>\n",
              "      <td>0</td>\n",
              "      <td>0</td>\n",
              "      <td>0</td>\n",
              "      <td>0</td>\n",
              "      <td>0</td>\n",
              "      <td>0</td>\n",
              "      <td>0</td>\n",
              "      <td>0</td>\n",
              "      <td>0</td>\n",
              "      <td>0</td>\n",
              "    </tr>\n",
              "    <tr>\n",
              "      <th>1</th>\n",
              "      <td>26.00</td>\n",
              "      <td>739</td>\n",
              "      <td>2.0</td>\n",
              "      <td>1</td>\n",
              "      <td>Avadi</td>\n",
              "      <td>Independent house</td>\n",
              "      <td>0</td>\n",
              "      <td>0</td>\n",
              "      <td>0</td>\n",
              "      <td>0</td>\n",
              "      <td>...</td>\n",
              "      <td>0</td>\n",
              "      <td>0</td>\n",
              "      <td>0</td>\n",
              "      <td>0</td>\n",
              "      <td>0</td>\n",
              "      <td>0</td>\n",
              "      <td>0</td>\n",
              "      <td>0</td>\n",
              "      <td>0</td>\n",
              "      <td>0</td>\n",
              "    </tr>\n",
              "    <tr>\n",
              "      <th>2</th>\n",
              "      <td>60.00</td>\n",
              "      <td>1150</td>\n",
              "      <td>3.0</td>\n",
              "      <td>3</td>\n",
              "      <td>Avadi</td>\n",
              "      <td>Independent house</td>\n",
              "      <td>0</td>\n",
              "      <td>0</td>\n",
              "      <td>0</td>\n",
              "      <td>0</td>\n",
              "      <td>...</td>\n",
              "      <td>0</td>\n",
              "      <td>0</td>\n",
              "      <td>0</td>\n",
              "      <td>0</td>\n",
              "      <td>0</td>\n",
              "      <td>0</td>\n",
              "      <td>0</td>\n",
              "      <td>0</td>\n",
              "      <td>0</td>\n",
              "      <td>0</td>\n",
              "    </tr>\n",
              "    <tr>\n",
              "      <th>3</th>\n",
              "      <td>48.00</td>\n",
              "      <td>931</td>\n",
              "      <td>2.0</td>\n",
              "      <td>2</td>\n",
              "      <td>Avadi</td>\n",
              "      <td>Independent house</td>\n",
              "      <td>0</td>\n",
              "      <td>0</td>\n",
              "      <td>0</td>\n",
              "      <td>0</td>\n",
              "      <td>...</td>\n",
              "      <td>0</td>\n",
              "      <td>0</td>\n",
              "      <td>0</td>\n",
              "      <td>0</td>\n",
              "      <td>0</td>\n",
              "      <td>0</td>\n",
              "      <td>0</td>\n",
              "      <td>0</td>\n",
              "      <td>0</td>\n",
              "      <td>0</td>\n",
              "    </tr>\n",
              "    <tr>\n",
              "      <th>4</th>\n",
              "      <td>20.00</td>\n",
              "      <td>317</td>\n",
              "      <td>1.0</td>\n",
              "      <td>1</td>\n",
              "      <td>Avadi</td>\n",
              "      <td>Independent house</td>\n",
              "      <td>0</td>\n",
              "      <td>0</td>\n",
              "      <td>0</td>\n",
              "      <td>0</td>\n",
              "      <td>...</td>\n",
              "      <td>0</td>\n",
              "      <td>0</td>\n",
              "      <td>0</td>\n",
              "      <td>0</td>\n",
              "      <td>0</td>\n",
              "      <td>0</td>\n",
              "      <td>0</td>\n",
              "      <td>0</td>\n",
              "      <td>0</td>\n",
              "      <td>0</td>\n",
              "    </tr>\n",
              "    <tr>\n",
              "      <th>...</th>\n",
              "      <td>...</td>\n",
              "      <td>...</td>\n",
              "      <td>...</td>\n",
              "      <td>...</td>\n",
              "      <td>...</td>\n",
              "      <td>...</td>\n",
              "      <td>...</td>\n",
              "      <td>...</td>\n",
              "      <td>...</td>\n",
              "      <td>...</td>\n",
              "      <td>...</td>\n",
              "      <td>...</td>\n",
              "      <td>...</td>\n",
              "      <td>...</td>\n",
              "      <td>...</td>\n",
              "      <td>...</td>\n",
              "      <td>...</td>\n",
              "      <td>...</td>\n",
              "      <td>...</td>\n",
              "      <td>...</td>\n",
              "      <td>...</td>\n",
              "    </tr>\n",
              "    <tr>\n",
              "      <th>4920</th>\n",
              "      <td>52.67</td>\n",
              "      <td>878</td>\n",
              "      <td>2.0</td>\n",
              "      <td>2</td>\n",
              "      <td>Mugalivakkam</td>\n",
              "      <td>Lifestyle Le Paradise</td>\n",
              "      <td>1</td>\n",
              "      <td>0</td>\n",
              "      <td>0</td>\n",
              "      <td>0</td>\n",
              "      <td>...</td>\n",
              "      <td>0</td>\n",
              "      <td>0</td>\n",
              "      <td>0</td>\n",
              "      <td>0</td>\n",
              "      <td>0</td>\n",
              "      <td>0</td>\n",
              "      <td>0</td>\n",
              "      <td>0</td>\n",
              "      <td>0</td>\n",
              "      <td>0</td>\n",
              "    </tr>\n",
              "    <tr>\n",
              "      <th>4921</th>\n",
              "      <td>51.64</td>\n",
              "      <td>906</td>\n",
              "      <td>2.0</td>\n",
              "      <td>3</td>\n",
              "      <td>Mugalivakkam</td>\n",
              "      <td>other</td>\n",
              "      <td>1</td>\n",
              "      <td>0</td>\n",
              "      <td>0</td>\n",
              "      <td>0</td>\n",
              "      <td>...</td>\n",
              "      <td>0</td>\n",
              "      <td>0</td>\n",
              "      <td>0</td>\n",
              "      <td>0</td>\n",
              "      <td>0</td>\n",
              "      <td>0</td>\n",
              "      <td>0</td>\n",
              "      <td>0</td>\n",
              "      <td>0</td>\n",
              "      <td>0</td>\n",
              "    </tr>\n",
              "    <tr>\n",
              "      <th>4922</th>\n",
              "      <td>75.70</td>\n",
              "      <td>1037</td>\n",
              "      <td>2.0</td>\n",
              "      <td>2</td>\n",
              "      <td>Mugalivakkam</td>\n",
              "      <td>Independent house</td>\n",
              "      <td>1</td>\n",
              "      <td>0</td>\n",
              "      <td>0</td>\n",
              "      <td>0</td>\n",
              "      <td>...</td>\n",
              "      <td>0</td>\n",
              "      <td>0</td>\n",
              "      <td>0</td>\n",
              "      <td>0</td>\n",
              "      <td>0</td>\n",
              "      <td>0</td>\n",
              "      <td>0</td>\n",
              "      <td>0</td>\n",
              "      <td>0</td>\n",
              "      <td>0</td>\n",
              "    </tr>\n",
              "    <tr>\n",
              "      <th>4923</th>\n",
              "      <td>70.24</td>\n",
              "      <td>1171</td>\n",
              "      <td>3.0</td>\n",
              "      <td>3</td>\n",
              "      <td>Mugalivakkam</td>\n",
              "      <td>Lifestyle Le Paradise</td>\n",
              "      <td>1</td>\n",
              "      <td>0</td>\n",
              "      <td>0</td>\n",
              "      <td>0</td>\n",
              "      <td>...</td>\n",
              "      <td>0</td>\n",
              "      <td>0</td>\n",
              "      <td>0</td>\n",
              "      <td>0</td>\n",
              "      <td>0</td>\n",
              "      <td>0</td>\n",
              "      <td>0</td>\n",
              "      <td>0</td>\n",
              "      <td>0</td>\n",
              "      <td>0</td>\n",
              "    </tr>\n",
              "    <tr>\n",
              "      <th>4924</th>\n",
              "      <td>70.24</td>\n",
              "      <td>1171</td>\n",
              "      <td>3.0</td>\n",
              "      <td>3</td>\n",
              "      <td>Mugalivakkam</td>\n",
              "      <td>Lifestyle Le Paradise</td>\n",
              "      <td>1</td>\n",
              "      <td>0</td>\n",
              "      <td>0</td>\n",
              "      <td>0</td>\n",
              "      <td>...</td>\n",
              "      <td>0</td>\n",
              "      <td>0</td>\n",
              "      <td>0</td>\n",
              "      <td>0</td>\n",
              "      <td>0</td>\n",
              "      <td>0</td>\n",
              "      <td>0</td>\n",
              "      <td>0</td>\n",
              "      <td>0</td>\n",
              "      <td>0</td>\n",
              "    </tr>\n",
              "  </tbody>\n",
              "</table>\n",
              "<p>4925 rows × 40 columns</p>\n",
              "</div>\n",
              "      <button class=\"colab-df-convert\" onclick=\"convertToInteractive('df-ec803f5f-f49f-45ee-8f36-800b82d4e3b9')\"\n",
              "              title=\"Convert this dataframe to an interactive table.\"\n",
              "              style=\"display:none;\">\n",
              "        \n",
              "  <svg xmlns=\"http://www.w3.org/2000/svg\" height=\"24px\"viewBox=\"0 0 24 24\"\n",
              "       width=\"24px\">\n",
              "    <path d=\"M0 0h24v24H0V0z\" fill=\"none\"/>\n",
              "    <path d=\"M18.56 5.44l.94 2.06.94-2.06 2.06-.94-2.06-.94-.94-2.06-.94 2.06-2.06.94zm-11 1L8.5 8.5l.94-2.06 2.06-.94-2.06-.94L8.5 2.5l-.94 2.06-2.06.94zm10 10l.94 2.06.94-2.06 2.06-.94-2.06-.94-.94-2.06-.94 2.06-2.06.94z\"/><path d=\"M17.41 7.96l-1.37-1.37c-.4-.4-.92-.59-1.43-.59-.52 0-1.04.2-1.43.59L10.3 9.45l-7.72 7.72c-.78.78-.78 2.05 0 2.83L4 21.41c.39.39.9.59 1.41.59.51 0 1.02-.2 1.41-.59l7.78-7.78 2.81-2.81c.8-.78.8-2.07 0-2.86zM5.41 20L4 18.59l7.72-7.72 1.47 1.35L5.41 20z\"/>\n",
              "  </svg>\n",
              "      </button>\n",
              "      \n",
              "  <style>\n",
              "    .colab-df-container {\n",
              "      display:flex;\n",
              "      flex-wrap:wrap;\n",
              "      gap: 12px;\n",
              "    }\n",
              "\n",
              "    .colab-df-convert {\n",
              "      background-color: #E8F0FE;\n",
              "      border: none;\n",
              "      border-radius: 50%;\n",
              "      cursor: pointer;\n",
              "      display: none;\n",
              "      fill: #1967D2;\n",
              "      height: 32px;\n",
              "      padding: 0 0 0 0;\n",
              "      width: 32px;\n",
              "    }\n",
              "\n",
              "    .colab-df-convert:hover {\n",
              "      background-color: #E2EBFA;\n",
              "      box-shadow: 0px 1px 2px rgba(60, 64, 67, 0.3), 0px 1px 3px 1px rgba(60, 64, 67, 0.15);\n",
              "      fill: #174EA6;\n",
              "    }\n",
              "\n",
              "    [theme=dark] .colab-df-convert {\n",
              "      background-color: #3B4455;\n",
              "      fill: #D2E3FC;\n",
              "    }\n",
              "\n",
              "    [theme=dark] .colab-df-convert:hover {\n",
              "      background-color: #434B5C;\n",
              "      box-shadow: 0px 1px 3px 1px rgba(0, 0, 0, 0.15);\n",
              "      filter: drop-shadow(0px 1px 2px rgba(0, 0, 0, 0.3));\n",
              "      fill: #FFFFFF;\n",
              "    }\n",
              "  </style>\n",
              "\n",
              "      <script>\n",
              "        const buttonEl =\n",
              "          document.querySelector('#df-ec803f5f-f49f-45ee-8f36-800b82d4e3b9 button.colab-df-convert');\n",
              "        buttonEl.style.display =\n",
              "          google.colab.kernel.accessAllowed ? 'block' : 'none';\n",
              "\n",
              "        async function convertToInteractive(key) {\n",
              "          const element = document.querySelector('#df-ec803f5f-f49f-45ee-8f36-800b82d4e3b9');\n",
              "          const dataTable =\n",
              "            await google.colab.kernel.invokeFunction('convertToInteractive',\n",
              "                                                     [key], {});\n",
              "          if (!dataTable) return;\n",
              "\n",
              "          const docLinkHtml = 'Like what you see? Visit the ' +\n",
              "            '<a target=\"_blank\" href=https://colab.research.google.com/notebooks/data_table.ipynb>data table notebook</a>'\n",
              "            + ' to learn more about interactive tables.';\n",
              "          element.innerHTML = '';\n",
              "          dataTable['output_type'] = 'display_data';\n",
              "          await google.colab.output.renderOutput(dataTable, element);\n",
              "          const docLink = document.createElement('div');\n",
              "          docLink.innerHTML = docLinkHtml;\n",
              "          element.appendChild(docLink);\n",
              "        }\n",
              "      </script>\n",
              "    </div>\n",
              "  </div>\n",
              "  "
            ]
          },
          "metadata": {},
          "execution_count": 581
        }
      ]
    },
    {
      "cell_type": "code",
      "source": [
        "df2.shape"
      ],
      "metadata": {
        "colab": {
          "base_uri": "https://localhost:8080/"
        },
        "id": "z08X9ipdRiQ5",
        "outputId": "47ad2a19-05e9-434b-c7f3-cde14df02ade"
      },
      "execution_count": 582,
      "outputs": [
        {
          "output_type": "execute_result",
          "data": {
            "text/plain": [
              "(4925, 40)"
            ]
          },
          "metadata": {},
          "execution_count": 582
        }
      ]
    },
    {
      "cell_type": "code",
      "source": [
        "df3 = df2.drop('Builder',axis = \"columns\")\n",
        "df3"
      ],
      "metadata": {
        "colab": {
          "base_uri": "https://localhost:8080/",
          "height": 627
        },
        "id": "RuxH_tDDtBG6",
        "outputId": "793fbd94-ecab-46c2-814c-b91bee04da8f"
      },
      "execution_count": 583,
      "outputs": [
        {
          "output_type": "execute_result",
          "data": {
            "text/plain": [
              "      Price  Area  Bedrooms  Bathrooms      Location  Status  Adroit Prosper  \\\n",
              "0     25.00   728       2.0          2         Avadi       0               0   \n",
              "1     26.00   739       2.0          1         Avadi       0               0   \n",
              "2     60.00  1150       3.0          3         Avadi       0               0   \n",
              "3     48.00   931       2.0          2         Avadi       0               0   \n",
              "4     20.00   317       1.0          1         Avadi       0               0   \n",
              "...     ...   ...       ...        ...           ...     ...             ...   \n",
              "4920  52.67   878       2.0          2  Mugalivakkam       1               0   \n",
              "4921  51.64   906       2.0          3  Mugalivakkam       1               0   \n",
              "4922  75.70  1037       2.0          2  Mugalivakkam       1               0   \n",
              "4923  70.24  1171       3.0          3  Mugalivakkam       1               0   \n",
              "4924  70.24  1171       3.0          3  Mugalivakkam       1               0   \n",
              "\n",
              "      Akshaya Orlando A1 To A6  Akshaya Republic  Akshaya Tango  ...  \\\n",
              "0                            0                 0              0  ...   \n",
              "1                            0                 0              0  ...   \n",
              "2                            0                 0              0  ...   \n",
              "3                            0                 0              0  ...   \n",
              "4                            0                 0              0  ...   \n",
              "...                        ...               ...            ...  ...   \n",
              "4920                         0                 0              0  ...   \n",
              "4921                         0                 0              0  ...   \n",
              "4922                         0                 0              0  ...   \n",
              "4923                         0                 0              0  ...   \n",
              "4924                         0                 0              0  ...   \n",
              "\n",
              "      Risland The Ace  Samprathy Aura  Shriram Code Name Mangalam  \\\n",
              "0                   0               0                           0   \n",
              "1                   0               0                           0   \n",
              "2                   0               0                           0   \n",
              "3                   0               0                           0   \n",
              "4                   0               0                           0   \n",
              "...               ...             ...                         ...   \n",
              "4920                0               0                           0   \n",
              "4921                0               0                           0   \n",
              "4922                0               0                           0   \n",
              "4923                0               0                           0   \n",
              "4924                0               0                           0   \n",
              "\n",
              "      Shriram Park 63  TVS Magnific At TVS Emerald Peninsula  \\\n",
              "0                   0                                      0   \n",
              "1                   0                                      0   \n",
              "2                   0                                      0   \n",
              "3                   0                                      0   \n",
              "4                   0                                      0   \n",
              "...               ...                                    ...   \n",
              "4920                0                                      0   \n",
              "4921                0                                      0   \n",
              "4922                0                                      0   \n",
              "4923                0                                      0   \n",
              "4924                0                                      0   \n",
              "\n",
              "      Tata Tata New Value Homes New Haven Ribbon Walk  Urban Amaze  \\\n",
              "0                                                   0            0   \n",
              "1                                                   0            0   \n",
              "2                                                   0            0   \n",
              "3                                                   0            0   \n",
              "4                                                   0            0   \n",
              "...                                               ...          ...   \n",
              "4920                                                0            0   \n",
              "4921                                                0            0   \n",
              "4922                                                0            0   \n",
              "4923                                                0            0   \n",
              "4924                                                0            0   \n",
              "\n",
              "      Urbanrise Code Name Independence Day  Urbanrise Code Name New Porur  \\\n",
              "0                                        0                              0   \n",
              "1                                        0                              0   \n",
              "2                                        0                              0   \n",
              "3                                        0                              0   \n",
              "4                                        0                              0   \n",
              "...                                    ...                            ...   \n",
              "4920                                     0                              0   \n",
              "4921                                     0                              0   \n",
              "4922                                     0                              0   \n",
              "4923                                     0                              0   \n",
              "4924                                     0                              0   \n",
              "\n",
              "      Vijay Raja VRX 360  \n",
              "0                      0  \n",
              "1                      0  \n",
              "2                      0  \n",
              "3                      0  \n",
              "4                      0  \n",
              "...                  ...  \n",
              "4920                   0  \n",
              "4921                   0  \n",
              "4922                   0  \n",
              "4923                   0  \n",
              "4924                   0  \n",
              "\n",
              "[4925 rows x 39 columns]"
            ],
            "text/html": [
              "\n",
              "  <div id=\"df-7274349f-5051-4256-a74b-70e0b7695746\">\n",
              "    <div class=\"colab-df-container\">\n",
              "      <div>\n",
              "<style scoped>\n",
              "    .dataframe tbody tr th:only-of-type {\n",
              "        vertical-align: middle;\n",
              "    }\n",
              "\n",
              "    .dataframe tbody tr th {\n",
              "        vertical-align: top;\n",
              "    }\n",
              "\n",
              "    .dataframe thead th {\n",
              "        text-align: right;\n",
              "    }\n",
              "</style>\n",
              "<table border=\"1\" class=\"dataframe\">\n",
              "  <thead>\n",
              "    <tr style=\"text-align: right;\">\n",
              "      <th></th>\n",
              "      <th>Price</th>\n",
              "      <th>Area</th>\n",
              "      <th>Bedrooms</th>\n",
              "      <th>Bathrooms</th>\n",
              "      <th>Location</th>\n",
              "      <th>Status</th>\n",
              "      <th>Adroit Prosper</th>\n",
              "      <th>Akshaya Orlando A1 To A6</th>\n",
              "      <th>Akshaya Republic</th>\n",
              "      <th>Akshaya Tango</th>\n",
              "      <th>...</th>\n",
              "      <th>Risland The Ace</th>\n",
              "      <th>Samprathy Aura</th>\n",
              "      <th>Shriram Code Name Mangalam</th>\n",
              "      <th>Shriram Park 63</th>\n",
              "      <th>TVS Magnific At TVS Emerald Peninsula</th>\n",
              "      <th>Tata Tata New Value Homes New Haven Ribbon Walk</th>\n",
              "      <th>Urban Amaze</th>\n",
              "      <th>Urbanrise Code Name Independence Day</th>\n",
              "      <th>Urbanrise Code Name New Porur</th>\n",
              "      <th>Vijay Raja VRX 360</th>\n",
              "    </tr>\n",
              "  </thead>\n",
              "  <tbody>\n",
              "    <tr>\n",
              "      <th>0</th>\n",
              "      <td>25.00</td>\n",
              "      <td>728</td>\n",
              "      <td>2.0</td>\n",
              "      <td>2</td>\n",
              "      <td>Avadi</td>\n",
              "      <td>0</td>\n",
              "      <td>0</td>\n",
              "      <td>0</td>\n",
              "      <td>0</td>\n",
              "      <td>0</td>\n",
              "      <td>...</td>\n",
              "      <td>0</td>\n",
              "      <td>0</td>\n",
              "      <td>0</td>\n",
              "      <td>0</td>\n",
              "      <td>0</td>\n",
              "      <td>0</td>\n",
              "      <td>0</td>\n",
              "      <td>0</td>\n",
              "      <td>0</td>\n",
              "      <td>0</td>\n",
              "    </tr>\n",
              "    <tr>\n",
              "      <th>1</th>\n",
              "      <td>26.00</td>\n",
              "      <td>739</td>\n",
              "      <td>2.0</td>\n",
              "      <td>1</td>\n",
              "      <td>Avadi</td>\n",
              "      <td>0</td>\n",
              "      <td>0</td>\n",
              "      <td>0</td>\n",
              "      <td>0</td>\n",
              "      <td>0</td>\n",
              "      <td>...</td>\n",
              "      <td>0</td>\n",
              "      <td>0</td>\n",
              "      <td>0</td>\n",
              "      <td>0</td>\n",
              "      <td>0</td>\n",
              "      <td>0</td>\n",
              "      <td>0</td>\n",
              "      <td>0</td>\n",
              "      <td>0</td>\n",
              "      <td>0</td>\n",
              "    </tr>\n",
              "    <tr>\n",
              "      <th>2</th>\n",
              "      <td>60.00</td>\n",
              "      <td>1150</td>\n",
              "      <td>3.0</td>\n",
              "      <td>3</td>\n",
              "      <td>Avadi</td>\n",
              "      <td>0</td>\n",
              "      <td>0</td>\n",
              "      <td>0</td>\n",
              "      <td>0</td>\n",
              "      <td>0</td>\n",
              "      <td>...</td>\n",
              "      <td>0</td>\n",
              "      <td>0</td>\n",
              "      <td>0</td>\n",
              "      <td>0</td>\n",
              "      <td>0</td>\n",
              "      <td>0</td>\n",
              "      <td>0</td>\n",
              "      <td>0</td>\n",
              "      <td>0</td>\n",
              "      <td>0</td>\n",
              "    </tr>\n",
              "    <tr>\n",
              "      <th>3</th>\n",
              "      <td>48.00</td>\n",
              "      <td>931</td>\n",
              "      <td>2.0</td>\n",
              "      <td>2</td>\n",
              "      <td>Avadi</td>\n",
              "      <td>0</td>\n",
              "      <td>0</td>\n",
              "      <td>0</td>\n",
              "      <td>0</td>\n",
              "      <td>0</td>\n",
              "      <td>...</td>\n",
              "      <td>0</td>\n",
              "      <td>0</td>\n",
              "      <td>0</td>\n",
              "      <td>0</td>\n",
              "      <td>0</td>\n",
              "      <td>0</td>\n",
              "      <td>0</td>\n",
              "      <td>0</td>\n",
              "      <td>0</td>\n",
              "      <td>0</td>\n",
              "    </tr>\n",
              "    <tr>\n",
              "      <th>4</th>\n",
              "      <td>20.00</td>\n",
              "      <td>317</td>\n",
              "      <td>1.0</td>\n",
              "      <td>1</td>\n",
              "      <td>Avadi</td>\n",
              "      <td>0</td>\n",
              "      <td>0</td>\n",
              "      <td>0</td>\n",
              "      <td>0</td>\n",
              "      <td>0</td>\n",
              "      <td>...</td>\n",
              "      <td>0</td>\n",
              "      <td>0</td>\n",
              "      <td>0</td>\n",
              "      <td>0</td>\n",
              "      <td>0</td>\n",
              "      <td>0</td>\n",
              "      <td>0</td>\n",
              "      <td>0</td>\n",
              "      <td>0</td>\n",
              "      <td>0</td>\n",
              "    </tr>\n",
              "    <tr>\n",
              "      <th>...</th>\n",
              "      <td>...</td>\n",
              "      <td>...</td>\n",
              "      <td>...</td>\n",
              "      <td>...</td>\n",
              "      <td>...</td>\n",
              "      <td>...</td>\n",
              "      <td>...</td>\n",
              "      <td>...</td>\n",
              "      <td>...</td>\n",
              "      <td>...</td>\n",
              "      <td>...</td>\n",
              "      <td>...</td>\n",
              "      <td>...</td>\n",
              "      <td>...</td>\n",
              "      <td>...</td>\n",
              "      <td>...</td>\n",
              "      <td>...</td>\n",
              "      <td>...</td>\n",
              "      <td>...</td>\n",
              "      <td>...</td>\n",
              "      <td>...</td>\n",
              "    </tr>\n",
              "    <tr>\n",
              "      <th>4920</th>\n",
              "      <td>52.67</td>\n",
              "      <td>878</td>\n",
              "      <td>2.0</td>\n",
              "      <td>2</td>\n",
              "      <td>Mugalivakkam</td>\n",
              "      <td>1</td>\n",
              "      <td>0</td>\n",
              "      <td>0</td>\n",
              "      <td>0</td>\n",
              "      <td>0</td>\n",
              "      <td>...</td>\n",
              "      <td>0</td>\n",
              "      <td>0</td>\n",
              "      <td>0</td>\n",
              "      <td>0</td>\n",
              "      <td>0</td>\n",
              "      <td>0</td>\n",
              "      <td>0</td>\n",
              "      <td>0</td>\n",
              "      <td>0</td>\n",
              "      <td>0</td>\n",
              "    </tr>\n",
              "    <tr>\n",
              "      <th>4921</th>\n",
              "      <td>51.64</td>\n",
              "      <td>906</td>\n",
              "      <td>2.0</td>\n",
              "      <td>3</td>\n",
              "      <td>Mugalivakkam</td>\n",
              "      <td>1</td>\n",
              "      <td>0</td>\n",
              "      <td>0</td>\n",
              "      <td>0</td>\n",
              "      <td>0</td>\n",
              "      <td>...</td>\n",
              "      <td>0</td>\n",
              "      <td>0</td>\n",
              "      <td>0</td>\n",
              "      <td>0</td>\n",
              "      <td>0</td>\n",
              "      <td>0</td>\n",
              "      <td>0</td>\n",
              "      <td>0</td>\n",
              "      <td>0</td>\n",
              "      <td>0</td>\n",
              "    </tr>\n",
              "    <tr>\n",
              "      <th>4922</th>\n",
              "      <td>75.70</td>\n",
              "      <td>1037</td>\n",
              "      <td>2.0</td>\n",
              "      <td>2</td>\n",
              "      <td>Mugalivakkam</td>\n",
              "      <td>1</td>\n",
              "      <td>0</td>\n",
              "      <td>0</td>\n",
              "      <td>0</td>\n",
              "      <td>0</td>\n",
              "      <td>...</td>\n",
              "      <td>0</td>\n",
              "      <td>0</td>\n",
              "      <td>0</td>\n",
              "      <td>0</td>\n",
              "      <td>0</td>\n",
              "      <td>0</td>\n",
              "      <td>0</td>\n",
              "      <td>0</td>\n",
              "      <td>0</td>\n",
              "      <td>0</td>\n",
              "    </tr>\n",
              "    <tr>\n",
              "      <th>4923</th>\n",
              "      <td>70.24</td>\n",
              "      <td>1171</td>\n",
              "      <td>3.0</td>\n",
              "      <td>3</td>\n",
              "      <td>Mugalivakkam</td>\n",
              "      <td>1</td>\n",
              "      <td>0</td>\n",
              "      <td>0</td>\n",
              "      <td>0</td>\n",
              "      <td>0</td>\n",
              "      <td>...</td>\n",
              "      <td>0</td>\n",
              "      <td>0</td>\n",
              "      <td>0</td>\n",
              "      <td>0</td>\n",
              "      <td>0</td>\n",
              "      <td>0</td>\n",
              "      <td>0</td>\n",
              "      <td>0</td>\n",
              "      <td>0</td>\n",
              "      <td>0</td>\n",
              "    </tr>\n",
              "    <tr>\n",
              "      <th>4924</th>\n",
              "      <td>70.24</td>\n",
              "      <td>1171</td>\n",
              "      <td>3.0</td>\n",
              "      <td>3</td>\n",
              "      <td>Mugalivakkam</td>\n",
              "      <td>1</td>\n",
              "      <td>0</td>\n",
              "      <td>0</td>\n",
              "      <td>0</td>\n",
              "      <td>0</td>\n",
              "      <td>...</td>\n",
              "      <td>0</td>\n",
              "      <td>0</td>\n",
              "      <td>0</td>\n",
              "      <td>0</td>\n",
              "      <td>0</td>\n",
              "      <td>0</td>\n",
              "      <td>0</td>\n",
              "      <td>0</td>\n",
              "      <td>0</td>\n",
              "      <td>0</td>\n",
              "    </tr>\n",
              "  </tbody>\n",
              "</table>\n",
              "<p>4925 rows × 39 columns</p>\n",
              "</div>\n",
              "      <button class=\"colab-df-convert\" onclick=\"convertToInteractive('df-7274349f-5051-4256-a74b-70e0b7695746')\"\n",
              "              title=\"Convert this dataframe to an interactive table.\"\n",
              "              style=\"display:none;\">\n",
              "        \n",
              "  <svg xmlns=\"http://www.w3.org/2000/svg\" height=\"24px\"viewBox=\"0 0 24 24\"\n",
              "       width=\"24px\">\n",
              "    <path d=\"M0 0h24v24H0V0z\" fill=\"none\"/>\n",
              "    <path d=\"M18.56 5.44l.94 2.06.94-2.06 2.06-.94-2.06-.94-.94-2.06-.94 2.06-2.06.94zm-11 1L8.5 8.5l.94-2.06 2.06-.94-2.06-.94L8.5 2.5l-.94 2.06-2.06.94zm10 10l.94 2.06.94-2.06 2.06-.94-2.06-.94-.94-2.06-.94 2.06-2.06.94z\"/><path d=\"M17.41 7.96l-1.37-1.37c-.4-.4-.92-.59-1.43-.59-.52 0-1.04.2-1.43.59L10.3 9.45l-7.72 7.72c-.78.78-.78 2.05 0 2.83L4 21.41c.39.39.9.59 1.41.59.51 0 1.02-.2 1.41-.59l7.78-7.78 2.81-2.81c.8-.78.8-2.07 0-2.86zM5.41 20L4 18.59l7.72-7.72 1.47 1.35L5.41 20z\"/>\n",
              "  </svg>\n",
              "      </button>\n",
              "      \n",
              "  <style>\n",
              "    .colab-df-container {\n",
              "      display:flex;\n",
              "      flex-wrap:wrap;\n",
              "      gap: 12px;\n",
              "    }\n",
              "\n",
              "    .colab-df-convert {\n",
              "      background-color: #E8F0FE;\n",
              "      border: none;\n",
              "      border-radius: 50%;\n",
              "      cursor: pointer;\n",
              "      display: none;\n",
              "      fill: #1967D2;\n",
              "      height: 32px;\n",
              "      padding: 0 0 0 0;\n",
              "      width: 32px;\n",
              "    }\n",
              "\n",
              "    .colab-df-convert:hover {\n",
              "      background-color: #E2EBFA;\n",
              "      box-shadow: 0px 1px 2px rgba(60, 64, 67, 0.3), 0px 1px 3px 1px rgba(60, 64, 67, 0.15);\n",
              "      fill: #174EA6;\n",
              "    }\n",
              "\n",
              "    [theme=dark] .colab-df-convert {\n",
              "      background-color: #3B4455;\n",
              "      fill: #D2E3FC;\n",
              "    }\n",
              "\n",
              "    [theme=dark] .colab-df-convert:hover {\n",
              "      background-color: #434B5C;\n",
              "      box-shadow: 0px 1px 3px 1px rgba(0, 0, 0, 0.15);\n",
              "      filter: drop-shadow(0px 1px 2px rgba(0, 0, 0, 0.3));\n",
              "      fill: #FFFFFF;\n",
              "    }\n",
              "  </style>\n",
              "\n",
              "      <script>\n",
              "        const buttonEl =\n",
              "          document.querySelector('#df-7274349f-5051-4256-a74b-70e0b7695746 button.colab-df-convert');\n",
              "        buttonEl.style.display =\n",
              "          google.colab.kernel.accessAllowed ? 'block' : 'none';\n",
              "\n",
              "        async function convertToInteractive(key) {\n",
              "          const element = document.querySelector('#df-7274349f-5051-4256-a74b-70e0b7695746');\n",
              "          const dataTable =\n",
              "            await google.colab.kernel.invokeFunction('convertToInteractive',\n",
              "                                                     [key], {});\n",
              "          if (!dataTable) return;\n",
              "\n",
              "          const docLinkHtml = 'Like what you see? Visit the ' +\n",
              "            '<a target=\"_blank\" href=https://colab.research.google.com/notebooks/data_table.ipynb>data table notebook</a>'\n",
              "            + ' to learn more about interactive tables.';\n",
              "          element.innerHTML = '';\n",
              "          dataTable['output_type'] = 'display_data';\n",
              "          await google.colab.output.renderOutput(dataTable, element);\n",
              "          const docLink = document.createElement('div');\n",
              "          docLink.innerHTML = docLinkHtml;\n",
              "          element.appendChild(docLink);\n",
              "        }\n",
              "      </script>\n",
              "    </div>\n",
              "  </div>\n",
              "  "
            ]
          },
          "metadata": {},
          "execution_count": 583
        }
      ]
    },
    {
      "cell_type": "code",
      "source": [
        "dummies2 = pd.get_dummies(df1.Location)\n",
        "dummies2"
      ],
      "metadata": {
        "colab": {
          "base_uri": "https://localhost:8080/",
          "height": 505
        },
        "id": "78PHrdIDtLhS",
        "outputId": "f82e3ee1-46d6-4964-dd75-5fbe0f929bed"
      },
      "execution_count": 584,
      "outputs": [
        {
          "output_type": "execute_result",
          "data": {
            "text/plain": [
              "      Adyar  Ambattur  Avadi  Choolaimedu  Chromepet  East Tambaram  \\\n",
              "0         0         0      1            0          0              0   \n",
              "1         0         0      1            0          0              0   \n",
              "2         0         0      1            0          0              0   \n",
              "3         0         0      1            0          0              0   \n",
              "4         0         0      1            0          0              0   \n",
              "...     ...       ...    ...          ...        ...            ...   \n",
              "4920      0         0      0            0          0              0   \n",
              "4921      0         0      0            0          0              0   \n",
              "4922      0         0      0            0          0              0   \n",
              "4923      0         0      0            0          0              0   \n",
              "4924      0         0      0            0          0              0   \n",
              "\n",
              "      Guduvancheri  Kelambakkam  Kolathur  Kovilambakkam  ...  Thalambur  \\\n",
              "0                0            0         0              0  ...          0   \n",
              "1                0            0         0              0  ...          0   \n",
              "2                0            0         0              0  ...          0   \n",
              "3                0            0         0              0  ...          0   \n",
              "4                0            0         0              0  ...          0   \n",
              "...            ...          ...       ...            ...  ...        ...   \n",
              "4920             0            0         0              0  ...          0   \n",
              "4921             0            0         0              0  ...          0   \n",
              "4922             0            0         0              0  ...          0   \n",
              "4923             0            0         0              0  ...          0   \n",
              "4924             0            0         0              0  ...          0   \n",
              "\n",
              "      Thirumazhisai  Thirumullaivoyal  Thiruvanmiyur  Thoraipakkam OMR  \\\n",
              "0                 0                 0              0                 0   \n",
              "1                 0                 0              0                 0   \n",
              "2                 0                 0              0                 0   \n",
              "3                 0                 0              0                 0   \n",
              "4                 0                 0              0                 0   \n",
              "...             ...               ...            ...               ...   \n",
              "4920              0                 0              0                 0   \n",
              "4921              0                 0              0                 0   \n",
              "4922              0                 0              0                 0   \n",
              "4923              0                 0              0                 0   \n",
              "4924              0                 0              0                 0   \n",
              "\n",
              "      Urapakkam  Valasaravakkam  Velachery  West Tambaram  other  \n",
              "0             0               0          0              0      0  \n",
              "1             0               0          0              0      0  \n",
              "2             0               0          0              0      0  \n",
              "3             0               0          0              0      0  \n",
              "4             0               0          0              0      0  \n",
              "...         ...             ...        ...            ...    ...  \n",
              "4920          0               0          0              0      0  \n",
              "4921          0               0          0              0      0  \n",
              "4922          0               0          0              0      0  \n",
              "4923          0               0          0              0      0  \n",
              "4924          0               0          0              0      0  \n",
              "\n",
              "[4925 rows x 47 columns]"
            ],
            "text/html": [
              "\n",
              "  <div id=\"df-c1ef4875-5d11-458f-bb72-24bc11557514\">\n",
              "    <div class=\"colab-df-container\">\n",
              "      <div>\n",
              "<style scoped>\n",
              "    .dataframe tbody tr th:only-of-type {\n",
              "        vertical-align: middle;\n",
              "    }\n",
              "\n",
              "    .dataframe tbody tr th {\n",
              "        vertical-align: top;\n",
              "    }\n",
              "\n",
              "    .dataframe thead th {\n",
              "        text-align: right;\n",
              "    }\n",
              "</style>\n",
              "<table border=\"1\" class=\"dataframe\">\n",
              "  <thead>\n",
              "    <tr style=\"text-align: right;\">\n",
              "      <th></th>\n",
              "      <th>Adyar</th>\n",
              "      <th>Ambattur</th>\n",
              "      <th>Avadi</th>\n",
              "      <th>Choolaimedu</th>\n",
              "      <th>Chromepet</th>\n",
              "      <th>East Tambaram</th>\n",
              "      <th>Guduvancheri</th>\n",
              "      <th>Kelambakkam</th>\n",
              "      <th>Kolathur</th>\n",
              "      <th>Kovilambakkam</th>\n",
              "      <th>...</th>\n",
              "      <th>Thalambur</th>\n",
              "      <th>Thirumazhisai</th>\n",
              "      <th>Thirumullaivoyal</th>\n",
              "      <th>Thiruvanmiyur</th>\n",
              "      <th>Thoraipakkam OMR</th>\n",
              "      <th>Urapakkam</th>\n",
              "      <th>Valasaravakkam</th>\n",
              "      <th>Velachery</th>\n",
              "      <th>West Tambaram</th>\n",
              "      <th>other</th>\n",
              "    </tr>\n",
              "  </thead>\n",
              "  <tbody>\n",
              "    <tr>\n",
              "      <th>0</th>\n",
              "      <td>0</td>\n",
              "      <td>0</td>\n",
              "      <td>1</td>\n",
              "      <td>0</td>\n",
              "      <td>0</td>\n",
              "      <td>0</td>\n",
              "      <td>0</td>\n",
              "      <td>0</td>\n",
              "      <td>0</td>\n",
              "      <td>0</td>\n",
              "      <td>...</td>\n",
              "      <td>0</td>\n",
              "      <td>0</td>\n",
              "      <td>0</td>\n",
              "      <td>0</td>\n",
              "      <td>0</td>\n",
              "      <td>0</td>\n",
              "      <td>0</td>\n",
              "      <td>0</td>\n",
              "      <td>0</td>\n",
              "      <td>0</td>\n",
              "    </tr>\n",
              "    <tr>\n",
              "      <th>1</th>\n",
              "      <td>0</td>\n",
              "      <td>0</td>\n",
              "      <td>1</td>\n",
              "      <td>0</td>\n",
              "      <td>0</td>\n",
              "      <td>0</td>\n",
              "      <td>0</td>\n",
              "      <td>0</td>\n",
              "      <td>0</td>\n",
              "      <td>0</td>\n",
              "      <td>...</td>\n",
              "      <td>0</td>\n",
              "      <td>0</td>\n",
              "      <td>0</td>\n",
              "      <td>0</td>\n",
              "      <td>0</td>\n",
              "      <td>0</td>\n",
              "      <td>0</td>\n",
              "      <td>0</td>\n",
              "      <td>0</td>\n",
              "      <td>0</td>\n",
              "    </tr>\n",
              "    <tr>\n",
              "      <th>2</th>\n",
              "      <td>0</td>\n",
              "      <td>0</td>\n",
              "      <td>1</td>\n",
              "      <td>0</td>\n",
              "      <td>0</td>\n",
              "      <td>0</td>\n",
              "      <td>0</td>\n",
              "      <td>0</td>\n",
              "      <td>0</td>\n",
              "      <td>0</td>\n",
              "      <td>...</td>\n",
              "      <td>0</td>\n",
              "      <td>0</td>\n",
              "      <td>0</td>\n",
              "      <td>0</td>\n",
              "      <td>0</td>\n",
              "      <td>0</td>\n",
              "      <td>0</td>\n",
              "      <td>0</td>\n",
              "      <td>0</td>\n",
              "      <td>0</td>\n",
              "    </tr>\n",
              "    <tr>\n",
              "      <th>3</th>\n",
              "      <td>0</td>\n",
              "      <td>0</td>\n",
              "      <td>1</td>\n",
              "      <td>0</td>\n",
              "      <td>0</td>\n",
              "      <td>0</td>\n",
              "      <td>0</td>\n",
              "      <td>0</td>\n",
              "      <td>0</td>\n",
              "      <td>0</td>\n",
              "      <td>...</td>\n",
              "      <td>0</td>\n",
              "      <td>0</td>\n",
              "      <td>0</td>\n",
              "      <td>0</td>\n",
              "      <td>0</td>\n",
              "      <td>0</td>\n",
              "      <td>0</td>\n",
              "      <td>0</td>\n",
              "      <td>0</td>\n",
              "      <td>0</td>\n",
              "    </tr>\n",
              "    <tr>\n",
              "      <th>4</th>\n",
              "      <td>0</td>\n",
              "      <td>0</td>\n",
              "      <td>1</td>\n",
              "      <td>0</td>\n",
              "      <td>0</td>\n",
              "      <td>0</td>\n",
              "      <td>0</td>\n",
              "      <td>0</td>\n",
              "      <td>0</td>\n",
              "      <td>0</td>\n",
              "      <td>...</td>\n",
              "      <td>0</td>\n",
              "      <td>0</td>\n",
              "      <td>0</td>\n",
              "      <td>0</td>\n",
              "      <td>0</td>\n",
              "      <td>0</td>\n",
              "      <td>0</td>\n",
              "      <td>0</td>\n",
              "      <td>0</td>\n",
              "      <td>0</td>\n",
              "    </tr>\n",
              "    <tr>\n",
              "      <th>...</th>\n",
              "      <td>...</td>\n",
              "      <td>...</td>\n",
              "      <td>...</td>\n",
              "      <td>...</td>\n",
              "      <td>...</td>\n",
              "      <td>...</td>\n",
              "      <td>...</td>\n",
              "      <td>...</td>\n",
              "      <td>...</td>\n",
              "      <td>...</td>\n",
              "      <td>...</td>\n",
              "      <td>...</td>\n",
              "      <td>...</td>\n",
              "      <td>...</td>\n",
              "      <td>...</td>\n",
              "      <td>...</td>\n",
              "      <td>...</td>\n",
              "      <td>...</td>\n",
              "      <td>...</td>\n",
              "      <td>...</td>\n",
              "      <td>...</td>\n",
              "    </tr>\n",
              "    <tr>\n",
              "      <th>4920</th>\n",
              "      <td>0</td>\n",
              "      <td>0</td>\n",
              "      <td>0</td>\n",
              "      <td>0</td>\n",
              "      <td>0</td>\n",
              "      <td>0</td>\n",
              "      <td>0</td>\n",
              "      <td>0</td>\n",
              "      <td>0</td>\n",
              "      <td>0</td>\n",
              "      <td>...</td>\n",
              "      <td>0</td>\n",
              "      <td>0</td>\n",
              "      <td>0</td>\n",
              "      <td>0</td>\n",
              "      <td>0</td>\n",
              "      <td>0</td>\n",
              "      <td>0</td>\n",
              "      <td>0</td>\n",
              "      <td>0</td>\n",
              "      <td>0</td>\n",
              "    </tr>\n",
              "    <tr>\n",
              "      <th>4921</th>\n",
              "      <td>0</td>\n",
              "      <td>0</td>\n",
              "      <td>0</td>\n",
              "      <td>0</td>\n",
              "      <td>0</td>\n",
              "      <td>0</td>\n",
              "      <td>0</td>\n",
              "      <td>0</td>\n",
              "      <td>0</td>\n",
              "      <td>0</td>\n",
              "      <td>...</td>\n",
              "      <td>0</td>\n",
              "      <td>0</td>\n",
              "      <td>0</td>\n",
              "      <td>0</td>\n",
              "      <td>0</td>\n",
              "      <td>0</td>\n",
              "      <td>0</td>\n",
              "      <td>0</td>\n",
              "      <td>0</td>\n",
              "      <td>0</td>\n",
              "    </tr>\n",
              "    <tr>\n",
              "      <th>4922</th>\n",
              "      <td>0</td>\n",
              "      <td>0</td>\n",
              "      <td>0</td>\n",
              "      <td>0</td>\n",
              "      <td>0</td>\n",
              "      <td>0</td>\n",
              "      <td>0</td>\n",
              "      <td>0</td>\n",
              "      <td>0</td>\n",
              "      <td>0</td>\n",
              "      <td>...</td>\n",
              "      <td>0</td>\n",
              "      <td>0</td>\n",
              "      <td>0</td>\n",
              "      <td>0</td>\n",
              "      <td>0</td>\n",
              "      <td>0</td>\n",
              "      <td>0</td>\n",
              "      <td>0</td>\n",
              "      <td>0</td>\n",
              "      <td>0</td>\n",
              "    </tr>\n",
              "    <tr>\n",
              "      <th>4923</th>\n",
              "      <td>0</td>\n",
              "      <td>0</td>\n",
              "      <td>0</td>\n",
              "      <td>0</td>\n",
              "      <td>0</td>\n",
              "      <td>0</td>\n",
              "      <td>0</td>\n",
              "      <td>0</td>\n",
              "      <td>0</td>\n",
              "      <td>0</td>\n",
              "      <td>...</td>\n",
              "      <td>0</td>\n",
              "      <td>0</td>\n",
              "      <td>0</td>\n",
              "      <td>0</td>\n",
              "      <td>0</td>\n",
              "      <td>0</td>\n",
              "      <td>0</td>\n",
              "      <td>0</td>\n",
              "      <td>0</td>\n",
              "      <td>0</td>\n",
              "    </tr>\n",
              "    <tr>\n",
              "      <th>4924</th>\n",
              "      <td>0</td>\n",
              "      <td>0</td>\n",
              "      <td>0</td>\n",
              "      <td>0</td>\n",
              "      <td>0</td>\n",
              "      <td>0</td>\n",
              "      <td>0</td>\n",
              "      <td>0</td>\n",
              "      <td>0</td>\n",
              "      <td>0</td>\n",
              "      <td>...</td>\n",
              "      <td>0</td>\n",
              "      <td>0</td>\n",
              "      <td>0</td>\n",
              "      <td>0</td>\n",
              "      <td>0</td>\n",
              "      <td>0</td>\n",
              "      <td>0</td>\n",
              "      <td>0</td>\n",
              "      <td>0</td>\n",
              "      <td>0</td>\n",
              "    </tr>\n",
              "  </tbody>\n",
              "</table>\n",
              "<p>4925 rows × 47 columns</p>\n",
              "</div>\n",
              "      <button class=\"colab-df-convert\" onclick=\"convertToInteractive('df-c1ef4875-5d11-458f-bb72-24bc11557514')\"\n",
              "              title=\"Convert this dataframe to an interactive table.\"\n",
              "              style=\"display:none;\">\n",
              "        \n",
              "  <svg xmlns=\"http://www.w3.org/2000/svg\" height=\"24px\"viewBox=\"0 0 24 24\"\n",
              "       width=\"24px\">\n",
              "    <path d=\"M0 0h24v24H0V0z\" fill=\"none\"/>\n",
              "    <path d=\"M18.56 5.44l.94 2.06.94-2.06 2.06-.94-2.06-.94-.94-2.06-.94 2.06-2.06.94zm-11 1L8.5 8.5l.94-2.06 2.06-.94-2.06-.94L8.5 2.5l-.94 2.06-2.06.94zm10 10l.94 2.06.94-2.06 2.06-.94-2.06-.94-.94-2.06-.94 2.06-2.06.94z\"/><path d=\"M17.41 7.96l-1.37-1.37c-.4-.4-.92-.59-1.43-.59-.52 0-1.04.2-1.43.59L10.3 9.45l-7.72 7.72c-.78.78-.78 2.05 0 2.83L4 21.41c.39.39.9.59 1.41.59.51 0 1.02-.2 1.41-.59l7.78-7.78 2.81-2.81c.8-.78.8-2.07 0-2.86zM5.41 20L4 18.59l7.72-7.72 1.47 1.35L5.41 20z\"/>\n",
              "  </svg>\n",
              "      </button>\n",
              "      \n",
              "  <style>\n",
              "    .colab-df-container {\n",
              "      display:flex;\n",
              "      flex-wrap:wrap;\n",
              "      gap: 12px;\n",
              "    }\n",
              "\n",
              "    .colab-df-convert {\n",
              "      background-color: #E8F0FE;\n",
              "      border: none;\n",
              "      border-radius: 50%;\n",
              "      cursor: pointer;\n",
              "      display: none;\n",
              "      fill: #1967D2;\n",
              "      height: 32px;\n",
              "      padding: 0 0 0 0;\n",
              "      width: 32px;\n",
              "    }\n",
              "\n",
              "    .colab-df-convert:hover {\n",
              "      background-color: #E2EBFA;\n",
              "      box-shadow: 0px 1px 2px rgba(60, 64, 67, 0.3), 0px 1px 3px 1px rgba(60, 64, 67, 0.15);\n",
              "      fill: #174EA6;\n",
              "    }\n",
              "\n",
              "    [theme=dark] .colab-df-convert {\n",
              "      background-color: #3B4455;\n",
              "      fill: #D2E3FC;\n",
              "    }\n",
              "\n",
              "    [theme=dark] .colab-df-convert:hover {\n",
              "      background-color: #434B5C;\n",
              "      box-shadow: 0px 1px 3px 1px rgba(0, 0, 0, 0.15);\n",
              "      filter: drop-shadow(0px 1px 2px rgba(0, 0, 0, 0.3));\n",
              "      fill: #FFFFFF;\n",
              "    }\n",
              "  </style>\n",
              "\n",
              "      <script>\n",
              "        const buttonEl =\n",
              "          document.querySelector('#df-c1ef4875-5d11-458f-bb72-24bc11557514 button.colab-df-convert');\n",
              "        buttonEl.style.display =\n",
              "          google.colab.kernel.accessAllowed ? 'block' : 'none';\n",
              "\n",
              "        async function convertToInteractive(key) {\n",
              "          const element = document.querySelector('#df-c1ef4875-5d11-458f-bb72-24bc11557514');\n",
              "          const dataTable =\n",
              "            await google.colab.kernel.invokeFunction('convertToInteractive',\n",
              "                                                     [key], {});\n",
              "          if (!dataTable) return;\n",
              "\n",
              "          const docLinkHtml = 'Like what you see? Visit the ' +\n",
              "            '<a target=\"_blank\" href=https://colab.research.google.com/notebooks/data_table.ipynb>data table notebook</a>'\n",
              "            + ' to learn more about interactive tables.';\n",
              "          element.innerHTML = '';\n",
              "          dataTable['output_type'] = 'display_data';\n",
              "          await google.colab.output.renderOutput(dataTable, element);\n",
              "          const docLink = document.createElement('div');\n",
              "          docLink.innerHTML = docLinkHtml;\n",
              "          element.appendChild(docLink);\n",
              "        }\n",
              "      </script>\n",
              "    </div>\n",
              "  </div>\n",
              "  "
            ]
          },
          "metadata": {},
          "execution_count": 584
        }
      ]
    },
    {
      "cell_type": "code",
      "source": [
        "df4 = pd.concat([df3,dummies2.drop('Adyar',axis = \"columns\")],axis = \"columns\")\n",
        "df4"
      ],
      "metadata": {
        "colab": {
          "base_uri": "https://localhost:8080/",
          "height": 540
        },
        "id": "qS_rwhbntZ9K",
        "outputId": "3186c62d-da22-44f7-928f-35a35bf6728b"
      },
      "execution_count": 585,
      "outputs": [
        {
          "output_type": "execute_result",
          "data": {
            "text/plain": [
              "      Price  Area  Bedrooms  Bathrooms      Location  Status  Adroit Prosper  \\\n",
              "0     25.00   728       2.0          2         Avadi       0               0   \n",
              "1     26.00   739       2.0          1         Avadi       0               0   \n",
              "2     60.00  1150       3.0          3         Avadi       0               0   \n",
              "3     48.00   931       2.0          2         Avadi       0               0   \n",
              "4     20.00   317       1.0          1         Avadi       0               0   \n",
              "...     ...   ...       ...        ...           ...     ...             ...   \n",
              "4920  52.67   878       2.0          2  Mugalivakkam       1               0   \n",
              "4921  51.64   906       2.0          3  Mugalivakkam       1               0   \n",
              "4922  75.70  1037       2.0          2  Mugalivakkam       1               0   \n",
              "4923  70.24  1171       3.0          3  Mugalivakkam       1               0   \n",
              "4924  70.24  1171       3.0          3  Mugalivakkam       1               0   \n",
              "\n",
              "      Akshaya Orlando A1 To A6  Akshaya Republic  Akshaya Tango  ...  \\\n",
              "0                            0                 0              0  ...   \n",
              "1                            0                 0              0  ...   \n",
              "2                            0                 0              0  ...   \n",
              "3                            0                 0              0  ...   \n",
              "4                            0                 0              0  ...   \n",
              "...                        ...               ...            ...  ...   \n",
              "4920                         0                 0              0  ...   \n",
              "4921                         0                 0              0  ...   \n",
              "4922                         0                 0              0  ...   \n",
              "4923                         0                 0              0  ...   \n",
              "4924                         0                 0              0  ...   \n",
              "\n",
              "      Thalambur  Thirumazhisai  Thirumullaivoyal  Thiruvanmiyur  \\\n",
              "0             0              0                 0              0   \n",
              "1             0              0                 0              0   \n",
              "2             0              0                 0              0   \n",
              "3             0              0                 0              0   \n",
              "4             0              0                 0              0   \n",
              "...         ...            ...               ...            ...   \n",
              "4920          0              0                 0              0   \n",
              "4921          0              0                 0              0   \n",
              "4922          0              0                 0              0   \n",
              "4923          0              0                 0              0   \n",
              "4924          0              0                 0              0   \n",
              "\n",
              "      Thoraipakkam OMR  Urapakkam  Valasaravakkam  Velachery  West Tambaram  \\\n",
              "0                    0          0               0          0              0   \n",
              "1                    0          0               0          0              0   \n",
              "2                    0          0               0          0              0   \n",
              "3                    0          0               0          0              0   \n",
              "4                    0          0               0          0              0   \n",
              "...                ...        ...             ...        ...            ...   \n",
              "4920                 0          0               0          0              0   \n",
              "4921                 0          0               0          0              0   \n",
              "4922                 0          0               0          0              0   \n",
              "4923                 0          0               0          0              0   \n",
              "4924                 0          0               0          0              0   \n",
              "\n",
              "      other  \n",
              "0         0  \n",
              "1         0  \n",
              "2         0  \n",
              "3         0  \n",
              "4         0  \n",
              "...     ...  \n",
              "4920      0  \n",
              "4921      0  \n",
              "4922      0  \n",
              "4923      0  \n",
              "4924      0  \n",
              "\n",
              "[4925 rows x 85 columns]"
            ],
            "text/html": [
              "\n",
              "  <div id=\"df-ad032990-6da6-4127-b77e-0d65141cbd94\">\n",
              "    <div class=\"colab-df-container\">\n",
              "      <div>\n",
              "<style scoped>\n",
              "    .dataframe tbody tr th:only-of-type {\n",
              "        vertical-align: middle;\n",
              "    }\n",
              "\n",
              "    .dataframe tbody tr th {\n",
              "        vertical-align: top;\n",
              "    }\n",
              "\n",
              "    .dataframe thead th {\n",
              "        text-align: right;\n",
              "    }\n",
              "</style>\n",
              "<table border=\"1\" class=\"dataframe\">\n",
              "  <thead>\n",
              "    <tr style=\"text-align: right;\">\n",
              "      <th></th>\n",
              "      <th>Price</th>\n",
              "      <th>Area</th>\n",
              "      <th>Bedrooms</th>\n",
              "      <th>Bathrooms</th>\n",
              "      <th>Location</th>\n",
              "      <th>Status</th>\n",
              "      <th>Adroit Prosper</th>\n",
              "      <th>Akshaya Orlando A1 To A6</th>\n",
              "      <th>Akshaya Republic</th>\n",
              "      <th>Akshaya Tango</th>\n",
              "      <th>...</th>\n",
              "      <th>Thalambur</th>\n",
              "      <th>Thirumazhisai</th>\n",
              "      <th>Thirumullaivoyal</th>\n",
              "      <th>Thiruvanmiyur</th>\n",
              "      <th>Thoraipakkam OMR</th>\n",
              "      <th>Urapakkam</th>\n",
              "      <th>Valasaravakkam</th>\n",
              "      <th>Velachery</th>\n",
              "      <th>West Tambaram</th>\n",
              "      <th>other</th>\n",
              "    </tr>\n",
              "  </thead>\n",
              "  <tbody>\n",
              "    <tr>\n",
              "      <th>0</th>\n",
              "      <td>25.00</td>\n",
              "      <td>728</td>\n",
              "      <td>2.0</td>\n",
              "      <td>2</td>\n",
              "      <td>Avadi</td>\n",
              "      <td>0</td>\n",
              "      <td>0</td>\n",
              "      <td>0</td>\n",
              "      <td>0</td>\n",
              "      <td>0</td>\n",
              "      <td>...</td>\n",
              "      <td>0</td>\n",
              "      <td>0</td>\n",
              "      <td>0</td>\n",
              "      <td>0</td>\n",
              "      <td>0</td>\n",
              "      <td>0</td>\n",
              "      <td>0</td>\n",
              "      <td>0</td>\n",
              "      <td>0</td>\n",
              "      <td>0</td>\n",
              "    </tr>\n",
              "    <tr>\n",
              "      <th>1</th>\n",
              "      <td>26.00</td>\n",
              "      <td>739</td>\n",
              "      <td>2.0</td>\n",
              "      <td>1</td>\n",
              "      <td>Avadi</td>\n",
              "      <td>0</td>\n",
              "      <td>0</td>\n",
              "      <td>0</td>\n",
              "      <td>0</td>\n",
              "      <td>0</td>\n",
              "      <td>...</td>\n",
              "      <td>0</td>\n",
              "      <td>0</td>\n",
              "      <td>0</td>\n",
              "      <td>0</td>\n",
              "      <td>0</td>\n",
              "      <td>0</td>\n",
              "      <td>0</td>\n",
              "      <td>0</td>\n",
              "      <td>0</td>\n",
              "      <td>0</td>\n",
              "    </tr>\n",
              "    <tr>\n",
              "      <th>2</th>\n",
              "      <td>60.00</td>\n",
              "      <td>1150</td>\n",
              "      <td>3.0</td>\n",
              "      <td>3</td>\n",
              "      <td>Avadi</td>\n",
              "      <td>0</td>\n",
              "      <td>0</td>\n",
              "      <td>0</td>\n",
              "      <td>0</td>\n",
              "      <td>0</td>\n",
              "      <td>...</td>\n",
              "      <td>0</td>\n",
              "      <td>0</td>\n",
              "      <td>0</td>\n",
              "      <td>0</td>\n",
              "      <td>0</td>\n",
              "      <td>0</td>\n",
              "      <td>0</td>\n",
              "      <td>0</td>\n",
              "      <td>0</td>\n",
              "      <td>0</td>\n",
              "    </tr>\n",
              "    <tr>\n",
              "      <th>3</th>\n",
              "      <td>48.00</td>\n",
              "      <td>931</td>\n",
              "      <td>2.0</td>\n",
              "      <td>2</td>\n",
              "      <td>Avadi</td>\n",
              "      <td>0</td>\n",
              "      <td>0</td>\n",
              "      <td>0</td>\n",
              "      <td>0</td>\n",
              "      <td>0</td>\n",
              "      <td>...</td>\n",
              "      <td>0</td>\n",
              "      <td>0</td>\n",
              "      <td>0</td>\n",
              "      <td>0</td>\n",
              "      <td>0</td>\n",
              "      <td>0</td>\n",
              "      <td>0</td>\n",
              "      <td>0</td>\n",
              "      <td>0</td>\n",
              "      <td>0</td>\n",
              "    </tr>\n",
              "    <tr>\n",
              "      <th>4</th>\n",
              "      <td>20.00</td>\n",
              "      <td>317</td>\n",
              "      <td>1.0</td>\n",
              "      <td>1</td>\n",
              "      <td>Avadi</td>\n",
              "      <td>0</td>\n",
              "      <td>0</td>\n",
              "      <td>0</td>\n",
              "      <td>0</td>\n",
              "      <td>0</td>\n",
              "      <td>...</td>\n",
              "      <td>0</td>\n",
              "      <td>0</td>\n",
              "      <td>0</td>\n",
              "      <td>0</td>\n",
              "      <td>0</td>\n",
              "      <td>0</td>\n",
              "      <td>0</td>\n",
              "      <td>0</td>\n",
              "      <td>0</td>\n",
              "      <td>0</td>\n",
              "    </tr>\n",
              "    <tr>\n",
              "      <th>...</th>\n",
              "      <td>...</td>\n",
              "      <td>...</td>\n",
              "      <td>...</td>\n",
              "      <td>...</td>\n",
              "      <td>...</td>\n",
              "      <td>...</td>\n",
              "      <td>...</td>\n",
              "      <td>...</td>\n",
              "      <td>...</td>\n",
              "      <td>...</td>\n",
              "      <td>...</td>\n",
              "      <td>...</td>\n",
              "      <td>...</td>\n",
              "      <td>...</td>\n",
              "      <td>...</td>\n",
              "      <td>...</td>\n",
              "      <td>...</td>\n",
              "      <td>...</td>\n",
              "      <td>...</td>\n",
              "      <td>...</td>\n",
              "      <td>...</td>\n",
              "    </tr>\n",
              "    <tr>\n",
              "      <th>4920</th>\n",
              "      <td>52.67</td>\n",
              "      <td>878</td>\n",
              "      <td>2.0</td>\n",
              "      <td>2</td>\n",
              "      <td>Mugalivakkam</td>\n",
              "      <td>1</td>\n",
              "      <td>0</td>\n",
              "      <td>0</td>\n",
              "      <td>0</td>\n",
              "      <td>0</td>\n",
              "      <td>...</td>\n",
              "      <td>0</td>\n",
              "      <td>0</td>\n",
              "      <td>0</td>\n",
              "      <td>0</td>\n",
              "      <td>0</td>\n",
              "      <td>0</td>\n",
              "      <td>0</td>\n",
              "      <td>0</td>\n",
              "      <td>0</td>\n",
              "      <td>0</td>\n",
              "    </tr>\n",
              "    <tr>\n",
              "      <th>4921</th>\n",
              "      <td>51.64</td>\n",
              "      <td>906</td>\n",
              "      <td>2.0</td>\n",
              "      <td>3</td>\n",
              "      <td>Mugalivakkam</td>\n",
              "      <td>1</td>\n",
              "      <td>0</td>\n",
              "      <td>0</td>\n",
              "      <td>0</td>\n",
              "      <td>0</td>\n",
              "      <td>...</td>\n",
              "      <td>0</td>\n",
              "      <td>0</td>\n",
              "      <td>0</td>\n",
              "      <td>0</td>\n",
              "      <td>0</td>\n",
              "      <td>0</td>\n",
              "      <td>0</td>\n",
              "      <td>0</td>\n",
              "      <td>0</td>\n",
              "      <td>0</td>\n",
              "    </tr>\n",
              "    <tr>\n",
              "      <th>4922</th>\n",
              "      <td>75.70</td>\n",
              "      <td>1037</td>\n",
              "      <td>2.0</td>\n",
              "      <td>2</td>\n",
              "      <td>Mugalivakkam</td>\n",
              "      <td>1</td>\n",
              "      <td>0</td>\n",
              "      <td>0</td>\n",
              "      <td>0</td>\n",
              "      <td>0</td>\n",
              "      <td>...</td>\n",
              "      <td>0</td>\n",
              "      <td>0</td>\n",
              "      <td>0</td>\n",
              "      <td>0</td>\n",
              "      <td>0</td>\n",
              "      <td>0</td>\n",
              "      <td>0</td>\n",
              "      <td>0</td>\n",
              "      <td>0</td>\n",
              "      <td>0</td>\n",
              "    </tr>\n",
              "    <tr>\n",
              "      <th>4923</th>\n",
              "      <td>70.24</td>\n",
              "      <td>1171</td>\n",
              "      <td>3.0</td>\n",
              "      <td>3</td>\n",
              "      <td>Mugalivakkam</td>\n",
              "      <td>1</td>\n",
              "      <td>0</td>\n",
              "      <td>0</td>\n",
              "      <td>0</td>\n",
              "      <td>0</td>\n",
              "      <td>...</td>\n",
              "      <td>0</td>\n",
              "      <td>0</td>\n",
              "      <td>0</td>\n",
              "      <td>0</td>\n",
              "      <td>0</td>\n",
              "      <td>0</td>\n",
              "      <td>0</td>\n",
              "      <td>0</td>\n",
              "      <td>0</td>\n",
              "      <td>0</td>\n",
              "    </tr>\n",
              "    <tr>\n",
              "      <th>4924</th>\n",
              "      <td>70.24</td>\n",
              "      <td>1171</td>\n",
              "      <td>3.0</td>\n",
              "      <td>3</td>\n",
              "      <td>Mugalivakkam</td>\n",
              "      <td>1</td>\n",
              "      <td>0</td>\n",
              "      <td>0</td>\n",
              "      <td>0</td>\n",
              "      <td>0</td>\n",
              "      <td>...</td>\n",
              "      <td>0</td>\n",
              "      <td>0</td>\n",
              "      <td>0</td>\n",
              "      <td>0</td>\n",
              "      <td>0</td>\n",
              "      <td>0</td>\n",
              "      <td>0</td>\n",
              "      <td>0</td>\n",
              "      <td>0</td>\n",
              "      <td>0</td>\n",
              "    </tr>\n",
              "  </tbody>\n",
              "</table>\n",
              "<p>4925 rows × 85 columns</p>\n",
              "</div>\n",
              "      <button class=\"colab-df-convert\" onclick=\"convertToInteractive('df-ad032990-6da6-4127-b77e-0d65141cbd94')\"\n",
              "              title=\"Convert this dataframe to an interactive table.\"\n",
              "              style=\"display:none;\">\n",
              "        \n",
              "  <svg xmlns=\"http://www.w3.org/2000/svg\" height=\"24px\"viewBox=\"0 0 24 24\"\n",
              "       width=\"24px\">\n",
              "    <path d=\"M0 0h24v24H0V0z\" fill=\"none\"/>\n",
              "    <path d=\"M18.56 5.44l.94 2.06.94-2.06 2.06-.94-2.06-.94-.94-2.06-.94 2.06-2.06.94zm-11 1L8.5 8.5l.94-2.06 2.06-.94-2.06-.94L8.5 2.5l-.94 2.06-2.06.94zm10 10l.94 2.06.94-2.06 2.06-.94-2.06-.94-.94-2.06-.94 2.06-2.06.94z\"/><path d=\"M17.41 7.96l-1.37-1.37c-.4-.4-.92-.59-1.43-.59-.52 0-1.04.2-1.43.59L10.3 9.45l-7.72 7.72c-.78.78-.78 2.05 0 2.83L4 21.41c.39.39.9.59 1.41.59.51 0 1.02-.2 1.41-.59l7.78-7.78 2.81-2.81c.8-.78.8-2.07 0-2.86zM5.41 20L4 18.59l7.72-7.72 1.47 1.35L5.41 20z\"/>\n",
              "  </svg>\n",
              "      </button>\n",
              "      \n",
              "  <style>\n",
              "    .colab-df-container {\n",
              "      display:flex;\n",
              "      flex-wrap:wrap;\n",
              "      gap: 12px;\n",
              "    }\n",
              "\n",
              "    .colab-df-convert {\n",
              "      background-color: #E8F0FE;\n",
              "      border: none;\n",
              "      border-radius: 50%;\n",
              "      cursor: pointer;\n",
              "      display: none;\n",
              "      fill: #1967D2;\n",
              "      height: 32px;\n",
              "      padding: 0 0 0 0;\n",
              "      width: 32px;\n",
              "    }\n",
              "\n",
              "    .colab-df-convert:hover {\n",
              "      background-color: #E2EBFA;\n",
              "      box-shadow: 0px 1px 2px rgba(60, 64, 67, 0.3), 0px 1px 3px 1px rgba(60, 64, 67, 0.15);\n",
              "      fill: #174EA6;\n",
              "    }\n",
              "\n",
              "    [theme=dark] .colab-df-convert {\n",
              "      background-color: #3B4455;\n",
              "      fill: #D2E3FC;\n",
              "    }\n",
              "\n",
              "    [theme=dark] .colab-df-convert:hover {\n",
              "      background-color: #434B5C;\n",
              "      box-shadow: 0px 1px 3px 1px rgba(0, 0, 0, 0.15);\n",
              "      filter: drop-shadow(0px 1px 2px rgba(0, 0, 0, 0.3));\n",
              "      fill: #FFFFFF;\n",
              "    }\n",
              "  </style>\n",
              "\n",
              "      <script>\n",
              "        const buttonEl =\n",
              "          document.querySelector('#df-ad032990-6da6-4127-b77e-0d65141cbd94 button.colab-df-convert');\n",
              "        buttonEl.style.display =\n",
              "          google.colab.kernel.accessAllowed ? 'block' : 'none';\n",
              "\n",
              "        async function convertToInteractive(key) {\n",
              "          const element = document.querySelector('#df-ad032990-6da6-4127-b77e-0d65141cbd94');\n",
              "          const dataTable =\n",
              "            await google.colab.kernel.invokeFunction('convertToInteractive',\n",
              "                                                     [key], {});\n",
              "          if (!dataTable) return;\n",
              "\n",
              "          const docLinkHtml = 'Like what you see? Visit the ' +\n",
              "            '<a target=\"_blank\" href=https://colab.research.google.com/notebooks/data_table.ipynb>data table notebook</a>'\n",
              "            + ' to learn more about interactive tables.';\n",
              "          element.innerHTML = '';\n",
              "          dataTable['output_type'] = 'display_data';\n",
              "          await google.colab.output.renderOutput(dataTable, element);\n",
              "          const docLink = document.createElement('div');\n",
              "          docLink.innerHTML = docLinkHtml;\n",
              "          element.appendChild(docLink);\n",
              "        }\n",
              "      </script>\n",
              "    </div>\n",
              "  </div>\n",
              "  "
            ]
          },
          "metadata": {},
          "execution_count": 585
        }
      ]
    },
    {
      "cell_type": "code",
      "source": [
        "df5 = df4.drop(\"Location\",axis = 1)\n",
        "df5"
      ],
      "metadata": {
        "colab": {
          "base_uri": "https://localhost:8080/",
          "height": 540
        },
        "id": "emgwbgKLtm3i",
        "outputId": "faf8f52b-b88a-4d12-9828-b1acb81f9ba8"
      },
      "execution_count": 586,
      "outputs": [
        {
          "output_type": "execute_result",
          "data": {
            "text/plain": [
              "      Price  Area  Bedrooms  Bathrooms  Status  Adroit Prosper  \\\n",
              "0     25.00   728       2.0          2       0               0   \n",
              "1     26.00   739       2.0          1       0               0   \n",
              "2     60.00  1150       3.0          3       0               0   \n",
              "3     48.00   931       2.0          2       0               0   \n",
              "4     20.00   317       1.0          1       0               0   \n",
              "...     ...   ...       ...        ...     ...             ...   \n",
              "4920  52.67   878       2.0          2       1               0   \n",
              "4921  51.64   906       2.0          3       1               0   \n",
              "4922  75.70  1037       2.0          2       1               0   \n",
              "4923  70.24  1171       3.0          3       1               0   \n",
              "4924  70.24  1171       3.0          3       1               0   \n",
              "\n",
              "      Akshaya Orlando A1 To A6  Akshaya Republic  Akshaya Tango  \\\n",
              "0                            0                 0              0   \n",
              "1                            0                 0              0   \n",
              "2                            0                 0              0   \n",
              "3                            0                 0              0   \n",
              "4                            0                 0              0   \n",
              "...                        ...               ...            ...   \n",
              "4920                         0                 0              0   \n",
              "4921                         0                 0              0   \n",
              "4922                         0                 0              0   \n",
              "4923                         0                 0              0   \n",
              "4924                         0                 0              0   \n",
              "\n",
              "      Akshaya Today  ...  Thalambur  Thirumazhisai  Thirumullaivoyal  \\\n",
              "0                 0  ...          0              0                 0   \n",
              "1                 0  ...          0              0                 0   \n",
              "2                 0  ...          0              0                 0   \n",
              "3                 0  ...          0              0                 0   \n",
              "4                 0  ...          0              0                 0   \n",
              "...             ...  ...        ...            ...               ...   \n",
              "4920              0  ...          0              0                 0   \n",
              "4921              0  ...          0              0                 0   \n",
              "4922              0  ...          0              0                 0   \n",
              "4923              0  ...          0              0                 0   \n",
              "4924              0  ...          0              0                 0   \n",
              "\n",
              "      Thiruvanmiyur  Thoraipakkam OMR  Urapakkam  Valasaravakkam  Velachery  \\\n",
              "0                 0                 0          0               0          0   \n",
              "1                 0                 0          0               0          0   \n",
              "2                 0                 0          0               0          0   \n",
              "3                 0                 0          0               0          0   \n",
              "4                 0                 0          0               0          0   \n",
              "...             ...               ...        ...             ...        ...   \n",
              "4920              0                 0          0               0          0   \n",
              "4921              0                 0          0               0          0   \n",
              "4922              0                 0          0               0          0   \n",
              "4923              0                 0          0               0          0   \n",
              "4924              0                 0          0               0          0   \n",
              "\n",
              "      West Tambaram  other  \n",
              "0                 0      0  \n",
              "1                 0      0  \n",
              "2                 0      0  \n",
              "3                 0      0  \n",
              "4                 0      0  \n",
              "...             ...    ...  \n",
              "4920              0      0  \n",
              "4921              0      0  \n",
              "4922              0      0  \n",
              "4923              0      0  \n",
              "4924              0      0  \n",
              "\n",
              "[4925 rows x 84 columns]"
            ],
            "text/html": [
              "\n",
              "  <div id=\"df-85ef535e-2202-4e09-aaf5-192a9948d138\">\n",
              "    <div class=\"colab-df-container\">\n",
              "      <div>\n",
              "<style scoped>\n",
              "    .dataframe tbody tr th:only-of-type {\n",
              "        vertical-align: middle;\n",
              "    }\n",
              "\n",
              "    .dataframe tbody tr th {\n",
              "        vertical-align: top;\n",
              "    }\n",
              "\n",
              "    .dataframe thead th {\n",
              "        text-align: right;\n",
              "    }\n",
              "</style>\n",
              "<table border=\"1\" class=\"dataframe\">\n",
              "  <thead>\n",
              "    <tr style=\"text-align: right;\">\n",
              "      <th></th>\n",
              "      <th>Price</th>\n",
              "      <th>Area</th>\n",
              "      <th>Bedrooms</th>\n",
              "      <th>Bathrooms</th>\n",
              "      <th>Status</th>\n",
              "      <th>Adroit Prosper</th>\n",
              "      <th>Akshaya Orlando A1 To A6</th>\n",
              "      <th>Akshaya Republic</th>\n",
              "      <th>Akshaya Tango</th>\n",
              "      <th>Akshaya Today</th>\n",
              "      <th>...</th>\n",
              "      <th>Thalambur</th>\n",
              "      <th>Thirumazhisai</th>\n",
              "      <th>Thirumullaivoyal</th>\n",
              "      <th>Thiruvanmiyur</th>\n",
              "      <th>Thoraipakkam OMR</th>\n",
              "      <th>Urapakkam</th>\n",
              "      <th>Valasaravakkam</th>\n",
              "      <th>Velachery</th>\n",
              "      <th>West Tambaram</th>\n",
              "      <th>other</th>\n",
              "    </tr>\n",
              "  </thead>\n",
              "  <tbody>\n",
              "    <tr>\n",
              "      <th>0</th>\n",
              "      <td>25.00</td>\n",
              "      <td>728</td>\n",
              "      <td>2.0</td>\n",
              "      <td>2</td>\n",
              "      <td>0</td>\n",
              "      <td>0</td>\n",
              "      <td>0</td>\n",
              "      <td>0</td>\n",
              "      <td>0</td>\n",
              "      <td>0</td>\n",
              "      <td>...</td>\n",
              "      <td>0</td>\n",
              "      <td>0</td>\n",
              "      <td>0</td>\n",
              "      <td>0</td>\n",
              "      <td>0</td>\n",
              "      <td>0</td>\n",
              "      <td>0</td>\n",
              "      <td>0</td>\n",
              "      <td>0</td>\n",
              "      <td>0</td>\n",
              "    </tr>\n",
              "    <tr>\n",
              "      <th>1</th>\n",
              "      <td>26.00</td>\n",
              "      <td>739</td>\n",
              "      <td>2.0</td>\n",
              "      <td>1</td>\n",
              "      <td>0</td>\n",
              "      <td>0</td>\n",
              "      <td>0</td>\n",
              "      <td>0</td>\n",
              "      <td>0</td>\n",
              "      <td>0</td>\n",
              "      <td>...</td>\n",
              "      <td>0</td>\n",
              "      <td>0</td>\n",
              "      <td>0</td>\n",
              "      <td>0</td>\n",
              "      <td>0</td>\n",
              "      <td>0</td>\n",
              "      <td>0</td>\n",
              "      <td>0</td>\n",
              "      <td>0</td>\n",
              "      <td>0</td>\n",
              "    </tr>\n",
              "    <tr>\n",
              "      <th>2</th>\n",
              "      <td>60.00</td>\n",
              "      <td>1150</td>\n",
              "      <td>3.0</td>\n",
              "      <td>3</td>\n",
              "      <td>0</td>\n",
              "      <td>0</td>\n",
              "      <td>0</td>\n",
              "      <td>0</td>\n",
              "      <td>0</td>\n",
              "      <td>0</td>\n",
              "      <td>...</td>\n",
              "      <td>0</td>\n",
              "      <td>0</td>\n",
              "      <td>0</td>\n",
              "      <td>0</td>\n",
              "      <td>0</td>\n",
              "      <td>0</td>\n",
              "      <td>0</td>\n",
              "      <td>0</td>\n",
              "      <td>0</td>\n",
              "      <td>0</td>\n",
              "    </tr>\n",
              "    <tr>\n",
              "      <th>3</th>\n",
              "      <td>48.00</td>\n",
              "      <td>931</td>\n",
              "      <td>2.0</td>\n",
              "      <td>2</td>\n",
              "      <td>0</td>\n",
              "      <td>0</td>\n",
              "      <td>0</td>\n",
              "      <td>0</td>\n",
              "      <td>0</td>\n",
              "      <td>0</td>\n",
              "      <td>...</td>\n",
              "      <td>0</td>\n",
              "      <td>0</td>\n",
              "      <td>0</td>\n",
              "      <td>0</td>\n",
              "      <td>0</td>\n",
              "      <td>0</td>\n",
              "      <td>0</td>\n",
              "      <td>0</td>\n",
              "      <td>0</td>\n",
              "      <td>0</td>\n",
              "    </tr>\n",
              "    <tr>\n",
              "      <th>4</th>\n",
              "      <td>20.00</td>\n",
              "      <td>317</td>\n",
              "      <td>1.0</td>\n",
              "      <td>1</td>\n",
              "      <td>0</td>\n",
              "      <td>0</td>\n",
              "      <td>0</td>\n",
              "      <td>0</td>\n",
              "      <td>0</td>\n",
              "      <td>0</td>\n",
              "      <td>...</td>\n",
              "      <td>0</td>\n",
              "      <td>0</td>\n",
              "      <td>0</td>\n",
              "      <td>0</td>\n",
              "      <td>0</td>\n",
              "      <td>0</td>\n",
              "      <td>0</td>\n",
              "      <td>0</td>\n",
              "      <td>0</td>\n",
              "      <td>0</td>\n",
              "    </tr>\n",
              "    <tr>\n",
              "      <th>...</th>\n",
              "      <td>...</td>\n",
              "      <td>...</td>\n",
              "      <td>...</td>\n",
              "      <td>...</td>\n",
              "      <td>...</td>\n",
              "      <td>...</td>\n",
              "      <td>...</td>\n",
              "      <td>...</td>\n",
              "      <td>...</td>\n",
              "      <td>...</td>\n",
              "      <td>...</td>\n",
              "      <td>...</td>\n",
              "      <td>...</td>\n",
              "      <td>...</td>\n",
              "      <td>...</td>\n",
              "      <td>...</td>\n",
              "      <td>...</td>\n",
              "      <td>...</td>\n",
              "      <td>...</td>\n",
              "      <td>...</td>\n",
              "      <td>...</td>\n",
              "    </tr>\n",
              "    <tr>\n",
              "      <th>4920</th>\n",
              "      <td>52.67</td>\n",
              "      <td>878</td>\n",
              "      <td>2.0</td>\n",
              "      <td>2</td>\n",
              "      <td>1</td>\n",
              "      <td>0</td>\n",
              "      <td>0</td>\n",
              "      <td>0</td>\n",
              "      <td>0</td>\n",
              "      <td>0</td>\n",
              "      <td>...</td>\n",
              "      <td>0</td>\n",
              "      <td>0</td>\n",
              "      <td>0</td>\n",
              "      <td>0</td>\n",
              "      <td>0</td>\n",
              "      <td>0</td>\n",
              "      <td>0</td>\n",
              "      <td>0</td>\n",
              "      <td>0</td>\n",
              "      <td>0</td>\n",
              "    </tr>\n",
              "    <tr>\n",
              "      <th>4921</th>\n",
              "      <td>51.64</td>\n",
              "      <td>906</td>\n",
              "      <td>2.0</td>\n",
              "      <td>3</td>\n",
              "      <td>1</td>\n",
              "      <td>0</td>\n",
              "      <td>0</td>\n",
              "      <td>0</td>\n",
              "      <td>0</td>\n",
              "      <td>0</td>\n",
              "      <td>...</td>\n",
              "      <td>0</td>\n",
              "      <td>0</td>\n",
              "      <td>0</td>\n",
              "      <td>0</td>\n",
              "      <td>0</td>\n",
              "      <td>0</td>\n",
              "      <td>0</td>\n",
              "      <td>0</td>\n",
              "      <td>0</td>\n",
              "      <td>0</td>\n",
              "    </tr>\n",
              "    <tr>\n",
              "      <th>4922</th>\n",
              "      <td>75.70</td>\n",
              "      <td>1037</td>\n",
              "      <td>2.0</td>\n",
              "      <td>2</td>\n",
              "      <td>1</td>\n",
              "      <td>0</td>\n",
              "      <td>0</td>\n",
              "      <td>0</td>\n",
              "      <td>0</td>\n",
              "      <td>0</td>\n",
              "      <td>...</td>\n",
              "      <td>0</td>\n",
              "      <td>0</td>\n",
              "      <td>0</td>\n",
              "      <td>0</td>\n",
              "      <td>0</td>\n",
              "      <td>0</td>\n",
              "      <td>0</td>\n",
              "      <td>0</td>\n",
              "      <td>0</td>\n",
              "      <td>0</td>\n",
              "    </tr>\n",
              "    <tr>\n",
              "      <th>4923</th>\n",
              "      <td>70.24</td>\n",
              "      <td>1171</td>\n",
              "      <td>3.0</td>\n",
              "      <td>3</td>\n",
              "      <td>1</td>\n",
              "      <td>0</td>\n",
              "      <td>0</td>\n",
              "      <td>0</td>\n",
              "      <td>0</td>\n",
              "      <td>0</td>\n",
              "      <td>...</td>\n",
              "      <td>0</td>\n",
              "      <td>0</td>\n",
              "      <td>0</td>\n",
              "      <td>0</td>\n",
              "      <td>0</td>\n",
              "      <td>0</td>\n",
              "      <td>0</td>\n",
              "      <td>0</td>\n",
              "      <td>0</td>\n",
              "      <td>0</td>\n",
              "    </tr>\n",
              "    <tr>\n",
              "      <th>4924</th>\n",
              "      <td>70.24</td>\n",
              "      <td>1171</td>\n",
              "      <td>3.0</td>\n",
              "      <td>3</td>\n",
              "      <td>1</td>\n",
              "      <td>0</td>\n",
              "      <td>0</td>\n",
              "      <td>0</td>\n",
              "      <td>0</td>\n",
              "      <td>0</td>\n",
              "      <td>...</td>\n",
              "      <td>0</td>\n",
              "      <td>0</td>\n",
              "      <td>0</td>\n",
              "      <td>0</td>\n",
              "      <td>0</td>\n",
              "      <td>0</td>\n",
              "      <td>0</td>\n",
              "      <td>0</td>\n",
              "      <td>0</td>\n",
              "      <td>0</td>\n",
              "    </tr>\n",
              "  </tbody>\n",
              "</table>\n",
              "<p>4925 rows × 84 columns</p>\n",
              "</div>\n",
              "      <button class=\"colab-df-convert\" onclick=\"convertToInteractive('df-85ef535e-2202-4e09-aaf5-192a9948d138')\"\n",
              "              title=\"Convert this dataframe to an interactive table.\"\n",
              "              style=\"display:none;\">\n",
              "        \n",
              "  <svg xmlns=\"http://www.w3.org/2000/svg\" height=\"24px\"viewBox=\"0 0 24 24\"\n",
              "       width=\"24px\">\n",
              "    <path d=\"M0 0h24v24H0V0z\" fill=\"none\"/>\n",
              "    <path d=\"M18.56 5.44l.94 2.06.94-2.06 2.06-.94-2.06-.94-.94-2.06-.94 2.06-2.06.94zm-11 1L8.5 8.5l.94-2.06 2.06-.94-2.06-.94L8.5 2.5l-.94 2.06-2.06.94zm10 10l.94 2.06.94-2.06 2.06-.94-2.06-.94-.94-2.06-.94 2.06-2.06.94z\"/><path d=\"M17.41 7.96l-1.37-1.37c-.4-.4-.92-.59-1.43-.59-.52 0-1.04.2-1.43.59L10.3 9.45l-7.72 7.72c-.78.78-.78 2.05 0 2.83L4 21.41c.39.39.9.59 1.41.59.51 0 1.02-.2 1.41-.59l7.78-7.78 2.81-2.81c.8-.78.8-2.07 0-2.86zM5.41 20L4 18.59l7.72-7.72 1.47 1.35L5.41 20z\"/>\n",
              "  </svg>\n",
              "      </button>\n",
              "      \n",
              "  <style>\n",
              "    .colab-df-container {\n",
              "      display:flex;\n",
              "      flex-wrap:wrap;\n",
              "      gap: 12px;\n",
              "    }\n",
              "\n",
              "    .colab-df-convert {\n",
              "      background-color: #E8F0FE;\n",
              "      border: none;\n",
              "      border-radius: 50%;\n",
              "      cursor: pointer;\n",
              "      display: none;\n",
              "      fill: #1967D2;\n",
              "      height: 32px;\n",
              "      padding: 0 0 0 0;\n",
              "      width: 32px;\n",
              "    }\n",
              "\n",
              "    .colab-df-convert:hover {\n",
              "      background-color: #E2EBFA;\n",
              "      box-shadow: 0px 1px 2px rgba(60, 64, 67, 0.3), 0px 1px 3px 1px rgba(60, 64, 67, 0.15);\n",
              "      fill: #174EA6;\n",
              "    }\n",
              "\n",
              "    [theme=dark] .colab-df-convert {\n",
              "      background-color: #3B4455;\n",
              "      fill: #D2E3FC;\n",
              "    }\n",
              "\n",
              "    [theme=dark] .colab-df-convert:hover {\n",
              "      background-color: #434B5C;\n",
              "      box-shadow: 0px 1px 3px 1px rgba(0, 0, 0, 0.15);\n",
              "      filter: drop-shadow(0px 1px 2px rgba(0, 0, 0, 0.3));\n",
              "      fill: #FFFFFF;\n",
              "    }\n",
              "  </style>\n",
              "\n",
              "      <script>\n",
              "        const buttonEl =\n",
              "          document.querySelector('#df-85ef535e-2202-4e09-aaf5-192a9948d138 button.colab-df-convert');\n",
              "        buttonEl.style.display =\n",
              "          google.colab.kernel.accessAllowed ? 'block' : 'none';\n",
              "\n",
              "        async function convertToInteractive(key) {\n",
              "          const element = document.querySelector('#df-85ef535e-2202-4e09-aaf5-192a9948d138');\n",
              "          const dataTable =\n",
              "            await google.colab.kernel.invokeFunction('convertToInteractive',\n",
              "                                                     [key], {});\n",
              "          if (!dataTable) return;\n",
              "\n",
              "          const docLinkHtml = 'Like what you see? Visit the ' +\n",
              "            '<a target=\"_blank\" href=https://colab.research.google.com/notebooks/data_table.ipynb>data table notebook</a>'\n",
              "            + ' to learn more about interactive tables.';\n",
              "          element.innerHTML = '';\n",
              "          dataTable['output_type'] = 'display_data';\n",
              "          await google.colab.output.renderOutput(dataTable, element);\n",
              "          const docLink = document.createElement('div');\n",
              "          docLink.innerHTML = docLinkHtml;\n",
              "          element.appendChild(docLink);\n",
              "        }\n",
              "      </script>\n",
              "    </div>\n",
              "  </div>\n",
              "  "
            ]
          },
          "metadata": {},
          "execution_count": 586
        }
      ]
    },
    {
      "cell_type": "code",
      "source": [
        "df5.info()"
      ],
      "metadata": {
        "colab": {
          "base_uri": "https://localhost:8080/"
        },
        "id": "VqUf9SGatyki",
        "outputId": "db762656-e249-4bc9-bd1c-e7ae4e52c9a5"
      },
      "execution_count": 587,
      "outputs": [
        {
          "output_type": "stream",
          "name": "stdout",
          "text": [
            "<class 'pandas.core.frame.DataFrame'>\n",
            "RangeIndex: 4925 entries, 0 to 4924\n",
            "Data columns (total 84 columns):\n",
            " #   Column                                           Non-Null Count  Dtype  \n",
            "---  ------                                           --------------  -----  \n",
            " 0   Price                                            4925 non-null   float64\n",
            " 1   Area                                             4925 non-null   int64  \n",
            " 2   Bedrooms                                         4925 non-null   float64\n",
            " 3   Bathrooms                                        4925 non-null   int64  \n",
            " 4   Status                                           4925 non-null   int64  \n",
            " 5   Adroit Prosper                                   4925 non-null   uint8  \n",
            " 6   Akshaya Orlando A1 To A6                         4925 non-null   uint8  \n",
            " 7   Akshaya Republic                                 4925 non-null   uint8  \n",
            " 8   Akshaya Tango                                    4925 non-null   uint8  \n",
            " 9   Akshaya Today                                    4925 non-null   uint8  \n",
            " 10  Alliance Galleria Residences                     4925 non-null   uint8  \n",
            " 11  Altis Ashraya                                    4925 non-null   uint8  \n",
            " 12  Arun Excello Urmika                              4925 non-null   uint8  \n",
            " 13  Casa Grand Casagrand First City                  4925 non-null   uint8  \n",
            " 14  Casa Grand Utopia                                4925 non-null   uint8  \n",
            " 15  DAC Agaram                                       4925 non-null   uint8  \n",
            " 16  DAC Centum                                       4925 non-null   uint8  \n",
            " 17  DRA Centralia                                    4925 non-null   uint8  \n",
            " 18  GKS Tulive Bellevue                              4925 non-null   uint8  \n",
            " 19  Hiranandani Parks Apartment                      4925 non-null   uint8  \n",
            " 20  Independent house                                4925 non-null   uint8  \n",
            " 21  LML Prakriti Phase II                            4925 non-null   uint8  \n",
            " 22  Lifestyle Le Paradise                            4925 non-null   uint8  \n",
            " 23  Lifestyle The Podium                             4925 non-null   uint8  \n",
            " 24  Mahindra Aqualily                                4925 non-null   uint8  \n",
            " 25  Mahindra Happinest                               4925 non-null   uint8  \n",
            " 26  Radiance Suprema                                 4925 non-null   uint8  \n",
            " 27  Reputed Builder Apartment                        4925 non-null   uint8  \n",
            " 28  Risland The Ace                                  4925 non-null   uint8  \n",
            " 29  Samprathy Aura                                   4925 non-null   uint8  \n",
            " 30  Shriram Code Name Mangalam                       4925 non-null   uint8  \n",
            " 31  Shriram Park 63                                  4925 non-null   uint8  \n",
            " 32  TVS Magnific At TVS Emerald Peninsula            4925 non-null   uint8  \n",
            " 33  Tata Tata New Value Homes New Haven Ribbon Walk  4925 non-null   uint8  \n",
            " 34  Urban Amaze                                      4925 non-null   uint8  \n",
            " 35  Urbanrise Code Name Independence Day             4925 non-null   uint8  \n",
            " 36  Urbanrise Code Name New Porur                    4925 non-null   uint8  \n",
            " 37  Vijay Raja VRX 360                               4925 non-null   uint8  \n",
            " 38  Ambattur                                         4925 non-null   uint8  \n",
            " 39  Avadi                                            4925 non-null   uint8  \n",
            " 40  Choolaimedu                                      4925 non-null   uint8  \n",
            " 41  Chromepet                                        4925 non-null   uint8  \n",
            " 42  East Tambaram                                    4925 non-null   uint8  \n",
            " 43  Guduvancheri                                     4925 non-null   uint8  \n",
            " 44  Kelambakkam                                      4925 non-null   uint8  \n",
            " 45  Kolathur                                         4925 non-null   uint8  \n",
            " 46  Kovilambakkam                                    4925 non-null   uint8  \n",
            " 47  Kovur                                            4925 non-null   uint8  \n",
            " 48  Madambakkam                                      4925 non-null   uint8  \n",
            " 49  Madhavaram                                       4925 non-null   uint8  \n",
            " 50  Madipakkam                                       4925 non-null   uint8  \n",
            " 51  Manapakkam                                       4925 non-null   uint8  \n",
            " 52  Mangadu                                          4925 non-null   uint8  \n",
            " 53  Medavakkam                                       4925 non-null   uint8  \n",
            " 54  Mogappair                                        4925 non-null   uint8  \n",
            " 55  Moolacheri                                       4925 non-null   uint8  \n",
            " 56  Mugalivakkam                                     4925 non-null   uint8  \n",
            " 57  Navallur                                         4925 non-null   uint8  \n",
            " 58  Oragadam                                         4925 non-null   uint8  \n",
            " 59  Padur                                            4925 non-null   uint8  \n",
            " 60  Pallavaram                                       4925 non-null   uint8  \n",
            " 61  Pallikaranai                                     4925 non-null   uint8  \n",
            " 62  Pammal                                           4925 non-null   uint8  \n",
            " 63  Perumbakkam                                      4925 non-null   uint8  \n",
            " 64  Perungalathur                                    4925 non-null   uint8  \n",
            " 65  Perungudi                                        4925 non-null   uint8  \n",
            " 66  Poonamallee                                      4925 non-null   uint8  \n",
            " 67  Porur                                            4925 non-null   uint8  \n",
            " 68  Selaiyur                                         4925 non-null   uint8  \n",
            " 69  Sholinganallur                                   4925 non-null   uint8  \n",
            " 70  Singaperumal Koil                                4925 non-null   uint8  \n",
            " 71  Siruseri                                         4925 non-null   uint8  \n",
            " 72  T Nagar                                          4925 non-null   uint8  \n",
            " 73  Thaiyur                                          4925 non-null   uint8  \n",
            " 74  Thalambur                                        4925 non-null   uint8  \n",
            " 75  Thirumazhisai                                    4925 non-null   uint8  \n",
            " 76  Thirumullaivoyal                                 4925 non-null   uint8  \n",
            " 77  Thiruvanmiyur                                    4925 non-null   uint8  \n",
            " 78  Thoraipakkam OMR                                 4925 non-null   uint8  \n",
            " 79  Urapakkam                                        4925 non-null   uint8  \n",
            " 80  Valasaravakkam                                   4925 non-null   uint8  \n",
            " 81  Velachery                                        4925 non-null   uint8  \n",
            " 82  West Tambaram                                    4925 non-null   uint8  \n",
            " 83  other                                            4925 non-null   uint8  \n",
            "dtypes: float64(2), int64(3), uint8(79)\n",
            "memory usage: 572.5 KB\n"
          ]
        }
      ]
    },
    {
      "cell_type": "code",
      "source": [
        "x = df5.drop('Price',axis = 1)\n",
        "y = df5['Price']"
      ],
      "metadata": {
        "id": "-3sKVrmwt1nz"
      },
      "execution_count": 588,
      "outputs": []
    },
    {
      "cell_type": "code",
      "source": [
        "x_train,x_test,y_train,y_test = train_test_split(x,y,random_state = 0,test_size = 0.2)"
      ],
      "metadata": {
        "id": "RlMZyouPuBnK"
      },
      "execution_count": 589,
      "outputs": []
    },
    {
      "cell_type": "code",
      "source": [
        ""
      ],
      "metadata": {
        "id": "uJg8XL0cuS-q"
      },
      "execution_count": 506,
      "outputs": []
    },
    {
      "cell_type": "markdown",
      "source": [
        "#Model building"
      ],
      "metadata": {
        "id": "RL9C7XVtbiGX"
      }
    },
    {
      "cell_type": "code",
      "source": [
        "def pred_result(model):\n",
        "  y_pred = model.predict(x_test)\n",
        "  mse_ = mse(y_pred,y_test)\n",
        "  r2 = r2_score(y_pred,y_test)\n",
        "  return y_pred,mse_,r2"
      ],
      "metadata": {
        "id": "mLb9Ol8hugdJ"
      },
      "execution_count": 590,
      "outputs": []
    },
    {
      "cell_type": "code",
      "source": [
        "def display(r2,mse_):\n",
        "  print(\"Accuracy : {:.2f}%\".format(r2*100))\n",
        "  print(\"MSE : {:.6f}\".format(mse_))"
      ],
      "metadata": {
        "id": "56Dd6VkDwZgy"
      },
      "execution_count": 591,
      "outputs": []
    },
    {
      "cell_type": "code",
      "source": [
        "scale = MinMaxScaler()\n",
        "x_train = scale.fit_transform(x_train)\n",
        "x_test = scale.transform(x_test)\n",
        "x_train"
      ],
      "metadata": {
        "id": "nr4VwHozyIEw",
        "colab": {
          "base_uri": "https://localhost:8080/"
        },
        "outputId": "5cbf59f0-bc51-4107-b935-e82e5984bec5"
      },
      "execution_count": 592,
      "outputs": [
        {
          "output_type": "execute_result",
          "data": {
            "text/plain": [
              "array([[0.15908574, 0.22222222, 0.25      , ..., 0.        , 0.        ,\n",
              "        0.        ],\n",
              "       [0.10438936, 0.11111111, 0.125     , ..., 0.        , 0.        ,\n",
              "        0.        ],\n",
              "       [0.10666363, 0.22222222, 0.125     , ..., 0.        , 0.        ,\n",
              "        0.        ],\n",
              "       ...,\n",
              "       [0.09597453, 0.22222222, 0.125     , ..., 0.        , 0.        ,\n",
              "        0.        ],\n",
              "       [0.08323857, 0.11111111, 0.125     , ..., 0.        , 0.        ,\n",
              "        0.        ],\n",
              "       [0.11030248, 0.11111111, 0.125     , ..., 0.        , 0.        ,\n",
              "        0.        ]])"
            ]
          },
          "metadata": {},
          "execution_count": 592
        }
      ]
    },
    {
      "cell_type": "code",
      "source": [
        "x_train.shape"
      ],
      "metadata": {
        "colab": {
          "base_uri": "https://localhost:8080/"
        },
        "id": "q7p5Z64xK9To",
        "outputId": "4eb715c1-9728-4377-943b-85b8ab34db5e"
      },
      "execution_count": 593,
      "outputs": [
        {
          "output_type": "execute_result",
          "data": {
            "text/plain": [
              "(3940, 83)"
            ]
          },
          "metadata": {},
          "execution_count": 593
        }
      ]
    },
    {
      "cell_type": "code",
      "source": [
        "def cross_score(model,n):\n",
        "  acc = cross_val_score(estimator = model,X = x_train,y = y_train,cv = n)\n",
        "  #print(acc)\n",
        "  print(\"Accuracy : {:.2f}%\".format(acc.mean()*100))\n",
        "  print(\"SD : {:.2f}%\".format(acc.std()*100))"
      ],
      "metadata": {
        "id": "sqie38IfZjfR"
      },
      "execution_count": 600,
      "outputs": []
    },
    {
      "cell_type": "code",
      "source": [
        "x.columns"
      ],
      "metadata": {
        "colab": {
          "base_uri": "https://localhost:8080/"
        },
        "id": "fle-Yf5AfJah",
        "outputId": "d3cde004-2dbf-443f-f0bb-ad4cbde9d81e"
      },
      "execution_count": 595,
      "outputs": [
        {
          "output_type": "execute_result",
          "data": {
            "text/plain": [
              "Index(['Area', 'Bedrooms', 'Bathrooms', 'Status', 'Adroit Prosper',\n",
              "       'Akshaya Orlando A1 To A6', 'Akshaya Republic', 'Akshaya Tango',\n",
              "       'Akshaya Today', 'Alliance Galleria Residences', 'Altis Ashraya',\n",
              "       'Arun Excello Urmika', 'Casa Grand Casagrand First City',\n",
              "       'Casa Grand Utopia', 'DAC Agaram', 'DAC Centum', 'DRA Centralia',\n",
              "       'GKS Tulive Bellevue', 'Hiranandani Parks Apartment',\n",
              "       'Independent house', 'LML Prakriti Phase II', 'Lifestyle Le Paradise',\n",
              "       'Lifestyle The Podium', 'Mahindra Aqualily ', 'Mahindra Happinest',\n",
              "       'Radiance Suprema', 'Reputed Builder Apartment', 'Risland The Ace',\n",
              "       'Samprathy Aura', 'Shriram Code Name Mangalam', 'Shriram Park 63',\n",
              "       'TVS Magnific At TVS Emerald Peninsula',\n",
              "       'Tata Tata New Value Homes New Haven Ribbon Walk', 'Urban Amaze',\n",
              "       'Urbanrise Code Name Independence Day', 'Urbanrise Code Name New Porur',\n",
              "       'Vijay Raja VRX 360', 'Ambattur', 'Avadi', 'Choolaimedu', 'Chromepet',\n",
              "       'East Tambaram', 'Guduvancheri', 'Kelambakkam', 'Kolathur',\n",
              "       'Kovilambakkam', 'Kovur', 'Madambakkam', 'Madhavaram', 'Madipakkam',\n",
              "       'Manapakkam', 'Mangadu', 'Medavakkam', 'Mogappair', 'Moolacheri',\n",
              "       'Mugalivakkam', 'Navallur', 'Oragadam', 'Padur', 'Pallavaram',\n",
              "       'Pallikaranai', 'Pammal', 'Perumbakkam', 'Perungalathur', 'Perungudi',\n",
              "       'Poonamallee', 'Porur', 'Selaiyur', 'Sholinganallur',\n",
              "       'Singaperumal Koil', 'Siruseri', 'T Nagar', 'Thaiyur', 'Thalambur',\n",
              "       'Thirumazhisai', 'Thirumullaivoyal', 'Thiruvanmiyur',\n",
              "       'Thoraipakkam OMR', 'Urapakkam', 'Valasaravakkam', 'Velachery',\n",
              "       'West Tambaram', 'other'],\n",
              "      dtype='object')"
            ]
          },
          "metadata": {},
          "execution_count": 595
        }
      ]
    },
    {
      "cell_type": "code",
      "source": [
        "#np.where(x.columns == \"Shah Paradise\")[0][0]"
      ],
      "metadata": {
        "id": "Bor4QAl7flov"
      },
      "execution_count": 513,
      "outputs": []
    },
    {
      "cell_type": "code",
      "source": [
        "np.zeros(len(x.columns))"
      ],
      "metadata": {
        "colab": {
          "base_uri": "https://localhost:8080/"
        },
        "id": "TlTRr-0ggGoy",
        "outputId": "1f44dde7-a7ab-4607-9982-2e07fb182516"
      },
      "execution_count": 596,
      "outputs": [
        {
          "output_type": "execute_result",
          "data": {
            "text/plain": [
              "array([0., 0., 0., 0., 0., 0., 0., 0., 0., 0., 0., 0., 0., 0., 0., 0., 0.,\n",
              "       0., 0., 0., 0., 0., 0., 0., 0., 0., 0., 0., 0., 0., 0., 0., 0., 0.,\n",
              "       0., 0., 0., 0., 0., 0., 0., 0., 0., 0., 0., 0., 0., 0., 0., 0., 0.,\n",
              "       0., 0., 0., 0., 0., 0., 0., 0., 0., 0., 0., 0., 0., 0., 0., 0., 0.,\n",
              "       0., 0., 0., 0., 0., 0., 0., 0., 0., 0., 0., 0., 0., 0., 0.])"
            ]
          },
          "metadata": {},
          "execution_count": 596
        }
      ]
    },
    {
      "cell_type": "code",
      "source": [
        "\n"
      ],
      "metadata": {
        "id": "entFTqK1VOlI"
      },
      "execution_count": 597,
      "outputs": []
    },
    {
      "cell_type": "code",
      "source": [
        "def price_predict(location,area,bed,bath,status,builder):\n",
        "  location_index = np.where(x.columns == location)[0][0]\n",
        "  builder_index = np.where(x.columns == builder)[0][0]\n",
        "\n",
        "  y_pred = np.zeros(len(x.columns))\n",
        "  y_pred[0] = area\n",
        "  y_pred[1] = bed\n",
        "  y_pred[2] = bath\n",
        "  y_pred[3] = status\n",
        "  if location_index > 0:\n",
        "    y_pred[location_index] = 1\n",
        "  if builder_index > 0:\n",
        "    y_pred[builder_index] = 1\n",
        "\n",
        "    return rand_forest.predict(scale.transform([y_pred]))[0],lin_model.predict(scale.transform([y_pred]))[0]\n",
        "\n"
      ],
      "metadata": {
        "id": "uT0QJXaxurRK"
      },
      "execution_count": 598,
      "outputs": []
    },
    {
      "cell_type": "code",
      "source": [
        ""
      ],
      "metadata": {
        "id": "dn2ClrRDuyp0"
      },
      "execution_count": 515,
      "outputs": []
    },
    {
      "cell_type": "code",
      "source": [
        "lin_model = LinearRegression()\n",
        "lin_model.fit(x_train,y_train)\n",
        "cross_score(lin_model,10)"
      ],
      "metadata": {
        "colab": {
          "base_uri": "https://localhost:8080/"
        },
        "id": "MbcT-qdYbjoy",
        "outputId": "2029995b-28fa-4d78-f698-b01630e0a968"
      },
      "execution_count": 601,
      "outputs": [
        {
          "output_type": "stream",
          "name": "stdout",
          "text": [
            "Accuracy : 85.66%\n",
            "SD : 4.08%\n"
          ]
        }
      ]
    },
    {
      "cell_type": "code",
      "source": [
        "lin_model.coef_"
      ],
      "metadata": {
        "colab": {
          "base_uri": "https://localhost:8080/"
        },
        "id": "zXxv5goGrdiG",
        "outputId": "822dde8d-779a-4bd6-dd5b-7c17c71d5929"
      },
      "execution_count": 603,
      "outputs": [
        {
          "output_type": "execute_result",
          "data": {
            "text/plain": [
              "array([ 8.53297665e+02, -1.12407482e+02,  1.47321614e+01,  9.93466969e+00,\n",
              "       -7.78542393e+00, -1.00504219e+00, -4.71117369e-01,  4.03943735e+01,\n",
              "        9.07153571e-01,  3.03239448e+01,  8.81688304e+00,  5.72507401e+00,\n",
              "       -2.12558597e+01, -3.10066900e+01, -9.83128233e+00,  4.33980200e+00,\n",
              "       -1.59826192e+01, -2.58268098e+00, -4.50458901e+01, -8.04699487e-01,\n",
              "       -1.76227502e+01, -5.75757084e+00,  1.68192980e+02, -3.30726451e+01,\n",
              "        9.67621360e+00, -5.32405168e+00,  1.86820965e+00, -3.09657906e+01,\n",
              "       -1.60360491e+01, -1.03785166e-01, -2.67315544e+00, -6.46498114e-01,\n",
              "        1.56122676e+01,  1.22064974e+01,  2.22096111e+01, -1.06419800e+01,\n",
              "        1.06572413e+01, -1.36663570e+02, -1.47935490e+02, -9.28094711e+01,\n",
              "       -1.37920757e+02, -1.33517696e+02, -1.44425574e+02, -1.55389763e+02,\n",
              "       -1.36639160e+02, -1.39455305e+02, -1.39597187e+02, -1.42648518e+02,\n",
              "       -1.45095733e+02, -1.30513200e+02, -1.32263798e+02, -1.42361294e+02,\n",
              "       -1.46935452e+02, -1.27820120e+02, -1.54130316e+02, -1.40339076e+02,\n",
              "       -1.45681331e+02, -1.49616463e+02, -1.59526240e+02, -1.36102765e+02,\n",
              "       -1.44490424e+02, -1.41791321e+02, -1.53425645e+02, -1.45629123e+02,\n",
              "       -9.57840149e+01, -1.45591374e+02, -1.31612239e+02, -1.36582289e+02,\n",
              "       -1.37474290e+02, -1.59352625e+02, -1.59610827e+02, -2.50048931e+01,\n",
              "       -1.57822424e+02, -1.55388657e+02, -1.40026630e+02, -1.42450624e+02,\n",
              "       -6.45107449e+01, -1.27261367e+02, -1.51311719e+02, -1.12329046e+02,\n",
              "       -1.04109891e+02, -1.39554047e+02, -1.52289174e+02])"
            ]
          },
          "metadata": {},
          "execution_count": 603
        }
      ]
    },
    {
      "cell_type": "code",
      "source": [
        "coeff_df = pd.DataFrame(lin_model.coef_,x.columns,columns=[\"Coefficient\"])\n",
        "coeff_df"
      ],
      "metadata": {
        "id": "M8z2MYV7vTTx",
        "colab": {
          "base_uri": "https://localhost:8080/",
          "height": 424
        },
        "outputId": "a2681679-f5f2-418d-9af7-8ef0d74cba93"
      },
      "execution_count": 602,
      "outputs": [
        {
          "output_type": "execute_result",
          "data": {
            "text/plain": [
              "                Coefficient\n",
              "Area             853.297665\n",
              "Bedrooms        -112.407482\n",
              "Bathrooms         14.732161\n",
              "Status             9.934670\n",
              "Adroit Prosper    -7.785424\n",
              "...                     ...\n",
              "Urapakkam       -151.311719\n",
              "Valasaravakkam  -112.329046\n",
              "Velachery       -104.109891\n",
              "West Tambaram   -139.554047\n",
              "other           -152.289174\n",
              "\n",
              "[83 rows x 1 columns]"
            ],
            "text/html": [
              "\n",
              "  <div id=\"df-39a05fba-f57b-420a-af27-fa38ae3523f0\">\n",
              "    <div class=\"colab-df-container\">\n",
              "      <div>\n",
              "<style scoped>\n",
              "    .dataframe tbody tr th:only-of-type {\n",
              "        vertical-align: middle;\n",
              "    }\n",
              "\n",
              "    .dataframe tbody tr th {\n",
              "        vertical-align: top;\n",
              "    }\n",
              "\n",
              "    .dataframe thead th {\n",
              "        text-align: right;\n",
              "    }\n",
              "</style>\n",
              "<table border=\"1\" class=\"dataframe\">\n",
              "  <thead>\n",
              "    <tr style=\"text-align: right;\">\n",
              "      <th></th>\n",
              "      <th>Coefficient</th>\n",
              "    </tr>\n",
              "  </thead>\n",
              "  <tbody>\n",
              "    <tr>\n",
              "      <th>Area</th>\n",
              "      <td>853.297665</td>\n",
              "    </tr>\n",
              "    <tr>\n",
              "      <th>Bedrooms</th>\n",
              "      <td>-112.407482</td>\n",
              "    </tr>\n",
              "    <tr>\n",
              "      <th>Bathrooms</th>\n",
              "      <td>14.732161</td>\n",
              "    </tr>\n",
              "    <tr>\n",
              "      <th>Status</th>\n",
              "      <td>9.934670</td>\n",
              "    </tr>\n",
              "    <tr>\n",
              "      <th>Adroit Prosper</th>\n",
              "      <td>-7.785424</td>\n",
              "    </tr>\n",
              "    <tr>\n",
              "      <th>...</th>\n",
              "      <td>...</td>\n",
              "    </tr>\n",
              "    <tr>\n",
              "      <th>Urapakkam</th>\n",
              "      <td>-151.311719</td>\n",
              "    </tr>\n",
              "    <tr>\n",
              "      <th>Valasaravakkam</th>\n",
              "      <td>-112.329046</td>\n",
              "    </tr>\n",
              "    <tr>\n",
              "      <th>Velachery</th>\n",
              "      <td>-104.109891</td>\n",
              "    </tr>\n",
              "    <tr>\n",
              "      <th>West Tambaram</th>\n",
              "      <td>-139.554047</td>\n",
              "    </tr>\n",
              "    <tr>\n",
              "      <th>other</th>\n",
              "      <td>-152.289174</td>\n",
              "    </tr>\n",
              "  </tbody>\n",
              "</table>\n",
              "<p>83 rows × 1 columns</p>\n",
              "</div>\n",
              "      <button class=\"colab-df-convert\" onclick=\"convertToInteractive('df-39a05fba-f57b-420a-af27-fa38ae3523f0')\"\n",
              "              title=\"Convert this dataframe to an interactive table.\"\n",
              "              style=\"display:none;\">\n",
              "        \n",
              "  <svg xmlns=\"http://www.w3.org/2000/svg\" height=\"24px\"viewBox=\"0 0 24 24\"\n",
              "       width=\"24px\">\n",
              "    <path d=\"M0 0h24v24H0V0z\" fill=\"none\"/>\n",
              "    <path d=\"M18.56 5.44l.94 2.06.94-2.06 2.06-.94-2.06-.94-.94-2.06-.94 2.06-2.06.94zm-11 1L8.5 8.5l.94-2.06 2.06-.94-2.06-.94L8.5 2.5l-.94 2.06-2.06.94zm10 10l.94 2.06.94-2.06 2.06-.94-2.06-.94-.94-2.06-.94 2.06-2.06.94z\"/><path d=\"M17.41 7.96l-1.37-1.37c-.4-.4-.92-.59-1.43-.59-.52 0-1.04.2-1.43.59L10.3 9.45l-7.72 7.72c-.78.78-.78 2.05 0 2.83L4 21.41c.39.39.9.59 1.41.59.51 0 1.02-.2 1.41-.59l7.78-7.78 2.81-2.81c.8-.78.8-2.07 0-2.86zM5.41 20L4 18.59l7.72-7.72 1.47 1.35L5.41 20z\"/>\n",
              "  </svg>\n",
              "      </button>\n",
              "      \n",
              "  <style>\n",
              "    .colab-df-container {\n",
              "      display:flex;\n",
              "      flex-wrap:wrap;\n",
              "      gap: 12px;\n",
              "    }\n",
              "\n",
              "    .colab-df-convert {\n",
              "      background-color: #E8F0FE;\n",
              "      border: none;\n",
              "      border-radius: 50%;\n",
              "      cursor: pointer;\n",
              "      display: none;\n",
              "      fill: #1967D2;\n",
              "      height: 32px;\n",
              "      padding: 0 0 0 0;\n",
              "      width: 32px;\n",
              "    }\n",
              "\n",
              "    .colab-df-convert:hover {\n",
              "      background-color: #E2EBFA;\n",
              "      box-shadow: 0px 1px 2px rgba(60, 64, 67, 0.3), 0px 1px 3px 1px rgba(60, 64, 67, 0.15);\n",
              "      fill: #174EA6;\n",
              "    }\n",
              "\n",
              "    [theme=dark] .colab-df-convert {\n",
              "      background-color: #3B4455;\n",
              "      fill: #D2E3FC;\n",
              "    }\n",
              "\n",
              "    [theme=dark] .colab-df-convert:hover {\n",
              "      background-color: #434B5C;\n",
              "      box-shadow: 0px 1px 3px 1px rgba(0, 0, 0, 0.15);\n",
              "      filter: drop-shadow(0px 1px 2px rgba(0, 0, 0, 0.3));\n",
              "      fill: #FFFFFF;\n",
              "    }\n",
              "  </style>\n",
              "\n",
              "      <script>\n",
              "        const buttonEl =\n",
              "          document.querySelector('#df-39a05fba-f57b-420a-af27-fa38ae3523f0 button.colab-df-convert');\n",
              "        buttonEl.style.display =\n",
              "          google.colab.kernel.accessAllowed ? 'block' : 'none';\n",
              "\n",
              "        async function convertToInteractive(key) {\n",
              "          const element = document.querySelector('#df-39a05fba-f57b-420a-af27-fa38ae3523f0');\n",
              "          const dataTable =\n",
              "            await google.colab.kernel.invokeFunction('convertToInteractive',\n",
              "                                                     [key], {});\n",
              "          if (!dataTable) return;\n",
              "\n",
              "          const docLinkHtml = 'Like what you see? Visit the ' +\n",
              "            '<a target=\"_blank\" href=https://colab.research.google.com/notebooks/data_table.ipynb>data table notebook</a>'\n",
              "            + ' to learn more about interactive tables.';\n",
              "          element.innerHTML = '';\n",
              "          dataTable['output_type'] = 'display_data';\n",
              "          await google.colab.output.renderOutput(dataTable, element);\n",
              "          const docLink = document.createElement('div');\n",
              "          docLink.innerHTML = docLinkHtml;\n",
              "          element.appendChild(docLink);\n",
              "        }\n",
              "      </script>\n",
              "    </div>\n",
              "  </div>\n",
              "  "
            ]
          },
          "metadata": {},
          "execution_count": 602
        }
      ]
    },
    {
      "cell_type": "code",
      "source": [
        ""
      ],
      "metadata": {
        "id": "rEp6u6rOvXvC"
      },
      "execution_count": 518,
      "outputs": []
    },
    {
      "cell_type": "code",
      "source": [
        "tree_model = DecisionTreeRegressor()\n",
        "tree_model.fit(x_train,y_train)\n",
        "cross_score(tree_model,10)"
      ],
      "metadata": {
        "colab": {
          "base_uri": "https://localhost:8080/"
        },
        "id": "4Ne2bNC4yNBC",
        "outputId": "c6473ad6-cb0b-4bbe-946a-2410ba1b5ffc"
      },
      "execution_count": 604,
      "outputs": [
        {
          "output_type": "stream",
          "name": "stdout",
          "text": [
            "Accuracy : 72.58%\n",
            "SD : 19.84%\n"
          ]
        }
      ]
    },
    {
      "cell_type": "code",
      "source": [
        ""
      ],
      "metadata": {
        "id": "WTVXs60a8em4"
      },
      "execution_count": 519,
      "outputs": []
    },
    {
      "cell_type": "code",
      "source": [
        "#y_pred,mse_,r2 = pred_result(tree_model)"
      ],
      "metadata": {
        "id": "X1C5HEavyXvY"
      },
      "execution_count": 520,
      "outputs": []
    },
    {
      "cell_type": "markdown",
      "source": [
        ""
      ],
      "metadata": {
        "id": "XO0Cfglu12tN"
      }
    },
    {
      "cell_type": "code",
      "source": [
        "#tree_model.score(x_test,y_test)"
      ],
      "metadata": {
        "id": "iN72oYh1zRPn"
      },
      "execution_count": 521,
      "outputs": []
    },
    {
      "cell_type": "code",
      "source": [
        "#display(r2,mse_)"
      ],
      "metadata": {
        "id": "xq5bv6-5ye54"
      },
      "execution_count": 522,
      "outputs": []
    },
    {
      "cell_type": "code",
      "source": [
        ""
      ],
      "metadata": {
        "id": "A7-SVXgl2oFA"
      },
      "execution_count": 522,
      "outputs": []
    },
    {
      "cell_type": "code",
      "source": [
        "svm_model = SVR(kernel = \"rbf\")\n",
        "svm_model.fit(x_train,y_train)\n",
        "cross_score(svm_model,10)"
      ],
      "metadata": {
        "colab": {
          "base_uri": "https://localhost:8080/"
        },
        "id": "IT1SMa7C2oQ2",
        "outputId": "740fd5da-66cb-491a-d77e-df1066066bf6"
      },
      "execution_count": 605,
      "outputs": [
        {
          "output_type": "stream",
          "name": "stdout",
          "text": [
            "Accuracy : 18.25%\n",
            "SD : 4.19%\n"
          ]
        }
      ]
    },
    {
      "cell_type": "code",
      "source": [
        "#y_pred,mse_,r2 = pred_result(svm_model)"
      ],
      "metadata": {
        "id": "iCZqCZ_z318l"
      },
      "execution_count": 524,
      "outputs": []
    },
    {
      "cell_type": "code",
      "source": [
        "#svm_model.score(x_test,y_test)"
      ],
      "metadata": {
        "id": "HDkFFsdE37Kd"
      },
      "execution_count": 525,
      "outputs": []
    },
    {
      "cell_type": "code",
      "source": [
        "#display(r2,mse_)"
      ],
      "metadata": {
        "id": "NTwtOThZ4WWW"
      },
      "execution_count": 526,
      "outputs": []
    },
    {
      "cell_type": "code",
      "source": [
        ""
      ],
      "metadata": {
        "id": "TLrdvq-9zVTw"
      },
      "execution_count": 526,
      "outputs": []
    },
    {
      "cell_type": "code",
      "source": [
        "rand_forest = RandomForestRegressor(n_estimators = 11)\n",
        "rand_forest.fit(x_train,y_train)\n",
        "cross_score(rand_forest,10)"
      ],
      "metadata": {
        "colab": {
          "base_uri": "https://localhost:8080/"
        },
        "id": "fSNvkxlKzVv_",
        "outputId": "3156d2ed-1e40-46bd-e545-7cef6bb0e91c"
      },
      "execution_count": 606,
      "outputs": [
        {
          "output_type": "stream",
          "name": "stdout",
          "text": [
            "Accuracy : 81.72%\n",
            "SD : 10.45%\n"
          ]
        }
      ]
    },
    {
      "cell_type": "code",
      "source": [
        "#y_pred,mse_,r2 = pred_result(rand_forest)"
      ],
      "metadata": {
        "id": "fPQ9jmC_0gkP"
      },
      "execution_count": 528,
      "outputs": []
    },
    {
      "cell_type": "code",
      "source": [
        "#rand_forest.score(x_test,y_test)"
      ],
      "metadata": {
        "id": "8AXtkXex0o4H",
        "colab": {
          "base_uri": "https://localhost:8080/"
        },
        "outputId": "76e2a060-eb4f-4c36-c3a4-14a3d8cb72e9"
      },
      "execution_count": 643,
      "outputs": [
        {
          "output_type": "execute_result",
          "data": {
            "text/plain": [
              "0.8695053958208812"
            ]
          },
          "metadata": {},
          "execution_count": 643
        }
      ]
    },
    {
      "cell_type": "code",
      "source": [
        ""
      ],
      "metadata": {
        "id": "7uX8uk-AcySD"
      },
      "execution_count": null,
      "outputs": []
    },
    {
      "cell_type": "code",
      "source": [
        "_#display(r2,mse_)"
      ],
      "metadata": {
        "id": "x9AS8INh1ExH"
      },
      "execution_count": 530,
      "outputs": []
    },
    {
      "cell_type": "code",
      "source": [
        "df5[0:1]"
      ],
      "metadata": {
        "colab": {
          "base_uri": "https://localhost:8080/",
          "height": 226
        },
        "id": "KDBl9DusMwf5",
        "outputId": "9b8793a7-6ea8-40b7-8f3d-5b42bf63b9b1"
      },
      "execution_count": 607,
      "outputs": [
        {
          "output_type": "execute_result",
          "data": {
            "text/plain": [
              "   Price  Area  Bedrooms  Bathrooms  Status  Adroit Prosper  \\\n",
              "0   25.0   728       2.0          2       0               0   \n",
              "\n",
              "   Akshaya Orlando A1 To A6  Akshaya Republic  Akshaya Tango  Akshaya Today  \\\n",
              "0                         0                 0              0              0   \n",
              "\n",
              "   ...  Thalambur  Thirumazhisai  Thirumullaivoyal  Thiruvanmiyur  \\\n",
              "0  ...          0              0                 0              0   \n",
              "\n",
              "   Thoraipakkam OMR  Urapakkam  Valasaravakkam  Velachery  West Tambaram  \\\n",
              "0                 0          0               0          0              0   \n",
              "\n",
              "   other  \n",
              "0      0  \n",
              "\n",
              "[1 rows x 84 columns]"
            ],
            "text/html": [
              "\n",
              "  <div id=\"df-561dec7c-fe97-4f0b-83e5-4dc76f857449\">\n",
              "    <div class=\"colab-df-container\">\n",
              "      <div>\n",
              "<style scoped>\n",
              "    .dataframe tbody tr th:only-of-type {\n",
              "        vertical-align: middle;\n",
              "    }\n",
              "\n",
              "    .dataframe tbody tr th {\n",
              "        vertical-align: top;\n",
              "    }\n",
              "\n",
              "    .dataframe thead th {\n",
              "        text-align: right;\n",
              "    }\n",
              "</style>\n",
              "<table border=\"1\" class=\"dataframe\">\n",
              "  <thead>\n",
              "    <tr style=\"text-align: right;\">\n",
              "      <th></th>\n",
              "      <th>Price</th>\n",
              "      <th>Area</th>\n",
              "      <th>Bedrooms</th>\n",
              "      <th>Bathrooms</th>\n",
              "      <th>Status</th>\n",
              "      <th>Adroit Prosper</th>\n",
              "      <th>Akshaya Orlando A1 To A6</th>\n",
              "      <th>Akshaya Republic</th>\n",
              "      <th>Akshaya Tango</th>\n",
              "      <th>Akshaya Today</th>\n",
              "      <th>...</th>\n",
              "      <th>Thalambur</th>\n",
              "      <th>Thirumazhisai</th>\n",
              "      <th>Thirumullaivoyal</th>\n",
              "      <th>Thiruvanmiyur</th>\n",
              "      <th>Thoraipakkam OMR</th>\n",
              "      <th>Urapakkam</th>\n",
              "      <th>Valasaravakkam</th>\n",
              "      <th>Velachery</th>\n",
              "      <th>West Tambaram</th>\n",
              "      <th>other</th>\n",
              "    </tr>\n",
              "  </thead>\n",
              "  <tbody>\n",
              "    <tr>\n",
              "      <th>0</th>\n",
              "      <td>25.0</td>\n",
              "      <td>728</td>\n",
              "      <td>2.0</td>\n",
              "      <td>2</td>\n",
              "      <td>0</td>\n",
              "      <td>0</td>\n",
              "      <td>0</td>\n",
              "      <td>0</td>\n",
              "      <td>0</td>\n",
              "      <td>0</td>\n",
              "      <td>...</td>\n",
              "      <td>0</td>\n",
              "      <td>0</td>\n",
              "      <td>0</td>\n",
              "      <td>0</td>\n",
              "      <td>0</td>\n",
              "      <td>0</td>\n",
              "      <td>0</td>\n",
              "      <td>0</td>\n",
              "      <td>0</td>\n",
              "      <td>0</td>\n",
              "    </tr>\n",
              "  </tbody>\n",
              "</table>\n",
              "<p>1 rows × 84 columns</p>\n",
              "</div>\n",
              "      <button class=\"colab-df-convert\" onclick=\"convertToInteractive('df-561dec7c-fe97-4f0b-83e5-4dc76f857449')\"\n",
              "              title=\"Convert this dataframe to an interactive table.\"\n",
              "              style=\"display:none;\">\n",
              "        \n",
              "  <svg xmlns=\"http://www.w3.org/2000/svg\" height=\"24px\"viewBox=\"0 0 24 24\"\n",
              "       width=\"24px\">\n",
              "    <path d=\"M0 0h24v24H0V0z\" fill=\"none\"/>\n",
              "    <path d=\"M18.56 5.44l.94 2.06.94-2.06 2.06-.94-2.06-.94-.94-2.06-.94 2.06-2.06.94zm-11 1L8.5 8.5l.94-2.06 2.06-.94-2.06-.94L8.5 2.5l-.94 2.06-2.06.94zm10 10l.94 2.06.94-2.06 2.06-.94-2.06-.94-.94-2.06-.94 2.06-2.06.94z\"/><path d=\"M17.41 7.96l-1.37-1.37c-.4-.4-.92-.59-1.43-.59-.52 0-1.04.2-1.43.59L10.3 9.45l-7.72 7.72c-.78.78-.78 2.05 0 2.83L4 21.41c.39.39.9.59 1.41.59.51 0 1.02-.2 1.41-.59l7.78-7.78 2.81-2.81c.8-.78.8-2.07 0-2.86zM5.41 20L4 18.59l7.72-7.72 1.47 1.35L5.41 20z\"/>\n",
              "  </svg>\n",
              "      </button>\n",
              "      \n",
              "  <style>\n",
              "    .colab-df-container {\n",
              "      display:flex;\n",
              "      flex-wrap:wrap;\n",
              "      gap: 12px;\n",
              "    }\n",
              "\n",
              "    .colab-df-convert {\n",
              "      background-color: #E8F0FE;\n",
              "      border: none;\n",
              "      border-radius: 50%;\n",
              "      cursor: pointer;\n",
              "      display: none;\n",
              "      fill: #1967D2;\n",
              "      height: 32px;\n",
              "      padding: 0 0 0 0;\n",
              "      width: 32px;\n",
              "    }\n",
              "\n",
              "    .colab-df-convert:hover {\n",
              "      background-color: #E2EBFA;\n",
              "      box-shadow: 0px 1px 2px rgba(60, 64, 67, 0.3), 0px 1px 3px 1px rgba(60, 64, 67, 0.15);\n",
              "      fill: #174EA6;\n",
              "    }\n",
              "\n",
              "    [theme=dark] .colab-df-convert {\n",
              "      background-color: #3B4455;\n",
              "      fill: #D2E3FC;\n",
              "    }\n",
              "\n",
              "    [theme=dark] .colab-df-convert:hover {\n",
              "      background-color: #434B5C;\n",
              "      box-shadow: 0px 1px 3px 1px rgba(0, 0, 0, 0.15);\n",
              "      filter: drop-shadow(0px 1px 2px rgba(0, 0, 0, 0.3));\n",
              "      fill: #FFFFFF;\n",
              "    }\n",
              "  </style>\n",
              "\n",
              "      <script>\n",
              "        const buttonEl =\n",
              "          document.querySelector('#df-561dec7c-fe97-4f0b-83e5-4dc76f857449 button.colab-df-convert');\n",
              "        buttonEl.style.display =\n",
              "          google.colab.kernel.accessAllowed ? 'block' : 'none';\n",
              "\n",
              "        async function convertToInteractive(key) {\n",
              "          const element = document.querySelector('#df-561dec7c-fe97-4f0b-83e5-4dc76f857449');\n",
              "          const dataTable =\n",
              "            await google.colab.kernel.invokeFunction('convertToInteractive',\n",
              "                                                     [key], {});\n",
              "          if (!dataTable) return;\n",
              "\n",
              "          const docLinkHtml = 'Like what you see? Visit the ' +\n",
              "            '<a target=\"_blank\" href=https://colab.research.google.com/notebooks/data_table.ipynb>data table notebook</a>'\n",
              "            + ' to learn more about interactive tables.';\n",
              "          element.innerHTML = '';\n",
              "          dataTable['output_type'] = 'display_data';\n",
              "          await google.colab.output.renderOutput(dataTable, element);\n",
              "          const docLink = document.createElement('div');\n",
              "          docLink.innerHTML = docLinkHtml;\n",
              "          element.appendChild(docLink);\n",
              "        }\n",
              "      </script>\n",
              "    </div>\n",
              "  </div>\n",
              "  "
            ]
          },
          "metadata": {},
          "execution_count": 607
        }
      ]
    },
    {
      "cell_type": "code",
      "source": [
        "rand_score,lin_score= price_predict(\"Avadi\",4000,5,6,status = 0,builder = \"Independent house\")\n",
        "print(rand_score,lin_score)"
      ],
      "metadata": {
        "colab": {
          "base_uri": "https://localhost:8080/"
        },
        "id": "VPGL2IHUKy6h",
        "outputId": "f0c3b610-c1a5-4d4b-c779-68de6ab11a44"
      },
      "execution_count": 642,
      "outputs": [
        {
          "output_type": "stream",
          "name": "stdout",
          "text": [
            "655.1818181818181 306.8988272323372\n"
          ]
        },
        {
          "output_type": "stream",
          "name": "stderr",
          "text": [
            "/usr/local/lib/python3.7/dist-packages/sklearn/base.py:451: UserWarning: X does not have valid feature names, but MinMaxScaler was fitted with feature names\n",
            "  \"X does not have valid feature names, but\"\n",
            "/usr/local/lib/python3.7/dist-packages/sklearn/base.py:451: UserWarning: X does not have valid feature names, but MinMaxScaler was fitted with feature names\n",
            "  \"X does not have valid feature names, but\"\n"
          ]
        }
      ]
    },
    {
      "cell_type": "code",
      "source": [
        ""
      ],
      "metadata": {
        "id": "1DF959UY5Tec"
      },
      "execution_count": 532,
      "outputs": []
    },
    {
      "cell_type": "code",
      "source": [
        ""
      ],
      "metadata": {
        "id": "Y-PZh_tF5rxL"
      },
      "execution_count": 532,
      "outputs": []
    },
    {
      "cell_type": "code",
      "source": [
        "rand_pred = rand_forest.predict(x_test)"
      ],
      "metadata": {
        "id": "nLdZyB_r6XGj"
      },
      "execution_count": 612,
      "outputs": []
    },
    {
      "cell_type": "code",
      "source": [
        "df6 = pd.DataFrame({\"Actual Values\":y_test,\"Predicted values\":rand_pred})"
      ],
      "metadata": {
        "id": "iPCjamkF54g0"
      },
      "execution_count": 613,
      "outputs": []
    },
    {
      "cell_type": "code",
      "source": [
        "df6 = df6.sort_index(axis = 0)"
      ],
      "metadata": {
        "id": "nrX8seu87csr"
      },
      "execution_count": 614,
      "outputs": []
    },
    {
      "cell_type": "code",
      "source": [
        "df6.head(50).plot(figsize = (15,5))"
      ],
      "metadata": {
        "colab": {
          "base_uri": "https://localhost:8080/",
          "height": 323
        },
        "id": "kPa6UrR86r18",
        "outputId": "30743861-dfa3-4ee9-b050-740be45cc517"
      },
      "execution_count": 615,
      "outputs": [
        {
          "output_type": "execute_result",
          "data": {
            "text/plain": [
              "<matplotlib.axes._subplots.AxesSubplot at 0x7f19902e7e90>"
            ]
          },
          "metadata": {},
          "execution_count": 615
        },
        {
          "output_type": "display_data",
          "data": {
            "text/plain": [
              "<Figure size 1080x360 with 1 Axes>"
            ],
            "image/png": "[encoded data removed]"
          },
          "metadata": {
            "needs_background": "light"
          }
        }
      ]
    },
    {
      "cell_type": "code",
      "source": [
        "lin_pred = lin_model.predict(x_test)"
      ],
      "metadata": {
        "id": "lPfo6S5Y8J6D"
      },
      "execution_count": 616,
      "outputs": []
    },
    {
      "cell_type": "code",
      "source": [
        "df7 = pd.DataFrame({\"Actual values\":y_test,\"Predicted values\":lin_pred})"
      ],
      "metadata": {
        "id": "u_MelemE79cb"
      },
      "execution_count": 617,
      "outputs": []
    },
    {
      "cell_type": "code",
      "source": [
        "df7 = df7.sort_index(axis = 0)"
      ],
      "metadata": {
        "id": "Bq98VwVI8QXK"
      },
      "execution_count": 618,
      "outputs": []
    },
    {
      "cell_type": "code",
      "source": [
        "plt.figure(figsize = (15,5))\n",
        "plt.plot(df7[\"Actual values\"].head(50))\n",
        "plt.plot(df7[\"Predicted values\"].head(50))\n"
      ],
      "metadata": {
        "colab": {
          "base_uri": "https://localhost:8080/",
          "height": 323
        },
        "id": "bny1sU5o8O0K",
        "outputId": "35333f38-cbe6-41d8-e926-862720e068de"
      },
      "execution_count": 619,
      "outputs": [
        {
          "output_type": "execute_result",
          "data": {
            "text/plain": [
              "[<matplotlib.lines.Line2D at 0x7f198d43e190>]"
            ]
          },
          "metadata": {},
          "execution_count": 619
        },
        {
          "output_type": "display_data",
          "data": {
            "text/plain": [
              "<Figure size 1080x360 with 1 Axes>"
            ],
            "image/png": "[encoded data removed]"
          },
          "metadata": {
            "needs_background": "light"
          }
        }
      ]
    },
    {
      "cell_type": "code",
      "source": [
        ""
      ],
      "metadata": {
        "id": "uJAB-dgcYi3J"
      },
      "execution_count": 627,
      "outputs": []
    },
    {
      "cell_type": "code",
      "source": [
        ""
      ],
      "metadata": {
        "id": "qeJeSqa8YlGS"
      },
      "execution_count": 627,
      "outputs": []
    },
    {
      "cell_type": "code",
      "source": [
        ""
      ],
      "metadata": {
        "id": "DqY6ECT2YsBS"
      },
      "execution_count": 627,
      "outputs": []
    },
    {
      "cell_type": "code",
      "source": [
        "avg_pred = (rand_pred + lin_pred)/2\n",
        "df8 = pd.DataFrame({\"Actual values\":y_test,\"Predicted values\":avg_pred})"
      ],
      "metadata": {
        "id": "M1b8YngFYG2b"
      },
      "execution_count": 628,
      "outputs": []
    },
    {
      "cell_type": "code",
      "source": [
        "df8 = df8.sort_index(axis = 0)"
      ],
      "metadata": {
        "id": "p7YzK40PY1ox"
      },
      "execution_count": 630,
      "outputs": []
    },
    {
      "cell_type": "code",
      "source": [
        "plt.figure(figsize = (15,5))\n",
        "plt.plot(df8[\"Actual values\"].head(50))\n",
        "plt.plot(df8[\"Predicted values\"].head(50))"
      ],
      "metadata": {
        "colab": {
          "base_uri": "https://localhost:8080/",
          "height": 323
        },
        "id": "hLsKr3a9Y9L6",
        "outputId": "fec508b5-eb14-4d19-c57a-bd97333624d7"
      },
      "execution_count": 631,
      "outputs": [
        {
          "output_type": "execute_result",
          "data": {
            "text/plain": [
              "[<matplotlib.lines.Line2D at 0x7f198cedd650>]"
            ]
          },
          "metadata": {},
          "execution_count": 631
        },
        {
          "output_type": "display_data",
          "data": {
            "text/plain": [
              "<Figure size 1080x360 with 1 Axes>"
            ],
            "image/png": "[encoded data removed]"
          },
          "metadata": {
            "needs_background": "light"
          }
        }
      ]
    },
    {
      "cell_type": "code",
      "source": [
        "with open(\"model.pkl\",\"wb\") as file:\n",
        "   pickle.dump(lin_model,file)"
      ],
      "metadata": {
        "id": "EuKo7ShrNb9B"
      },
      "execution_count": 655,
      "outputs": []
    }
  ]
}