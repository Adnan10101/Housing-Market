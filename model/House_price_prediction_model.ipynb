{
  "nbformat": 4,
  "nbformat_minor": 0,
  "metadata": {
    "colab": {
      "name": "House_price_prediction_model.ipynb",
      "provenance": [],
      "collapsed_sections": []
    },
    "kernelspec": {
      "name": "python3",
      "display_name": "Python 3"
    },
    "language_info": {
      "name": "python"
    }
  },
  "cells": [
    {
      "cell_type": "code",
      "execution_count": 82,
      "metadata": {
        "id": "rKFRQ9pR4mWR"
      },
      "outputs": [],
      "source": [
        "import pandas as pd\n",
        "import numpy as np\n",
        "import matplotlib.pyplot as plt\n",
        "from sklearn.linear_model import LinearRegression\n",
        "from sklearn.tree import DecisionTreeRegressor\n",
        "from sklearn.ensemble import RandomForestRegressor\n",
        "from sklearn.svm import SVR\n",
        "from sklearn.preprocessing import StandardScaler,LabelEncoder,MinMaxScaler\n",
        "from sklearn.model_selection import train_test_split\n",
        "from sklearn.metrics import r2_score,mean_squared_error as mse\n",
        "from sklearn.model_selection import cross_val_score\n",
        "import pickle"
      ]
    },
    {
      "cell_type": "code",
      "source": [
        "df = pd.read_csv(\"/content/house_details.csv\")\n",
        "df"
      ],
      "metadata": {
        "colab": {
          "base_uri": "https://localhost:8080/",
          "height": 424
        },
        "id": "EH0U53gL400S",
        "outputId": "e264e861-6b1b-4f66-f447-0f9f2ed9c53b"
      },
      "execution_count": 83,
      "outputs": [
        {
          "output_type": "execute_result",
          "data": {
            "text/plain": [
              "        Price  Area  Bedrooms    Bathrooms      Location  \\\n",
              "0        25 L   728       2.0  2 Bathrooms         Avadi   \n",
              "1        26 L   739       2.0  1 Bathrooms         Avadi   \n",
              "2        60 L  1150       3.0  3 Bathrooms         Avadi   \n",
              "3        48 L   931       2.0  2 Bathrooms         Avadi   \n",
              "4        20 L   317       1.0  1 Bathrooms         Avadi   \n",
              "...       ...   ...       ...          ...           ...   \n",
              "5124  52.67 L   878       2.0  2 Bathrooms  Mugalivakkam   \n",
              "5125  51.64 L   906       2.0          NaN  Mugalivakkam   \n",
              "5126   75.7 L  1037       2.0  2 Bathrooms  Mugalivakkam   \n",
              "5127  70.24 L  1171       3.0          NaN  Mugalivakkam   \n",
              "5128  70.24 L  1171       3.0          NaN  Mugalivakkam   \n",
              "\n",
              "                    Builder              Status  \n",
              "0                       NaN       Ready to move  \n",
              "1                       NaN       Ready to move  \n",
              "2                       NaN       Ready to move  \n",
              "3                       NaN       Ready to move  \n",
              "4                       NaN       Ready to move  \n",
              "...                     ...                 ...  \n",
              "5124  Lifestyle Le Paradise  Under Construction  \n",
              "5125      Stellar Blue Tide  Under Construction  \n",
              "5126                    NaN  Under Construction  \n",
              "5127  Lifestyle Le Paradise  Under Construction  \n",
              "5128  Lifestyle Le Paradise  Under Construction  \n",
              "\n",
              "[5129 rows x 7 columns]"
            ],
            "text/html": [
              "\n",
              "  <div id=\"df-d51863ae-d70c-4d54-a061-c4ab1cbbbf4a\">\n",
              "    <div class=\"colab-df-container\">\n",
              "      <div>\n",
              "<style scoped>\n",
              "    .dataframe tbody tr th:only-of-type {\n",
              "        vertical-align: middle;\n",
              "    }\n",
              "\n",
              "    .dataframe tbody tr th {\n",
              "        vertical-align: top;\n",
              "    }\n",
              "\n",
              "    .dataframe thead th {\n",
              "        text-align: right;\n",
              "    }\n",
              "</style>\n",
              "<table border=\"1\" class=\"dataframe\">\n",
              "  <thead>\n",
              "    <tr style=\"text-align: right;\">\n",
              "      <th></th>\n",
              "      <th>Price</th>\n",
              "      <th>Area</th>\n",
              "      <th>Bedrooms</th>\n",
              "      <th>Bathrooms</th>\n",
              "      <th>Location</th>\n",
              "      <th>Builder</th>\n",
              "      <th>Status</th>\n",
              "    </tr>\n",
              "  </thead>\n",
              "  <tbody>\n",
              "    <tr>\n",
              "      <th>0</th>\n",
              "      <td>25 L</td>\n",
              "      <td>728</td>\n",
              "      <td>2.0</td>\n",
              "      <td>2 Bathrooms</td>\n",
              "      <td>Avadi</td>\n",
              "      <td>NaN</td>\n",
              "      <td>Ready to move</td>\n",
              "    </tr>\n",
              "    <tr>\n",
              "      <th>1</th>\n",
              "      <td>26 L</td>\n",
              "      <td>739</td>\n",
              "      <td>2.0</td>\n",
              "      <td>1 Bathrooms</td>\n",
              "      <td>Avadi</td>\n",
              "      <td>NaN</td>\n",
              "      <td>Ready to move</td>\n",
              "    </tr>\n",
              "    <tr>\n",
              "      <th>2</th>\n",
              "      <td>60 L</td>\n",
              "      <td>1150</td>\n",
              "      <td>3.0</td>\n",
              "      <td>3 Bathrooms</td>\n",
              "      <td>Avadi</td>\n",
              "      <td>NaN</td>\n",
              "      <td>Ready to move</td>\n",
              "    </tr>\n",
              "    <tr>\n",
              "      <th>3</th>\n",
              "      <td>48 L</td>\n",
              "      <td>931</td>\n",
              "      <td>2.0</td>\n",
              "      <td>2 Bathrooms</td>\n",
              "      <td>Avadi</td>\n",
              "      <td>NaN</td>\n",
              "      <td>Ready to move</td>\n",
              "    </tr>\n",
              "    <tr>\n",
              "      <th>4</th>\n",
              "      <td>20 L</td>\n",
              "      <td>317</td>\n",
              "      <td>1.0</td>\n",
              "      <td>1 Bathrooms</td>\n",
              "      <td>Avadi</td>\n",
              "      <td>NaN</td>\n",
              "      <td>Ready to move</td>\n",
              "    </tr>\n",
              "    <tr>\n",
              "      <th>...</th>\n",
              "      <td>...</td>\n",
              "      <td>...</td>\n",
              "      <td>...</td>\n",
              "      <td>...</td>\n",
              "      <td>...</td>\n",
              "      <td>...</td>\n",
              "      <td>...</td>\n",
              "    </tr>\n",
              "    <tr>\n",
              "      <th>5124</th>\n",
              "      <td>52.67 L</td>\n",
              "      <td>878</td>\n",
              "      <td>2.0</td>\n",
              "      <td>2 Bathrooms</td>\n",
              "      <td>Mugalivakkam</td>\n",
              "      <td>Lifestyle Le Paradise</td>\n",
              "      <td>Under Construction</td>\n",
              "    </tr>\n",
              "    <tr>\n",
              "      <th>5125</th>\n",
              "      <td>51.64 L</td>\n",
              "      <td>906</td>\n",
              "      <td>2.0</td>\n",
              "      <td>NaN</td>\n",
              "      <td>Mugalivakkam</td>\n",
              "      <td>Stellar Blue Tide</td>\n",
              "      <td>Under Construction</td>\n",
              "    </tr>\n",
              "    <tr>\n",
              "      <th>5126</th>\n",
              "      <td>75.7 L</td>\n",
              "      <td>1037</td>\n",
              "      <td>2.0</td>\n",
              "      <td>2 Bathrooms</td>\n",
              "      <td>Mugalivakkam</td>\n",
              "      <td>NaN</td>\n",
              "      <td>Under Construction</td>\n",
              "    </tr>\n",
              "    <tr>\n",
              "      <th>5127</th>\n",
              "      <td>70.24 L</td>\n",
              "      <td>1171</td>\n",
              "      <td>3.0</td>\n",
              "      <td>NaN</td>\n",
              "      <td>Mugalivakkam</td>\n",
              "      <td>Lifestyle Le Paradise</td>\n",
              "      <td>Under Construction</td>\n",
              "    </tr>\n",
              "    <tr>\n",
              "      <th>5128</th>\n",
              "      <td>70.24 L</td>\n",
              "      <td>1171</td>\n",
              "      <td>3.0</td>\n",
              "      <td>NaN</td>\n",
              "      <td>Mugalivakkam</td>\n",
              "      <td>Lifestyle Le Paradise</td>\n",
              "      <td>Under Construction</td>\n",
              "    </tr>\n",
              "  </tbody>\n",
              "</table>\n",
              "<p>5129 rows × 7 columns</p>\n",
              "</div>\n",
              "      <button class=\"colab-df-convert\" onclick=\"convertToInteractive('df-d51863ae-d70c-4d54-a061-c4ab1cbbbf4a')\"\n",
              "              title=\"Convert this dataframe to an interactive table.\"\n",
              "              style=\"display:none;\">\n",
              "        \n",
              "  <svg xmlns=\"http://www.w3.org/2000/svg\" height=\"24px\"viewBox=\"0 0 24 24\"\n",
              "       width=\"24px\">\n",
              "    <path d=\"M0 0h24v24H0V0z\" fill=\"none\"/>\n",
              "    <path d=\"M18.56 5.44l.94 2.06.94-2.06 2.06-.94-2.06-.94-.94-2.06-.94 2.06-2.06.94zm-11 1L8.5 8.5l.94-2.06 2.06-.94-2.06-.94L8.5 2.5l-.94 2.06-2.06.94zm10 10l.94 2.06.94-2.06 2.06-.94-2.06-.94-.94-2.06-.94 2.06-2.06.94z\"/><path d=\"M17.41 7.96l-1.37-1.37c-.4-.4-.92-.59-1.43-.59-.52 0-1.04.2-1.43.59L10.3 9.45l-7.72 7.72c-.78.78-.78 2.05 0 2.83L4 21.41c.39.39.9.59 1.41.59.51 0 1.02-.2 1.41-.59l7.78-7.78 2.81-2.81c.8-.78.8-2.07 0-2.86zM5.41 20L4 18.59l7.72-7.72 1.47 1.35L5.41 20z\"/>\n",
              "  </svg>\n",
              "      </button>\n",
              "      \n",
              "  <style>\n",
              "    .colab-df-container {\n",
              "      display:flex;\n",
              "      flex-wrap:wrap;\n",
              "      gap: 12px;\n",
              "    }\n",
              "\n",
              "    .colab-df-convert {\n",
              "      background-color: #E8F0FE;\n",
              "      border: none;\n",
              "      border-radius: 50%;\n",
              "      cursor: pointer;\n",
              "      display: none;\n",
              "      fill: #1967D2;\n",
              "      height: 32px;\n",
              "      padding: 0 0 0 0;\n",
              "      width: 32px;\n",
              "    }\n",
              "\n",
              "    .colab-df-convert:hover {\n",
              "      background-color: #E2EBFA;\n",
              "      box-shadow: 0px 1px 2px rgba(60, 64, 67, 0.3), 0px 1px 3px 1px rgba(60, 64, 67, 0.15);\n",
              "      fill: #174EA6;\n",
              "    }\n",
              "\n",
              "    [theme=dark] .colab-df-convert {\n",
              "      background-color: #3B4455;\n",
              "      fill: #D2E3FC;\n",
              "    }\n",
              "\n",
              "    [theme=dark] .colab-df-convert:hover {\n",
              "      background-color: #434B5C;\n",
              "      box-shadow: 0px 1px 3px 1px rgba(0, 0, 0, 0.15);\n",
              "      filter: drop-shadow(0px 1px 2px rgba(0, 0, 0, 0.3));\n",
              "      fill: #FFFFFF;\n",
              "    }\n",
              "  </style>\n",
              "\n",
              "      <script>\n",
              "        const buttonEl =\n",
              "          document.querySelector('#df-d51863ae-d70c-4d54-a061-c4ab1cbbbf4a button.colab-df-convert');\n",
              "        buttonEl.style.display =\n",
              "          google.colab.kernel.accessAllowed ? 'block' : 'none';\n",
              "\n",
              "        async function convertToInteractive(key) {\n",
              "          const element = document.querySelector('#df-d51863ae-d70c-4d54-a061-c4ab1cbbbf4a');\n",
              "          const dataTable =\n",
              "            await google.colab.kernel.invokeFunction('convertToInteractive',\n",
              "                                                     [key], {});\n",
              "          if (!dataTable) return;\n",
              "\n",
              "          const docLinkHtml = 'Like what you see? Visit the ' +\n",
              "            '<a target=\"_blank\" href=https://colab.research.google.com/notebooks/data_table.ipynb>data table notebook</a>'\n",
              "            + ' to learn more about interactive tables.';\n",
              "          element.innerHTML = '';\n",
              "          dataTable['output_type'] = 'display_data';\n",
              "          await google.colab.output.renderOutput(dataTable, element);\n",
              "          const docLink = document.createElement('div');\n",
              "          docLink.innerHTML = docLinkHtml;\n",
              "          element.appendChild(docLink);\n",
              "        }\n",
              "      </script>\n",
              "    </div>\n",
              "  </div>\n",
              "  "
            ]
          },
          "metadata": {},
          "execution_count": 83
        }
      ]
    },
    {
      "cell_type": "code",
      "source": [
        "df.head(5)"
      ],
      "metadata": {
        "colab": {
          "base_uri": "https://localhost:8080/",
          "height": 206
        },
        "id": "VzPFFUAjJ0NT",
        "outputId": "721d171a-9c08-4c58-ead5-de09e8097518"
      },
      "execution_count": 84,
      "outputs": [
        {
          "output_type": "execute_result",
          "data": {
            "text/plain": [
              "  Price  Area  Bedrooms    Bathrooms Location Builder         Status\n",
              "0  25 L   728       2.0  2 Bathrooms    Avadi     NaN  Ready to move\n",
              "1  26 L   739       2.0  1 Bathrooms    Avadi     NaN  Ready to move\n",
              "2  60 L  1150       3.0  3 Bathrooms    Avadi     NaN  Ready to move\n",
              "3  48 L   931       2.0  2 Bathrooms    Avadi     NaN  Ready to move\n",
              "4  20 L   317       1.0  1 Bathrooms    Avadi     NaN  Ready to move"
            ],
            "text/html": [
              "\n",
              "  <div id=\"df-eba1ad51-6f55-424e-94bc-8382535cdf7e\">\n",
              "    <div class=\"colab-df-container\">\n",
              "      <div>\n",
              "<style scoped>\n",
              "    .dataframe tbody tr th:only-of-type {\n",
              "        vertical-align: middle;\n",
              "    }\n",
              "\n",
              "    .dataframe tbody tr th {\n",
              "        vertical-align: top;\n",
              "    }\n",
              "\n",
              "    .dataframe thead th {\n",
              "        text-align: right;\n",
              "    }\n",
              "</style>\n",
              "<table border=\"1\" class=\"dataframe\">\n",
              "  <thead>\n",
              "    <tr style=\"text-align: right;\">\n",
              "      <th></th>\n",
              "      <th>Price</th>\n",
              "      <th>Area</th>\n",
              "      <th>Bedrooms</th>\n",
              "      <th>Bathrooms</th>\n",
              "      <th>Location</th>\n",
              "      <th>Builder</th>\n",
              "      <th>Status</th>\n",
              "    </tr>\n",
              "  </thead>\n",
              "  <tbody>\n",
              "    <tr>\n",
              "      <th>0</th>\n",
              "      <td>25 L</td>\n",
              "      <td>728</td>\n",
              "      <td>2.0</td>\n",
              "      <td>2 Bathrooms</td>\n",
              "      <td>Avadi</td>\n",
              "      <td>NaN</td>\n",
              "      <td>Ready to move</td>\n",
              "    </tr>\n",
              "    <tr>\n",
              "      <th>1</th>\n",
              "      <td>26 L</td>\n",
              "      <td>739</td>\n",
              "      <td>2.0</td>\n",
              "      <td>1 Bathrooms</td>\n",
              "      <td>Avadi</td>\n",
              "      <td>NaN</td>\n",
              "      <td>Ready to move</td>\n",
              "    </tr>\n",
              "    <tr>\n",
              "      <th>2</th>\n",
              "      <td>60 L</td>\n",
              "      <td>1150</td>\n",
              "      <td>3.0</td>\n",
              "      <td>3 Bathrooms</td>\n",
              "      <td>Avadi</td>\n",
              "      <td>NaN</td>\n",
              "      <td>Ready to move</td>\n",
              "    </tr>\n",
              "    <tr>\n",
              "      <th>3</th>\n",
              "      <td>48 L</td>\n",
              "      <td>931</td>\n",
              "      <td>2.0</td>\n",
              "      <td>2 Bathrooms</td>\n",
              "      <td>Avadi</td>\n",
              "      <td>NaN</td>\n",
              "      <td>Ready to move</td>\n",
              "    </tr>\n",
              "    <tr>\n",
              "      <th>4</th>\n",
              "      <td>20 L</td>\n",
              "      <td>317</td>\n",
              "      <td>1.0</td>\n",
              "      <td>1 Bathrooms</td>\n",
              "      <td>Avadi</td>\n",
              "      <td>NaN</td>\n",
              "      <td>Ready to move</td>\n",
              "    </tr>\n",
              "  </tbody>\n",
              "</table>\n",
              "</div>\n",
              "      <button class=\"colab-df-convert\" onclick=\"convertToInteractive('df-eba1ad51-6f55-424e-94bc-8382535cdf7e')\"\n",
              "              title=\"Convert this dataframe to an interactive table.\"\n",
              "              style=\"display:none;\">\n",
              "        \n",
              "  <svg xmlns=\"http://www.w3.org/2000/svg\" height=\"24px\"viewBox=\"0 0 24 24\"\n",
              "       width=\"24px\">\n",
              "    <path d=\"M0 0h24v24H0V0z\" fill=\"none\"/>\n",
              "    <path d=\"M18.56 5.44l.94 2.06.94-2.06 2.06-.94-2.06-.94-.94-2.06-.94 2.06-2.06.94zm-11 1L8.5 8.5l.94-2.06 2.06-.94-2.06-.94L8.5 2.5l-.94 2.06-2.06.94zm10 10l.94 2.06.94-2.06 2.06-.94-2.06-.94-.94-2.06-.94 2.06-2.06.94z\"/><path d=\"M17.41 7.96l-1.37-1.37c-.4-.4-.92-.59-1.43-.59-.52 0-1.04.2-1.43.59L10.3 9.45l-7.72 7.72c-.78.78-.78 2.05 0 2.83L4 21.41c.39.39.9.59 1.41.59.51 0 1.02-.2 1.41-.59l7.78-7.78 2.81-2.81c.8-.78.8-2.07 0-2.86zM5.41 20L4 18.59l7.72-7.72 1.47 1.35L5.41 20z\"/>\n",
              "  </svg>\n",
              "      </button>\n",
              "      \n",
              "  <style>\n",
              "    .colab-df-container {\n",
              "      display:flex;\n",
              "      flex-wrap:wrap;\n",
              "      gap: 12px;\n",
              "    }\n",
              "\n",
              "    .colab-df-convert {\n",
              "      background-color: #E8F0FE;\n",
              "      border: none;\n",
              "      border-radius: 50%;\n",
              "      cursor: pointer;\n",
              "      display: none;\n",
              "      fill: #1967D2;\n",
              "      height: 32px;\n",
              "      padding: 0 0 0 0;\n",
              "      width: 32px;\n",
              "    }\n",
              "\n",
              "    .colab-df-convert:hover {\n",
              "      background-color: #E2EBFA;\n",
              "      box-shadow: 0px 1px 2px rgba(60, 64, 67, 0.3), 0px 1px 3px 1px rgba(60, 64, 67, 0.15);\n",
              "      fill: #174EA6;\n",
              "    }\n",
              "\n",
              "    [theme=dark] .colab-df-convert {\n",
              "      background-color: #3B4455;\n",
              "      fill: #D2E3FC;\n",
              "    }\n",
              "\n",
              "    [theme=dark] .colab-df-convert:hover {\n",
              "      background-color: #434B5C;\n",
              "      box-shadow: 0px 1px 3px 1px rgba(0, 0, 0, 0.15);\n",
              "      filter: drop-shadow(0px 1px 2px rgba(0, 0, 0, 0.3));\n",
              "      fill: #FFFFFF;\n",
              "    }\n",
              "  </style>\n",
              "\n",
              "      <script>\n",
              "        const buttonEl =\n",
              "          document.querySelector('#df-eba1ad51-6f55-424e-94bc-8382535cdf7e button.colab-df-convert');\n",
              "        buttonEl.style.display =\n",
              "          google.colab.kernel.accessAllowed ? 'block' : 'none';\n",
              "\n",
              "        async function convertToInteractive(key) {\n",
              "          const element = document.querySelector('#df-eba1ad51-6f55-424e-94bc-8382535cdf7e');\n",
              "          const dataTable =\n",
              "            await google.colab.kernel.invokeFunction('convertToInteractive',\n",
              "                                                     [key], {});\n",
              "          if (!dataTable) return;\n",
              "\n",
              "          const docLinkHtml = 'Like what you see? Visit the ' +\n",
              "            '<a target=\"_blank\" href=https://colab.research.google.com/notebooks/data_table.ipynb>data table notebook</a>'\n",
              "            + ' to learn more about interactive tables.';\n",
              "          element.innerHTML = '';\n",
              "          dataTable['output_type'] = 'display_data';\n",
              "          await google.colab.output.renderOutput(dataTable, element);\n",
              "          const docLink = document.createElement('div');\n",
              "          docLink.innerHTML = docLinkHtml;\n",
              "          element.appendChild(docLink);\n",
              "        }\n",
              "      </script>\n",
              "    </div>\n",
              "  </div>\n",
              "  "
            ]
          },
          "metadata": {},
          "execution_count": 84
        }
      ]
    },
    {
      "cell_type": "code",
      "source": [
        "df.isnull().sum()"
      ],
      "metadata": {
        "colab": {
          "base_uri": "https://localhost:8080/"
        },
        "id": "pxfFNJtm5VZt",
        "outputId": "46cef4ee-ffe3-4c2c-adfb-d6cceecaa06f"
      },
      "execution_count": 85,
      "outputs": [
        {
          "output_type": "execute_result",
          "data": {
            "text/plain": [
              "Price           0\n",
              "Area            0\n",
              "Bedrooms      204\n",
              "Bathrooms    1377\n",
              "Location        0\n",
              "Builder      2032\n",
              "Status          0\n",
              "dtype: int64"
            ]
          },
          "metadata": {},
          "execution_count": 85
        }
      ]
    },
    {
      "cell_type": "code",
      "source": [
        "df.info()"
      ],
      "metadata": {
        "colab": {
          "base_uri": "https://localhost:8080/"
        },
        "id": "rnH0za295uI2",
        "outputId": "d8a3886c-8339-44b3-bca7-3ebecdc2eb46"
      },
      "execution_count": 86,
      "outputs": [
        {
          "output_type": "stream",
          "name": "stdout",
          "text": [
            "<class 'pandas.core.frame.DataFrame'>\n",
            "RangeIndex: 5129 entries, 0 to 5128\n",
            "Data columns (total 7 columns):\n",
            " #   Column     Non-Null Count  Dtype  \n",
            "---  ------     --------------  -----  \n",
            " 0   Price      5129 non-null   object \n",
            " 1   Area       5129 non-null   int64  \n",
            " 2   Bedrooms   4925 non-null   float64\n",
            " 3   Bathrooms  3752 non-null   object \n",
            " 4   Location   5129 non-null   object \n",
            " 5   Builder    3097 non-null   object \n",
            " 6   Status     5129 non-null   object \n",
            "dtypes: float64(1), int64(1), object(5)\n",
            "memory usage: 280.6+ KB\n"
          ]
        }
      ]
    },
    {
      "cell_type": "markdown",
      "source": [
        ""
      ],
      "metadata": {
        "id": "ViElLb92_8K_"
      }
    },
    {
      "cell_type": "markdown",
      "source": [
        "#Preprocessing"
      ],
      "metadata": {
        "id": "MPPW0ctB4CT5"
      }
    },
    {
      "cell_type": "code",
      "source": [
        ""
      ],
      "metadata": {
        "id": "ZQC4k-vcCfy4"
      },
      "execution_count": 86,
      "outputs": []
    },
    {
      "cell_type": "code",
      "source": [
        "df.isnull().sum()"
      ],
      "metadata": {
        "colab": {
          "base_uri": "https://localhost:8080/"
        },
        "id": "v36jWvgFDGXn",
        "outputId": "be66b31e-31a8-43bb-e371-c5fb5fa2652d"
      },
      "execution_count": 87,
      "outputs": [
        {
          "output_type": "execute_result",
          "data": {
            "text/plain": [
              "Price           0\n",
              "Area            0\n",
              "Bedrooms      204\n",
              "Bathrooms    1377\n",
              "Location        0\n",
              "Builder      2032\n",
              "Status          0\n",
              "dtype: int64"
            ]
          },
          "metadata": {},
          "execution_count": 87
        }
      ]
    },
    {
      "cell_type": "code",
      "source": [
        ""
      ],
      "metadata": {
        "id": "c84WcWYhGJXI"
      },
      "execution_count": 87,
      "outputs": []
    },
    {
      "cell_type": "code",
      "source": [
        "df1 = df.dropna(subset = [\"Bedrooms\"])\n",
        "df1 = df1.reset_index(drop = True)\n",
        "df1.info()"
      ],
      "metadata": {
        "colab": {
          "base_uri": "https://localhost:8080/"
        },
        "id": "ELvfwVvyGXOw",
        "outputId": "d8bbab48-c443-483f-ed97-b8800e35c4a3"
      },
      "execution_count": 88,
      "outputs": [
        {
          "output_type": "stream",
          "name": "stdout",
          "text": [
            "<class 'pandas.core.frame.DataFrame'>\n",
            "RangeIndex: 4925 entries, 0 to 4924\n",
            "Data columns (total 7 columns):\n",
            " #   Column     Non-Null Count  Dtype  \n",
            "---  ------     --------------  -----  \n",
            " 0   Price      4925 non-null   object \n",
            " 1   Area       4925 non-null   int64  \n",
            " 2   Bedrooms   4925 non-null   float64\n",
            " 3   Bathrooms  3752 non-null   object \n",
            " 4   Location   4925 non-null   object \n",
            " 5   Builder    3057 non-null   object \n",
            " 6   Status     4925 non-null   object \n",
            "dtypes: float64(1), int64(1), object(5)\n",
            "memory usage: 269.5+ KB\n"
          ]
        }
      ]
    },
    {
      "cell_type": "code",
      "source": [
        "df1[\"Price\"]"
      ],
      "metadata": {
        "colab": {
          "base_uri": "https://localhost:8080/"
        },
        "id": "BhUFC5qAIt5h",
        "outputId": "ff6db29f-06b0-4a9b-c932-5d77ffb2ad1a"
      },
      "execution_count": 89,
      "outputs": [
        {
          "output_type": "execute_result",
          "data": {
            "text/plain": [
              "0          25 L\n",
              "1          26 L\n",
              "2          60 L\n",
              "3          48 L\n",
              "4          20 L\n",
              "         ...   \n",
              "4920    52.67 L\n",
              "4921    51.64 L\n",
              "4922     75.7 L\n",
              "4923    70.24 L\n",
              "4924    70.24 L\n",
              "Name: Price, Length: 4925, dtype: object"
            ]
          },
          "metadata": {},
          "execution_count": 89
        }
      ]
    },
    {
      "cell_type": "code",
      "source": [
        "# converting the price to float and converting Crore to Lakh\n",
        "\n",
        "for i in range(len(df1[\"Price\"])):\n",
        "  \n",
        "    a = df1[\"Price\"][i].split(\" \")\n",
        "    if a[1] == \"Cr\":\n",
        "      \n",
        "      b = float(a[0])*100\n",
        "      df1[\"Price\"][i] = b\n",
        "    else:\n",
        "      df1[\"Price\"][i] = float(a[0])\n",
        "\n",
        "df1[\"Price\"]\n"
      ],
      "metadata": {
        "colab": {
          "base_uri": "https://localhost:8080/"
        },
        "id": "yiIxnyE1BcHn",
        "outputId": "9f1f56fa-10b9-4df5-b2d1-37a12378906e"
      },
      "execution_count": 90,
      "outputs": [
        {
          "output_type": "stream",
          "name": "stderr",
          "text": [
            "/usr/local/lib/python3.7/dist-packages/ipykernel_launcher.py:11: SettingWithCopyWarning: \n",
            "A value is trying to be set on a copy of a slice from a DataFrame\n",
            "\n",
            "See the caveats in the documentation: https://pandas.pydata.org/pandas-docs/stable/user_guide/indexing.html#returning-a-view-versus-a-copy\n",
            "  # This is added back by InteractiveShellApp.init_path()\n",
            "/usr/local/lib/python3.7/dist-packages/ipykernel_launcher.py:9: SettingWithCopyWarning: \n",
            "A value is trying to be set on a copy of a slice from a DataFrame\n",
            "\n",
            "See the caveats in the documentation: https://pandas.pydata.org/pandas-docs/stable/user_guide/indexing.html#returning-a-view-versus-a-copy\n",
            "  if __name__ == '__main__':\n"
          ]
        },
        {
          "output_type": "execute_result",
          "data": {
            "text/plain": [
              "0        25.0\n",
              "1        26.0\n",
              "2        60.0\n",
              "3        48.0\n",
              "4        20.0\n",
              "        ...  \n",
              "4920    52.67\n",
              "4921    51.64\n",
              "4922     75.7\n",
              "4923    70.24\n",
              "4924    70.24\n",
              "Name: Price, Length: 4925, dtype: object"
            ]
          },
          "metadata": {},
          "execution_count": 90
        }
      ]
    },
    {
      "cell_type": "code",
      "source": [
        "df1[\"Price\"] = df1[\"Price\"].astype(\"float64\")"
      ],
      "metadata": {
        "id": "QMv2AHIaHJql"
      },
      "execution_count": 91,
      "outputs": []
    },
    {
      "cell_type": "code",
      "source": [
        "df1.info()"
      ],
      "metadata": {
        "colab": {
          "base_uri": "https://localhost:8080/"
        },
        "id": "KLm7XLjDIKOj",
        "outputId": "0d1a3aa1-2d66-44c1-ea41-a66e214948a6"
      },
      "execution_count": 92,
      "outputs": [
        {
          "output_type": "stream",
          "name": "stdout",
          "text": [
            "<class 'pandas.core.frame.DataFrame'>\n",
            "RangeIndex: 4925 entries, 0 to 4924\n",
            "Data columns (total 7 columns):\n",
            " #   Column     Non-Null Count  Dtype  \n",
            "---  ------     --------------  -----  \n",
            " 0   Price      4925 non-null   float64\n",
            " 1   Area       4925 non-null   int64  \n",
            " 2   Bedrooms   4925 non-null   float64\n",
            " 3   Bathrooms  3752 non-null   object \n",
            " 4   Location   4925 non-null   object \n",
            " 5   Builder    3057 non-null   object \n",
            " 6   Status     4925 non-null   object \n",
            "dtypes: float64(2), int64(1), object(4)\n",
            "memory usage: 269.5+ KB\n"
          ]
        }
      ]
    },
    {
      "cell_type": "code",
      "source": [
        ""
      ],
      "metadata": {
        "id": "dlUinDK8Gwb3"
      },
      "execution_count": 92,
      "outputs": []
    },
    {
      "cell_type": "code",
      "source": [
        "#df.dropna(axis = 0)"
      ],
      "metadata": {
        "id": "VZOFjDVwNhDJ"
      },
      "execution_count": 93,
      "outputs": []
    },
    {
      "cell_type": "code",
      "source": [
        "df1.info()"
      ],
      "metadata": {
        "colab": {
          "base_uri": "https://localhost:8080/"
        },
        "id": "dDVKux2GNjaw",
        "outputId": "a58b3a74-7f14-42f0-e357-cfff0afc2245"
      },
      "execution_count": 94,
      "outputs": [
        {
          "output_type": "stream",
          "name": "stdout",
          "text": [
            "<class 'pandas.core.frame.DataFrame'>\n",
            "RangeIndex: 4925 entries, 0 to 4924\n",
            "Data columns (total 7 columns):\n",
            " #   Column     Non-Null Count  Dtype  \n",
            "---  ------     --------------  -----  \n",
            " 0   Price      4925 non-null   float64\n",
            " 1   Area       4925 non-null   int64  \n",
            " 2   Bedrooms   4925 non-null   float64\n",
            " 3   Bathrooms  3752 non-null   object \n",
            " 4   Location   4925 non-null   object \n",
            " 5   Builder    3057 non-null   object \n",
            " 6   Status     4925 non-null   object \n",
            "dtypes: float64(2), int64(1), object(4)\n",
            "memory usage: 269.5+ KB\n"
          ]
        }
      ]
    },
    {
      "cell_type": "code",
      "source": [
        "df1[\"Bathrooms\"].fillna(0,inplace = True)"
      ],
      "metadata": {
        "id": "cPqsDI6LHUHT"
      },
      "execution_count": 95,
      "outputs": []
    },
    {
      "cell_type": "code",
      "source": [
        "df1[\"Bathrooms\"] = df1[\"Bathrooms\"].apply(lambda x:x.strip(\"Bathrooms\") if x == str(x) else x)\n",
        "df1[\"Bathrooms\"] = df1[\"Bathrooms\"].astype(\"int64\")"
      ],
      "metadata": {
        "id": "VzUI-xkkIRAb"
      },
      "execution_count": 96,
      "outputs": []
    },
    {
      "cell_type": "code",
      "source": [
        "#df[\"Bathrooms\"].replace(to_replace = 0,value = round(df.Bathrooms.mean()))"
      ],
      "metadata": {
        "id": "Lu-QcT8PI9cD"
      },
      "execution_count": 97,
      "outputs": []
    },
    {
      "cell_type": "code",
      "source": [
        ""
      ],
      "metadata": {
        "id": "P8Ub0s95JkdU"
      },
      "execution_count": 97,
      "outputs": []
    },
    {
      "cell_type": "code",
      "source": [
        "def scatter_plot(df):\n",
        "  bath2 = df[ (df.Bathrooms == 2)]\n",
        "  bath3 = df[ (df.Bathrooms == 3)]\n",
        "  bath4 = df[ (df.Bathrooms == 4)]\n",
        "  bath5 = df[ (df.Bathrooms == 5)]\n",
        "  bath6 = df[ (df.Bathrooms == 6)]\n",
        "\n",
        "\n",
        "  plt.scatter(bath2.Price,bath2.Area,label = \"2 bath\")\n",
        "  plt.scatter(bath3.Price,bath3.Area,label = \"3 bath\")\n",
        "  plt.scatter(bath4.Price,bath4.Area,label = \"4 bath\")\n",
        "  plt.scatter(bath5.Price,bath5.Area,label = \"5 bath\")\n",
        "  plt.scatter(bath6.Price,bath6.Area,label = \"6 bath\")\n",
        "\n",
        "  plt.legend()\n",
        "\n",
        "scatter_plot(df1)"
      ],
      "metadata": {
        "colab": {
          "base_uri": "https://localhost:8080/",
          "height": 265
        },
        "id": "jP6oLo9R_9UI",
        "outputId": "7fbae1ee-5d58-46e2-dd62-66d683b6ba3c"
      },
      "execution_count": 98,
      "outputs": [
        {
          "output_type": "display_data",
          "data": {
            "text/plain": [
              "<Figure size 432x288 with 1 Axes>"
            ],
            "image/png": "[encoded data removed]"
          },
          "metadata": {
            "needs_background": "light"
          }
        }
      ]
    },
    {
      "cell_type": "code",
      "source": [
        "def scatter_plot(df):\n",
        "  bed2 = df[ (df.Bedrooms == 2)]\n",
        "  bed3 = df[ (df.Bedrooms == 3)]\n",
        "  bed4 = df[ (df.Bedrooms == 4)]\n",
        "  bed5 = df[ (df.Bedrooms == 5)]\n",
        "  bed6 = df[ (df.Bedrooms == 6)]\n",
        "\n",
        "\n",
        "  plt.scatter(bed2.Price,bed2.Area,label = \"2 bhk\")\n",
        "  plt.scatter(bed3.Price,bed3.Area,label = \"3 bhk\")\n",
        "  plt.scatter(bed4.Price,bed4.Area,label = \"4 bhk\")\n",
        "  plt.scatter(bed5.Price,bed5.Area,label = \"5 bhk\")\n",
        "  plt.scatter(bed6.Price,bed6.Area,label = \"6 bhk\")\n",
        "\n",
        "  plt.legend()\n",
        "\n",
        "scatter_plot(df1)"
      ],
      "metadata": {
        "colab": {
          "base_uri": "https://localhost:8080/",
          "height": 265
        },
        "id": "wMUGnFpOEORf",
        "outputId": "7ffdc279-599a-4860-b584-62812f310f0e"
      },
      "execution_count": 99,
      "outputs": [
        {
          "output_type": "display_data",
          "data": {
            "text/plain": [
              "<Figure size 432x288 with 1 Axes>"
            ],
            "image/png": "[encoded data removed]"
          },
          "metadata": {
            "needs_background": "light"
          }
        }
      ]
    },
    {
      "cell_type": "code",
      "source": [
        "df1[\"Bathrooms\"].replace(to_replace = 0,value = np.nan)"
      ],
      "metadata": {
        "colab": {
          "base_uri": "https://localhost:8080/"
        },
        "id": "h8iQEi3iHADP",
        "outputId": "778aa48c-29ca-417b-a743-85e626344509"
      },
      "execution_count": 100,
      "outputs": [
        {
          "output_type": "execute_result",
          "data": {
            "text/plain": [
              "0       2.0\n",
              "1       1.0\n",
              "2       3.0\n",
              "3       2.0\n",
              "4       1.0\n",
              "       ... \n",
              "4920    2.0\n",
              "4921    NaN\n",
              "4922    2.0\n",
              "4923    NaN\n",
              "4924    NaN\n",
              "Name: Bathrooms, Length: 4925, dtype: float64"
            ]
          },
          "metadata": {},
          "execution_count": 100
        }
      ]
    },
    {
      "cell_type": "code",
      "source": [
        "df1[\"Bathrooms\"][4923]"
      ],
      "metadata": {
        "colab": {
          "base_uri": "https://localhost:8080/"
        },
        "id": "iRrHsQ53MQtw",
        "outputId": "bedc2f63-f817-45fd-cc05-fc74c9d58218"
      },
      "execution_count": 101,
      "outputs": [
        {
          "output_type": "execute_result",
          "data": {
            "text/plain": [
              "0"
            ]
          },
          "metadata": {},
          "execution_count": 101
        }
      ]
    },
    {
      "cell_type": "code",
      "source": [
        "for i in range(len(df1[\"Bathrooms\"])):\n",
        "  \n",
        "    if df1[\"Bathrooms\"][i] == 0:\n",
        "      if df1[\"Area\"][i] < 600 and df1[\"Bedrooms\"][i] <= 2:\n",
        "        df1[\"Bathrooms\"][i] = 2\n",
        "      elif (df1[\"Area\"][i] >= 600 and df1[\"Area\"][i] <= 2000) and df1[\"Bedrooms\"][i] <= 3:\n",
        "        df1[\"Bathrooms\"][i] = 3\n",
        "      elif (df1[\"Area\"][i] >= 2000 and df1[\"Area\"][i] <= 2500) and df1[\"Bedrooms\"][i] <= 4:\n",
        "        df1[\"Bathrooms\"][i] = 4\n",
        "      else:\n",
        "        df1[\"Bathrooms\"][i] = df1[\"Bedrooms\"][i]"
      ],
      "metadata": {
        "id": "Ag1j0HHk4J1b",
        "colab": {
          "base_uri": "https://localhost:8080/"
        },
        "outputId": "207e008d-97c7-4872-8211-2ec4d68a8abf"
      },
      "execution_count": 102,
      "outputs": [
        {
          "output_type": "stream",
          "name": "stderr",
          "text": [
            "/usr/local/lib/python3.7/dist-packages/ipykernel_launcher.py:7: SettingWithCopyWarning: \n",
            "A value is trying to be set on a copy of a slice from a DataFrame\n",
            "\n",
            "See the caveats in the documentation: https://pandas.pydata.org/pandas-docs/stable/user_guide/indexing.html#returning-a-view-versus-a-copy\n",
            "  import sys\n",
            "/usr/local/lib/python3.7/dist-packages/ipykernel_launcher.py:5: SettingWithCopyWarning: \n",
            "A value is trying to be set on a copy of a slice from a DataFrame\n",
            "\n",
            "See the caveats in the documentation: https://pandas.pydata.org/pandas-docs/stable/user_guide/indexing.html#returning-a-view-versus-a-copy\n",
            "  \"\"\"\n",
            "/usr/local/lib/python3.7/dist-packages/ipykernel_launcher.py:9: SettingWithCopyWarning: \n",
            "A value is trying to be set on a copy of a slice from a DataFrame\n",
            "\n",
            "See the caveats in the documentation: https://pandas.pydata.org/pandas-docs/stable/user_guide/indexing.html#returning-a-view-versus-a-copy\n",
            "  if __name__ == '__main__':\n",
            "/usr/local/lib/python3.7/dist-packages/ipykernel_launcher.py:11: SettingWithCopyWarning: \n",
            "A value is trying to be set on a copy of a slice from a DataFrame\n",
            "\n",
            "See the caveats in the documentation: https://pandas.pydata.org/pandas-docs/stable/user_guide/indexing.html#returning-a-view-versus-a-copy\n",
            "  # This is added back by InteractiveShellApp.init_path()\n"
          ]
        }
      ]
    },
    {
      "cell_type": "code",
      "source": [
        "df1.info()"
      ],
      "metadata": {
        "colab": {
          "base_uri": "https://localhost:8080/"
        },
        "id": "IZT79bijRS14",
        "outputId": "5e0e0d71-bd1a-458e-ea68-d154b84e9706"
      },
      "execution_count": 103,
      "outputs": [
        {
          "output_type": "stream",
          "name": "stdout",
          "text": [
            "<class 'pandas.core.frame.DataFrame'>\n",
            "RangeIndex: 4925 entries, 0 to 4924\n",
            "Data columns (total 7 columns):\n",
            " #   Column     Non-Null Count  Dtype  \n",
            "---  ------     --------------  -----  \n",
            " 0   Price      4925 non-null   float64\n",
            " 1   Area       4925 non-null   int64  \n",
            " 2   Bedrooms   4925 non-null   float64\n",
            " 3   Bathrooms  4925 non-null   int64  \n",
            " 4   Location   4925 non-null   object \n",
            " 5   Builder    3057 non-null   object \n",
            " 6   Status     4925 non-null   object \n",
            "dtypes: float64(2), int64(2), object(3)\n",
            "memory usage: 269.5+ KB\n"
          ]
        }
      ]
    },
    {
      "cell_type": "code",
      "source": [
        "df1[\"Builder\"].fillna(\"Independent house\",inplace = True)"
      ],
      "metadata": {
        "id": "pO2Ef84jaKr8"
      },
      "execution_count": 104,
      "outputs": []
    },
    {
      "cell_type": "code",
      "source": [
        "type((df1[\"Bathrooms\"][5]))"
      ],
      "metadata": {
        "colab": {
          "base_uri": "https://localhost:8080/"
        },
        "id": "L_xkS02cdA1h",
        "outputId": "923250d3-e08e-413f-ea49-0996e071128b"
      },
      "execution_count": 105,
      "outputs": [
        {
          "output_type": "execute_result",
          "data": {
            "text/plain": [
              "numpy.int64"
            ]
          },
          "metadata": {},
          "execution_count": 105
        }
      ]
    },
    {
      "cell_type": "code",
      "source": [
        ""
      ],
      "metadata": {
        "id": "PpWdRw2Zfh4S"
      },
      "execution_count": 105,
      "outputs": []
    },
    {
      "cell_type": "code",
      "source": [
        ""
      ],
      "metadata": {
        "id": "zPd4Sh6_afbD"
      },
      "execution_count": 105,
      "outputs": []
    },
    {
      "cell_type": "code",
      "source": [
        "df1.info()"
      ],
      "metadata": {
        "id": "Yo8yYUpYbCEb",
        "colab": {
          "base_uri": "https://localhost:8080/"
        },
        "outputId": "b128bc6e-23d1-4b9f-a43a-e31a6ae6c72f"
      },
      "execution_count": 106,
      "outputs": [
        {
          "output_type": "stream",
          "name": "stdout",
          "text": [
            "<class 'pandas.core.frame.DataFrame'>\n",
            "RangeIndex: 4925 entries, 0 to 4924\n",
            "Data columns (total 7 columns):\n",
            " #   Column     Non-Null Count  Dtype  \n",
            "---  ------     --------------  -----  \n",
            " 0   Price      4925 non-null   float64\n",
            " 1   Area       4925 non-null   int64  \n",
            " 2   Bedrooms   4925 non-null   float64\n",
            " 3   Bathrooms  4925 non-null   int64  \n",
            " 4   Location   4925 non-null   object \n",
            " 5   Builder    4925 non-null   object \n",
            " 6   Status     4925 non-null   object \n",
            "dtypes: float64(2), int64(2), object(3)\n",
            "memory usage: 269.5+ KB\n"
          ]
        }
      ]
    },
    {
      "cell_type": "code",
      "source": [
        ""
      ],
      "metadata": {
        "id": "fKB4xvqdFKkG"
      },
      "execution_count": 106,
      "outputs": []
    },
    {
      "cell_type": "code",
      "source": [
        "cols = [\"Bedrooms\",\"Bathrooms\",\"Location\",\"Builder\",\"Status\"]\n",
        "\n",
        "for i in cols:\n",
        "  print(\"{} : {}\".format(i,len(df1[i].unique())))\n",
        "  print(\"{}\".format(df1[i].value_counts()))\n",
        "  print()"
      ],
      "metadata": {
        "colab": {
          "base_uri": "https://localhost:8080/"
        },
        "id": "BfGfzTQFbhpd",
        "outputId": "6c1a4866-800c-4a4c-9c40-f6c46a5eadff"
      },
      "execution_count": 107,
      "outputs": [
        {
          "output_type": "stream",
          "name": "stdout",
          "text": [
            "Bedrooms : 6\n",
            "2.0     2635\n",
            "3.0     1693\n",
            "1.0      399\n",
            "4.0      189\n",
            "5.0        7\n",
            "10.0       2\n",
            "Name: Bedrooms, dtype: int64\n",
            "\n",
            "Bathrooms : 8\n",
            "2    2280\n",
            "3    2034\n",
            "1     413\n",
            "4     178\n",
            "5      16\n",
            "9       2\n",
            "7       1\n",
            "6       1\n",
            "Name: Bathrooms, dtype: int64\n",
            "\n",
            "Location : 62\n",
            "Avadi              100\n",
            "Siruseri           100\n",
            "Chromepet          100\n",
            "Navallur           100\n",
            "Pallikaranai       100\n",
            "                  ... \n",
            "Ayapakkam           12\n",
            "Neelankarai         11\n",
            "Nemilicheri          7\n",
            "Rathinamangalam      5\n",
            "Kandhan Kollai       1\n",
            "Name: Location, Length: 62, dtype: int64\n",
            "\n",
            "Builder : 626\n",
            "Independent house                                  1868\n",
            "Akshaya Today                                        74\n",
            "Akshaya Republic                                     72\n",
            "Adroit Prosper                                       52\n",
            "Tata Tata New Value Homes New Haven Ribbon Walk      51\n",
            "                                                   ... \n",
            " Ajuba Nakshatra                                      1\n",
            "VG Madambakkam Flats                                  1\n",
            "Rajus Nivas                                           1\n",
            " Haritha Garden                                       1\n",
            "JKB Sri Vishnu Plot No 12B                            1\n",
            "Name: Builder, Length: 626, dtype: int64\n",
            "\n",
            "Status : 2\n",
            "Ready to move         2756\n",
            "Under Construction    2169\n",
            "Name: Status, dtype: int64\n",
            "\n"
          ]
        }
      ]
    },
    {
      "cell_type": "code",
      "source": [
        "builder_stat = df1.groupby('Builder')[\"Builder\"].agg(\"count\").sort_values(ascending = False)\n",
        "builder_stat"
      ],
      "metadata": {
        "colab": {
          "base_uri": "https://localhost:8080/"
        },
        "id": "5W5kfO3Eekoi",
        "outputId": "2947a61f-97ef-4f55-d227-fe8d0b78649e"
      },
      "execution_count": 108,
      "outputs": [
        {
          "output_type": "execute_result",
          "data": {
            "text/plain": [
              "Builder\n",
              "Independent house                                  1868\n",
              "Akshaya Today                                        74\n",
              "Akshaya Republic                                     72\n",
              "Adroit Prosper                                       52\n",
              "Tata Tata New Value Homes New Haven Ribbon Walk      51\n",
              "                                                   ... \n",
              "Luxe Sreshta Aibea Nagar                              1\n",
              "Lucky Builders Olives Garden                          1\n",
              "Logesh Sivaposanam Castle                             1\n",
              "Land Sapphire                                         1\n",
              "Yadhav Sri Pooja Nivas                                1\n",
              "Name: Builder, Length: 626, dtype: int64"
            ]
          },
          "metadata": {},
          "execution_count": 108
        }
      ]
    },
    {
      "cell_type": "code",
      "source": [
        "builder_less_20 = builder_stat[builder_stat < 20]\n",
        "builder_less_20"
      ],
      "metadata": {
        "colab": {
          "base_uri": "https://localhost:8080/"
        },
        "id": "GrmY_HQxirQP",
        "outputId": "4b4d0921-5df2-4de1-a47a-2d37cb855840"
      },
      "execution_count": 109,
      "outputs": [
        {
          "output_type": "execute_result",
          "data": {
            "text/plain": [
              "Builder\n",
              "Urbanrise Jubliee Residences         19\n",
              "Golden Opulence                      19\n",
              "TVS Emerald Atrium At Green Acres    19\n",
              "Puravankara Windermere               19\n",
              "Arun Excello Sindhuraa               19\n",
              "                                     ..\n",
              "Luxe Sreshta Aibea Nagar              1\n",
              "Lucky Builders Olives Garden          1\n",
              "Logesh Sivaposanam Castle             1\n",
              "Land Sapphire                         1\n",
              "Yadhav Sri Pooja Nivas                1\n",
              "Name: Builder, Length: 593, dtype: int64"
            ]
          },
          "metadata": {},
          "execution_count": 109
        }
      ]
    },
    {
      "cell_type": "code",
      "source": [
        "builder_less_20.shape"
      ],
      "metadata": {
        "colab": {
          "base_uri": "https://localhost:8080/"
        },
        "id": "ObFZZTlneNuZ",
        "outputId": "487f0a19-3a9b-4605-ab67-e465f1798b4c"
      },
      "execution_count": 110,
      "outputs": [
        {
          "output_type": "execute_result",
          "data": {
            "text/plain": [
              "(593,)"
            ]
          },
          "metadata": {},
          "execution_count": 110
        }
      ]
    },
    {
      "cell_type": "code",
      "source": [
        "df1[\"Builder\"] = df1[\"Builder\"].apply(lambda x: \"other\" if  x in  builder_less_20 else x)\n",
        "df1[\"Builder\"]"
      ],
      "metadata": {
        "colab": {
          "base_uri": "https://localhost:8080/"
        },
        "id": "Ppb9LWyfnFTI",
        "outputId": "de666c71-50a6-409b-9f20-a381a3fe5d31"
      },
      "execution_count": 111,
      "outputs": [
        {
          "output_type": "execute_result",
          "data": {
            "text/plain": [
              "0           Independent house\n",
              "1           Independent house\n",
              "2           Independent house\n",
              "3           Independent house\n",
              "4           Independent house\n",
              "                ...          \n",
              "4920    Lifestyle Le Paradise\n",
              "4921                    other\n",
              "4922        Independent house\n",
              "4923    Lifestyle Le Paradise\n",
              "4924    Lifestyle Le Paradise\n",
              "Name: Builder, Length: 4925, dtype: object"
            ]
          },
          "metadata": {},
          "execution_count": 111
        }
      ]
    },
    {
      "cell_type": "code",
      "source": [
        "len(df1[\"Builder\"].unique())"
      ],
      "metadata": {
        "colab": {
          "base_uri": "https://localhost:8080/"
        },
        "id": "ljiYDGz-eg5K",
        "outputId": "1667dfff-6b58-4405-97f3-43da70572016"
      },
      "execution_count": 112,
      "outputs": [
        {
          "output_type": "execute_result",
          "data": {
            "text/plain": [
              "34"
            ]
          },
          "metadata": {},
          "execution_count": 112
        }
      ]
    },
    {
      "cell_type": "code",
      "source": [
        "df1[\"Builder\"].unique()"
      ],
      "metadata": {
        "colab": {
          "base_uri": "https://localhost:8080/"
        },
        "id": "drCmiLl2ouqU",
        "outputId": "1ed1bc95-e3e9-4d69-f200-0d917b95bd63"
      },
      "execution_count": 113,
      "outputs": [
        {
          "output_type": "execute_result",
          "data": {
            "text/plain": [
              "array(['Independent house', 'other', 'Mahindra Happinest',\n",
              "       'Shriram Park 63', 'Urban Amaze', 'Akshaya Orlando A1 To A6',\n",
              "       'LML Prakriti Phase II', 'Risland The Ace',\n",
              "       'Alliance Galleria Residences', 'Casa Grand Casagrand First City',\n",
              "       'DRA Centralia', 'Arun Excello Urmika', 'Mahindra Aqualily ',\n",
              "       'Urbanrise Code Name Independence Day',\n",
              "       'TVS Magnific At TVS Emerald Peninsula', 'Casa Grand Utopia',\n",
              "       'Akshaya Today', 'Radiance Suprema', 'Lifestyle The Podium',\n",
              "       'Tata Tata New Value Homes New Haven Ribbon Walk', 'DAC Agaram',\n",
              "       'Urbanrise Code Name New Porur', 'Vijay Raja VRX 360',\n",
              "       'Akshaya Tango', 'Reputed Builder Apartment', 'Samprathy Aura',\n",
              "       'Shriram Code Name Mangalam', 'Altis Ashraya', 'DAC Centum',\n",
              "       'Akshaya Republic', 'GKS Tulive Bellevue',\n",
              "       'Hiranandani Parks Apartment', 'Adroit Prosper',\n",
              "       'Lifestyle Le Paradise'], dtype=object)"
            ]
          },
          "metadata": {},
          "execution_count": 113
        }
      ]
    },
    {
      "cell_type": "code",
      "source": [
        "df1[\"Location\"].replace(to_replace = \"tambaram west\",value = \"West Tambaram\",inplace = True)"
      ],
      "metadata": {
        "id": "Uy4a3i0pT5ij"
      },
      "execution_count": 114,
      "outputs": []
    },
    {
      "cell_type": "code",
      "source": [
        "location_stat = df1.groupby('Location')[\"Location\"].agg(\"count\").sort_values(ascending = False)\n",
        "location_stat"
      ],
      "metadata": {
        "colab": {
          "base_uri": "https://localhost:8080/"
        },
        "id": "nv0eM0_VQ7TK",
        "outputId": "624a075a-6cfb-444b-b61b-7a77c0a36c5a"
      },
      "execution_count": 115,
      "outputs": [
        {
          "output_type": "execute_result",
          "data": {
            "text/plain": [
              "Location\n",
              "West Tambaram      200\n",
              "Mugalivakkam       100\n",
              "Padur              100\n",
              "Pallavaram         100\n",
              "Pallikaranai       100\n",
              "                  ... \n",
              "Ayapakkam           12\n",
              "Neelankarai         11\n",
              "Nemilicheri          7\n",
              "Rathinamangalam      5\n",
              "Kandhan Kollai       1\n",
              "Name: Location, Length: 61, dtype: int64"
            ]
          },
          "metadata": {},
          "execution_count": 115
        }
      ]
    },
    {
      "cell_type": "code",
      "source": [
        "location_less_70  = location_stat[location_stat  < 70]\n",
        "len(location_less_70)"
      ],
      "metadata": {
        "colab": {
          "base_uri": "https://localhost:8080/"
        },
        "id": "95FLUls1SGeB",
        "outputId": "561f6f20-68d4-4f3c-88e7-6a61c81ee41d"
      },
      "execution_count": 116,
      "outputs": [
        {
          "output_type": "execute_result",
          "data": {
            "text/plain": [
              "15"
            ]
          },
          "metadata": {},
          "execution_count": 116
        }
      ]
    },
    {
      "cell_type": "code",
      "source": [
        "location_less_70"
      ],
      "metadata": {
        "colab": {
          "base_uri": "https://localhost:8080/"
        },
        "id": "Zo8XIwKlS4FJ",
        "outputId": "4ffa4f6a-4a61-4a68-b91e-6723c42fa1d9"
      },
      "execution_count": 117,
      "outputs": [
        {
          "output_type": "execute_result",
          "data": {
            "text/plain": [
              "Location\n",
              "Veppampattu         59\n",
              "Kundrathur          53\n",
              "Maraimalai Nagar    39\n",
              "Agaramthen          38\n",
              "Chengalpattu        27\n",
              "Thirunindravur      22\n",
              "Kandigai            17\n",
              "Sriperumbudur       14\n",
              "Vandalur            14\n",
              "Tiruvallur          13\n",
              "Ayapakkam           12\n",
              "Neelankarai         11\n",
              "Nemilicheri          7\n",
              "Rathinamangalam      5\n",
              "Kandhan Kollai       1\n",
              "Name: Location, dtype: int64"
            ]
          },
          "metadata": {},
          "execution_count": 117
        }
      ]
    },
    {
      "cell_type": "code",
      "source": [
        "df1[\"Location\"] = df1[\"Location\"].apply(lambda x:\"other\" if x in location_less_70 else x)\n",
        "len(df1[\"Location\"].unique())"
      ],
      "metadata": {
        "colab": {
          "base_uri": "https://localhost:8080/"
        },
        "id": "ze3W6GXiR7Ih",
        "outputId": "23ec3b54-b019-4248-ec83-9cd36b6e6f73"
      },
      "execution_count": 118,
      "outputs": [
        {
          "output_type": "execute_result",
          "data": {
            "text/plain": [
              "47"
            ]
          },
          "metadata": {},
          "execution_count": 118
        }
      ]
    },
    {
      "cell_type": "code",
      "source": [
        "df1[\"Location\"].value_counts()"
      ],
      "metadata": {
        "colab": {
          "base_uri": "https://localhost:8080/"
        },
        "id": "_A0GyM3OQ7X4",
        "outputId": "61204ffa-3127-4ef7-b96f-289e370071c4"
      },
      "execution_count": 119,
      "outputs": [
        {
          "output_type": "execute_result",
          "data": {
            "text/plain": [
              "other                332\n",
              "West Tambaram        200\n",
              "Avadi                100\n",
              "Thiruvanmiyur        100\n",
              "Padur                100\n",
              "Madambakkam          100\n",
              "Manapakkam           100\n",
              "Thaiyur              100\n",
              "Pammal               100\n",
              "Kovilambakkam        100\n",
              "Madhavaram           100\n",
              "T Nagar              100\n",
              "Thirumazhisai        100\n",
              "Sholinganallur       100\n",
              "Thoraipakkam OMR     100\n",
              "Choolaimedu          100\n",
              "Mangadu              100\n",
              "Kovur                100\n",
              "Adyar                100\n",
              "Valasaravakkam       100\n",
              "Thalambur            100\n",
              "Singaperumal Koil    100\n",
              "Pallikaranai         100\n",
              "Navallur             100\n",
              "Selaiyur             100\n",
              "Guduvancheri         100\n",
              "Perungalathur        100\n",
              "Medavakkam           100\n",
              "Poonamallee          100\n",
              "Mogappair            100\n",
              "Kelambakkam          100\n",
              "Chromepet            100\n",
              "Urapakkam            100\n",
              "Madipakkam           100\n",
              "Kolathur             100\n",
              "Ambattur             100\n",
              "Perungudi            100\n",
              "Pallavaram           100\n",
              "Velachery            100\n",
              "Siruseri             100\n",
              "Perumbakkam          100\n",
              "Mugalivakkam         100\n",
              "Porur                 94\n",
              "East Tambaram         78\n",
              "Oragadam              76\n",
              "Thirumullaivoyal      74\n",
              "Moolacheri            71\n",
              "Name: Location, dtype: int64"
            ]
          },
          "metadata": {},
          "execution_count": 119
        }
      ]
    },
    {
      "cell_type": "code",
      "source": [
        "df1[\"Location\"].unique()"
      ],
      "metadata": {
        "colab": {
          "base_uri": "https://localhost:8080/"
        },
        "id": "cEwgWdvhQ7cB",
        "outputId": "13f801a6-d32f-4b33-9b06-2a7aabb01f1f"
      },
      "execution_count": 120,
      "outputs": [
        {
          "output_type": "execute_result",
          "data": {
            "text/plain": [
              "array(['Avadi', 'Sholinganallur', 'Guduvancheri', 'West Tambaram',\n",
              "       'Perungalathur', 'Medavakkam', 'Porur', 'other', 'Poonamallee',\n",
              "       'Mogappair', 'Kelambakkam', 'Urapakkam', 'Selaiyur', 'Madipakkam',\n",
              "       'Kolathur', 'Ambattur', 'Perungudi', 'Pallavaram', 'Velachery',\n",
              "       'Siruseri', 'Perumbakkam', 'Chromepet', 'Navallur', 'Pallikaranai',\n",
              "       'Singaperumal Koil', 'Padur', 'Madambakkam', 'Manapakkam',\n",
              "       'Thaiyur', 'Pammal', 'Kovilambakkam', 'Madhavaram', 'T Nagar',\n",
              "       'Thiruvanmiyur', 'Moolacheri', 'Thirumazhisai', 'Thoraipakkam OMR',\n",
              "       'Choolaimedu', 'Thirumullaivoyal', 'Mangadu', 'East Tambaram',\n",
              "       'Kovur', 'Adyar', 'Valasaravakkam', 'Oragadam', 'Thalambur',\n",
              "       'Mugalivakkam'], dtype=object)"
            ]
          },
          "metadata": {},
          "execution_count": 120
        }
      ]
    },
    {
      "cell_type": "code",
      "source": [
        ""
      ],
      "metadata": {
        "id": "9nhBt_M1Q7ft"
      },
      "execution_count": 120,
      "outputs": []
    },
    {
      "cell_type": "code",
      "source": [
        "le = LabelEncoder()\n",
        "df1[\"Status\"] = le.fit_transform(df1[\"Status\"])\n",
        "df1[\"Status\"]"
      ],
      "metadata": {
        "colab": {
          "base_uri": "https://localhost:8080/"
        },
        "id": "RQ63pLwQpsbM",
        "outputId": "46326c42-92db-47ba-f477-d65f574fd4df"
      },
      "execution_count": 121,
      "outputs": [
        {
          "output_type": "execute_result",
          "data": {
            "text/plain": [
              "0       0\n",
              "1       0\n",
              "2       0\n",
              "3       0\n",
              "4       0\n",
              "       ..\n",
              "4920    1\n",
              "4921    1\n",
              "4922    1\n",
              "4923    1\n",
              "4924    1\n",
              "Name: Status, Length: 4925, dtype: int64"
            ]
          },
          "metadata": {},
          "execution_count": 121
        }
      ]
    },
    {
      "cell_type": "code",
      "source": [
        "dummies1 = pd.get_dummies(df1.Builder)\n",
        "dummies1"
      ],
      "metadata": {
        "colab": {
          "base_uri": "https://localhost:8080/",
          "height": 627
        },
        "id": "1NGTJv0Fr6fc",
        "outputId": "1c613d80-e9b8-4466-fd4d-24e72efb791e"
      },
      "execution_count": 122,
      "outputs": [
        {
          "output_type": "execute_result",
          "data": {
            "text/plain": [
              "      Adroit Prosper  Akshaya Orlando A1 To A6  Akshaya Republic  \\\n",
              "0                  0                         0                 0   \n",
              "1                  0                         0                 0   \n",
              "2                  0                         0                 0   \n",
              "3                  0                         0                 0   \n",
              "4                  0                         0                 0   \n",
              "...              ...                       ...               ...   \n",
              "4920               0                         0                 0   \n",
              "4921               0                         0                 0   \n",
              "4922               0                         0                 0   \n",
              "4923               0                         0                 0   \n",
              "4924               0                         0                 0   \n",
              "\n",
              "      Akshaya Tango  Akshaya Today  Alliance Galleria Residences  \\\n",
              "0                 0              0                             0   \n",
              "1                 0              0                             0   \n",
              "2                 0              0                             0   \n",
              "3                 0              0                             0   \n",
              "4                 0              0                             0   \n",
              "...             ...            ...                           ...   \n",
              "4920              0              0                             0   \n",
              "4921              0              0                             0   \n",
              "4922              0              0                             0   \n",
              "4923              0              0                             0   \n",
              "4924              0              0                             0   \n",
              "\n",
              "      Altis Ashraya  Arun Excello Urmika  Casa Grand Casagrand First City  \\\n",
              "0                 0                    0                                0   \n",
              "1                 0                    0                                0   \n",
              "2                 0                    0                                0   \n",
              "3                 0                    0                                0   \n",
              "4                 0                    0                                0   \n",
              "...             ...                  ...                              ...   \n",
              "4920              0                    0                                0   \n",
              "4921              0                    0                                0   \n",
              "4922              0                    0                                0   \n",
              "4923              0                    0                                0   \n",
              "4924              0                    0                                0   \n",
              "\n",
              "      Casa Grand Utopia  ...  Samprathy Aura  Shriram Code Name Mangalam  \\\n",
              "0                     0  ...               0                           0   \n",
              "1                     0  ...               0                           0   \n",
              "2                     0  ...               0                           0   \n",
              "3                     0  ...               0                           0   \n",
              "4                     0  ...               0                           0   \n",
              "...                 ...  ...             ...                         ...   \n",
              "4920                  0  ...               0                           0   \n",
              "4921                  0  ...               0                           0   \n",
              "4922                  0  ...               0                           0   \n",
              "4923                  0  ...               0                           0   \n",
              "4924                  0  ...               0                           0   \n",
              "\n",
              "      Shriram Park 63  TVS Magnific At TVS Emerald Peninsula  \\\n",
              "0                   0                                      0   \n",
              "1                   0                                      0   \n",
              "2                   0                                      0   \n",
              "3                   0                                      0   \n",
              "4                   0                                      0   \n",
              "...               ...                                    ...   \n",
              "4920                0                                      0   \n",
              "4921                0                                      0   \n",
              "4922                0                                      0   \n",
              "4923                0                                      0   \n",
              "4924                0                                      0   \n",
              "\n",
              "      Tata Tata New Value Homes New Haven Ribbon Walk  Urban Amaze  \\\n",
              "0                                                   0            0   \n",
              "1                                                   0            0   \n",
              "2                                                   0            0   \n",
              "3                                                   0            0   \n",
              "4                                                   0            0   \n",
              "...                                               ...          ...   \n",
              "4920                                                0            0   \n",
              "4921                                                0            0   \n",
              "4922                                                0            0   \n",
              "4923                                                0            0   \n",
              "4924                                                0            0   \n",
              "\n",
              "      Urbanrise Code Name Independence Day  Urbanrise Code Name New Porur  \\\n",
              "0                                        0                              0   \n",
              "1                                        0                              0   \n",
              "2                                        0                              0   \n",
              "3                                        0                              0   \n",
              "4                                        0                              0   \n",
              "...                                    ...                            ...   \n",
              "4920                                     0                              0   \n",
              "4921                                     0                              0   \n",
              "4922                                     0                              0   \n",
              "4923                                     0                              0   \n",
              "4924                                     0                              0   \n",
              "\n",
              "      Vijay Raja VRX 360  other  \n",
              "0                      0      0  \n",
              "1                      0      0  \n",
              "2                      0      0  \n",
              "3                      0      0  \n",
              "4                      0      0  \n",
              "...                  ...    ...  \n",
              "4920                   0      0  \n",
              "4921                   0      1  \n",
              "4922                   0      0  \n",
              "4923                   0      0  \n",
              "4924                   0      0  \n",
              "\n",
              "[4925 rows x 34 columns]"
            ],
            "text/html": [
              "\n",
              "  <div id=\"df-21636918-ef74-4a02-9d75-ce4e04b43eb7\">\n",
              "    <div class=\"colab-df-container\">\n",
              "      <div>\n",
              "<style scoped>\n",
              "    .dataframe tbody tr th:only-of-type {\n",
              "        vertical-align: middle;\n",
              "    }\n",
              "\n",
              "    .dataframe tbody tr th {\n",
              "        vertical-align: top;\n",
              "    }\n",
              "\n",
              "    .dataframe thead th {\n",
              "        text-align: right;\n",
              "    }\n",
              "</style>\n",
              "<table border=\"1\" class=\"dataframe\">\n",
              "  <thead>\n",
              "    <tr style=\"text-align: right;\">\n",
              "      <th></th>\n",
              "      <th>Adroit Prosper</th>\n",
              "      <th>Akshaya Orlando A1 To A6</th>\n",
              "      <th>Akshaya Republic</th>\n",
              "      <th>Akshaya Tango</th>\n",
              "      <th>Akshaya Today</th>\n",
              "      <th>Alliance Galleria Residences</th>\n",
              "      <th>Altis Ashraya</th>\n",
              "      <th>Arun Excello Urmika</th>\n",
              "      <th>Casa Grand Casagrand First City</th>\n",
              "      <th>Casa Grand Utopia</th>\n",
              "      <th>...</th>\n",
              "      <th>Samprathy Aura</th>\n",
              "      <th>Shriram Code Name Mangalam</th>\n",
              "      <th>Shriram Park 63</th>\n",
              "      <th>TVS Magnific At TVS Emerald Peninsula</th>\n",
              "      <th>Tata Tata New Value Homes New Haven Ribbon Walk</th>\n",
              "      <th>Urban Amaze</th>\n",
              "      <th>Urbanrise Code Name Independence Day</th>\n",
              "      <th>Urbanrise Code Name New Porur</th>\n",
              "      <th>Vijay Raja VRX 360</th>\n",
              "      <th>other</th>\n",
              "    </tr>\n",
              "  </thead>\n",
              "  <tbody>\n",
              "    <tr>\n",
              "      <th>0</th>\n",
              "      <td>0</td>\n",
              "      <td>0</td>\n",
              "      <td>0</td>\n",
              "      <td>0</td>\n",
              "      <td>0</td>\n",
              "      <td>0</td>\n",
              "      <td>0</td>\n",
              "      <td>0</td>\n",
              "      <td>0</td>\n",
              "      <td>0</td>\n",
              "      <td>...</td>\n",
              "      <td>0</td>\n",
              "      <td>0</td>\n",
              "      <td>0</td>\n",
              "      <td>0</td>\n",
              "      <td>0</td>\n",
              "      <td>0</td>\n",
              "      <td>0</td>\n",
              "      <td>0</td>\n",
              "      <td>0</td>\n",
              "      <td>0</td>\n",
              "    </tr>\n",
              "    <tr>\n",
              "      <th>1</th>\n",
              "      <td>0</td>\n",
              "      <td>0</td>\n",
              "      <td>0</td>\n",
              "      <td>0</td>\n",
              "      <td>0</td>\n",
              "      <td>0</td>\n",
              "      <td>0</td>\n",
              "      <td>0</td>\n",
              "      <td>0</td>\n",
              "      <td>0</td>\n",
              "      <td>...</td>\n",
              "      <td>0</td>\n",
              "      <td>0</td>\n",
              "      <td>0</td>\n",
              "      <td>0</td>\n",
              "      <td>0</td>\n",
              "      <td>0</td>\n",
              "      <td>0</td>\n",
              "      <td>0</td>\n",
              "      <td>0</td>\n",
              "      <td>0</td>\n",
              "    </tr>\n",
              "    <tr>\n",
              "      <th>2</th>\n",
              "      <td>0</td>\n",
              "      <td>0</td>\n",
              "      <td>0</td>\n",
              "      <td>0</td>\n",
              "      <td>0</td>\n",
              "      <td>0</td>\n",
              "      <td>0</td>\n",
              "      <td>0</td>\n",
              "      <td>0</td>\n",
              "      <td>0</td>\n",
              "      <td>...</td>\n",
              "      <td>0</td>\n",
              "      <td>0</td>\n",
              "      <td>0</td>\n",
              "      <td>0</td>\n",
              "      <td>0</td>\n",
              "      <td>0</td>\n",
              "      <td>0</td>\n",
              "      <td>0</td>\n",
              "      <td>0</td>\n",
              "      <td>0</td>\n",
              "    </tr>\n",
              "    <tr>\n",
              "      <th>3</th>\n",
              "      <td>0</td>\n",
              "      <td>0</td>\n",
              "      <td>0</td>\n",
              "      <td>0</td>\n",
              "      <td>0</td>\n",
              "      <td>0</td>\n",
              "      <td>0</td>\n",
              "      <td>0</td>\n",
              "      <td>0</td>\n",
              "      <td>0</td>\n",
              "      <td>...</td>\n",
              "      <td>0</td>\n",
              "      <td>0</td>\n",
              "      <td>0</td>\n",
              "      <td>0</td>\n",
              "      <td>0</td>\n",
              "      <td>0</td>\n",
              "      <td>0</td>\n",
              "      <td>0</td>\n",
              "      <td>0</td>\n",
              "      <td>0</td>\n",
              "    </tr>\n",
              "    <tr>\n",
              "      <th>4</th>\n",
              "      <td>0</td>\n",
              "      <td>0</td>\n",
              "      <td>0</td>\n",
              "      <td>0</td>\n",
              "      <td>0</td>\n",
              "      <td>0</td>\n",
              "      <td>0</td>\n",
              "      <td>0</td>\n",
              "      <td>0</td>\n",
              "      <td>0</td>\n",
              "      <td>...</td>\n",
              "      <td>0</td>\n",
              "      <td>0</td>\n",
              "      <td>0</td>\n",
              "      <td>0</td>\n",
              "      <td>0</td>\n",
              "      <td>0</td>\n",
              "      <td>0</td>\n",
              "      <td>0</td>\n",
              "      <td>0</td>\n",
              "      <td>0</td>\n",
              "    </tr>\n",
              "    <tr>\n",
              "      <th>...</th>\n",
              "      <td>...</td>\n",
              "      <td>...</td>\n",
              "      <td>...</td>\n",
              "      <td>...</td>\n",
              "      <td>...</td>\n",
              "      <td>...</td>\n",
              "      <td>...</td>\n",
              "      <td>...</td>\n",
              "      <td>...</td>\n",
              "      <td>...</td>\n",
              "      <td>...</td>\n",
              "      <td>...</td>\n",
              "      <td>...</td>\n",
              "      <td>...</td>\n",
              "      <td>...</td>\n",
              "      <td>...</td>\n",
              "      <td>...</td>\n",
              "      <td>...</td>\n",
              "      <td>...</td>\n",
              "      <td>...</td>\n",
              "      <td>...</td>\n",
              "    </tr>\n",
              "    <tr>\n",
              "      <th>4920</th>\n",
              "      <td>0</td>\n",
              "      <td>0</td>\n",
              "      <td>0</td>\n",
              "      <td>0</td>\n",
              "      <td>0</td>\n",
              "      <td>0</td>\n",
              "      <td>0</td>\n",
              "      <td>0</td>\n",
              "      <td>0</td>\n",
              "      <td>0</td>\n",
              "      <td>...</td>\n",
              "      <td>0</td>\n",
              "      <td>0</td>\n",
              "      <td>0</td>\n",
              "      <td>0</td>\n",
              "      <td>0</td>\n",
              "      <td>0</td>\n",
              "      <td>0</td>\n",
              "      <td>0</td>\n",
              "      <td>0</td>\n",
              "      <td>0</td>\n",
              "    </tr>\n",
              "    <tr>\n",
              "      <th>4921</th>\n",
              "      <td>0</td>\n",
              "      <td>0</td>\n",
              "      <td>0</td>\n",
              "      <td>0</td>\n",
              "      <td>0</td>\n",
              "      <td>0</td>\n",
              "      <td>0</td>\n",
              "      <td>0</td>\n",
              "      <td>0</td>\n",
              "      <td>0</td>\n",
              "      <td>...</td>\n",
              "      <td>0</td>\n",
              "      <td>0</td>\n",
              "      <td>0</td>\n",
              "      <td>0</td>\n",
              "      <td>0</td>\n",
              "      <td>0</td>\n",
              "      <td>0</td>\n",
              "      <td>0</td>\n",
              "      <td>0</td>\n",
              "      <td>1</td>\n",
              "    </tr>\n",
              "    <tr>\n",
              "      <th>4922</th>\n",
              "      <td>0</td>\n",
              "      <td>0</td>\n",
              "      <td>0</td>\n",
              "      <td>0</td>\n",
              "      <td>0</td>\n",
              "      <td>0</td>\n",
              "      <td>0</td>\n",
              "      <td>0</td>\n",
              "      <td>0</td>\n",
              "      <td>0</td>\n",
              "      <td>...</td>\n",
              "      <td>0</td>\n",
              "      <td>0</td>\n",
              "      <td>0</td>\n",
              "      <td>0</td>\n",
              "      <td>0</td>\n",
              "      <td>0</td>\n",
              "      <td>0</td>\n",
              "      <td>0</td>\n",
              "      <td>0</td>\n",
              "      <td>0</td>\n",
              "    </tr>\n",
              "    <tr>\n",
              "      <th>4923</th>\n",
              "      <td>0</td>\n",
              "      <td>0</td>\n",
              "      <td>0</td>\n",
              "      <td>0</td>\n",
              "      <td>0</td>\n",
              "      <td>0</td>\n",
              "      <td>0</td>\n",
              "      <td>0</td>\n",
              "      <td>0</td>\n",
              "      <td>0</td>\n",
              "      <td>...</td>\n",
              "      <td>0</td>\n",
              "      <td>0</td>\n",
              "      <td>0</td>\n",
              "      <td>0</td>\n",
              "      <td>0</td>\n",
              "      <td>0</td>\n",
              "      <td>0</td>\n",
              "      <td>0</td>\n",
              "      <td>0</td>\n",
              "      <td>0</td>\n",
              "    </tr>\n",
              "    <tr>\n",
              "      <th>4924</th>\n",
              "      <td>0</td>\n",
              "      <td>0</td>\n",
              "      <td>0</td>\n",
              "      <td>0</td>\n",
              "      <td>0</td>\n",
              "      <td>0</td>\n",
              "      <td>0</td>\n",
              "      <td>0</td>\n",
              "      <td>0</td>\n",
              "      <td>0</td>\n",
              "      <td>...</td>\n",
              "      <td>0</td>\n",
              "      <td>0</td>\n",
              "      <td>0</td>\n",
              "      <td>0</td>\n",
              "      <td>0</td>\n",
              "      <td>0</td>\n",
              "      <td>0</td>\n",
              "      <td>0</td>\n",
              "      <td>0</td>\n",
              "      <td>0</td>\n",
              "    </tr>\n",
              "  </tbody>\n",
              "</table>\n",
              "<p>4925 rows × 34 columns</p>\n",
              "</div>\n",
              "      <button class=\"colab-df-convert\" onclick=\"convertToInteractive('df-21636918-ef74-4a02-9d75-ce4e04b43eb7')\"\n",
              "              title=\"Convert this dataframe to an interactive table.\"\n",
              "              style=\"display:none;\">\n",
              "        \n",
              "  <svg xmlns=\"http://www.w3.org/2000/svg\" height=\"24px\"viewBox=\"0 0 24 24\"\n",
              "       width=\"24px\">\n",
              "    <path d=\"M0 0h24v24H0V0z\" fill=\"none\"/>\n",
              "    <path d=\"M18.56 5.44l.94 2.06.94-2.06 2.06-.94-2.06-.94-.94-2.06-.94 2.06-2.06.94zm-11 1L8.5 8.5l.94-2.06 2.06-.94-2.06-.94L8.5 2.5l-.94 2.06-2.06.94zm10 10l.94 2.06.94-2.06 2.06-.94-2.06-.94-.94-2.06-.94 2.06-2.06.94z\"/><path d=\"M17.41 7.96l-1.37-1.37c-.4-.4-.92-.59-1.43-.59-.52 0-1.04.2-1.43.59L10.3 9.45l-7.72 7.72c-.78.78-.78 2.05 0 2.83L4 21.41c.39.39.9.59 1.41.59.51 0 1.02-.2 1.41-.59l7.78-7.78 2.81-2.81c.8-.78.8-2.07 0-2.86zM5.41 20L4 18.59l7.72-7.72 1.47 1.35L5.41 20z\"/>\n",
              "  </svg>\n",
              "      </button>\n",
              "      \n",
              "  <style>\n",
              "    .colab-df-container {\n",
              "      display:flex;\n",
              "      flex-wrap:wrap;\n",
              "      gap: 12px;\n",
              "    }\n",
              "\n",
              "    .colab-df-convert {\n",
              "      background-color: #E8F0FE;\n",
              "      border: none;\n",
              "      border-radius: 50%;\n",
              "      cursor: pointer;\n",
              "      display: none;\n",
              "      fill: #1967D2;\n",
              "      height: 32px;\n",
              "      padding: 0 0 0 0;\n",
              "      width: 32px;\n",
              "    }\n",
              "\n",
              "    .colab-df-convert:hover {\n",
              "      background-color: #E2EBFA;\n",
              "      box-shadow: 0px 1px 2px rgba(60, 64, 67, 0.3), 0px 1px 3px 1px rgba(60, 64, 67, 0.15);\n",
              "      fill: #174EA6;\n",
              "    }\n",
              "\n",
              "    [theme=dark] .colab-df-convert {\n",
              "      background-color: #3B4455;\n",
              "      fill: #D2E3FC;\n",
              "    }\n",
              "\n",
              "    [theme=dark] .colab-df-convert:hover {\n",
              "      background-color: #434B5C;\n",
              "      box-shadow: 0px 1px 3px 1px rgba(0, 0, 0, 0.15);\n",
              "      filter: drop-shadow(0px 1px 2px rgba(0, 0, 0, 0.3));\n",
              "      fill: #FFFFFF;\n",
              "    }\n",
              "  </style>\n",
              "\n",
              "      <script>\n",
              "        const buttonEl =\n",
              "          document.querySelector('#df-21636918-ef74-4a02-9d75-ce4e04b43eb7 button.colab-df-convert');\n",
              "        buttonEl.style.display =\n",
              "          google.colab.kernel.accessAllowed ? 'block' : 'none';\n",
              "\n",
              "        async function convertToInteractive(key) {\n",
              "          const element = document.querySelector('#df-21636918-ef74-4a02-9d75-ce4e04b43eb7');\n",
              "          const dataTable =\n",
              "            await google.colab.kernel.invokeFunction('convertToInteractive',\n",
              "                                                     [key], {});\n",
              "          if (!dataTable) return;\n",
              "\n",
              "          const docLinkHtml = 'Like what you see? Visit the ' +\n",
              "            '<a target=\"_blank\" href=https://colab.research.google.com/notebooks/data_table.ipynb>data table notebook</a>'\n",
              "            + ' to learn more about interactive tables.';\n",
              "          element.innerHTML = '';\n",
              "          dataTable['output_type'] = 'display_data';\n",
              "          await google.colab.output.renderOutput(dataTable, element);\n",
              "          const docLink = document.createElement('div');\n",
              "          docLink.innerHTML = docLinkHtml;\n",
              "          element.appendChild(docLink);\n",
              "        }\n",
              "      </script>\n",
              "    </div>\n",
              "  </div>\n",
              "  "
            ]
          },
          "metadata": {},
          "execution_count": 122
        }
      ]
    },
    {
      "cell_type": "code",
      "source": [
        "df2 = pd.concat([df1,dummies1.drop('other',axis = \"columns\")],axis = \"columns\")\n",
        "df2"
      ],
      "metadata": {
        "colab": {
          "base_uri": "https://localhost:8080/",
          "height": 783
        },
        "id": "vVHzgrb6shAC",
        "outputId": "650072f5-2ad5-4f54-d1e4-b3702bd4d2fe"
      },
      "execution_count": 123,
      "outputs": [
        {
          "output_type": "execute_result",
          "data": {
            "text/plain": [
              "      Price  Area  Bedrooms  Bathrooms      Location                Builder  \\\n",
              "0     25.00   728       2.0          2         Avadi      Independent house   \n",
              "1     26.00   739       2.0          1         Avadi      Independent house   \n",
              "2     60.00  1150       3.0          3         Avadi      Independent house   \n",
              "3     48.00   931       2.0          2         Avadi      Independent house   \n",
              "4     20.00   317       1.0          1         Avadi      Independent house   \n",
              "...     ...   ...       ...        ...           ...                    ...   \n",
              "4920  52.67   878       2.0          2  Mugalivakkam  Lifestyle Le Paradise   \n",
              "4921  51.64   906       2.0          3  Mugalivakkam                  other   \n",
              "4922  75.70  1037       2.0          2  Mugalivakkam      Independent house   \n",
              "4923  70.24  1171       3.0          3  Mugalivakkam  Lifestyle Le Paradise   \n",
              "4924  70.24  1171       3.0          3  Mugalivakkam  Lifestyle Le Paradise   \n",
              "\n",
              "      Status  Adroit Prosper  Akshaya Orlando A1 To A6  Akshaya Republic  ...  \\\n",
              "0          0               0                         0                 0  ...   \n",
              "1          0               0                         0                 0  ...   \n",
              "2          0               0                         0                 0  ...   \n",
              "3          0               0                         0                 0  ...   \n",
              "4          0               0                         0                 0  ...   \n",
              "...      ...             ...                       ...               ...  ...   \n",
              "4920       1               0                         0                 0  ...   \n",
              "4921       1               0                         0                 0  ...   \n",
              "4922       1               0                         0                 0  ...   \n",
              "4923       1               0                         0                 0  ...   \n",
              "4924       1               0                         0                 0  ...   \n",
              "\n",
              "      Risland The Ace  Samprathy Aura  Shriram Code Name Mangalam  \\\n",
              "0                   0               0                           0   \n",
              "1                   0               0                           0   \n",
              "2                   0               0                           0   \n",
              "3                   0               0                           0   \n",
              "4                   0               0                           0   \n",
              "...               ...             ...                         ...   \n",
              "4920                0               0                           0   \n",
              "4921                0               0                           0   \n",
              "4922                0               0                           0   \n",
              "4923                0               0                           0   \n",
              "4924                0               0                           0   \n",
              "\n",
              "      Shriram Park 63  TVS Magnific At TVS Emerald Peninsula  \\\n",
              "0                   0                                      0   \n",
              "1                   0                                      0   \n",
              "2                   0                                      0   \n",
              "3                   0                                      0   \n",
              "4                   0                                      0   \n",
              "...               ...                                    ...   \n",
              "4920                0                                      0   \n",
              "4921                0                                      0   \n",
              "4922                0                                      0   \n",
              "4923                0                                      0   \n",
              "4924                0                                      0   \n",
              "\n",
              "      Tata Tata New Value Homes New Haven Ribbon Walk  Urban Amaze  \\\n",
              "0                                                   0            0   \n",
              "1                                                   0            0   \n",
              "2                                                   0            0   \n",
              "3                                                   0            0   \n",
              "4                                                   0            0   \n",
              "...                                               ...          ...   \n",
              "4920                                                0            0   \n",
              "4921                                                0            0   \n",
              "4922                                                0            0   \n",
              "4923                                                0            0   \n",
              "4924                                                0            0   \n",
              "\n",
              "      Urbanrise Code Name Independence Day  Urbanrise Code Name New Porur  \\\n",
              "0                                        0                              0   \n",
              "1                                        0                              0   \n",
              "2                                        0                              0   \n",
              "3                                        0                              0   \n",
              "4                                        0                              0   \n",
              "...                                    ...                            ...   \n",
              "4920                                     0                              0   \n",
              "4921                                     0                              0   \n",
              "4922                                     0                              0   \n",
              "4923                                     0                              0   \n",
              "4924                                     0                              0   \n",
              "\n",
              "      Vijay Raja VRX 360  \n",
              "0                      0  \n",
              "1                      0  \n",
              "2                      0  \n",
              "3                      0  \n",
              "4                      0  \n",
              "...                  ...  \n",
              "4920                   0  \n",
              "4921                   0  \n",
              "4922                   0  \n",
              "4923                   0  \n",
              "4924                   0  \n",
              "\n",
              "[4925 rows x 40 columns]"
            ],
            "text/html": [
              "\n",
              "  <div id=\"df-da3a4ae7-d333-4ac0-aff6-34786da2c362\">\n",
              "    <div class=\"colab-df-container\">\n",
              "      <div>\n",
              "<style scoped>\n",
              "    .dataframe tbody tr th:only-of-type {\n",
              "        vertical-align: middle;\n",
              "    }\n",
              "\n",
              "    .dataframe tbody tr th {\n",
              "        vertical-align: top;\n",
              "    }\n",
              "\n",
              "    .dataframe thead th {\n",
              "        text-align: right;\n",
              "    }\n",
              "</style>\n",
              "<table border=\"1\" class=\"dataframe\">\n",
              "  <thead>\n",
              "    <tr style=\"text-align: right;\">\n",
              "      <th></th>\n",
              "      <th>Price</th>\n",
              "      <th>Area</th>\n",
              "      <th>Bedrooms</th>\n",
              "      <th>Bathrooms</th>\n",
              "      <th>Location</th>\n",
              "      <th>Builder</th>\n",
              "      <th>Status</th>\n",
              "      <th>Adroit Prosper</th>\n",
              "      <th>Akshaya Orlando A1 To A6</th>\n",
              "      <th>Akshaya Republic</th>\n",
              "      <th>...</th>\n",
              "      <th>Risland The Ace</th>\n",
              "      <th>Samprathy Aura</th>\n",
              "      <th>Shriram Code Name Mangalam</th>\n",
              "      <th>Shriram Park 63</th>\n",
              "      <th>TVS Magnific At TVS Emerald Peninsula</th>\n",
              "      <th>Tata Tata New Value Homes New Haven Ribbon Walk</th>\n",
              "      <th>Urban Amaze</th>\n",
              "      <th>Urbanrise Code Name Independence Day</th>\n",
              "      <th>Urbanrise Code Name New Porur</th>\n",
              "      <th>Vijay Raja VRX 360</th>\n",
              "    </tr>\n",
              "  </thead>\n",
              "  <tbody>\n",
              "    <tr>\n",
              "      <th>0</th>\n",
              "      <td>25.00</td>\n",
              "      <td>728</td>\n",
              "      <td>2.0</td>\n",
              "      <td>2</td>\n",
              "      <td>Avadi</td>\n",
              "      <td>Independent house</td>\n",
              "      <td>0</td>\n",
              "      <td>0</td>\n",
              "      <td>0</td>\n",
              "      <td>0</td>\n",
              "      <td>...</td>\n",
              "      <td>0</td>\n",
              "      <td>0</td>\n",
              "      <td>0</td>\n",
              "      <td>0</td>\n",
              "      <td>0</td>\n",
              "      <td>0</td>\n",
              "      <td>0</td>\n",
              "      <td>0</td>\n",
              "      <td>0</td>\n",
              "      <td>0</td>\n",
              "    </tr>\n",
              "    <tr>\n",
              "      <th>1</th>\n",
              "      <td>26.00</td>\n",
              "      <td>739</td>\n",
              "      <td>2.0</td>\n",
              "      <td>1</td>\n",
              "      <td>Avadi</td>\n",
              "      <td>Independent house</td>\n",
              "      <td>0</td>\n",
              "      <td>0</td>\n",
              "      <td>0</td>\n",
              "      <td>0</td>\n",
              "      <td>...</td>\n",
              "      <td>0</td>\n",
              "      <td>0</td>\n",
              "      <td>0</td>\n",
              "      <td>0</td>\n",
              "      <td>0</td>\n",
              "      <td>0</td>\n",
              "      <td>0</td>\n",
              "      <td>0</td>\n",
              "      <td>0</td>\n",
              "      <td>0</td>\n",
              "    </tr>\n",
              "    <tr>\n",
              "      <th>2</th>\n",
              "      <td>60.00</td>\n",
              "      <td>1150</td>\n",
              "      <td>3.0</td>\n",
              "      <td>3</td>\n",
              "      <td>Avadi</td>\n",
              "      <td>Independent house</td>\n",
              "      <td>0</td>\n",
              "      <td>0</td>\n",
              "      <td>0</td>\n",
              "      <td>0</td>\n",
              "      <td>...</td>\n",
              "      <td>0</td>\n",
              "      <td>0</td>\n",
              "      <td>0</td>\n",
              "      <td>0</td>\n",
              "      <td>0</td>\n",
              "      <td>0</td>\n",
              "      <td>0</td>\n",
              "      <td>0</td>\n",
              "      <td>0</td>\n",
              "      <td>0</td>\n",
              "    </tr>\n",
              "    <tr>\n",
              "      <th>3</th>\n",
              "      <td>48.00</td>\n",
              "      <td>931</td>\n",
              "      <td>2.0</td>\n",
              "      <td>2</td>\n",
              "      <td>Avadi</td>\n",
              "      <td>Independent house</td>\n",
              "      <td>0</td>\n",
              "      <td>0</td>\n",
              "      <td>0</td>\n",
              "      <td>0</td>\n",
              "      <td>...</td>\n",
              "      <td>0</td>\n",
              "      <td>0</td>\n",
              "      <td>0</td>\n",
              "      <td>0</td>\n",
              "      <td>0</td>\n",
              "      <td>0</td>\n",
              "      <td>0</td>\n",
              "      <td>0</td>\n",
              "      <td>0</td>\n",
              "      <td>0</td>\n",
              "    </tr>\n",
              "    <tr>\n",
              "      <th>4</th>\n",
              "      <td>20.00</td>\n",
              "      <td>317</td>\n",
              "      <td>1.0</td>\n",
              "      <td>1</td>\n",
              "      <td>Avadi</td>\n",
              "      <td>Independent house</td>\n",
              "      <td>0</td>\n",
              "      <td>0</td>\n",
              "      <td>0</td>\n",
              "      <td>0</td>\n",
              "      <td>...</td>\n",
              "      <td>0</td>\n",
              "      <td>0</td>\n",
              "      <td>0</td>\n",
              "      <td>0</td>\n",
              "      <td>0</td>\n",
              "      <td>0</td>\n",
              "      <td>0</td>\n",
              "      <td>0</td>\n",
              "      <td>0</td>\n",
              "      <td>0</td>\n",
              "    </tr>\n",
              "    <tr>\n",
              "      <th>...</th>\n",
              "      <td>...</td>\n",
              "      <td>...</td>\n",
              "      <td>...</td>\n",
              "      <td>...</td>\n",
              "      <td>...</td>\n",
              "      <td>...</td>\n",
              "      <td>...</td>\n",
              "      <td>...</td>\n",
              "      <td>...</td>\n",
              "      <td>...</td>\n",
              "      <td>...</td>\n",
              "      <td>...</td>\n",
              "      <td>...</td>\n",
              "      <td>...</td>\n",
              "      <td>...</td>\n",
              "      <td>...</td>\n",
              "      <td>...</td>\n",
              "      <td>...</td>\n",
              "      <td>...</td>\n",
              "      <td>...</td>\n",
              "      <td>...</td>\n",
              "    </tr>\n",
              "    <tr>\n",
              "      <th>4920</th>\n",
              "      <td>52.67</td>\n",
              "      <td>878</td>\n",
              "      <td>2.0</td>\n",
              "      <td>2</td>\n",
              "      <td>Mugalivakkam</td>\n",
              "      <td>Lifestyle Le Paradise</td>\n",
              "      <td>1</td>\n",
              "      <td>0</td>\n",
              "      <td>0</td>\n",
              "      <td>0</td>\n",
              "      <td>...</td>\n",
              "      <td>0</td>\n",
              "      <td>0</td>\n",
              "      <td>0</td>\n",
              "      <td>0</td>\n",
              "      <td>0</td>\n",
              "      <td>0</td>\n",
              "      <td>0</td>\n",
              "      <td>0</td>\n",
              "      <td>0</td>\n",
              "      <td>0</td>\n",
              "    </tr>\n",
              "    <tr>\n",
              "      <th>4921</th>\n",
              "      <td>51.64</td>\n",
              "      <td>906</td>\n",
              "      <td>2.0</td>\n",
              "      <td>3</td>\n",
              "      <td>Mugalivakkam</td>\n",
              "      <td>other</td>\n",
              "      <td>1</td>\n",
              "      <td>0</td>\n",
              "      <td>0</td>\n",
              "      <td>0</td>\n",
              "      <td>...</td>\n",
              "      <td>0</td>\n",
              "      <td>0</td>\n",
              "      <td>0</td>\n",
              "      <td>0</td>\n",
              "      <td>0</td>\n",
              "      <td>0</td>\n",
              "      <td>0</td>\n",
              "      <td>0</td>\n",
              "      <td>0</td>\n",
              "      <td>0</td>\n",
              "    </tr>\n",
              "    <tr>\n",
              "      <th>4922</th>\n",
              "      <td>75.70</td>\n",
              "      <td>1037</td>\n",
              "      <td>2.0</td>\n",
              "      <td>2</td>\n",
              "      <td>Mugalivakkam</td>\n",
              "      <td>Independent house</td>\n",
              "      <td>1</td>\n",
              "      <td>0</td>\n",
              "      <td>0</td>\n",
              "      <td>0</td>\n",
              "      <td>...</td>\n",
              "      <td>0</td>\n",
              "      <td>0</td>\n",
              "      <td>0</td>\n",
              "      <td>0</td>\n",
              "      <td>0</td>\n",
              "      <td>0</td>\n",
              "      <td>0</td>\n",
              "      <td>0</td>\n",
              "      <td>0</td>\n",
              "      <td>0</td>\n",
              "    </tr>\n",
              "    <tr>\n",
              "      <th>4923</th>\n",
              "      <td>70.24</td>\n",
              "      <td>1171</td>\n",
              "      <td>3.0</td>\n",
              "      <td>3</td>\n",
              "      <td>Mugalivakkam</td>\n",
              "      <td>Lifestyle Le Paradise</td>\n",
              "      <td>1</td>\n",
              "      <td>0</td>\n",
              "      <td>0</td>\n",
              "      <td>0</td>\n",
              "      <td>...</td>\n",
              "      <td>0</td>\n",
              "      <td>0</td>\n",
              "      <td>0</td>\n",
              "      <td>0</td>\n",
              "      <td>0</td>\n",
              "      <td>0</td>\n",
              "      <td>0</td>\n",
              "      <td>0</td>\n",
              "      <td>0</td>\n",
              "      <td>0</td>\n",
              "    </tr>\n",
              "    <tr>\n",
              "      <th>4924</th>\n",
              "      <td>70.24</td>\n",
              "      <td>1171</td>\n",
              "      <td>3.0</td>\n",
              "      <td>3</td>\n",
              "      <td>Mugalivakkam</td>\n",
              "      <td>Lifestyle Le Paradise</td>\n",
              "      <td>1</td>\n",
              "      <td>0</td>\n",
              "      <td>0</td>\n",
              "      <td>0</td>\n",
              "      <td>...</td>\n",
              "      <td>0</td>\n",
              "      <td>0</td>\n",
              "      <td>0</td>\n",
              "      <td>0</td>\n",
              "      <td>0</td>\n",
              "      <td>0</td>\n",
              "      <td>0</td>\n",
              "      <td>0</td>\n",
              "      <td>0</td>\n",
              "      <td>0</td>\n",
              "    </tr>\n",
              "  </tbody>\n",
              "</table>\n",
              "<p>4925 rows × 40 columns</p>\n",
              "</div>\n",
              "      <button class=\"colab-df-convert\" onclick=\"convertToInteractive('df-da3a4ae7-d333-4ac0-aff6-34786da2c362')\"\n",
              "              title=\"Convert this dataframe to an interactive table.\"\n",
              "              style=\"display:none;\">\n",
              "        \n",
              "  <svg xmlns=\"http://www.w3.org/2000/svg\" height=\"24px\"viewBox=\"0 0 24 24\"\n",
              "       width=\"24px\">\n",
              "    <path d=\"M0 0h24v24H0V0z\" fill=\"none\"/>\n",
              "    <path d=\"M18.56 5.44l.94 2.06.94-2.06 2.06-.94-2.06-.94-.94-2.06-.94 2.06-2.06.94zm-11 1L8.5 8.5l.94-2.06 2.06-.94-2.06-.94L8.5 2.5l-.94 2.06-2.06.94zm10 10l.94 2.06.94-2.06 2.06-.94-2.06-.94-.94-2.06-.94 2.06-2.06.94z\"/><path d=\"M17.41 7.96l-1.37-1.37c-.4-.4-.92-.59-1.43-.59-.52 0-1.04.2-1.43.59L10.3 9.45l-7.72 7.72c-.78.78-.78 2.05 0 2.83L4 21.41c.39.39.9.59 1.41.59.51 0 1.02-.2 1.41-.59l7.78-7.78 2.81-2.81c.8-.78.8-2.07 0-2.86zM5.41 20L4 18.59l7.72-7.72 1.47 1.35L5.41 20z\"/>\n",
              "  </svg>\n",
              "      </button>\n",
              "      \n",
              "  <style>\n",
              "    .colab-df-container {\n",
              "      display:flex;\n",
              "      flex-wrap:wrap;\n",
              "      gap: 12px;\n",
              "    }\n",
              "\n",
              "    .colab-df-convert {\n",
              "      background-color: #E8F0FE;\n",
              "      border: none;\n",
              "      border-radius: 50%;\n",
              "      cursor: pointer;\n",
              "      display: none;\n",
              "      fill: #1967D2;\n",
              "      height: 32px;\n",
              "      padding: 0 0 0 0;\n",
              "      width: 32px;\n",
              "    }\n",
              "\n",
              "    .colab-df-convert:hover {\n",
              "      background-color: #E2EBFA;\n",
              "      box-shadow: 0px 1px 2px rgba(60, 64, 67, 0.3), 0px 1px 3px 1px rgba(60, 64, 67, 0.15);\n",
              "      fill: #174EA6;\n",
              "    }\n",
              "\n",
              "    [theme=dark] .colab-df-convert {\n",
              "      background-color: #3B4455;\n",
              "      fill: #D2E3FC;\n",
              "    }\n",
              "\n",
              "    [theme=dark] .colab-df-convert:hover {\n",
              "      background-color: #434B5C;\n",
              "      box-shadow: 0px 1px 3px 1px rgba(0, 0, 0, 0.15);\n",
              "      filter: drop-shadow(0px 1px 2px rgba(0, 0, 0, 0.3));\n",
              "      fill: #FFFFFF;\n",
              "    }\n",
              "  </style>\n",
              "\n",
              "      <script>\n",
              "        const buttonEl =\n",
              "          document.querySelector('#df-da3a4ae7-d333-4ac0-aff6-34786da2c362 button.colab-df-convert');\n",
              "        buttonEl.style.display =\n",
              "          google.colab.kernel.accessAllowed ? 'block' : 'none';\n",
              "\n",
              "        async function convertToInteractive(key) {\n",
              "          const element = document.querySelector('#df-da3a4ae7-d333-4ac0-aff6-34786da2c362');\n",
              "          const dataTable =\n",
              "            await google.colab.kernel.invokeFunction('convertToInteractive',\n",
              "                                                     [key], {});\n",
              "          if (!dataTable) return;\n",
              "\n",
              "          const docLinkHtml = 'Like what you see? Visit the ' +\n",
              "            '<a target=\"_blank\" href=https://colab.research.google.com/notebooks/data_table.ipynb>data table notebook</a>'\n",
              "            + ' to learn more about interactive tables.';\n",
              "          element.innerHTML = '';\n",
              "          dataTable['output_type'] = 'display_data';\n",
              "          await google.colab.output.renderOutput(dataTable, element);\n",
              "          const docLink = document.createElement('div');\n",
              "          docLink.innerHTML = docLinkHtml;\n",
              "          element.appendChild(docLink);\n",
              "        }\n",
              "      </script>\n",
              "    </div>\n",
              "  </div>\n",
              "  "
            ]
          },
          "metadata": {},
          "execution_count": 123
        }
      ]
    },
    {
      "cell_type": "code",
      "source": [
        "df2.shape"
      ],
      "metadata": {
        "colab": {
          "base_uri": "https://localhost:8080/"
        },
        "id": "z08X9ipdRiQ5",
        "outputId": "435111f4-879d-4ba3-8c65-357969d481b1"
      },
      "execution_count": 124,
      "outputs": [
        {
          "output_type": "execute_result",
          "data": {
            "text/plain": [
              "(4925, 40)"
            ]
          },
          "metadata": {},
          "execution_count": 124
        }
      ]
    },
    {
      "cell_type": "code",
      "source": [
        "df3 = df2.drop('Builder',axis = \"columns\")\n",
        "df3"
      ],
      "metadata": {
        "colab": {
          "base_uri": "https://localhost:8080/",
          "height": 627
        },
        "id": "RuxH_tDDtBG6",
        "outputId": "c6507075-b2c5-480b-8bd5-969fd151a479"
      },
      "execution_count": 125,
      "outputs": [
        {
          "output_type": "execute_result",
          "data": {
            "text/plain": [
              "      Price  Area  Bedrooms  Bathrooms      Location  Status  Adroit Prosper  \\\n",
              "0     25.00   728       2.0          2         Avadi       0               0   \n",
              "1     26.00   739       2.0          1         Avadi       0               0   \n",
              "2     60.00  1150       3.0          3         Avadi       0               0   \n",
              "3     48.00   931       2.0          2         Avadi       0               0   \n",
              "4     20.00   317       1.0          1         Avadi       0               0   \n",
              "...     ...   ...       ...        ...           ...     ...             ...   \n",
              "4920  52.67   878       2.0          2  Mugalivakkam       1               0   \n",
              "4921  51.64   906       2.0          3  Mugalivakkam       1               0   \n",
              "4922  75.70  1037       2.0          2  Mugalivakkam       1               0   \n",
              "4923  70.24  1171       3.0          3  Mugalivakkam       1               0   \n",
              "4924  70.24  1171       3.0          3  Mugalivakkam       1               0   \n",
              "\n",
              "      Akshaya Orlando A1 To A6  Akshaya Republic  Akshaya Tango  ...  \\\n",
              "0                            0                 0              0  ...   \n",
              "1                            0                 0              0  ...   \n",
              "2                            0                 0              0  ...   \n",
              "3                            0                 0              0  ...   \n",
              "4                            0                 0              0  ...   \n",
              "...                        ...               ...            ...  ...   \n",
              "4920                         0                 0              0  ...   \n",
              "4921                         0                 0              0  ...   \n",
              "4922                         0                 0              0  ...   \n",
              "4923                         0                 0              0  ...   \n",
              "4924                         0                 0              0  ...   \n",
              "\n",
              "      Risland The Ace  Samprathy Aura  Shriram Code Name Mangalam  \\\n",
              "0                   0               0                           0   \n",
              "1                   0               0                           0   \n",
              "2                   0               0                           0   \n",
              "3                   0               0                           0   \n",
              "4                   0               0                           0   \n",
              "...               ...             ...                         ...   \n",
              "4920                0               0                           0   \n",
              "4921                0               0                           0   \n",
              "4922                0               0                           0   \n",
              "4923                0               0                           0   \n",
              "4924                0               0                           0   \n",
              "\n",
              "      Shriram Park 63  TVS Magnific At TVS Emerald Peninsula  \\\n",
              "0                   0                                      0   \n",
              "1                   0                                      0   \n",
              "2                   0                                      0   \n",
              "3                   0                                      0   \n",
              "4                   0                                      0   \n",
              "...               ...                                    ...   \n",
              "4920                0                                      0   \n",
              "4921                0                                      0   \n",
              "4922                0                                      0   \n",
              "4923                0                                      0   \n",
              "4924                0                                      0   \n",
              "\n",
              "      Tata Tata New Value Homes New Haven Ribbon Walk  Urban Amaze  \\\n",
              "0                                                   0            0   \n",
              "1                                                   0            0   \n",
              "2                                                   0            0   \n",
              "3                                                   0            0   \n",
              "4                                                   0            0   \n",
              "...                                               ...          ...   \n",
              "4920                                                0            0   \n",
              "4921                                                0            0   \n",
              "4922                                                0            0   \n",
              "4923                                                0            0   \n",
              "4924                                                0            0   \n",
              "\n",
              "      Urbanrise Code Name Independence Day  Urbanrise Code Name New Porur  \\\n",
              "0                                        0                              0   \n",
              "1                                        0                              0   \n",
              "2                                        0                              0   \n",
              "3                                        0                              0   \n",
              "4                                        0                              0   \n",
              "...                                    ...                            ...   \n",
              "4920                                     0                              0   \n",
              "4921                                     0                              0   \n",
              "4922                                     0                              0   \n",
              "4923                                     0                              0   \n",
              "4924                                     0                              0   \n",
              "\n",
              "      Vijay Raja VRX 360  \n",
              "0                      0  \n",
              "1                      0  \n",
              "2                      0  \n",
              "3                      0  \n",
              "4                      0  \n",
              "...                  ...  \n",
              "4920                   0  \n",
              "4921                   0  \n",
              "4922                   0  \n",
              "4923                   0  \n",
              "4924                   0  \n",
              "\n",
              "[4925 rows x 39 columns]"
            ],
            "text/html": [
              "\n",
              "  <div id=\"df-b1b63796-d928-4578-bd5e-d8dad8a5497e\">\n",
              "    <div class=\"colab-df-container\">\n",
              "      <div>\n",
              "<style scoped>\n",
              "    .dataframe tbody tr th:only-of-type {\n",
              "        vertical-align: middle;\n",
              "    }\n",
              "\n",
              "    .dataframe tbody tr th {\n",
              "        vertical-align: top;\n",
              "    }\n",
              "\n",
              "    .dataframe thead th {\n",
              "        text-align: right;\n",
              "    }\n",
              "</style>\n",
              "<table border=\"1\" class=\"dataframe\">\n",
              "  <thead>\n",
              "    <tr style=\"text-align: right;\">\n",
              "      <th></th>\n",
              "      <th>Price</th>\n",
              "      <th>Area</th>\n",
              "      <th>Bedrooms</th>\n",
              "      <th>Bathrooms</th>\n",
              "      <th>Location</th>\n",
              "      <th>Status</th>\n",
              "      <th>Adroit Prosper</th>\n",
              "      <th>Akshaya Orlando A1 To A6</th>\n",
              "      <th>Akshaya Republic</th>\n",
              "      <th>Akshaya Tango</th>\n",
              "      <th>...</th>\n",
              "      <th>Risland The Ace</th>\n",
              "      <th>Samprathy Aura</th>\n",
              "      <th>Shriram Code Name Mangalam</th>\n",
              "      <th>Shriram Park 63</th>\n",
              "      <th>TVS Magnific At TVS Emerald Peninsula</th>\n",
              "      <th>Tata Tata New Value Homes New Haven Ribbon Walk</th>\n",
              "      <th>Urban Amaze</th>\n",
              "      <th>Urbanrise Code Name Independence Day</th>\n",
              "      <th>Urbanrise Code Name New Porur</th>\n",
              "      <th>Vijay Raja VRX 360</th>\n",
              "    </tr>\n",
              "  </thead>\n",
              "  <tbody>\n",
              "    <tr>\n",
              "      <th>0</th>\n",
              "      <td>25.00</td>\n",
              "      <td>728</td>\n",
              "      <td>2.0</td>\n",
              "      <td>2</td>\n",
              "      <td>Avadi</td>\n",
              "      <td>0</td>\n",
              "      <td>0</td>\n",
              "      <td>0</td>\n",
              "      <td>0</td>\n",
              "      <td>0</td>\n",
              "      <td>...</td>\n",
              "      <td>0</td>\n",
              "      <td>0</td>\n",
              "      <td>0</td>\n",
              "      <td>0</td>\n",
              "      <td>0</td>\n",
              "      <td>0</td>\n",
              "      <td>0</td>\n",
              "      <td>0</td>\n",
              "      <td>0</td>\n",
              "      <td>0</td>\n",
              "    </tr>\n",
              "    <tr>\n",
              "      <th>1</th>\n",
              "      <td>26.00</td>\n",
              "      <td>739</td>\n",
              "      <td>2.0</td>\n",
              "      <td>1</td>\n",
              "      <td>Avadi</td>\n",
              "      <td>0</td>\n",
              "      <td>0</td>\n",
              "      <td>0</td>\n",
              "      <td>0</td>\n",
              "      <td>0</td>\n",
              "      <td>...</td>\n",
              "      <td>0</td>\n",
              "      <td>0</td>\n",
              "      <td>0</td>\n",
              "      <td>0</td>\n",
              "      <td>0</td>\n",
              "      <td>0</td>\n",
              "      <td>0</td>\n",
              "      <td>0</td>\n",
              "      <td>0</td>\n",
              "      <td>0</td>\n",
              "    </tr>\n",
              "    <tr>\n",
              "      <th>2</th>\n",
              "      <td>60.00</td>\n",
              "      <td>1150</td>\n",
              "      <td>3.0</td>\n",
              "      <td>3</td>\n",
              "      <td>Avadi</td>\n",
              "      <td>0</td>\n",
              "      <td>0</td>\n",
              "      <td>0</td>\n",
              "      <td>0</td>\n",
              "      <td>0</td>\n",
              "      <td>...</td>\n",
              "      <td>0</td>\n",
              "      <td>0</td>\n",
              "      <td>0</td>\n",
              "      <td>0</td>\n",
              "      <td>0</td>\n",
              "      <td>0</td>\n",
              "      <td>0</td>\n",
              "      <td>0</td>\n",
              "      <td>0</td>\n",
              "      <td>0</td>\n",
              "    </tr>\n",
              "    <tr>\n",
              "      <th>3</th>\n",
              "      <td>48.00</td>\n",
              "      <td>931</td>\n",
              "      <td>2.0</td>\n",
              "      <td>2</td>\n",
              "      <td>Avadi</td>\n",
              "      <td>0</td>\n",
              "      <td>0</td>\n",
              "      <td>0</td>\n",
              "      <td>0</td>\n",
              "      <td>0</td>\n",
              "      <td>...</td>\n",
              "      <td>0</td>\n",
              "      <td>0</td>\n",
              "      <td>0</td>\n",
              "      <td>0</td>\n",
              "      <td>0</td>\n",
              "      <td>0</td>\n",
              "      <td>0</td>\n",
              "      <td>0</td>\n",
              "      <td>0</td>\n",
              "      <td>0</td>\n",
              "    </tr>\n",
              "    <tr>\n",
              "      <th>4</th>\n",
              "      <td>20.00</td>\n",
              "      <td>317</td>\n",
              "      <td>1.0</td>\n",
              "      <td>1</td>\n",
              "      <td>Avadi</td>\n",
              "      <td>0</td>\n",
              "      <td>0</td>\n",
              "      <td>0</td>\n",
              "      <td>0</td>\n",
              "      <td>0</td>\n",
              "      <td>...</td>\n",
              "      <td>0</td>\n",
              "      <td>0</td>\n",
              "      <td>0</td>\n",
              "      <td>0</td>\n",
              "      <td>0</td>\n",
              "      <td>0</td>\n",
              "      <td>0</td>\n",
              "      <td>0</td>\n",
              "      <td>0</td>\n",
              "      <td>0</td>\n",
              "    </tr>\n",
              "    <tr>\n",
              "      <th>...</th>\n",
              "      <td>...</td>\n",
              "      <td>...</td>\n",
              "      <td>...</td>\n",
              "      <td>...</td>\n",
              "      <td>...</td>\n",
              "      <td>...</td>\n",
              "      <td>...</td>\n",
              "      <td>...</td>\n",
              "      <td>...</td>\n",
              "      <td>...</td>\n",
              "      <td>...</td>\n",
              "      <td>...</td>\n",
              "      <td>...</td>\n",
              "      <td>...</td>\n",
              "      <td>...</td>\n",
              "      <td>...</td>\n",
              "      <td>...</td>\n",
              "      <td>...</td>\n",
              "      <td>...</td>\n",
              "      <td>...</td>\n",
              "      <td>...</td>\n",
              "    </tr>\n",
              "    <tr>\n",
              "      <th>4920</th>\n",
              "      <td>52.67</td>\n",
              "      <td>878</td>\n",
              "      <td>2.0</td>\n",
              "      <td>2</td>\n",
              "      <td>Mugalivakkam</td>\n",
              "      <td>1</td>\n",
              "      <td>0</td>\n",
              "      <td>0</td>\n",
              "      <td>0</td>\n",
              "      <td>0</td>\n",
              "      <td>...</td>\n",
              "      <td>0</td>\n",
              "      <td>0</td>\n",
              "      <td>0</td>\n",
              "      <td>0</td>\n",
              "      <td>0</td>\n",
              "      <td>0</td>\n",
              "      <td>0</td>\n",
              "      <td>0</td>\n",
              "      <td>0</td>\n",
              "      <td>0</td>\n",
              "    </tr>\n",
              "    <tr>\n",
              "      <th>4921</th>\n",
              "      <td>51.64</td>\n",
              "      <td>906</td>\n",
              "      <td>2.0</td>\n",
              "      <td>3</td>\n",
              "      <td>Mugalivakkam</td>\n",
              "      <td>1</td>\n",
              "      <td>0</td>\n",
              "      <td>0</td>\n",
              "      <td>0</td>\n",
              "      <td>0</td>\n",
              "      <td>...</td>\n",
              "      <td>0</td>\n",
              "      <td>0</td>\n",
              "      <td>0</td>\n",
              "      <td>0</td>\n",
              "      <td>0</td>\n",
              "      <td>0</td>\n",
              "      <td>0</td>\n",
              "      <td>0</td>\n",
              "      <td>0</td>\n",
              "      <td>0</td>\n",
              "    </tr>\n",
              "    <tr>\n",
              "      <th>4922</th>\n",
              "      <td>75.70</td>\n",
              "      <td>1037</td>\n",
              "      <td>2.0</td>\n",
              "      <td>2</td>\n",
              "      <td>Mugalivakkam</td>\n",
              "      <td>1</td>\n",
              "      <td>0</td>\n",
              "      <td>0</td>\n",
              "      <td>0</td>\n",
              "      <td>0</td>\n",
              "      <td>...</td>\n",
              "      <td>0</td>\n",
              "      <td>0</td>\n",
              "      <td>0</td>\n",
              "      <td>0</td>\n",
              "      <td>0</td>\n",
              "      <td>0</td>\n",
              "      <td>0</td>\n",
              "      <td>0</td>\n",
              "      <td>0</td>\n",
              "      <td>0</td>\n",
              "    </tr>\n",
              "    <tr>\n",
              "      <th>4923</th>\n",
              "      <td>70.24</td>\n",
              "      <td>1171</td>\n",
              "      <td>3.0</td>\n",
              "      <td>3</td>\n",
              "      <td>Mugalivakkam</td>\n",
              "      <td>1</td>\n",
              "      <td>0</td>\n",
              "      <td>0</td>\n",
              "      <td>0</td>\n",
              "      <td>0</td>\n",
              "      <td>...</td>\n",
              "      <td>0</td>\n",
              "      <td>0</td>\n",
              "      <td>0</td>\n",
              "      <td>0</td>\n",
              "      <td>0</td>\n",
              "      <td>0</td>\n",
              "      <td>0</td>\n",
              "      <td>0</td>\n",
              "      <td>0</td>\n",
              "      <td>0</td>\n",
              "    </tr>\n",
              "    <tr>\n",
              "      <th>4924</th>\n",
              "      <td>70.24</td>\n",
              "      <td>1171</td>\n",
              "      <td>3.0</td>\n",
              "      <td>3</td>\n",
              "      <td>Mugalivakkam</td>\n",
              "      <td>1</td>\n",
              "      <td>0</td>\n",
              "      <td>0</td>\n",
              "      <td>0</td>\n",
              "      <td>0</td>\n",
              "      <td>...</td>\n",
              "      <td>0</td>\n",
              "      <td>0</td>\n",
              "      <td>0</td>\n",
              "      <td>0</td>\n",
              "      <td>0</td>\n",
              "      <td>0</td>\n",
              "      <td>0</td>\n",
              "      <td>0</td>\n",
              "      <td>0</td>\n",
              "      <td>0</td>\n",
              "    </tr>\n",
              "  </tbody>\n",
              "</table>\n",
              "<p>4925 rows × 39 columns</p>\n",
              "</div>\n",
              "      <button class=\"colab-df-convert\" onclick=\"convertToInteractive('df-b1b63796-d928-4578-bd5e-d8dad8a5497e')\"\n",
              "              title=\"Convert this dataframe to an interactive table.\"\n",
              "              style=\"display:none;\">\n",
              "        \n",
              "  <svg xmlns=\"http://www.w3.org/2000/svg\" height=\"24px\"viewBox=\"0 0 24 24\"\n",
              "       width=\"24px\">\n",
              "    <path d=\"M0 0h24v24H0V0z\" fill=\"none\"/>\n",
              "    <path d=\"M18.56 5.44l.94 2.06.94-2.06 2.06-.94-2.06-.94-.94-2.06-.94 2.06-2.06.94zm-11 1L8.5 8.5l.94-2.06 2.06-.94-2.06-.94L8.5 2.5l-.94 2.06-2.06.94zm10 10l.94 2.06.94-2.06 2.06-.94-2.06-.94-.94-2.06-.94 2.06-2.06.94z\"/><path d=\"M17.41 7.96l-1.37-1.37c-.4-.4-.92-.59-1.43-.59-.52 0-1.04.2-1.43.59L10.3 9.45l-7.72 7.72c-.78.78-.78 2.05 0 2.83L4 21.41c.39.39.9.59 1.41.59.51 0 1.02-.2 1.41-.59l7.78-7.78 2.81-2.81c.8-.78.8-2.07 0-2.86zM5.41 20L4 18.59l7.72-7.72 1.47 1.35L5.41 20z\"/>\n",
              "  </svg>\n",
              "      </button>\n",
              "      \n",
              "  <style>\n",
              "    .colab-df-container {\n",
              "      display:flex;\n",
              "      flex-wrap:wrap;\n",
              "      gap: 12px;\n",
              "    }\n",
              "\n",
              "    .colab-df-convert {\n",
              "      background-color: #E8F0FE;\n",
              "      border: none;\n",
              "      border-radius: 50%;\n",
              "      cursor: pointer;\n",
              "      display: none;\n",
              "      fill: #1967D2;\n",
              "      height: 32px;\n",
              "      padding: 0 0 0 0;\n",
              "      width: 32px;\n",
              "    }\n",
              "\n",
              "    .colab-df-convert:hover {\n",
              "      background-color: #E2EBFA;\n",
              "      box-shadow: 0px 1px 2px rgba(60, 64, 67, 0.3), 0px 1px 3px 1px rgba(60, 64, 67, 0.15);\n",
              "      fill: #174EA6;\n",
              "    }\n",
              "\n",
              "    [theme=dark] .colab-df-convert {\n",
              "      background-color: #3B4455;\n",
              "      fill: #D2E3FC;\n",
              "    }\n",
              "\n",
              "    [theme=dark] .colab-df-convert:hover {\n",
              "      background-color: #434B5C;\n",
              "      box-shadow: 0px 1px 3px 1px rgba(0, 0, 0, 0.15);\n",
              "      filter: drop-shadow(0px 1px 2px rgba(0, 0, 0, 0.3));\n",
              "      fill: #FFFFFF;\n",
              "    }\n",
              "  </style>\n",
              "\n",
              "      <script>\n",
              "        const buttonEl =\n",
              "          document.querySelector('#df-b1b63796-d928-4578-bd5e-d8dad8a5497e button.colab-df-convert');\n",
              "        buttonEl.style.display =\n",
              "          google.colab.kernel.accessAllowed ? 'block' : 'none';\n",
              "\n",
              "        async function convertToInteractive(key) {\n",
              "          const element = document.querySelector('#df-b1b63796-d928-4578-bd5e-d8dad8a5497e');\n",
              "          const dataTable =\n",
              "            await google.colab.kernel.invokeFunction('convertToInteractive',\n",
              "                                                     [key], {});\n",
              "          if (!dataTable) return;\n",
              "\n",
              "          const docLinkHtml = 'Like what you see? Visit the ' +\n",
              "            '<a target=\"_blank\" href=https://colab.research.google.com/notebooks/data_table.ipynb>data table notebook</a>'\n",
              "            + ' to learn more about interactive tables.';\n",
              "          element.innerHTML = '';\n",
              "          dataTable['output_type'] = 'display_data';\n",
              "          await google.colab.output.renderOutput(dataTable, element);\n",
              "          const docLink = document.createElement('div');\n",
              "          docLink.innerHTML = docLinkHtml;\n",
              "          element.appendChild(docLink);\n",
              "        }\n",
              "      </script>\n",
              "    </div>\n",
              "  </div>\n",
              "  "
            ]
          },
          "metadata": {},
          "execution_count": 125
        }
      ]
    },
    {
      "cell_type": "code",
      "source": [
        "dummies2 = pd.get_dummies(df1.Location)\n",
        "dummies2"
      ],
      "metadata": {
        "colab": {
          "base_uri": "https://localhost:8080/",
          "height": 505
        },
        "id": "78PHrdIDtLhS",
        "outputId": "e89fdca0-daff-41b1-d77c-62e1f3395be9"
      },
      "execution_count": 126,
      "outputs": [
        {
          "output_type": "execute_result",
          "data": {
            "text/plain": [
              "      Adyar  Ambattur  Avadi  Choolaimedu  Chromepet  East Tambaram  \\\n",
              "0         0         0      1            0          0              0   \n",
              "1         0         0      1            0          0              0   \n",
              "2         0         0      1            0          0              0   \n",
              "3         0         0      1            0          0              0   \n",
              "4         0         0      1            0          0              0   \n",
              "...     ...       ...    ...          ...        ...            ...   \n",
              "4920      0         0      0            0          0              0   \n",
              "4921      0         0      0            0          0              0   \n",
              "4922      0         0      0            0          0              0   \n",
              "4923      0         0      0            0          0              0   \n",
              "4924      0         0      0            0          0              0   \n",
              "\n",
              "      Guduvancheri  Kelambakkam  Kolathur  Kovilambakkam  ...  Thalambur  \\\n",
              "0                0            0         0              0  ...          0   \n",
              "1                0            0         0              0  ...          0   \n",
              "2                0            0         0              0  ...          0   \n",
              "3                0            0         0              0  ...          0   \n",
              "4                0            0         0              0  ...          0   \n",
              "...            ...          ...       ...            ...  ...        ...   \n",
              "4920             0            0         0              0  ...          0   \n",
              "4921             0            0         0              0  ...          0   \n",
              "4922             0            0         0              0  ...          0   \n",
              "4923             0            0         0              0  ...          0   \n",
              "4924             0            0         0              0  ...          0   \n",
              "\n",
              "      Thirumazhisai  Thirumullaivoyal  Thiruvanmiyur  Thoraipakkam OMR  \\\n",
              "0                 0                 0              0                 0   \n",
              "1                 0                 0              0                 0   \n",
              "2                 0                 0              0                 0   \n",
              "3                 0                 0              0                 0   \n",
              "4                 0                 0              0                 0   \n",
              "...             ...               ...            ...               ...   \n",
              "4920              0                 0              0                 0   \n",
              "4921              0                 0              0                 0   \n",
              "4922              0                 0              0                 0   \n",
              "4923              0                 0              0                 0   \n",
              "4924              0                 0              0                 0   \n",
              "\n",
              "      Urapakkam  Valasaravakkam  Velachery  West Tambaram  other  \n",
              "0             0               0          0              0      0  \n",
              "1             0               0          0              0      0  \n",
              "2             0               0          0              0      0  \n",
              "3             0               0          0              0      0  \n",
              "4             0               0          0              0      0  \n",
              "...         ...             ...        ...            ...    ...  \n",
              "4920          0               0          0              0      0  \n",
              "4921          0               0          0              0      0  \n",
              "4922          0               0          0              0      0  \n",
              "4923          0               0          0              0      0  \n",
              "4924          0               0          0              0      0  \n",
              "\n",
              "[4925 rows x 47 columns]"
            ],
            "text/html": [
              "\n",
              "  <div id=\"df-6d372650-df80-44bc-8467-d315740a7b6d\">\n",
              "    <div class=\"colab-df-container\">\n",
              "      <div>\n",
              "<style scoped>\n",
              "    .dataframe tbody tr th:only-of-type {\n",
              "        vertical-align: middle;\n",
              "    }\n",
              "\n",
              "    .dataframe tbody tr th {\n",
              "        vertical-align: top;\n",
              "    }\n",
              "\n",
              "    .dataframe thead th {\n",
              "        text-align: right;\n",
              "    }\n",
              "</style>\n",
              "<table border=\"1\" class=\"dataframe\">\n",
              "  <thead>\n",
              "    <tr style=\"text-align: right;\">\n",
              "      <th></th>\n",
              "      <th>Adyar</th>\n",
              "      <th>Ambattur</th>\n",
              "      <th>Avadi</th>\n",
              "      <th>Choolaimedu</th>\n",
              "      <th>Chromepet</th>\n",
              "      <th>East Tambaram</th>\n",
              "      <th>Guduvancheri</th>\n",
              "      <th>Kelambakkam</th>\n",
              "      <th>Kolathur</th>\n",
              "      <th>Kovilambakkam</th>\n",
              "      <th>...</th>\n",
              "      <th>Thalambur</th>\n",
              "      <th>Thirumazhisai</th>\n",
              "      <th>Thirumullaivoyal</th>\n",
              "      <th>Thiruvanmiyur</th>\n",
              "      <th>Thoraipakkam OMR</th>\n",
              "      <th>Urapakkam</th>\n",
              "      <th>Valasaravakkam</th>\n",
              "      <th>Velachery</th>\n",
              "      <th>West Tambaram</th>\n",
              "      <th>other</th>\n",
              "    </tr>\n",
              "  </thead>\n",
              "  <tbody>\n",
              "    <tr>\n",
              "      <th>0</th>\n",
              "      <td>0</td>\n",
              "      <td>0</td>\n",
              "      <td>1</td>\n",
              "      <td>0</td>\n",
              "      <td>0</td>\n",
              "      <td>0</td>\n",
              "      <td>0</td>\n",
              "      <td>0</td>\n",
              "      <td>0</td>\n",
              "      <td>0</td>\n",
              "      <td>...</td>\n",
              "      <td>0</td>\n",
              "      <td>0</td>\n",
              "      <td>0</td>\n",
              "      <td>0</td>\n",
              "      <td>0</td>\n",
              "      <td>0</td>\n",
              "      <td>0</td>\n",
              "      <td>0</td>\n",
              "      <td>0</td>\n",
              "      <td>0</td>\n",
              "    </tr>\n",
              "    <tr>\n",
              "      <th>1</th>\n",
              "      <td>0</td>\n",
              "      <td>0</td>\n",
              "      <td>1</td>\n",
              "      <td>0</td>\n",
              "      <td>0</td>\n",
              "      <td>0</td>\n",
              "      <td>0</td>\n",
              "      <td>0</td>\n",
              "      <td>0</td>\n",
              "      <td>0</td>\n",
              "      <td>...</td>\n",
              "      <td>0</td>\n",
              "      <td>0</td>\n",
              "      <td>0</td>\n",
              "      <td>0</td>\n",
              "      <td>0</td>\n",
              "      <td>0</td>\n",
              "      <td>0</td>\n",
              "      <td>0</td>\n",
              "      <td>0</td>\n",
              "      <td>0</td>\n",
              "    </tr>\n",
              "    <tr>\n",
              "      <th>2</th>\n",
              "      <td>0</td>\n",
              "      <td>0</td>\n",
              "      <td>1</td>\n",
              "      <td>0</td>\n",
              "      <td>0</td>\n",
              "      <td>0</td>\n",
              "      <td>0</td>\n",
              "      <td>0</td>\n",
              "      <td>0</td>\n",
              "      <td>0</td>\n",
              "      <td>...</td>\n",
              "      <td>0</td>\n",
              "      <td>0</td>\n",
              "      <td>0</td>\n",
              "      <td>0</td>\n",
              "      <td>0</td>\n",
              "      <td>0</td>\n",
              "      <td>0</td>\n",
              "      <td>0</td>\n",
              "      <td>0</td>\n",
              "      <td>0</td>\n",
              "    </tr>\n",
              "    <tr>\n",
              "      <th>3</th>\n",
              "      <td>0</td>\n",
              "      <td>0</td>\n",
              "      <td>1</td>\n",
              "      <td>0</td>\n",
              "      <td>0</td>\n",
              "      <td>0</td>\n",
              "      <td>0</td>\n",
              "      <td>0</td>\n",
              "      <td>0</td>\n",
              "      <td>0</td>\n",
              "      <td>...</td>\n",
              "      <td>0</td>\n",
              "      <td>0</td>\n",
              "      <td>0</td>\n",
              "      <td>0</td>\n",
              "      <td>0</td>\n",
              "      <td>0</td>\n",
              "      <td>0</td>\n",
              "      <td>0</td>\n",
              "      <td>0</td>\n",
              "      <td>0</td>\n",
              "    </tr>\n",
              "    <tr>\n",
              "      <th>4</th>\n",
              "      <td>0</td>\n",
              "      <td>0</td>\n",
              "      <td>1</td>\n",
              "      <td>0</td>\n",
              "      <td>0</td>\n",
              "      <td>0</td>\n",
              "      <td>0</td>\n",
              "      <td>0</td>\n",
              "      <td>0</td>\n",
              "      <td>0</td>\n",
              "      <td>...</td>\n",
              "      <td>0</td>\n",
              "      <td>0</td>\n",
              "      <td>0</td>\n",
              "      <td>0</td>\n",
              "      <td>0</td>\n",
              "      <td>0</td>\n",
              "      <td>0</td>\n",
              "      <td>0</td>\n",
              "      <td>0</td>\n",
              "      <td>0</td>\n",
              "    </tr>\n",
              "    <tr>\n",
              "      <th>...</th>\n",
              "      <td>...</td>\n",
              "      <td>...</td>\n",
              "      <td>...</td>\n",
              "      <td>...</td>\n",
              "      <td>...</td>\n",
              "      <td>...</td>\n",
              "      <td>...</td>\n",
              "      <td>...</td>\n",
              "      <td>...</td>\n",
              "      <td>...</td>\n",
              "      <td>...</td>\n",
              "      <td>...</td>\n",
              "      <td>...</td>\n",
              "      <td>...</td>\n",
              "      <td>...</td>\n",
              "      <td>...</td>\n",
              "      <td>...</td>\n",
              "      <td>...</td>\n",
              "      <td>...</td>\n",
              "      <td>...</td>\n",
              "      <td>...</td>\n",
              "    </tr>\n",
              "    <tr>\n",
              "      <th>4920</th>\n",
              "      <td>0</td>\n",
              "      <td>0</td>\n",
              "      <td>0</td>\n",
              "      <td>0</td>\n",
              "      <td>0</td>\n",
              "      <td>0</td>\n",
              "      <td>0</td>\n",
              "      <td>0</td>\n",
              "      <td>0</td>\n",
              "      <td>0</td>\n",
              "      <td>...</td>\n",
              "      <td>0</td>\n",
              "      <td>0</td>\n",
              "      <td>0</td>\n",
              "      <td>0</td>\n",
              "      <td>0</td>\n",
              "      <td>0</td>\n",
              "      <td>0</td>\n",
              "      <td>0</td>\n",
              "      <td>0</td>\n",
              "      <td>0</td>\n",
              "    </tr>\n",
              "    <tr>\n",
              "      <th>4921</th>\n",
              "      <td>0</td>\n",
              "      <td>0</td>\n",
              "      <td>0</td>\n",
              "      <td>0</td>\n",
              "      <td>0</td>\n",
              "      <td>0</td>\n",
              "      <td>0</td>\n",
              "      <td>0</td>\n",
              "      <td>0</td>\n",
              "      <td>0</td>\n",
              "      <td>...</td>\n",
              "      <td>0</td>\n",
              "      <td>0</td>\n",
              "      <td>0</td>\n",
              "      <td>0</td>\n",
              "      <td>0</td>\n",
              "      <td>0</td>\n",
              "      <td>0</td>\n",
              "      <td>0</td>\n",
              "      <td>0</td>\n",
              "      <td>0</td>\n",
              "    </tr>\n",
              "    <tr>\n",
              "      <th>4922</th>\n",
              "      <td>0</td>\n",
              "      <td>0</td>\n",
              "      <td>0</td>\n",
              "      <td>0</td>\n",
              "      <td>0</td>\n",
              "      <td>0</td>\n",
              "      <td>0</td>\n",
              "      <td>0</td>\n",
              "      <td>0</td>\n",
              "      <td>0</td>\n",
              "      <td>...</td>\n",
              "      <td>0</td>\n",
              "      <td>0</td>\n",
              "      <td>0</td>\n",
              "      <td>0</td>\n",
              "      <td>0</td>\n",
              "      <td>0</td>\n",
              "      <td>0</td>\n",
              "      <td>0</td>\n",
              "      <td>0</td>\n",
              "      <td>0</td>\n",
              "    </tr>\n",
              "    <tr>\n",
              "      <th>4923</th>\n",
              "      <td>0</td>\n",
              "      <td>0</td>\n",
              "      <td>0</td>\n",
              "      <td>0</td>\n",
              "      <td>0</td>\n",
              "      <td>0</td>\n",
              "      <td>0</td>\n",
              "      <td>0</td>\n",
              "      <td>0</td>\n",
              "      <td>0</td>\n",
              "      <td>...</td>\n",
              "      <td>0</td>\n",
              "      <td>0</td>\n",
              "      <td>0</td>\n",
              "      <td>0</td>\n",
              "      <td>0</td>\n",
              "      <td>0</td>\n",
              "      <td>0</td>\n",
              "      <td>0</td>\n",
              "      <td>0</td>\n",
              "      <td>0</td>\n",
              "    </tr>\n",
              "    <tr>\n",
              "      <th>4924</th>\n",
              "      <td>0</td>\n",
              "      <td>0</td>\n",
              "      <td>0</td>\n",
              "      <td>0</td>\n",
              "      <td>0</td>\n",
              "      <td>0</td>\n",
              "      <td>0</td>\n",
              "      <td>0</td>\n",
              "      <td>0</td>\n",
              "      <td>0</td>\n",
              "      <td>...</td>\n",
              "      <td>0</td>\n",
              "      <td>0</td>\n",
              "      <td>0</td>\n",
              "      <td>0</td>\n",
              "      <td>0</td>\n",
              "      <td>0</td>\n",
              "      <td>0</td>\n",
              "      <td>0</td>\n",
              "      <td>0</td>\n",
              "      <td>0</td>\n",
              "    </tr>\n",
              "  </tbody>\n",
              "</table>\n",
              "<p>4925 rows × 47 columns</p>\n",
              "</div>\n",
              "      <button class=\"colab-df-convert\" onclick=\"convertToInteractive('df-6d372650-df80-44bc-8467-d315740a7b6d')\"\n",
              "              title=\"Convert this dataframe to an interactive table.\"\n",
              "              style=\"display:none;\">\n",
              "        \n",
              "  <svg xmlns=\"http://www.w3.org/2000/svg\" height=\"24px\"viewBox=\"0 0 24 24\"\n",
              "       width=\"24px\">\n",
              "    <path d=\"M0 0h24v24H0V0z\" fill=\"none\"/>\n",
              "    <path d=\"M18.56 5.44l.94 2.06.94-2.06 2.06-.94-2.06-.94-.94-2.06-.94 2.06-2.06.94zm-11 1L8.5 8.5l.94-2.06 2.06-.94-2.06-.94L8.5 2.5l-.94 2.06-2.06.94zm10 10l.94 2.06.94-2.06 2.06-.94-2.06-.94-.94-2.06-.94 2.06-2.06.94z\"/><path d=\"M17.41 7.96l-1.37-1.37c-.4-.4-.92-.59-1.43-.59-.52 0-1.04.2-1.43.59L10.3 9.45l-7.72 7.72c-.78.78-.78 2.05 0 2.83L4 21.41c.39.39.9.59 1.41.59.51 0 1.02-.2 1.41-.59l7.78-7.78 2.81-2.81c.8-.78.8-2.07 0-2.86zM5.41 20L4 18.59l7.72-7.72 1.47 1.35L5.41 20z\"/>\n",
              "  </svg>\n",
              "      </button>\n",
              "      \n",
              "  <style>\n",
              "    .colab-df-container {\n",
              "      display:flex;\n",
              "      flex-wrap:wrap;\n",
              "      gap: 12px;\n",
              "    }\n",
              "\n",
              "    .colab-df-convert {\n",
              "      background-color: #E8F0FE;\n",
              "      border: none;\n",
              "      border-radius: 50%;\n",
              "      cursor: pointer;\n",
              "      display: none;\n",
              "      fill: #1967D2;\n",
              "      height: 32px;\n",
              "      padding: 0 0 0 0;\n",
              "      width: 32px;\n",
              "    }\n",
              "\n",
              "    .colab-df-convert:hover {\n",
              "      background-color: #E2EBFA;\n",
              "      box-shadow: 0px 1px 2px rgba(60, 64, 67, 0.3), 0px 1px 3px 1px rgba(60, 64, 67, 0.15);\n",
              "      fill: #174EA6;\n",
              "    }\n",
              "\n",
              "    [theme=dark] .colab-df-convert {\n",
              "      background-color: #3B4455;\n",
              "      fill: #D2E3FC;\n",
              "    }\n",
              "\n",
              "    [theme=dark] .colab-df-convert:hover {\n",
              "      background-color: #434B5C;\n",
              "      box-shadow: 0px 1px 3px 1px rgba(0, 0, 0, 0.15);\n",
              "      filter: drop-shadow(0px 1px 2px rgba(0, 0, 0, 0.3));\n",
              "      fill: #FFFFFF;\n",
              "    }\n",
              "  </style>\n",
              "\n",
              "      <script>\n",
              "        const buttonEl =\n",
              "          document.querySelector('#df-6d372650-df80-44bc-8467-d315740a7b6d button.colab-df-convert');\n",
              "        buttonEl.style.display =\n",
              "          google.colab.kernel.accessAllowed ? 'block' : 'none';\n",
              "\n",
              "        async function convertToInteractive(key) {\n",
              "          const element = document.querySelector('#df-6d372650-df80-44bc-8467-d315740a7b6d');\n",
              "          const dataTable =\n",
              "            await google.colab.kernel.invokeFunction('convertToInteractive',\n",
              "                                                     [key], {});\n",
              "          if (!dataTable) return;\n",
              "\n",
              "          const docLinkHtml = 'Like what you see? Visit the ' +\n",
              "            '<a target=\"_blank\" href=https://colab.research.google.com/notebooks/data_table.ipynb>data table notebook</a>'\n",
              "            + ' to learn more about interactive tables.';\n",
              "          element.innerHTML = '';\n",
              "          dataTable['output_type'] = 'display_data';\n",
              "          await google.colab.output.renderOutput(dataTable, element);\n",
              "          const docLink = document.createElement('div');\n",
              "          docLink.innerHTML = docLinkHtml;\n",
              "          element.appendChild(docLink);\n",
              "        }\n",
              "      </script>\n",
              "    </div>\n",
              "  </div>\n",
              "  "
            ]
          },
          "metadata": {},
          "execution_count": 126
        }
      ]
    },
    {
      "cell_type": "code",
      "source": [
        "df4 = pd.concat([df3,dummies2.drop('other',axis = \"columns\")],axis = \"columns\")\n",
        "df4"
      ],
      "metadata": {
        "colab": {
          "base_uri": "https://localhost:8080/",
          "height": 540
        },
        "id": "qS_rwhbntZ9K",
        "outputId": "5bb994a1-f7e9-4f38-d240-a38b0eaace86"
      },
      "execution_count": 127,
      "outputs": [
        {
          "output_type": "execute_result",
          "data": {
            "text/plain": [
              "      Price  Area  Bedrooms  Bathrooms      Location  Status  Adroit Prosper  \\\n",
              "0     25.00   728       2.0          2         Avadi       0               0   \n",
              "1     26.00   739       2.0          1         Avadi       0               0   \n",
              "2     60.00  1150       3.0          3         Avadi       0               0   \n",
              "3     48.00   931       2.0          2         Avadi       0               0   \n",
              "4     20.00   317       1.0          1         Avadi       0               0   \n",
              "...     ...   ...       ...        ...           ...     ...             ...   \n",
              "4920  52.67   878       2.0          2  Mugalivakkam       1               0   \n",
              "4921  51.64   906       2.0          3  Mugalivakkam       1               0   \n",
              "4922  75.70  1037       2.0          2  Mugalivakkam       1               0   \n",
              "4923  70.24  1171       3.0          3  Mugalivakkam       1               0   \n",
              "4924  70.24  1171       3.0          3  Mugalivakkam       1               0   \n",
              "\n",
              "      Akshaya Orlando A1 To A6  Akshaya Republic  Akshaya Tango  ...  Thaiyur  \\\n",
              "0                            0                 0              0  ...        0   \n",
              "1                            0                 0              0  ...        0   \n",
              "2                            0                 0              0  ...        0   \n",
              "3                            0                 0              0  ...        0   \n",
              "4                            0                 0              0  ...        0   \n",
              "...                        ...               ...            ...  ...      ...   \n",
              "4920                         0                 0              0  ...        0   \n",
              "4921                         0                 0              0  ...        0   \n",
              "4922                         0                 0              0  ...        0   \n",
              "4923                         0                 0              0  ...        0   \n",
              "4924                         0                 0              0  ...        0   \n",
              "\n",
              "      Thalambur  Thirumazhisai  Thirumullaivoyal  Thiruvanmiyur  \\\n",
              "0             0              0                 0              0   \n",
              "1             0              0                 0              0   \n",
              "2             0              0                 0              0   \n",
              "3             0              0                 0              0   \n",
              "4             0              0                 0              0   \n",
              "...         ...            ...               ...            ...   \n",
              "4920          0              0                 0              0   \n",
              "4921          0              0                 0              0   \n",
              "4922          0              0                 0              0   \n",
              "4923          0              0                 0              0   \n",
              "4924          0              0                 0              0   \n",
              "\n",
              "      Thoraipakkam OMR  Urapakkam  Valasaravakkam  Velachery  West Tambaram  \n",
              "0                    0          0               0          0              0  \n",
              "1                    0          0               0          0              0  \n",
              "2                    0          0               0          0              0  \n",
              "3                    0          0               0          0              0  \n",
              "4                    0          0               0          0              0  \n",
              "...                ...        ...             ...        ...            ...  \n",
              "4920                 0          0               0          0              0  \n",
              "4921                 0          0               0          0              0  \n",
              "4922                 0          0               0          0              0  \n",
              "4923                 0          0               0          0              0  \n",
              "4924                 0          0               0          0              0  \n",
              "\n",
              "[4925 rows x 85 columns]"
            ],
            "text/html": [
              "\n",
              "  <div id=\"df-ffd743d1-48ac-49da-a1bd-c2a57c7d8bec\">\n",
              "    <div class=\"colab-df-container\">\n",
              "      <div>\n",
              "<style scoped>\n",
              "    .dataframe tbody tr th:only-of-type {\n",
              "        vertical-align: middle;\n",
              "    }\n",
              "\n",
              "    .dataframe tbody tr th {\n",
              "        vertical-align: top;\n",
              "    }\n",
              "\n",
              "    .dataframe thead th {\n",
              "        text-align: right;\n",
              "    }\n",
              "</style>\n",
              "<table border=\"1\" class=\"dataframe\">\n",
              "  <thead>\n",
              "    <tr style=\"text-align: right;\">\n",
              "      <th></th>\n",
              "      <th>Price</th>\n",
              "      <th>Area</th>\n",
              "      <th>Bedrooms</th>\n",
              "      <th>Bathrooms</th>\n",
              "      <th>Location</th>\n",
              "      <th>Status</th>\n",
              "      <th>Adroit Prosper</th>\n",
              "      <th>Akshaya Orlando A1 To A6</th>\n",
              "      <th>Akshaya Republic</th>\n",
              "      <th>Akshaya Tango</th>\n",
              "      <th>...</th>\n",
              "      <th>Thaiyur</th>\n",
              "      <th>Thalambur</th>\n",
              "      <th>Thirumazhisai</th>\n",
              "      <th>Thirumullaivoyal</th>\n",
              "      <th>Thiruvanmiyur</th>\n",
              "      <th>Thoraipakkam OMR</th>\n",
              "      <th>Urapakkam</th>\n",
              "      <th>Valasaravakkam</th>\n",
              "      <th>Velachery</th>\n",
              "      <th>West Tambaram</th>\n",
              "    </tr>\n",
              "  </thead>\n",
              "  <tbody>\n",
              "    <tr>\n",
              "      <th>0</th>\n",
              "      <td>25.00</td>\n",
              "      <td>728</td>\n",
              "      <td>2.0</td>\n",
              "      <td>2</td>\n",
              "      <td>Avadi</td>\n",
              "      <td>0</td>\n",
              "      <td>0</td>\n",
              "      <td>0</td>\n",
              "      <td>0</td>\n",
              "      <td>0</td>\n",
              "      <td>...</td>\n",
              "      <td>0</td>\n",
              "      <td>0</td>\n",
              "      <td>0</td>\n",
              "      <td>0</td>\n",
              "      <td>0</td>\n",
              "      <td>0</td>\n",
              "      <td>0</td>\n",
              "      <td>0</td>\n",
              "      <td>0</td>\n",
              "      <td>0</td>\n",
              "    </tr>\n",
              "    <tr>\n",
              "      <th>1</th>\n",
              "      <td>26.00</td>\n",
              "      <td>739</td>\n",
              "      <td>2.0</td>\n",
              "      <td>1</td>\n",
              "      <td>Avadi</td>\n",
              "      <td>0</td>\n",
              "      <td>0</td>\n",
              "      <td>0</td>\n",
              "      <td>0</td>\n",
              "      <td>0</td>\n",
              "      <td>...</td>\n",
              "      <td>0</td>\n",
              "      <td>0</td>\n",
              "      <td>0</td>\n",
              "      <td>0</td>\n",
              "      <td>0</td>\n",
              "      <td>0</td>\n",
              "      <td>0</td>\n",
              "      <td>0</td>\n",
              "      <td>0</td>\n",
              "      <td>0</td>\n",
              "    </tr>\n",
              "    <tr>\n",
              "      <th>2</th>\n",
              "      <td>60.00</td>\n",
              "      <td>1150</td>\n",
              "      <td>3.0</td>\n",
              "      <td>3</td>\n",
              "      <td>Avadi</td>\n",
              "      <td>0</td>\n",
              "      <td>0</td>\n",
              "      <td>0</td>\n",
              "      <td>0</td>\n",
              "      <td>0</td>\n",
              "      <td>...</td>\n",
              "      <td>0</td>\n",
              "      <td>0</td>\n",
              "      <td>0</td>\n",
              "      <td>0</td>\n",
              "      <td>0</td>\n",
              "      <td>0</td>\n",
              "      <td>0</td>\n",
              "      <td>0</td>\n",
              "      <td>0</td>\n",
              "      <td>0</td>\n",
              "    </tr>\n",
              "    <tr>\n",
              "      <th>3</th>\n",
              "      <td>48.00</td>\n",
              "      <td>931</td>\n",
              "      <td>2.0</td>\n",
              "      <td>2</td>\n",
              "      <td>Avadi</td>\n",
              "      <td>0</td>\n",
              "      <td>0</td>\n",
              "      <td>0</td>\n",
              "      <td>0</td>\n",
              "      <td>0</td>\n",
              "      <td>...</td>\n",
              "      <td>0</td>\n",
              "      <td>0</td>\n",
              "      <td>0</td>\n",
              "      <td>0</td>\n",
              "      <td>0</td>\n",
              "      <td>0</td>\n",
              "      <td>0</td>\n",
              "      <td>0</td>\n",
              "      <td>0</td>\n",
              "      <td>0</td>\n",
              "    </tr>\n",
              "    <tr>\n",
              "      <th>4</th>\n",
              "      <td>20.00</td>\n",
              "      <td>317</td>\n",
              "      <td>1.0</td>\n",
              "      <td>1</td>\n",
              "      <td>Avadi</td>\n",
              "      <td>0</td>\n",
              "      <td>0</td>\n",
              "      <td>0</td>\n",
              "      <td>0</td>\n",
              "      <td>0</td>\n",
              "      <td>...</td>\n",
              "      <td>0</td>\n",
              "      <td>0</td>\n",
              "      <td>0</td>\n",
              "      <td>0</td>\n",
              "      <td>0</td>\n",
              "      <td>0</td>\n",
              "      <td>0</td>\n",
              "      <td>0</td>\n",
              "      <td>0</td>\n",
              "      <td>0</td>\n",
              "    </tr>\n",
              "    <tr>\n",
              "      <th>...</th>\n",
              "      <td>...</td>\n",
              "      <td>...</td>\n",
              "      <td>...</td>\n",
              "      <td>...</td>\n",
              "      <td>...</td>\n",
              "      <td>...</td>\n",
              "      <td>...</td>\n",
              "      <td>...</td>\n",
              "      <td>...</td>\n",
              "      <td>...</td>\n",
              "      <td>...</td>\n",
              "      <td>...</td>\n",
              "      <td>...</td>\n",
              "      <td>...</td>\n",
              "      <td>...</td>\n",
              "      <td>...</td>\n",
              "      <td>...</td>\n",
              "      <td>...</td>\n",
              "      <td>...</td>\n",
              "      <td>...</td>\n",
              "      <td>...</td>\n",
              "    </tr>\n",
              "    <tr>\n",
              "      <th>4920</th>\n",
              "      <td>52.67</td>\n",
              "      <td>878</td>\n",
              "      <td>2.0</td>\n",
              "      <td>2</td>\n",
              "      <td>Mugalivakkam</td>\n",
              "      <td>1</td>\n",
              "      <td>0</td>\n",
              "      <td>0</td>\n",
              "      <td>0</td>\n",
              "      <td>0</td>\n",
              "      <td>...</td>\n",
              "      <td>0</td>\n",
              "      <td>0</td>\n",
              "      <td>0</td>\n",
              "      <td>0</td>\n",
              "      <td>0</td>\n",
              "      <td>0</td>\n",
              "      <td>0</td>\n",
              "      <td>0</td>\n",
              "      <td>0</td>\n",
              "      <td>0</td>\n",
              "    </tr>\n",
              "    <tr>\n",
              "      <th>4921</th>\n",
              "      <td>51.64</td>\n",
              "      <td>906</td>\n",
              "      <td>2.0</td>\n",
              "      <td>3</td>\n",
              "      <td>Mugalivakkam</td>\n",
              "      <td>1</td>\n",
              "      <td>0</td>\n",
              "      <td>0</td>\n",
              "      <td>0</td>\n",
              "      <td>0</td>\n",
              "      <td>...</td>\n",
              "      <td>0</td>\n",
              "      <td>0</td>\n",
              "      <td>0</td>\n",
              "      <td>0</td>\n",
              "      <td>0</td>\n",
              "      <td>0</td>\n",
              "      <td>0</td>\n",
              "      <td>0</td>\n",
              "      <td>0</td>\n",
              "      <td>0</td>\n",
              "    </tr>\n",
              "    <tr>\n",
              "      <th>4922</th>\n",
              "      <td>75.70</td>\n",
              "      <td>1037</td>\n",
              "      <td>2.0</td>\n",
              "      <td>2</td>\n",
              "      <td>Mugalivakkam</td>\n",
              "      <td>1</td>\n",
              "      <td>0</td>\n",
              "      <td>0</td>\n",
              "      <td>0</td>\n",
              "      <td>0</td>\n",
              "      <td>...</td>\n",
              "      <td>0</td>\n",
              "      <td>0</td>\n",
              "      <td>0</td>\n",
              "      <td>0</td>\n",
              "      <td>0</td>\n",
              "      <td>0</td>\n",
              "      <td>0</td>\n",
              "      <td>0</td>\n",
              "      <td>0</td>\n",
              "      <td>0</td>\n",
              "    </tr>\n",
              "    <tr>\n",
              "      <th>4923</th>\n",
              "      <td>70.24</td>\n",
              "      <td>1171</td>\n",
              "      <td>3.0</td>\n",
              "      <td>3</td>\n",
              "      <td>Mugalivakkam</td>\n",
              "      <td>1</td>\n",
              "      <td>0</td>\n",
              "      <td>0</td>\n",
              "      <td>0</td>\n",
              "      <td>0</td>\n",
              "      <td>...</td>\n",
              "      <td>0</td>\n",
              "      <td>0</td>\n",
              "      <td>0</td>\n",
              "      <td>0</td>\n",
              "      <td>0</td>\n",
              "      <td>0</td>\n",
              "      <td>0</td>\n",
              "      <td>0</td>\n",
              "      <td>0</td>\n",
              "      <td>0</td>\n",
              "    </tr>\n",
              "    <tr>\n",
              "      <th>4924</th>\n",
              "      <td>70.24</td>\n",
              "      <td>1171</td>\n",
              "      <td>3.0</td>\n",
              "      <td>3</td>\n",
              "      <td>Mugalivakkam</td>\n",
              "      <td>1</td>\n",
              "      <td>0</td>\n",
              "      <td>0</td>\n",
              "      <td>0</td>\n",
              "      <td>0</td>\n",
              "      <td>...</td>\n",
              "      <td>0</td>\n",
              "      <td>0</td>\n",
              "      <td>0</td>\n",
              "      <td>0</td>\n",
              "      <td>0</td>\n",
              "      <td>0</td>\n",
              "      <td>0</td>\n",
              "      <td>0</td>\n",
              "      <td>0</td>\n",
              "      <td>0</td>\n",
              "    </tr>\n",
              "  </tbody>\n",
              "</table>\n",
              "<p>4925 rows × 85 columns</p>\n",
              "</div>\n",
              "      <button class=\"colab-df-convert\" onclick=\"convertToInteractive('df-ffd743d1-48ac-49da-a1bd-c2a57c7d8bec')\"\n",
              "              title=\"Convert this dataframe to an interactive table.\"\n",
              "              style=\"display:none;\">\n",
              "        \n",
              "  <svg xmlns=\"http://www.w3.org/2000/svg\" height=\"24px\"viewBox=\"0 0 24 24\"\n",
              "       width=\"24px\">\n",
              "    <path d=\"M0 0h24v24H0V0z\" fill=\"none\"/>\n",
              "    <path d=\"M18.56 5.44l.94 2.06.94-2.06 2.06-.94-2.06-.94-.94-2.06-.94 2.06-2.06.94zm-11 1L8.5 8.5l.94-2.06 2.06-.94-2.06-.94L8.5 2.5l-.94 2.06-2.06.94zm10 10l.94 2.06.94-2.06 2.06-.94-2.06-.94-.94-2.06-.94 2.06-2.06.94z\"/><path d=\"M17.41 7.96l-1.37-1.37c-.4-.4-.92-.59-1.43-.59-.52 0-1.04.2-1.43.59L10.3 9.45l-7.72 7.72c-.78.78-.78 2.05 0 2.83L4 21.41c.39.39.9.59 1.41.59.51 0 1.02-.2 1.41-.59l7.78-7.78 2.81-2.81c.8-.78.8-2.07 0-2.86zM5.41 20L4 18.59l7.72-7.72 1.47 1.35L5.41 20z\"/>\n",
              "  </svg>\n",
              "      </button>\n",
              "      \n",
              "  <style>\n",
              "    .colab-df-container {\n",
              "      display:flex;\n",
              "      flex-wrap:wrap;\n",
              "      gap: 12px;\n",
              "    }\n",
              "\n",
              "    .colab-df-convert {\n",
              "      background-color: #E8F0FE;\n",
              "      border: none;\n",
              "      border-radius: 50%;\n",
              "      cursor: pointer;\n",
              "      display: none;\n",
              "      fill: #1967D2;\n",
              "      height: 32px;\n",
              "      padding: 0 0 0 0;\n",
              "      width: 32px;\n",
              "    }\n",
              "\n",
              "    .colab-df-convert:hover {\n",
              "      background-color: #E2EBFA;\n",
              "      box-shadow: 0px 1px 2px rgba(60, 64, 67, 0.3), 0px 1px 3px 1px rgba(60, 64, 67, 0.15);\n",
              "      fill: #174EA6;\n",
              "    }\n",
              "\n",
              "    [theme=dark] .colab-df-convert {\n",
              "      background-color: #3B4455;\n",
              "      fill: #D2E3FC;\n",
              "    }\n",
              "\n",
              "    [theme=dark] .colab-df-convert:hover {\n",
              "      background-color: #434B5C;\n",
              "      box-shadow: 0px 1px 3px 1px rgba(0, 0, 0, 0.15);\n",
              "      filter: drop-shadow(0px 1px 2px rgba(0, 0, 0, 0.3));\n",
              "      fill: #FFFFFF;\n",
              "    }\n",
              "  </style>\n",
              "\n",
              "      <script>\n",
              "        const buttonEl =\n",
              "          document.querySelector('#df-ffd743d1-48ac-49da-a1bd-c2a57c7d8bec button.colab-df-convert');\n",
              "        buttonEl.style.display =\n",
              "          google.colab.kernel.accessAllowed ? 'block' : 'none';\n",
              "\n",
              "        async function convertToInteractive(key) {\n",
              "          const element = document.querySelector('#df-ffd743d1-48ac-49da-a1bd-c2a57c7d8bec');\n",
              "          const dataTable =\n",
              "            await google.colab.kernel.invokeFunction('convertToInteractive',\n",
              "                                                     [key], {});\n",
              "          if (!dataTable) return;\n",
              "\n",
              "          const docLinkHtml = 'Like what you see? Visit the ' +\n",
              "            '<a target=\"_blank\" href=https://colab.research.google.com/notebooks/data_table.ipynb>data table notebook</a>'\n",
              "            + ' to learn more about interactive tables.';\n",
              "          element.innerHTML = '';\n",
              "          dataTable['output_type'] = 'display_data';\n",
              "          await google.colab.output.renderOutput(dataTable, element);\n",
              "          const docLink = document.createElement('div');\n",
              "          docLink.innerHTML = docLinkHtml;\n",
              "          element.appendChild(docLink);\n",
              "        }\n",
              "      </script>\n",
              "    </div>\n",
              "  </div>\n",
              "  "
            ]
          },
          "metadata": {},
          "execution_count": 127
        }
      ]
    },
    {
      "cell_type": "code",
      "source": [
        "df5 = df4.drop(\"Location\",axis = 1)\n",
        "df5"
      ],
      "metadata": {
        "colab": {
          "base_uri": "https://localhost:8080/",
          "height": 540
        },
        "id": "emgwbgKLtm3i",
        "outputId": "edcf45c7-2f45-45fd-c056-b1723cc22f37"
      },
      "execution_count": 128,
      "outputs": [
        {
          "output_type": "execute_result",
          "data": {
            "text/plain": [
              "      Price  Area  Bedrooms  Bathrooms  Status  Adroit Prosper  \\\n",
              "0     25.00   728       2.0          2       0               0   \n",
              "1     26.00   739       2.0          1       0               0   \n",
              "2     60.00  1150       3.0          3       0               0   \n",
              "3     48.00   931       2.0          2       0               0   \n",
              "4     20.00   317       1.0          1       0               0   \n",
              "...     ...   ...       ...        ...     ...             ...   \n",
              "4920  52.67   878       2.0          2       1               0   \n",
              "4921  51.64   906       2.0          3       1               0   \n",
              "4922  75.70  1037       2.0          2       1               0   \n",
              "4923  70.24  1171       3.0          3       1               0   \n",
              "4924  70.24  1171       3.0          3       1               0   \n",
              "\n",
              "      Akshaya Orlando A1 To A6  Akshaya Republic  Akshaya Tango  \\\n",
              "0                            0                 0              0   \n",
              "1                            0                 0              0   \n",
              "2                            0                 0              0   \n",
              "3                            0                 0              0   \n",
              "4                            0                 0              0   \n",
              "...                        ...               ...            ...   \n",
              "4920                         0                 0              0   \n",
              "4921                         0                 0              0   \n",
              "4922                         0                 0              0   \n",
              "4923                         0                 0              0   \n",
              "4924                         0                 0              0   \n",
              "\n",
              "      Akshaya Today  ...  Thaiyur  Thalambur  Thirumazhisai  Thirumullaivoyal  \\\n",
              "0                 0  ...        0          0              0                 0   \n",
              "1                 0  ...        0          0              0                 0   \n",
              "2                 0  ...        0          0              0                 0   \n",
              "3                 0  ...        0          0              0                 0   \n",
              "4                 0  ...        0          0              0                 0   \n",
              "...             ...  ...      ...        ...            ...               ...   \n",
              "4920              0  ...        0          0              0                 0   \n",
              "4921              0  ...        0          0              0                 0   \n",
              "4922              0  ...        0          0              0                 0   \n",
              "4923              0  ...        0          0              0                 0   \n",
              "4924              0  ...        0          0              0                 0   \n",
              "\n",
              "      Thiruvanmiyur  Thoraipakkam OMR  Urapakkam  Valasaravakkam  Velachery  \\\n",
              "0                 0                 0          0               0          0   \n",
              "1                 0                 0          0               0          0   \n",
              "2                 0                 0          0               0          0   \n",
              "3                 0                 0          0               0          0   \n",
              "4                 0                 0          0               0          0   \n",
              "...             ...               ...        ...             ...        ...   \n",
              "4920              0                 0          0               0          0   \n",
              "4921              0                 0          0               0          0   \n",
              "4922              0                 0          0               0          0   \n",
              "4923              0                 0          0               0          0   \n",
              "4924              0                 0          0               0          0   \n",
              "\n",
              "      West Tambaram  \n",
              "0                 0  \n",
              "1                 0  \n",
              "2                 0  \n",
              "3                 0  \n",
              "4                 0  \n",
              "...             ...  \n",
              "4920              0  \n",
              "4921              0  \n",
              "4922              0  \n",
              "4923              0  \n",
              "4924              0  \n",
              "\n",
              "[4925 rows x 84 columns]"
            ],
            "text/html": [
              "\n",
              "  <div id=\"df-26d96bdb-06d2-47de-8417-45dea7f13ebc\">\n",
              "    <div class=\"colab-df-container\">\n",
              "      <div>\n",
              "<style scoped>\n",
              "    .dataframe tbody tr th:only-of-type {\n",
              "        vertical-align: middle;\n",
              "    }\n",
              "\n",
              "    .dataframe tbody tr th {\n",
              "        vertical-align: top;\n",
              "    }\n",
              "\n",
              "    .dataframe thead th {\n",
              "        text-align: right;\n",
              "    }\n",
              "</style>\n",
              "<table border=\"1\" class=\"dataframe\">\n",
              "  <thead>\n",
              "    <tr style=\"text-align: right;\">\n",
              "      <th></th>\n",
              "      <th>Price</th>\n",
              "      <th>Area</th>\n",
              "      <th>Bedrooms</th>\n",
              "      <th>Bathrooms</th>\n",
              "      <th>Status</th>\n",
              "      <th>Adroit Prosper</th>\n",
              "      <th>Akshaya Orlando A1 To A6</th>\n",
              "      <th>Akshaya Republic</th>\n",
              "      <th>Akshaya Tango</th>\n",
              "      <th>Akshaya Today</th>\n",
              "      <th>...</th>\n",
              "      <th>Thaiyur</th>\n",
              "      <th>Thalambur</th>\n",
              "      <th>Thirumazhisai</th>\n",
              "      <th>Thirumullaivoyal</th>\n",
              "      <th>Thiruvanmiyur</th>\n",
              "      <th>Thoraipakkam OMR</th>\n",
              "      <th>Urapakkam</th>\n",
              "      <th>Valasaravakkam</th>\n",
              "      <th>Velachery</th>\n",
              "      <th>West Tambaram</th>\n",
              "    </tr>\n",
              "  </thead>\n",
              "  <tbody>\n",
              "    <tr>\n",
              "      <th>0</th>\n",
              "      <td>25.00</td>\n",
              "      <td>728</td>\n",
              "      <td>2.0</td>\n",
              "      <td>2</td>\n",
              "      <td>0</td>\n",
              "      <td>0</td>\n",
              "      <td>0</td>\n",
              "      <td>0</td>\n",
              "      <td>0</td>\n",
              "      <td>0</td>\n",
              "      <td>...</td>\n",
              "      <td>0</td>\n",
              "      <td>0</td>\n",
              "      <td>0</td>\n",
              "      <td>0</td>\n",
              "      <td>0</td>\n",
              "      <td>0</td>\n",
              "      <td>0</td>\n",
              "      <td>0</td>\n",
              "      <td>0</td>\n",
              "      <td>0</td>\n",
              "    </tr>\n",
              "    <tr>\n",
              "      <th>1</th>\n",
              "      <td>26.00</td>\n",
              "      <td>739</td>\n",
              "      <td>2.0</td>\n",
              "      <td>1</td>\n",
              "      <td>0</td>\n",
              "      <td>0</td>\n",
              "      <td>0</td>\n",
              "      <td>0</td>\n",
              "      <td>0</td>\n",
              "      <td>0</td>\n",
              "      <td>...</td>\n",
              "      <td>0</td>\n",
              "      <td>0</td>\n",
              "      <td>0</td>\n",
              "      <td>0</td>\n",
              "      <td>0</td>\n",
              "      <td>0</td>\n",
              "      <td>0</td>\n",
              "      <td>0</td>\n",
              "      <td>0</td>\n",
              "      <td>0</td>\n",
              "    </tr>\n",
              "    <tr>\n",
              "      <th>2</th>\n",
              "      <td>60.00</td>\n",
              "      <td>1150</td>\n",
              "      <td>3.0</td>\n",
              "      <td>3</td>\n",
              "      <td>0</td>\n",
              "      <td>0</td>\n",
              "      <td>0</td>\n",
              "      <td>0</td>\n",
              "      <td>0</td>\n",
              "      <td>0</td>\n",
              "      <td>...</td>\n",
              "      <td>0</td>\n",
              "      <td>0</td>\n",
              "      <td>0</td>\n",
              "      <td>0</td>\n",
              "      <td>0</td>\n",
              "      <td>0</td>\n",
              "      <td>0</td>\n",
              "      <td>0</td>\n",
              "      <td>0</td>\n",
              "      <td>0</td>\n",
              "    </tr>\n",
              "    <tr>\n",
              "      <th>3</th>\n",
              "      <td>48.00</td>\n",
              "      <td>931</td>\n",
              "      <td>2.0</td>\n",
              "      <td>2</td>\n",
              "      <td>0</td>\n",
              "      <td>0</td>\n",
              "      <td>0</td>\n",
              "      <td>0</td>\n",
              "      <td>0</td>\n",
              "      <td>0</td>\n",
              "      <td>...</td>\n",
              "      <td>0</td>\n",
              "      <td>0</td>\n",
              "      <td>0</td>\n",
              "      <td>0</td>\n",
              "      <td>0</td>\n",
              "      <td>0</td>\n",
              "      <td>0</td>\n",
              "      <td>0</td>\n",
              "      <td>0</td>\n",
              "      <td>0</td>\n",
              "    </tr>\n",
              "    <tr>\n",
              "      <th>4</th>\n",
              "      <td>20.00</td>\n",
              "      <td>317</td>\n",
              "      <td>1.0</td>\n",
              "      <td>1</td>\n",
              "      <td>0</td>\n",
              "      <td>0</td>\n",
              "      <td>0</td>\n",
              "      <td>0</td>\n",
              "      <td>0</td>\n",
              "      <td>0</td>\n",
              "      <td>...</td>\n",
              "      <td>0</td>\n",
              "      <td>0</td>\n",
              "      <td>0</td>\n",
              "      <td>0</td>\n",
              "      <td>0</td>\n",
              "      <td>0</td>\n",
              "      <td>0</td>\n",
              "      <td>0</td>\n",
              "      <td>0</td>\n",
              "      <td>0</td>\n",
              "    </tr>\n",
              "    <tr>\n",
              "      <th>...</th>\n",
              "      <td>...</td>\n",
              "      <td>...</td>\n",
              "      <td>...</td>\n",
              "      <td>...</td>\n",
              "      <td>...</td>\n",
              "      <td>...</td>\n",
              "      <td>...</td>\n",
              "      <td>...</td>\n",
              "      <td>...</td>\n",
              "      <td>...</td>\n",
              "      <td>...</td>\n",
              "      <td>...</td>\n",
              "      <td>...</td>\n",
              "      <td>...</td>\n",
              "      <td>...</td>\n",
              "      <td>...</td>\n",
              "      <td>...</td>\n",
              "      <td>...</td>\n",
              "      <td>...</td>\n",
              "      <td>...</td>\n",
              "      <td>...</td>\n",
              "    </tr>\n",
              "    <tr>\n",
              "      <th>4920</th>\n",
              "      <td>52.67</td>\n",
              "      <td>878</td>\n",
              "      <td>2.0</td>\n",
              "      <td>2</td>\n",
              "      <td>1</td>\n",
              "      <td>0</td>\n",
              "      <td>0</td>\n",
              "      <td>0</td>\n",
              "      <td>0</td>\n",
              "      <td>0</td>\n",
              "      <td>...</td>\n",
              "      <td>0</td>\n",
              "      <td>0</td>\n",
              "      <td>0</td>\n",
              "      <td>0</td>\n",
              "      <td>0</td>\n",
              "      <td>0</td>\n",
              "      <td>0</td>\n",
              "      <td>0</td>\n",
              "      <td>0</td>\n",
              "      <td>0</td>\n",
              "    </tr>\n",
              "    <tr>\n",
              "      <th>4921</th>\n",
              "      <td>51.64</td>\n",
              "      <td>906</td>\n",
              "      <td>2.0</td>\n",
              "      <td>3</td>\n",
              "      <td>1</td>\n",
              "      <td>0</td>\n",
              "      <td>0</td>\n",
              "      <td>0</td>\n",
              "      <td>0</td>\n",
              "      <td>0</td>\n",
              "      <td>...</td>\n",
              "      <td>0</td>\n",
              "      <td>0</td>\n",
              "      <td>0</td>\n",
              "      <td>0</td>\n",
              "      <td>0</td>\n",
              "      <td>0</td>\n",
              "      <td>0</td>\n",
              "      <td>0</td>\n",
              "      <td>0</td>\n",
              "      <td>0</td>\n",
              "    </tr>\n",
              "    <tr>\n",
              "      <th>4922</th>\n",
              "      <td>75.70</td>\n",
              "      <td>1037</td>\n",
              "      <td>2.0</td>\n",
              "      <td>2</td>\n",
              "      <td>1</td>\n",
              "      <td>0</td>\n",
              "      <td>0</td>\n",
              "      <td>0</td>\n",
              "      <td>0</td>\n",
              "      <td>0</td>\n",
              "      <td>...</td>\n",
              "      <td>0</td>\n",
              "      <td>0</td>\n",
              "      <td>0</td>\n",
              "      <td>0</td>\n",
              "      <td>0</td>\n",
              "      <td>0</td>\n",
              "      <td>0</td>\n",
              "      <td>0</td>\n",
              "      <td>0</td>\n",
              "      <td>0</td>\n",
              "    </tr>\n",
              "    <tr>\n",
              "      <th>4923</th>\n",
              "      <td>70.24</td>\n",
              "      <td>1171</td>\n",
              "      <td>3.0</td>\n",
              "      <td>3</td>\n",
              "      <td>1</td>\n",
              "      <td>0</td>\n",
              "      <td>0</td>\n",
              "      <td>0</td>\n",
              "      <td>0</td>\n",
              "      <td>0</td>\n",
              "      <td>...</td>\n",
              "      <td>0</td>\n",
              "      <td>0</td>\n",
              "      <td>0</td>\n",
              "      <td>0</td>\n",
              "      <td>0</td>\n",
              "      <td>0</td>\n",
              "      <td>0</td>\n",
              "      <td>0</td>\n",
              "      <td>0</td>\n",
              "      <td>0</td>\n",
              "    </tr>\n",
              "    <tr>\n",
              "      <th>4924</th>\n",
              "      <td>70.24</td>\n",
              "      <td>1171</td>\n",
              "      <td>3.0</td>\n",
              "      <td>3</td>\n",
              "      <td>1</td>\n",
              "      <td>0</td>\n",
              "      <td>0</td>\n",
              "      <td>0</td>\n",
              "      <td>0</td>\n",
              "      <td>0</td>\n",
              "      <td>...</td>\n",
              "      <td>0</td>\n",
              "      <td>0</td>\n",
              "      <td>0</td>\n",
              "      <td>0</td>\n",
              "      <td>0</td>\n",
              "      <td>0</td>\n",
              "      <td>0</td>\n",
              "      <td>0</td>\n",
              "      <td>0</td>\n",
              "      <td>0</td>\n",
              "    </tr>\n",
              "  </tbody>\n",
              "</table>\n",
              "<p>4925 rows × 84 columns</p>\n",
              "</div>\n",
              "      <button class=\"colab-df-convert\" onclick=\"convertToInteractive('df-26d96bdb-06d2-47de-8417-45dea7f13ebc')\"\n",
              "              title=\"Convert this dataframe to an interactive table.\"\n",
              "              style=\"display:none;\">\n",
              "        \n",
              "  <svg xmlns=\"http://www.w3.org/2000/svg\" height=\"24px\"viewBox=\"0 0 24 24\"\n",
              "       width=\"24px\">\n",
              "    <path d=\"M0 0h24v24H0V0z\" fill=\"none\"/>\n",
              "    <path d=\"M18.56 5.44l.94 2.06.94-2.06 2.06-.94-2.06-.94-.94-2.06-.94 2.06-2.06.94zm-11 1L8.5 8.5l.94-2.06 2.06-.94-2.06-.94L8.5 2.5l-.94 2.06-2.06.94zm10 10l.94 2.06.94-2.06 2.06-.94-2.06-.94-.94-2.06-.94 2.06-2.06.94z\"/><path d=\"M17.41 7.96l-1.37-1.37c-.4-.4-.92-.59-1.43-.59-.52 0-1.04.2-1.43.59L10.3 9.45l-7.72 7.72c-.78.78-.78 2.05 0 2.83L4 21.41c.39.39.9.59 1.41.59.51 0 1.02-.2 1.41-.59l7.78-7.78 2.81-2.81c.8-.78.8-2.07 0-2.86zM5.41 20L4 18.59l7.72-7.72 1.47 1.35L5.41 20z\"/>\n",
              "  </svg>\n",
              "      </button>\n",
              "      \n",
              "  <style>\n",
              "    .colab-df-container {\n",
              "      display:flex;\n",
              "      flex-wrap:wrap;\n",
              "      gap: 12px;\n",
              "    }\n",
              "\n",
              "    .colab-df-convert {\n",
              "      background-color: #E8F0FE;\n",
              "      border: none;\n",
              "      border-radius: 50%;\n",
              "      cursor: pointer;\n",
              "      display: none;\n",
              "      fill: #1967D2;\n",
              "      height: 32px;\n",
              "      padding: 0 0 0 0;\n",
              "      width: 32px;\n",
              "    }\n",
              "\n",
              "    .colab-df-convert:hover {\n",
              "      background-color: #E2EBFA;\n",
              "      box-shadow: 0px 1px 2px rgba(60, 64, 67, 0.3), 0px 1px 3px 1px rgba(60, 64, 67, 0.15);\n",
              "      fill: #174EA6;\n",
              "    }\n",
              "\n",
              "    [theme=dark] .colab-df-convert {\n",
              "      background-color: #3B4455;\n",
              "      fill: #D2E3FC;\n",
              "    }\n",
              "\n",
              "    [theme=dark] .colab-df-convert:hover {\n",
              "      background-color: #434B5C;\n",
              "      box-shadow: 0px 1px 3px 1px rgba(0, 0, 0, 0.15);\n",
              "      filter: drop-shadow(0px 1px 2px rgba(0, 0, 0, 0.3));\n",
              "      fill: #FFFFFF;\n",
              "    }\n",
              "  </style>\n",
              "\n",
              "      <script>\n",
              "        const buttonEl =\n",
              "          document.querySelector('#df-26d96bdb-06d2-47de-8417-45dea7f13ebc button.colab-df-convert');\n",
              "        buttonEl.style.display =\n",
              "          google.colab.kernel.accessAllowed ? 'block' : 'none';\n",
              "\n",
              "        async function convertToInteractive(key) {\n",
              "          const element = document.querySelector('#df-26d96bdb-06d2-47de-8417-45dea7f13ebc');\n",
              "          const dataTable =\n",
              "            await google.colab.kernel.invokeFunction('convertToInteractive',\n",
              "                                                     [key], {});\n",
              "          if (!dataTable) return;\n",
              "\n",
              "          const docLinkHtml = 'Like what you see? Visit the ' +\n",
              "            '<a target=\"_blank\" href=https://colab.research.google.com/notebooks/data_table.ipynb>data table notebook</a>'\n",
              "            + ' to learn more about interactive tables.';\n",
              "          element.innerHTML = '';\n",
              "          dataTable['output_type'] = 'display_data';\n",
              "          await google.colab.output.renderOutput(dataTable, element);\n",
              "          const docLink = document.createElement('div');\n",
              "          docLink.innerHTML = docLinkHtml;\n",
              "          element.appendChild(docLink);\n",
              "        }\n",
              "      </script>\n",
              "    </div>\n",
              "  </div>\n",
              "  "
            ]
          },
          "metadata": {},
          "execution_count": 128
        }
      ]
    },
    {
      "cell_type": "code",
      "source": [
        "df5.info()"
      ],
      "metadata": {
        "colab": {
          "base_uri": "https://localhost:8080/"
        },
        "id": "VqUf9SGatyki",
        "outputId": "cbc470b9-5857-40f3-c282-8b0674587bd5"
      },
      "execution_count": 129,
      "outputs": [
        {
          "output_type": "stream",
          "name": "stdout",
          "text": [
            "<class 'pandas.core.frame.DataFrame'>\n",
            "RangeIndex: 4925 entries, 0 to 4924\n",
            "Data columns (total 84 columns):\n",
            " #   Column                                           Non-Null Count  Dtype  \n",
            "---  ------                                           --------------  -----  \n",
            " 0   Price                                            4925 non-null   float64\n",
            " 1   Area                                             4925 non-null   int64  \n",
            " 2   Bedrooms                                         4925 non-null   float64\n",
            " 3   Bathrooms                                        4925 non-null   int64  \n",
            " 4   Status                                           4925 non-null   int64  \n",
            " 5   Adroit Prosper                                   4925 non-null   uint8  \n",
            " 6   Akshaya Orlando A1 To A6                         4925 non-null   uint8  \n",
            " 7   Akshaya Republic                                 4925 non-null   uint8  \n",
            " 8   Akshaya Tango                                    4925 non-null   uint8  \n",
            " 9   Akshaya Today                                    4925 non-null   uint8  \n",
            " 10  Alliance Galleria Residences                     4925 non-null   uint8  \n",
            " 11  Altis Ashraya                                    4925 non-null   uint8  \n",
            " 12  Arun Excello Urmika                              4925 non-null   uint8  \n",
            " 13  Casa Grand Casagrand First City                  4925 non-null   uint8  \n",
            " 14  Casa Grand Utopia                                4925 non-null   uint8  \n",
            " 15  DAC Agaram                                       4925 non-null   uint8  \n",
            " 16  DAC Centum                                       4925 non-null   uint8  \n",
            " 17  DRA Centralia                                    4925 non-null   uint8  \n",
            " 18  GKS Tulive Bellevue                              4925 non-null   uint8  \n",
            " 19  Hiranandani Parks Apartment                      4925 non-null   uint8  \n",
            " 20  Independent house                                4925 non-null   uint8  \n",
            " 21  LML Prakriti Phase II                            4925 non-null   uint8  \n",
            " 22  Lifestyle Le Paradise                            4925 non-null   uint8  \n",
            " 23  Lifestyle The Podium                             4925 non-null   uint8  \n",
            " 24  Mahindra Aqualily                                4925 non-null   uint8  \n",
            " 25  Mahindra Happinest                               4925 non-null   uint8  \n",
            " 26  Radiance Suprema                                 4925 non-null   uint8  \n",
            " 27  Reputed Builder Apartment                        4925 non-null   uint8  \n",
            " 28  Risland The Ace                                  4925 non-null   uint8  \n",
            " 29  Samprathy Aura                                   4925 non-null   uint8  \n",
            " 30  Shriram Code Name Mangalam                       4925 non-null   uint8  \n",
            " 31  Shriram Park 63                                  4925 non-null   uint8  \n",
            " 32  TVS Magnific At TVS Emerald Peninsula            4925 non-null   uint8  \n",
            " 33  Tata Tata New Value Homes New Haven Ribbon Walk  4925 non-null   uint8  \n",
            " 34  Urban Amaze                                      4925 non-null   uint8  \n",
            " 35  Urbanrise Code Name Independence Day             4925 non-null   uint8  \n",
            " 36  Urbanrise Code Name New Porur                    4925 non-null   uint8  \n",
            " 37  Vijay Raja VRX 360                               4925 non-null   uint8  \n",
            " 38  Adyar                                            4925 non-null   uint8  \n",
            " 39  Ambattur                                         4925 non-null   uint8  \n",
            " 40  Avadi                                            4925 non-null   uint8  \n",
            " 41  Choolaimedu                                      4925 non-null   uint8  \n",
            " 42  Chromepet                                        4925 non-null   uint8  \n",
            " 43  East Tambaram                                    4925 non-null   uint8  \n",
            " 44  Guduvancheri                                     4925 non-null   uint8  \n",
            " 45  Kelambakkam                                      4925 non-null   uint8  \n",
            " 46  Kolathur                                         4925 non-null   uint8  \n",
            " 47  Kovilambakkam                                    4925 non-null   uint8  \n",
            " 48  Kovur                                            4925 non-null   uint8  \n",
            " 49  Madambakkam                                      4925 non-null   uint8  \n",
            " 50  Madhavaram                                       4925 non-null   uint8  \n",
            " 51  Madipakkam                                       4925 non-null   uint8  \n",
            " 52  Manapakkam                                       4925 non-null   uint8  \n",
            " 53  Mangadu                                          4925 non-null   uint8  \n",
            " 54  Medavakkam                                       4925 non-null   uint8  \n",
            " 55  Mogappair                                        4925 non-null   uint8  \n",
            " 56  Moolacheri                                       4925 non-null   uint8  \n",
            " 57  Mugalivakkam                                     4925 non-null   uint8  \n",
            " 58  Navallur                                         4925 non-null   uint8  \n",
            " 59  Oragadam                                         4925 non-null   uint8  \n",
            " 60  Padur                                            4925 non-null   uint8  \n",
            " 61  Pallavaram                                       4925 non-null   uint8  \n",
            " 62  Pallikaranai                                     4925 non-null   uint8  \n",
            " 63  Pammal                                           4925 non-null   uint8  \n",
            " 64  Perumbakkam                                      4925 non-null   uint8  \n",
            " 65  Perungalathur                                    4925 non-null   uint8  \n",
            " 66  Perungudi                                        4925 non-null   uint8  \n",
            " 67  Poonamallee                                      4925 non-null   uint8  \n",
            " 68  Porur                                            4925 non-null   uint8  \n",
            " 69  Selaiyur                                         4925 non-null   uint8  \n",
            " 70  Sholinganallur                                   4925 non-null   uint8  \n",
            " 71  Singaperumal Koil                                4925 non-null   uint8  \n",
            " 72  Siruseri                                         4925 non-null   uint8  \n",
            " 73  T Nagar                                          4925 non-null   uint8  \n",
            " 74  Thaiyur                                          4925 non-null   uint8  \n",
            " 75  Thalambur                                        4925 non-null   uint8  \n",
            " 76  Thirumazhisai                                    4925 non-null   uint8  \n",
            " 77  Thirumullaivoyal                                 4925 non-null   uint8  \n",
            " 78  Thiruvanmiyur                                    4925 non-null   uint8  \n",
            " 79  Thoraipakkam OMR                                 4925 non-null   uint8  \n",
            " 80  Urapakkam                                        4925 non-null   uint8  \n",
            " 81  Valasaravakkam                                   4925 non-null   uint8  \n",
            " 82  Velachery                                        4925 non-null   uint8  \n",
            " 83  West Tambaram                                    4925 non-null   uint8  \n",
            "dtypes: float64(2), int64(3), uint8(79)\n",
            "memory usage: 572.5 KB\n"
          ]
        }
      ]
    },
    {
      "cell_type": "code",
      "source": [
        "x = df5.drop('Price',axis = 1)\n",
        "y = df5['Price']"
      ],
      "metadata": {
        "id": "-3sKVrmwt1nz"
      },
      "execution_count": 130,
      "outputs": []
    },
    {
      "cell_type": "code",
      "source": [
        "x_train,x_test,y_train,y_test = train_test_split(x,y,random_state = 0,test_size = 0.2)"
      ],
      "metadata": {
        "id": "RlMZyouPuBnK"
      },
      "execution_count": 131,
      "outputs": []
    },
    {
      "cell_type": "code",
      "source": [
        ""
      ],
      "metadata": {
        "id": "uJg8XL0cuS-q"
      },
      "execution_count": 131,
      "outputs": []
    },
    {
      "cell_type": "markdown",
      "source": [
        "#Model building"
      ],
      "metadata": {
        "id": "RL9C7XVtbiGX"
      }
    },
    {
      "cell_type": "code",
      "source": [
        "def pred_result(model):\n",
        "  y_pred = model.predict(x_test)\n",
        "  mse_ = mse(y_pred,y_test)\n",
        "  r2 = r2_score(y_pred,y_test)\n",
        "  return y_pred,mse_,r2"
      ],
      "metadata": {
        "id": "mLb9Ol8hugdJ"
      },
      "execution_count": 132,
      "outputs": []
    },
    {
      "cell_type": "code",
      "source": [
        "def display(r2,mse_):\n",
        "  print(\"Accuracy : {:.2f}%\".format(r2*100))\n",
        "  print(\"MSE : {:.6f}\".format(mse_))"
      ],
      "metadata": {
        "id": "56Dd6VkDwZgy"
      },
      "execution_count": 133,
      "outputs": []
    },
    {
      "cell_type": "code",
      "source": [
        "scale = MinMaxScaler()\n",
        "x_train = scale.fit_transform(x_train)\n",
        "x_test = scale.transform(x_test)\n",
        "x_train"
      ],
      "metadata": {
        "id": "nr4VwHozyIEw",
        "colab": {
          "base_uri": "https://localhost:8080/"
        },
        "outputId": "dd0bc96f-8705-463d-9baf-f8ee1f3af291"
      },
      "execution_count": 134,
      "outputs": [
        {
          "output_type": "execute_result",
          "data": {
            "text/plain": [
              "array([[0.15908574, 0.22222222, 0.25      , ..., 0.        , 0.        ,\n",
              "        0.        ],\n",
              "       [0.10438936, 0.11111111, 0.125     , ..., 0.        , 0.        ,\n",
              "        0.        ],\n",
              "       [0.10666363, 0.22222222, 0.125     , ..., 0.        , 0.        ,\n",
              "        0.        ],\n",
              "       ...,\n",
              "       [0.09597453, 0.22222222, 0.125     , ..., 0.        , 0.        ,\n",
              "        0.        ],\n",
              "       [0.08323857, 0.11111111, 0.125     , ..., 0.        , 0.        ,\n",
              "        0.        ],\n",
              "       [0.11030248, 0.11111111, 0.125     , ..., 0.        , 0.        ,\n",
              "        0.        ]])"
            ]
          },
          "metadata": {},
          "execution_count": 134
        }
      ]
    },
    {
      "cell_type": "code",
      "source": [
        "x_train.shape"
      ],
      "metadata": {
        "colab": {
          "base_uri": "https://localhost:8080/"
        },
        "id": "q7p5Z64xK9To",
        "outputId": "da5f36b0-27bb-442a-cfb8-fe6cc202cfd6"
      },
      "execution_count": 135,
      "outputs": [
        {
          "output_type": "execute_result",
          "data": {
            "text/plain": [
              "(3940, 83)"
            ]
          },
          "metadata": {},
          "execution_count": 135
        }
      ]
    },
    {
      "cell_type": "code",
      "source": [
        "def cross_score(model,n):\n",
        "  acc = cross_val_score(estimator = model,X = x_train,y = y_train,cv = n)\n",
        "  #print(acc)\n",
        "  print(\"Accuracy : {:.2f}%\".format(acc.mean()*100))\n",
        "  print(\"SD : {:.2f}%\".format(acc.std()*100))"
      ],
      "metadata": {
        "id": "sqie38IfZjfR"
      },
      "execution_count": 136,
      "outputs": []
    },
    {
      "cell_type": "code",
      "source": [
        "x.columns"
      ],
      "metadata": {
        "colab": {
          "base_uri": "https://localhost:8080/"
        },
        "id": "fle-Yf5AfJah",
        "outputId": "5611eea6-2c65-4621-e37a-2742f6d4d5a8"
      },
      "execution_count": 137,
      "outputs": [
        {
          "output_type": "execute_result",
          "data": {
            "text/plain": [
              "Index(['Area', 'Bedrooms', 'Bathrooms', 'Status', 'Adroit Prosper',\n",
              "       'Akshaya Orlando A1 To A6', 'Akshaya Republic', 'Akshaya Tango',\n",
              "       'Akshaya Today', 'Alliance Galleria Residences', 'Altis Ashraya',\n",
              "       'Arun Excello Urmika', 'Casa Grand Casagrand First City',\n",
              "       'Casa Grand Utopia', 'DAC Agaram', 'DAC Centum', 'DRA Centralia',\n",
              "       'GKS Tulive Bellevue', 'Hiranandani Parks Apartment',\n",
              "       'Independent house', 'LML Prakriti Phase II', 'Lifestyle Le Paradise',\n",
              "       'Lifestyle The Podium', 'Mahindra Aqualily ', 'Mahindra Happinest',\n",
              "       'Radiance Suprema', 'Reputed Builder Apartment', 'Risland The Ace',\n",
              "       'Samprathy Aura', 'Shriram Code Name Mangalam', 'Shriram Park 63',\n",
              "       'TVS Magnific At TVS Emerald Peninsula',\n",
              "       'Tata Tata New Value Homes New Haven Ribbon Walk', 'Urban Amaze',\n",
              "       'Urbanrise Code Name Independence Day', 'Urbanrise Code Name New Porur',\n",
              "       'Vijay Raja VRX 360', 'Adyar', 'Ambattur', 'Avadi', 'Choolaimedu',\n",
              "       'Chromepet', 'East Tambaram', 'Guduvancheri', 'Kelambakkam', 'Kolathur',\n",
              "       'Kovilambakkam', 'Kovur', 'Madambakkam', 'Madhavaram', 'Madipakkam',\n",
              "       'Manapakkam', 'Mangadu', 'Medavakkam', 'Mogappair', 'Moolacheri',\n",
              "       'Mugalivakkam', 'Navallur', 'Oragadam', 'Padur', 'Pallavaram',\n",
              "       'Pallikaranai', 'Pammal', 'Perumbakkam', 'Perungalathur', 'Perungudi',\n",
              "       'Poonamallee', 'Porur', 'Selaiyur', 'Sholinganallur',\n",
              "       'Singaperumal Koil', 'Siruseri', 'T Nagar', 'Thaiyur', 'Thalambur',\n",
              "       'Thirumazhisai', 'Thirumullaivoyal', 'Thiruvanmiyur',\n",
              "       'Thoraipakkam OMR', 'Urapakkam', 'Valasaravakkam', 'Velachery',\n",
              "       'West Tambaram'],\n",
              "      dtype='object')"
            ]
          },
          "metadata": {},
          "execution_count": 137
        }
      ]
    },
    {
      "cell_type": "code",
      "source": [
        "np.where(x.columns == 'Bedrooms')[0][0]\n"
      ],
      "metadata": {
        "id": "Bor4QAl7flov",
        "colab": {
          "base_uri": "https://localhost:8080/"
        },
        "outputId": "6b0236f8-901d-42e7-9a8a-7bf0c6315958"
      },
      "execution_count": 174,
      "outputs": [
        {
          "output_type": "execute_result",
          "data": {
            "text/plain": [
              "1"
            ]
          },
          "metadata": {},
          "execution_count": 174
        }
      ]
    },
    {
      "cell_type": "code",
      "source": [
        "x.columns == \"Bedrooms\""
      ],
      "metadata": {
        "colab": {
          "base_uri": "https://localhost:8080/"
        },
        "id": "LzekpbFR5zvr",
        "outputId": "a28c1080-051e-46d3-bc6c-bdceb81568de"
      },
      "execution_count": 139,
      "outputs": [
        {
          "output_type": "execute_result",
          "data": {
            "text/plain": [
              "array([False,  True, False, False, False, False, False, False, False,\n",
              "       False, False, False, False, False, False, False, False, False,\n",
              "       False, False, False, False, False, False, False, False, False,\n",
              "       False, False, False, False, False, False, False, False, False,\n",
              "       False, False, False, False, False, False, False, False, False,\n",
              "       False, False, False, False, False, False, False, False, False,\n",
              "       False, False, False, False, False, False, False, False, False,\n",
              "       False, False, False, False, False, False, False, False, False,\n",
              "       False, False, False, False, False, False, False, False, False,\n",
              "       False, False])"
            ]
          },
          "metadata": {},
          "execution_count": 139
        }
      ]
    },
    {
      "cell_type": "code",
      "source": [
        "np.zeros(len(x.columns))"
      ],
      "metadata": {
        "colab": {
          "base_uri": "https://localhost:8080/"
        },
        "id": "TlTRr-0ggGoy",
        "outputId": "c56c153e-3d51-4c9c-c565-98eff2fbd4a6"
      },
      "execution_count": 140,
      "outputs": [
        {
          "output_type": "execute_result",
          "data": {
            "text/plain": [
              "array([0., 0., 0., 0., 0., 0., 0., 0., 0., 0., 0., 0., 0., 0., 0., 0., 0.,\n",
              "       0., 0., 0., 0., 0., 0., 0., 0., 0., 0., 0., 0., 0., 0., 0., 0., 0.,\n",
              "       0., 0., 0., 0., 0., 0., 0., 0., 0., 0., 0., 0., 0., 0., 0., 0., 0.,\n",
              "       0., 0., 0., 0., 0., 0., 0., 0., 0., 0., 0., 0., 0., 0., 0., 0., 0.,\n",
              "       0., 0., 0., 0., 0., 0., 0., 0., 0., 0., 0., 0., 0., 0., 0.])"
            ]
          },
          "metadata": {},
          "execution_count": 140
        }
      ]
    },
    {
      "cell_type": "code",
      "source": [
        "len(x.columns)\n"
      ],
      "metadata": {
        "id": "entFTqK1VOlI",
        "colab": {
          "base_uri": "https://localhost:8080/"
        },
        "outputId": "895783e6-915a-41d9-ce56-f293ddcef714"
      },
      "execution_count": 141,
      "outputs": [
        {
          "output_type": "execute_result",
          "data": {
            "text/plain": [
              "83"
            ]
          },
          "metadata": {},
          "execution_count": 141
        }
      ]
    },
    {
      "cell_type": "code",
      "source": [
        "a = x.columns == \"Independent house\"\n",
        "a.any()"
      ],
      "metadata": {
        "colab": {
          "base_uri": "https://localhost:8080/"
        },
        "id": "ZJ4pa-N6KHGh",
        "outputId": "a665a427-5ab2-4130-c989-12cecf4826b5"
      },
      "execution_count": 180,
      "outputs": [
        {
          "output_type": "execute_result",
          "data": {
            "text/plain": [
              "True"
            ]
          },
          "metadata": {},
          "execution_count": 180
        }
      ]
    },
    {
      "cell_type": "code",
      "source": [
        "def price_predict(location,area,bed,bath,status,builder):\n",
        "  loc = x.columns == location\n",
        "  bu = x.columns == builder\n",
        "  \n",
        "  if loc.any():\n",
        "    location_index = np.where(x.columns == location)[0][0]\n",
        "  else:\n",
        "    location_index = 0\n",
        "\n",
        "  if bu.any():   \n",
        "    builder_index = np.where(x.columns == builder)[0][0]\n",
        "  else:\n",
        "    builder_index = 0\n",
        "\n",
        "  y_pred = np.zeros(len(x.columns))\n",
        "  y_pred[0] = area\n",
        "  y_pred[1] = bed\n",
        "  y_pred[2] = bath\n",
        "  y_pred[3] = status\n",
        "  if location_index > 0:\n",
        "    y_pred[location_index] = 1\n",
        "  if builder_index > 0:\n",
        "    y_pred[builder_index] = 1\n",
        "\n",
        "  \n",
        "\n",
        "  return lin_model.predict(scale.transform([y_pred]))[0],y_pred\n",
        "\n"
      ],
      "metadata": {
        "id": "uT0QJXaxurRK"
      },
      "execution_count": 205,
      "outputs": []
    },
    {
      "cell_type": "code",
      "source": [
        "rand_score,a= price_predict(\"Avadi\",1200,3,3,status = 0,builder = 'Independent house')\n",
        "print(rand_score)"
      ],
      "metadata": {
        "id": "dn2ClrRDuyp0",
        "colab": {
          "base_uri": "https://localhost:8080/"
        },
        "outputId": "90eb9f5d-9519-4271-e808-8affe0967e14"
      },
      "execution_count": 217,
      "outputs": [
        {
          "output_type": "stream",
          "name": "stdout",
          "text": [
            "54.664662178753446\n"
          ]
        },
        {
          "output_type": "stream",
          "name": "stderr",
          "text": [
            "/usr/local/lib/python3.7/dist-packages/sklearn/base.py:451: UserWarning: X does not have valid feature names, but MinMaxScaler was fitted with feature names\n",
            "  \"X does not have valid feature names, but\"\n"
          ]
        }
      ]
    },
    {
      "cell_type": "code",
      "source": [
        "print(a)"
      ],
      "metadata": {
        "colab": {
          "base_uri": "https://localhost:8080/"
        },
        "id": "nHJayMmfMgJJ",
        "outputId": "31d748e2-6faa-4261-8ef4-d18d19e37db9"
      },
      "execution_count": 218,
      "outputs": [
        {
          "output_type": "stream",
          "name": "stdout",
          "text": [
            "[1.2e+03 3.0e+00 3.0e+00 0.0e+00 0.0e+00 0.0e+00 0.0e+00 0.0e+00 0.0e+00\n",
            " 0.0e+00 0.0e+00 0.0e+00 0.0e+00 0.0e+00 0.0e+00 0.0e+00 0.0e+00 0.0e+00\n",
            " 0.0e+00 1.0e+00 0.0e+00 0.0e+00 0.0e+00 0.0e+00 0.0e+00 0.0e+00 0.0e+00\n",
            " 0.0e+00 0.0e+00 0.0e+00 0.0e+00 0.0e+00 0.0e+00 0.0e+00 0.0e+00 0.0e+00\n",
            " 0.0e+00 0.0e+00 0.0e+00 1.0e+00 0.0e+00 0.0e+00 0.0e+00 0.0e+00 0.0e+00\n",
            " 0.0e+00 0.0e+00 0.0e+00 0.0e+00 0.0e+00 0.0e+00 0.0e+00 0.0e+00 0.0e+00\n",
            " 0.0e+00 0.0e+00 0.0e+00 0.0e+00 0.0e+00 0.0e+00 0.0e+00 0.0e+00 0.0e+00\n",
            " 0.0e+00 0.0e+00 0.0e+00 0.0e+00 0.0e+00 0.0e+00 0.0e+00 0.0e+00 0.0e+00\n",
            " 0.0e+00 0.0e+00 0.0e+00 0.0e+00 0.0e+00 0.0e+00 0.0e+00 0.0e+00 0.0e+00\n",
            " 0.0e+00 0.0e+00]\n"
          ]
        }
      ]
    },
    {
      "cell_type": "code",
      "source": [
        ""
      ],
      "metadata": {
        "id": "RuTmEvrvLUAp"
      },
      "execution_count": 193,
      "outputs": []
    },
    {
      "cell_type": "code",
      "source": [
        ""
      ],
      "metadata": {
        "id": "xCSxSssQLUEg"
      },
      "execution_count": null,
      "outputs": []
    },
    {
      "cell_type": "code",
      "source": [
        "lin_model = LinearRegression()\n",
        "lin_model.fit(x_train,y_train)\n",
        "cross_score(lin_model,10)"
      ],
      "metadata": {
        "colab": {
          "base_uri": "https://localhost:8080/"
        },
        "id": "MbcT-qdYbjoy",
        "outputId": "e72cf223-8d85-4e98-9ca4-8088e9fb13c0"
      },
      "execution_count": 144,
      "outputs": [
        {
          "output_type": "stream",
          "name": "stdout",
          "text": [
            "Accuracy : 85.66%\n",
            "SD : 4.08%\n"
          ]
        }
      ]
    },
    {
      "cell_type": "code",
      "source": [
        "lin_model.coef_"
      ],
      "metadata": {
        "colab": {
          "base_uri": "https://localhost:8080/"
        },
        "id": "zXxv5goGrdiG",
        "outputId": "9becfccb-e1e0-410b-b3a9-1b33f45d9eff"
      },
      "execution_count": 145,
      "outputs": [
        {
          "output_type": "execute_result",
          "data": {
            "text/plain": [
              "array([ 8.53297665e+02, -1.12407482e+02,  1.47321614e+01,  9.93466969e+00,\n",
              "       -7.78542393e+00, -1.00504219e+00, -4.71117369e-01,  4.03943735e+01,\n",
              "        9.07153571e-01,  3.03239448e+01,  8.81688304e+00,  5.72507401e+00,\n",
              "       -2.12558597e+01, -3.10066900e+01, -9.83128233e+00,  4.33980200e+00,\n",
              "       -1.59826192e+01, -2.58268098e+00, -4.50458901e+01, -8.04699487e-01,\n",
              "       -1.76227502e+01, -5.75757084e+00,  1.68192980e+02, -3.30726451e+01,\n",
              "        9.67621360e+00, -5.32405168e+00,  1.86820965e+00, -3.09657906e+01,\n",
              "       -1.60360491e+01, -1.03785166e-01, -2.67315544e+00, -6.46498114e-01,\n",
              "        1.56122676e+01,  1.22064974e+01,  2.22096111e+01, -1.06419800e+01,\n",
              "        1.06572413e+01,  1.52289174e+02,  1.56256048e+01,  4.35368399e+00,\n",
              "        5.94797033e+01,  1.43684174e+01,  1.87714786e+01,  7.86360021e+00,\n",
              "       -3.10058857e+00,  1.56500144e+01,  1.28338698e+01,  1.26919871e+01,\n",
              "        9.64065607e+00,  7.19344149e+00,  2.17759746e+01,  2.00253766e+01,\n",
              "        9.92787992e+00,  5.35372188e+00,  2.44690547e+01, -1.84114200e+00,\n",
              "        1.19500979e+01,  6.60784320e+00,  2.67271181e+00, -7.23706610e+00,\n",
              "        1.61864097e+01,  7.79875045e+00,  1.04978537e+01, -1.13647037e+00,\n",
              "        6.66005173e+00,  5.65051595e+01,  6.69780010e+00,  2.06769352e+01,\n",
              "        1.57068849e+01,  1.48148843e+01, -7.06345099e+00, -7.32165279e+00,\n",
              "        1.27284281e+02, -5.53324979e+00, -3.09948259e+00,  1.22625445e+01,\n",
              "        9.83855001e+00,  8.77784294e+01,  2.50278074e+01,  9.77455759e-01,\n",
              "        3.99601285e+01,  4.81792836e+01,  1.27351272e+01])"
            ]
          },
          "metadata": {},
          "execution_count": 145
        }
      ]
    },
    {
      "cell_type": "code",
      "source": [
        "coeff_df = pd.DataFrame(lin_model.coef_,x.columns,columns=[\"Coefficient\"])\n",
        "coeff_df"
      ],
      "metadata": {
        "id": "M8z2MYV7vTTx",
        "colab": {
          "base_uri": "https://localhost:8080/",
          "height": 424
        },
        "outputId": "b1f5be28-7135-4341-c9ab-c24349507b24"
      },
      "execution_count": 146,
      "outputs": [
        {
          "output_type": "execute_result",
          "data": {
            "text/plain": [
              "                  Coefficient\n",
              "Area               853.297665\n",
              "Bedrooms          -112.407482\n",
              "Bathrooms           14.732161\n",
              "Status               9.934670\n",
              "Adroit Prosper      -7.785424\n",
              "...                       ...\n",
              "Thoraipakkam OMR    25.027807\n",
              "Urapakkam            0.977456\n",
              "Valasaravakkam      39.960128\n",
              "Velachery           48.179284\n",
              "West Tambaram       12.735127\n",
              "\n",
              "[83 rows x 1 columns]"
            ],
            "text/html": [
              "\n",
              "  <div id=\"df-3275ab2b-8ad3-46ab-8d91-76f38bccf5b5\">\n",
              "    <div class=\"colab-df-container\">\n",
              "      <div>\n",
              "<style scoped>\n",
              "    .dataframe tbody tr th:only-of-type {\n",
              "        vertical-align: middle;\n",
              "    }\n",
              "\n",
              "    .dataframe tbody tr th {\n",
              "        vertical-align: top;\n",
              "    }\n",
              "\n",
              "    .dataframe thead th {\n",
              "        text-align: right;\n",
              "    }\n",
              "</style>\n",
              "<table border=\"1\" class=\"dataframe\">\n",
              "  <thead>\n",
              "    <tr style=\"text-align: right;\">\n",
              "      <th></th>\n",
              "      <th>Coefficient</th>\n",
              "    </tr>\n",
              "  </thead>\n",
              "  <tbody>\n",
              "    <tr>\n",
              "      <th>Area</th>\n",
              "      <td>853.297665</td>\n",
              "    </tr>\n",
              "    <tr>\n",
              "      <th>Bedrooms</th>\n",
              "      <td>-112.407482</td>\n",
              "    </tr>\n",
              "    <tr>\n",
              "      <th>Bathrooms</th>\n",
              "      <td>14.732161</td>\n",
              "    </tr>\n",
              "    <tr>\n",
              "      <th>Status</th>\n",
              "      <td>9.934670</td>\n",
              "    </tr>\n",
              "    <tr>\n",
              "      <th>Adroit Prosper</th>\n",
              "      <td>-7.785424</td>\n",
              "    </tr>\n",
              "    <tr>\n",
              "      <th>...</th>\n",
              "      <td>...</td>\n",
              "    </tr>\n",
              "    <tr>\n",
              "      <th>Thoraipakkam OMR</th>\n",
              "      <td>25.027807</td>\n",
              "    </tr>\n",
              "    <tr>\n",
              "      <th>Urapakkam</th>\n",
              "      <td>0.977456</td>\n",
              "    </tr>\n",
              "    <tr>\n",
              "      <th>Valasaravakkam</th>\n",
              "      <td>39.960128</td>\n",
              "    </tr>\n",
              "    <tr>\n",
              "      <th>Velachery</th>\n",
              "      <td>48.179284</td>\n",
              "    </tr>\n",
              "    <tr>\n",
              "      <th>West Tambaram</th>\n",
              "      <td>12.735127</td>\n",
              "    </tr>\n",
              "  </tbody>\n",
              "</table>\n",
              "<p>83 rows × 1 columns</p>\n",
              "</div>\n",
              "      <button class=\"colab-df-convert\" onclick=\"convertToInteractive('df-3275ab2b-8ad3-46ab-8d91-76f38bccf5b5')\"\n",
              "              title=\"Convert this dataframe to an interactive table.\"\n",
              "              style=\"display:none;\">\n",
              "        \n",
              "  <svg xmlns=\"http://www.w3.org/2000/svg\" height=\"24px\"viewBox=\"0 0 24 24\"\n",
              "       width=\"24px\">\n",
              "    <path d=\"M0 0h24v24H0V0z\" fill=\"none\"/>\n",
              "    <path d=\"M18.56 5.44l.94 2.06.94-2.06 2.06-.94-2.06-.94-.94-2.06-.94 2.06-2.06.94zm-11 1L8.5 8.5l.94-2.06 2.06-.94-2.06-.94L8.5 2.5l-.94 2.06-2.06.94zm10 10l.94 2.06.94-2.06 2.06-.94-2.06-.94-.94-2.06-.94 2.06-2.06.94z\"/><path d=\"M17.41 7.96l-1.37-1.37c-.4-.4-.92-.59-1.43-.59-.52 0-1.04.2-1.43.59L10.3 9.45l-7.72 7.72c-.78.78-.78 2.05 0 2.83L4 21.41c.39.39.9.59 1.41.59.51 0 1.02-.2 1.41-.59l7.78-7.78 2.81-2.81c.8-.78.8-2.07 0-2.86zM5.41 20L4 18.59l7.72-7.72 1.47 1.35L5.41 20z\"/>\n",
              "  </svg>\n",
              "      </button>\n",
              "      \n",
              "  <style>\n",
              "    .colab-df-container {\n",
              "      display:flex;\n",
              "      flex-wrap:wrap;\n",
              "      gap: 12px;\n",
              "    }\n",
              "\n",
              "    .colab-df-convert {\n",
              "      background-color: #E8F0FE;\n",
              "      border: none;\n",
              "      border-radius: 50%;\n",
              "      cursor: pointer;\n",
              "      display: none;\n",
              "      fill: #1967D2;\n",
              "      height: 32px;\n",
              "      padding: 0 0 0 0;\n",
              "      width: 32px;\n",
              "    }\n",
              "\n",
              "    .colab-df-convert:hover {\n",
              "      background-color: #E2EBFA;\n",
              "      box-shadow: 0px 1px 2px rgba(60, 64, 67, 0.3), 0px 1px 3px 1px rgba(60, 64, 67, 0.15);\n",
              "      fill: #174EA6;\n",
              "    }\n",
              "\n",
              "    [theme=dark] .colab-df-convert {\n",
              "      background-color: #3B4455;\n",
              "      fill: #D2E3FC;\n",
              "    }\n",
              "\n",
              "    [theme=dark] .colab-df-convert:hover {\n",
              "      background-color: #434B5C;\n",
              "      box-shadow: 0px 1px 3px 1px rgba(0, 0, 0, 0.15);\n",
              "      filter: drop-shadow(0px 1px 2px rgba(0, 0, 0, 0.3));\n",
              "      fill: #FFFFFF;\n",
              "    }\n",
              "  </style>\n",
              "\n",
              "      <script>\n",
              "        const buttonEl =\n",
              "          document.querySelector('#df-3275ab2b-8ad3-46ab-8d91-76f38bccf5b5 button.colab-df-convert');\n",
              "        buttonEl.style.display =\n",
              "          google.colab.kernel.accessAllowed ? 'block' : 'none';\n",
              "\n",
              "        async function convertToInteractive(key) {\n",
              "          const element = document.querySelector('#df-3275ab2b-8ad3-46ab-8d91-76f38bccf5b5');\n",
              "          const dataTable =\n",
              "            await google.colab.kernel.invokeFunction('convertToInteractive',\n",
              "                                                     [key], {});\n",
              "          if (!dataTable) return;\n",
              "\n",
              "          const docLinkHtml = 'Like what you see? Visit the ' +\n",
              "            '<a target=\"_blank\" href=https://colab.research.google.com/notebooks/data_table.ipynb>data table notebook</a>'\n",
              "            + ' to learn more about interactive tables.';\n",
              "          element.innerHTML = '';\n",
              "          dataTable['output_type'] = 'display_data';\n",
              "          await google.colab.output.renderOutput(dataTable, element);\n",
              "          const docLink = document.createElement('div');\n",
              "          docLink.innerHTML = docLinkHtml;\n",
              "          element.appendChild(docLink);\n",
              "        }\n",
              "      </script>\n",
              "    </div>\n",
              "  </div>\n",
              "  "
            ]
          },
          "metadata": {},
          "execution_count": 146
        }
      ]
    },
    {
      "cell_type": "code",
      "source": [
        ""
      ],
      "metadata": {
        "id": "rEp6u6rOvXvC"
      },
      "execution_count": null,
      "outputs": []
    },
    {
      "cell_type": "code",
      "source": [
        "tree_model = DecisionTreeRegressor()\n",
        "tree_model.fit(x_train,y_train)\n",
        "cross_score(tree_model,10)"
      ],
      "metadata": {
        "colab": {
          "base_uri": "https://localhost:8080/"
        },
        "id": "4Ne2bNC4yNBC",
        "outputId": "8e18faeb-1f5d-49f0-81d8-a2ca9232baab"
      },
      "execution_count": 147,
      "outputs": [
        {
          "output_type": "stream",
          "name": "stdout",
          "text": [
            "Accuracy : 85.92%\n",
            "SD : 7.71%\n"
          ]
        }
      ]
    },
    {
      "cell_type": "code",
      "source": [
        ""
      ],
      "metadata": {
        "id": "WTVXs60a8em4"
      },
      "execution_count": null,
      "outputs": []
    },
    {
      "cell_type": "code",
      "source": [
        "#y_pred,mse_,r2 = pred_result(tree_model)"
      ],
      "metadata": {
        "id": "X1C5HEavyXvY"
      },
      "execution_count": null,
      "outputs": []
    },
    {
      "cell_type": "markdown",
      "source": [
        ""
      ],
      "metadata": {
        "id": "XO0Cfglu12tN"
      }
    },
    {
      "cell_type": "code",
      "source": [
        "#tree_model.score(x_test,y_test)"
      ],
      "metadata": {
        "id": "iN72oYh1zRPn"
      },
      "execution_count": null,
      "outputs": []
    },
    {
      "cell_type": "code",
      "source": [
        "#display(r2,mse_)"
      ],
      "metadata": {
        "id": "xq5bv6-5ye54"
      },
      "execution_count": null,
      "outputs": []
    },
    {
      "cell_type": "code",
      "source": [
        ""
      ],
      "metadata": {
        "id": "A7-SVXgl2oFA"
      },
      "execution_count": null,
      "outputs": []
    },
    {
      "cell_type": "code",
      "source": [
        "svm_model = SVR(kernel = \"rbf\")\n",
        "svm_model.fit(x_train,y_train)\n",
        "cross_score(svm_model,10)"
      ],
      "metadata": {
        "colab": {
          "base_uri": "https://localhost:8080/"
        },
        "id": "IT1SMa7C2oQ2",
        "outputId": "33f719e2-491c-4fdc-bd80-2574ded5f195"
      },
      "execution_count": 148,
      "outputs": [
        {
          "output_type": "stream",
          "name": "stdout",
          "text": [
            "Accuracy : 20.72%\n",
            "SD : 4.58%\n"
          ]
        }
      ]
    },
    {
      "cell_type": "code",
      "source": [
        "#y_pred,mse_,r2 = pred_result(svm_model)"
      ],
      "metadata": {
        "id": "iCZqCZ_z318l"
      },
      "execution_count": null,
      "outputs": []
    },
    {
      "cell_type": "code",
      "source": [
        "#svm_model.score(x_test,y_test)"
      ],
      "metadata": {
        "id": "HDkFFsdE37Kd"
      },
      "execution_count": null,
      "outputs": []
    },
    {
      "cell_type": "code",
      "source": [
        "#display(r2,mse_)"
      ],
      "metadata": {
        "id": "NTwtOThZ4WWW"
      },
      "execution_count": null,
      "outputs": []
    },
    {
      "cell_type": "code",
      "source": [
        ""
      ],
      "metadata": {
        "id": "TLrdvq-9zVTw"
      },
      "execution_count": null,
      "outputs": []
    },
    {
      "cell_type": "code",
      "source": [
        "rand_forest = RandomForestRegressor(n_estimators = 11)\n",
        "rand_forest.fit(x_train,y_train)\n",
        "cross_score(rand_forest,10)"
      ],
      "metadata": {
        "colab": {
          "base_uri": "https://localhost:8080/"
        },
        "id": "fSNvkxlKzVv_",
        "outputId": "5e798dc4-04dc-49bf-ffe2-26be61b83d98"
      },
      "execution_count": 149,
      "outputs": [
        {
          "output_type": "stream",
          "name": "stdout",
          "text": [
            "Accuracy : 87.31%\n",
            "SD : 7.72%\n"
          ]
        }
      ]
    },
    {
      "cell_type": "code",
      "source": [
        "#y_pred,mse_,r2 = pred_result(rand_forest)"
      ],
      "metadata": {
        "id": "fPQ9jmC_0gkP"
      },
      "execution_count": null,
      "outputs": []
    },
    {
      "cell_type": "code",
      "source": [
        "#rand_forest.score(x_test,y_test)"
      ],
      "metadata": {
        "id": "8AXtkXex0o4H"
      },
      "execution_count": null,
      "outputs": []
    },
    {
      "cell_type": "code",
      "source": [
        ""
      ],
      "metadata": {
        "id": "7uX8uk-AcySD"
      },
      "execution_count": null,
      "outputs": []
    },
    {
      "cell_type": "code",
      "source": [
        "_#display(r2,mse_)"
      ],
      "metadata": {
        "id": "x9AS8INh1ExH"
      },
      "execution_count": null,
      "outputs": []
    },
    {
      "cell_type": "code",
      "source": [
        "df5[0:1]"
      ],
      "metadata": {
        "colab": {
          "base_uri": "https://localhost:8080/",
          "height": 226
        },
        "id": "KDBl9DusMwf5",
        "outputId": "7fddcbb3-04a7-4aef-818e-f74d9e78c00d"
      },
      "execution_count": 150,
      "outputs": [
        {
          "output_type": "execute_result",
          "data": {
            "text/plain": [
              "   Price  Area  Bedrooms  Bathrooms  Status  Adroit Prosper  \\\n",
              "0   25.0   728       2.0          2       0               0   \n",
              "\n",
              "   Akshaya Orlando A1 To A6  Akshaya Republic  Akshaya Tango  Akshaya Today  \\\n",
              "0                         0                 0              0              0   \n",
              "\n",
              "   ...  Thaiyur  Thalambur  Thirumazhisai  Thirumullaivoyal  Thiruvanmiyur  \\\n",
              "0  ...        0          0              0                 0              0   \n",
              "\n",
              "   Thoraipakkam OMR  Urapakkam  Valasaravakkam  Velachery  West Tambaram  \n",
              "0                 0          0               0          0              0  \n",
              "\n",
              "[1 rows x 84 columns]"
            ],
            "text/html": [
              "\n",
              "  <div id=\"df-84357b07-6ddf-406d-b150-087e122e0799\">\n",
              "    <div class=\"colab-df-container\">\n",
              "      <div>\n",
              "<style scoped>\n",
              "    .dataframe tbody tr th:only-of-type {\n",
              "        vertical-align: middle;\n",
              "    }\n",
              "\n",
              "    .dataframe tbody tr th {\n",
              "        vertical-align: top;\n",
              "    }\n",
              "\n",
              "    .dataframe thead th {\n",
              "        text-align: right;\n",
              "    }\n",
              "</style>\n",
              "<table border=\"1\" class=\"dataframe\">\n",
              "  <thead>\n",
              "    <tr style=\"text-align: right;\">\n",
              "      <th></th>\n",
              "      <th>Price</th>\n",
              "      <th>Area</th>\n",
              "      <th>Bedrooms</th>\n",
              "      <th>Bathrooms</th>\n",
              "      <th>Status</th>\n",
              "      <th>Adroit Prosper</th>\n",
              "      <th>Akshaya Orlando A1 To A6</th>\n",
              "      <th>Akshaya Republic</th>\n",
              "      <th>Akshaya Tango</th>\n",
              "      <th>Akshaya Today</th>\n",
              "      <th>...</th>\n",
              "      <th>Thaiyur</th>\n",
              "      <th>Thalambur</th>\n",
              "      <th>Thirumazhisai</th>\n",
              "      <th>Thirumullaivoyal</th>\n",
              "      <th>Thiruvanmiyur</th>\n",
              "      <th>Thoraipakkam OMR</th>\n",
              "      <th>Urapakkam</th>\n",
              "      <th>Valasaravakkam</th>\n",
              "      <th>Velachery</th>\n",
              "      <th>West Tambaram</th>\n",
              "    </tr>\n",
              "  </thead>\n",
              "  <tbody>\n",
              "    <tr>\n",
              "      <th>0</th>\n",
              "      <td>25.0</td>\n",
              "      <td>728</td>\n",
              "      <td>2.0</td>\n",
              "      <td>2</td>\n",
              "      <td>0</td>\n",
              "      <td>0</td>\n",
              "      <td>0</td>\n",
              "      <td>0</td>\n",
              "      <td>0</td>\n",
              "      <td>0</td>\n",
              "      <td>...</td>\n",
              "      <td>0</td>\n",
              "      <td>0</td>\n",
              "      <td>0</td>\n",
              "      <td>0</td>\n",
              "      <td>0</td>\n",
              "      <td>0</td>\n",
              "      <td>0</td>\n",
              "      <td>0</td>\n",
              "      <td>0</td>\n",
              "      <td>0</td>\n",
              "    </tr>\n",
              "  </tbody>\n",
              "</table>\n",
              "<p>1 rows × 84 columns</p>\n",
              "</div>\n",
              "      <button class=\"colab-df-convert\" onclick=\"convertToInteractive('df-84357b07-6ddf-406d-b150-087e122e0799')\"\n",
              "              title=\"Convert this dataframe to an interactive table.\"\n",
              "              style=\"display:none;\">\n",
              "        \n",
              "  <svg xmlns=\"http://www.w3.org/2000/svg\" height=\"24px\"viewBox=\"0 0 24 24\"\n",
              "       width=\"24px\">\n",
              "    <path d=\"M0 0h24v24H0V0z\" fill=\"none\"/>\n",
              "    <path d=\"M18.56 5.44l.94 2.06.94-2.06 2.06-.94-2.06-.94-.94-2.06-.94 2.06-2.06.94zm-11 1L8.5 8.5l.94-2.06 2.06-.94-2.06-.94L8.5 2.5l-.94 2.06-2.06.94zm10 10l.94 2.06.94-2.06 2.06-.94-2.06-.94-.94-2.06-.94 2.06-2.06.94z\"/><path d=\"M17.41 7.96l-1.37-1.37c-.4-.4-.92-.59-1.43-.59-.52 0-1.04.2-1.43.59L10.3 9.45l-7.72 7.72c-.78.78-.78 2.05 0 2.83L4 21.41c.39.39.9.59 1.41.59.51 0 1.02-.2 1.41-.59l7.78-7.78 2.81-2.81c.8-.78.8-2.07 0-2.86zM5.41 20L4 18.59l7.72-7.72 1.47 1.35L5.41 20z\"/>\n",
              "  </svg>\n",
              "      </button>\n",
              "      \n",
              "  <style>\n",
              "    .colab-df-container {\n",
              "      display:flex;\n",
              "      flex-wrap:wrap;\n",
              "      gap: 12px;\n",
              "    }\n",
              "\n",
              "    .colab-df-convert {\n",
              "      background-color: #E8F0FE;\n",
              "      border: none;\n",
              "      border-radius: 50%;\n",
              "      cursor: pointer;\n",
              "      display: none;\n",
              "      fill: #1967D2;\n",
              "      height: 32px;\n",
              "      padding: 0 0 0 0;\n",
              "      width: 32px;\n",
              "    }\n",
              "\n",
              "    .colab-df-convert:hover {\n",
              "      background-color: #E2EBFA;\n",
              "      box-shadow: 0px 1px 2px rgba(60, 64, 67, 0.3), 0px 1px 3px 1px rgba(60, 64, 67, 0.15);\n",
              "      fill: #174EA6;\n",
              "    }\n",
              "\n",
              "    [theme=dark] .colab-df-convert {\n",
              "      background-color: #3B4455;\n",
              "      fill: #D2E3FC;\n",
              "    }\n",
              "\n",
              "    [theme=dark] .colab-df-convert:hover {\n",
              "      background-color: #434B5C;\n",
              "      box-shadow: 0px 1px 3px 1px rgba(0, 0, 0, 0.15);\n",
              "      filter: drop-shadow(0px 1px 2px rgba(0, 0, 0, 0.3));\n",
              "      fill: #FFFFFF;\n",
              "    }\n",
              "  </style>\n",
              "\n",
              "      <script>\n",
              "        const buttonEl =\n",
              "          document.querySelector('#df-84357b07-6ddf-406d-b150-087e122e0799 button.colab-df-convert');\n",
              "        buttonEl.style.display =\n",
              "          google.colab.kernel.accessAllowed ? 'block' : 'none';\n",
              "\n",
              "        async function convertToInteractive(key) {\n",
              "          const element = document.querySelector('#df-84357b07-6ddf-406d-b150-087e122e0799');\n",
              "          const dataTable =\n",
              "            await google.colab.kernel.invokeFunction('convertToInteractive',\n",
              "                                                     [key], {});\n",
              "          if (!dataTable) return;\n",
              "\n",
              "          const docLinkHtml = 'Like what you see? Visit the ' +\n",
              "            '<a target=\"_blank\" href=https://colab.research.google.com/notebooks/data_table.ipynb>data table notebook</a>'\n",
              "            + ' to learn more about interactive tables.';\n",
              "          element.innerHTML = '';\n",
              "          dataTable['output_type'] = 'display_data';\n",
              "          await google.colab.output.renderOutput(dataTable, element);\n",
              "          const docLink = document.createElement('div');\n",
              "          docLink.innerHTML = docLinkHtml;\n",
              "          element.appendChild(docLink);\n",
              "        }\n",
              "      </script>\n",
              "    </div>\n",
              "  </div>\n",
              "  "
            ]
          },
          "metadata": {},
          "execution_count": 150
        }
      ]
    },
    {
      "cell_type": "code",
      "source": [
        "rand_score,lin_score= price_predict(\"Avadi\",4000,5,6,status = 0,builder = \"Independent house\")\n",
        "print(rand_score,lin_score)"
      ],
      "metadata": {
        "colab": {
          "base_uri": "https://localhost:8080/",
          "height": 237
        },
        "id": "VPGL2IHUKy6h",
        "outputId": "d505d6fc-c658-42e5-a9fd-6766ca421919"
      },
      "execution_count": 165,
      "outputs": [
        {
          "output_type": "stream",
          "name": "stderr",
          "text": [
            "/usr/local/lib/python3.7/dist-packages/sklearn/base.py:451: UserWarning: X does not have valid feature names, but MinMaxScaler was fitted with feature names\n",
            "  \"X does not have valid feature names, but\"\n"
          ]
        },
        {
          "output_type": "error",
          "ename": "ValueError",
          "evalue": "ignored",
          "traceback": [
            "\u001b[0;31m---------------------------------------------------------------------------\u001b[0m",
            "\u001b[0;31mValueError\u001b[0m                                Traceback (most recent call last)",
            "\u001b[0;32m<ipython-input-165-461843e21632>\u001b[0m in \u001b[0;36m<module>\u001b[0;34m()\u001b[0m\n\u001b[0;32m----> 1\u001b[0;31m \u001b[0mrand_score\u001b[0m\u001b[0;34m,\u001b[0m\u001b[0mlin_score\u001b[0m\u001b[0;34m=\u001b[0m \u001b[0mprice_predict\u001b[0m\u001b[0;34m(\u001b[0m\u001b[0;34m\"Avadi\"\u001b[0m\u001b[0;34m,\u001b[0m\u001b[0;36m4000\u001b[0m\u001b[0;34m,\u001b[0m\u001b[0;36m5\u001b[0m\u001b[0;34m,\u001b[0m\u001b[0;36m6\u001b[0m\u001b[0;34m,\u001b[0m\u001b[0mstatus\u001b[0m \u001b[0;34m=\u001b[0m \u001b[0;36m0\u001b[0m\u001b[0;34m,\u001b[0m\u001b[0mbuilder\u001b[0m \u001b[0;34m=\u001b[0m \u001b[0;34m\"Independent house\"\u001b[0m\u001b[0;34m)\u001b[0m\u001b[0;34m\u001b[0m\u001b[0;34m\u001b[0m\u001b[0m\n\u001b[0m\u001b[1;32m      2\u001b[0m \u001b[0mprint\u001b[0m\u001b[0;34m(\u001b[0m\u001b[0mrand_score\u001b[0m\u001b[0;34m,\u001b[0m\u001b[0mlin_score\u001b[0m\u001b[0;34m)\u001b[0m\u001b[0;34m\u001b[0m\u001b[0;34m\u001b[0m\u001b[0m\n",
            "\u001b[0;31mValueError\u001b[0m: too many values to unpack (expected 2)"
          ]
        }
      ]
    },
    {
      "cell_type": "code",
      "source": [
        ""
      ],
      "metadata": {
        "id": "1DF959UY5Tec"
      },
      "execution_count": null,
      "outputs": []
    },
    {
      "cell_type": "code",
      "source": [
        ""
      ],
      "metadata": {
        "id": "Y-PZh_tF5rxL"
      },
      "execution_count": null,
      "outputs": []
    },
    {
      "cell_type": "code",
      "source": [
        "rand_pred = rand_forest.predict(x_test)"
      ],
      "metadata": {
        "id": "nLdZyB_r6XGj"
      },
      "execution_count": 154,
      "outputs": []
    },
    {
      "cell_type": "code",
      "source": [
        "df6 = pd.DataFrame({\"Actual Values\":y_test,\"Predicted values\":rand_pred})"
      ],
      "metadata": {
        "id": "iPCjamkF54g0"
      },
      "execution_count": 155,
      "outputs": []
    },
    {
      "cell_type": "code",
      "source": [
        "df6 = df6.sort_index(axis = 0)"
      ],
      "metadata": {
        "id": "nrX8seu87csr"
      },
      "execution_count": 156,
      "outputs": []
    },
    {
      "cell_type": "code",
      "source": [
        "df6.head(50).plot(figsize = (15,5))"
      ],
      "metadata": {
        "colab": {
          "base_uri": "https://localhost:8080/",
          "height": 323
        },
        "id": "kPa6UrR86r18",
        "outputId": "08cd0e5b-4b20-4634-8c66-7b0f6c49da5c"
      },
      "execution_count": 157,
      "outputs": [
        {
          "output_type": "execute_result",
          "data": {
            "text/plain": [
              "<matplotlib.axes._subplots.AxesSubplot at 0x7f6b8d703450>"
            ]
          },
          "metadata": {},
          "execution_count": 157
        },
        {
          "output_type": "display_data",
          "data": {
            "text/plain": [
              "<Figure size 1080x360 with 1 Axes>"
            ],
            "image/png": "[encoded data removed]"
          },
          "metadata": {
            "needs_background": "light"
          }
        }
      ]
    },
    {
      "cell_type": "code",
      "source": [
        "lin_pred = lin_model.predict(x_test)"
      ],
      "metadata": {
        "id": "lPfo6S5Y8J6D"
      },
      "execution_count": 158,
      "outputs": []
    },
    {
      "cell_type": "code",
      "source": [
        "df7 = pd.DataFrame({\"Actual values\":y_test,\"Predicted values\":lin_pred})"
      ],
      "metadata": {
        "id": "u_MelemE79cb"
      },
      "execution_count": 159,
      "outputs": []
    },
    {
      "cell_type": "code",
      "source": [
        "df7 = df7.sort_index(axis = 0)"
      ],
      "metadata": {
        "id": "Bq98VwVI8QXK"
      },
      "execution_count": 160,
      "outputs": []
    },
    {
      "cell_type": "code",
      "source": [
        "plt.figure(figsize = (15,5))\n",
        "plt.plot(df7[\"Actual values\"].head(50))\n",
        "plt.plot(df7[\"Predicted values\"].head(50))\n"
      ],
      "metadata": {
        "colab": {
          "base_uri": "https://localhost:8080/",
          "height": 323
        },
        "id": "bny1sU5o8O0K",
        "outputId": "7eae7074-3072-45aa-b360-c3ec508b0a27"
      },
      "execution_count": 161,
      "outputs": [
        {
          "output_type": "execute_result",
          "data": {
            "text/plain": [
              "[<matplotlib.lines.Line2D at 0x7f6b8d637b10>]"
            ]
          },
          "metadata": {},
          "execution_count": 161
        },
        {
          "output_type": "display_data",
          "data": {
            "text/plain": [
              "<Figure size 1080x360 with 1 Axes>"
            ],
            "image/png": "[encoded data removed]"
          },
          "metadata": {
            "needs_background": "light"
          }
        }
      ]
    },
    {
      "cell_type": "code",
      "source": [
        ""
      ],
      "metadata": {
        "id": "uJAB-dgcYi3J"
      },
      "execution_count": null,
      "outputs": []
    },
    {
      "cell_type": "code",
      "source": [
        ""
      ],
      "metadata": {
        "id": "qeJeSqa8YlGS"
      },
      "execution_count": null,
      "outputs": []
    },
    {
      "cell_type": "code",
      "source": [
        ""
      ],
      "metadata": {
        "id": "DqY6ECT2YsBS"
      },
      "execution_count": 161,
      "outputs": []
    },
    {
      "cell_type": "code",
      "source": [
        "avg_pred = (rand_pred + lin_pred)/2\n",
        "df8 = pd.DataFrame({\"Actual values\":y_test,\"Predicted values\":avg_pred})"
      ],
      "metadata": {
        "id": "M1b8YngFYG2b"
      },
      "execution_count": 162,
      "outputs": []
    },
    {
      "cell_type": "code",
      "source": [
        "df8 = df8.sort_index(axis = 0)"
      ],
      "metadata": {
        "id": "p7YzK40PY1ox"
      },
      "execution_count": 163,
      "outputs": []
    },
    {
      "cell_type": "code",
      "source": [
        "plt.figure(figsize = (15,5))\n",
        "plt.plot(df8[\"Actual values\"].head(50))\n",
        "plt.plot(df8[\"Predicted values\"].head(50))"
      ],
      "metadata": {
        "colab": {
          "base_uri": "https://localhost:8080/",
          "height": 326
        },
        "id": "hLsKr3a9Y9L6",
        "outputId": "2d513f8c-c7c2-4836-b267-9f126be0a5d8"
      },
      "execution_count": 164,
      "outputs": [
        {
          "output_type": "execute_result",
          "data": {
            "text/plain": [
              "[<matplotlib.lines.Line2D at 0x7f6b8d629590>]"
            ]
          },
          "metadata": {},
          "execution_count": 164
        },
        {
          "output_type": "display_data",
          "data": {
            "text/plain": [
              "<Figure size 1080x360 with 1 Axes>"
            ],
            "image/png": "[encoded data removed]"
          },
          "metadata": {
            "needs_background": "light"
          }
        }
      ]
    },
    {
      "cell_type": "code",
      "source": [
        "with open(\"model.pkl\",\"wb\") as file:\n",
        "   pickle.dump(lin_model,file)"
      ],
      "metadata": {
        "id": "EuKo7ShrNb9B"
      },
      "execution_count": null,
      "outputs": []
    },
    {
      "cell_type": "code",
      "source": [
        "with open(\"scaler.pkl\",\"wb\") as file:\n",
        "   pickle.dump(scale,file)"
      ],
      "metadata": {
        "id": "xOPLDFOso3VG"
      },
      "execution_count": null,
      "outputs": []
    }
  ]
}